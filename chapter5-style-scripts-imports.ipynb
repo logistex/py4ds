{
 "cells": [
  {
   "cell_type": "markdown",
   "metadata": {
    "slideshow": {
     "slide_type": "slide"
    }
   },
   "source": [
    "![15_lib](https://user-images.githubusercontent.com/10287629/144736792-3b81f44c-4801-4c98-9866-1c392aefb85a.png)\n",
    "\n",
    "\n",
    "<div style=\"page-break-after: always;\"></div> "
   ]
  },
  {
   "cell_type": "markdown",
   "metadata": {
    "slideshow": {
     "slide_type": "slide"
    }
   },
   "source": [
    "<h1>학습 목표<span class=\"tocSkip\"></span></h1>\n"
   ]
  },
  {
   "cell_type": "markdown",
   "metadata": {
    "slideshow": {
     "slide_type": "fragment"
    }
   },
   "source": [
    "- 코드 작성 스타일의 중요성을 설명할 수 있다.\n",
    "- `flake8`과 같은 린터와 `black`과 같은 자동 포맷터의 용도 차이를 설명할 수 있다. \n",
    "- 명령줄, 주피터 및 기타 통합개발환경에서 린팅과 포맷팅을 처리할 수 있다. \n",
    "- VSCode 및 기타 통합개발환경에서 파이썬 모듈을 (`.py` 파일로) 작성할 수 있다. \n",
    "- `import` 명령으로 설치되었거나 스스로 작성한 패키지를 수입할 수 있다. \n",
    "- 파이썬에서 참조의 개념을 설명할 수 있다.\n",
    "- 파이썬에서 범위의 개념을 설명할 수 있다. \n",
    "- 파이썬에서 변수를 수정하면, 다른 변수도 수정될 것인지 예측할 수 있다.\n",
    "- 파이썬에서 함수가 호출하는 쪽의 매개 변수를 수정할 것인지 예측할 수 있다. \n",
    "- 파이썬에서 `==`와 `is` 중에서 적절하게 선택할 수 있다.\n",
    "\n",
    "<div style=\"page-break-after: always;\"></div> "
   ]
  },
  {
   "cell_type": "markdown",
   "metadata": {
    "slideshow": {
     "slide_type": "slide"
    }
   },
   "source": [
    "## 1. 스타일 지침"
   ]
  },
  {
   "cell_type": "markdown",
   "metadata": {
    "slideshow": {
     "slide_type": "fragment"
    }
   },
   "source": [
    "|![그림 1. 초보자의 코드를 검토해주는 실력자](https://user-images.githubusercontent.com/10287629/144739565-4d6303e0-6a87-42fb-bdf8-848b0c393368.png)<br>그림 1. 초보자의 코드를 검토해주는 실력자 <br>출처: [xkcd.com](https://imgs.xkcd.com/comics/code_quality.png)|\n",
    "|:---|"
   ]
  },
  {
   "cell_type": "markdown",
   "metadata": {
    "slideshow": {
     "slide_type": "subslide"
    }
   },
   "source": [
    "- 코드가 동작한다고 해서, 일이 끝났다고 생각하면 안된다. \n",
    "  - 코드의 사용자는 두 그룹이다. \n",
    "    - 컴퓨터 (이 기계가 당신의 코드를 기계어로 번역한다.)\n",
    "    - 인간   (동료와 후배가 당신의 코드를 읽고, 수정한다.) \n",
    "  - 여기에서는 인간을 위해서 코드를 어떻게 작성해야 하는지에 대하여 공부하자. "
   ]
  },
  {
   "cell_type": "markdown",
   "metadata": {
    "slideshow": {
     "slide_type": "fragment"
    }
   },
   "source": [
    "- 스타일 적용은 중요하다. \n",
    "  - 당신의 코드를 (미래의 자신을 포함해서)  \n",
    "    다른 사람과 공유해야 하는 상황에서는 특히 중요하다. \n",
    "  - \"코드는 짧은 시간동안에 작성되겠지만, 아주 오랫동안 읽힌다!\"\n",
    "  - 일관성이 무엇보다도 중요하다.  \n",
    "    \"전문가도 실수할 수 있지만, 일관성은 지킨다!\"  "
   ]
  },
  {
   "cell_type": "markdown",
   "metadata": {
    "slideshow": {
     "slide_type": "subslide"
    }
   },
   "source": [
    "- `PEP 8`은 파이썬 코드에 대한 스타일 지침이다.  \n",
    "  여기서는 `PEP 8`에 대하여 아주 간략하게 소개한다. "
   ]
  },
  {
   "cell_type": "markdown",
   "metadata": {
    "slideshow": {
     "slide_type": "fragment"
    }
   },
   "source": [
    "1. 들여쓰기는 공백 문자 4개로 처리하라. "
   ]
  },
  {
   "cell_type": "markdown",
   "metadata": {
    "slideshow": {
     "slide_type": "fragment"
    }
   },
   "source": [
    "2. 연산자 주변에는 공백문자(whitespace)를 두라.  \n",
    "      예를 들어서, `x=1`이 아니라, `x = 1`로 작성하라. "
   ]
  },
  {
   "cell_type": "markdown",
   "metadata": {
    "slideshow": {
     "slide_type": "fragment"
    }
   },
   "source": [
    "3. 그렇지만 공백문자를 남용하지는 말라.  \n",
    "      예를 들어서, `func (1)`이 아니라, `func(1)`로 작성하라. "
   ]
  },
  {
   "cell_type": "markdown",
   "metadata": {
    "slideshow": {
     "slide_type": "fragment"
    }
   },
   "source": [
    "4. 문자열을 감쌀 때, 홑 따옴표인지 쌍 따옴표인지는 문제되지 않는다.  \n",
    "      다만, `docstring`은 '''세겹 홑 따옴표'''가 아니라, \"\"\"세겹 쌍 따옴표\"\"\"로 작성하라.     "
   ]
  },
  {
   "cell_type": "markdown",
   "metadata": {
    "slideshow": {
     "slide_type": "fragment"
    }
   },
   "source": [
    "5. 변수와 함수 이름은 단어 사이에 언더스코어 문자를 써서  \n",
    "  `underscores_between_words`처럼 작성하라."
   ]
  },
  {
   "cell_type": "markdown",
   "metadata": {
    "slideshow": {
     "slide_type": "subslide"
    }
   },
   "source": [
    "- [한글로 짧게 요약된 `PEP 8`](https://wayhome25.github.io/python/2017/05/04/pep8/)을 꼭 읽어보라.\n",
    "- [`PEP 8`에 관한 영문 원문](https://www.python.org/dev/peps/pep-0008/)도 참고하라. \n",
    "- 기억할 것이 많아 보이지만,  \n",
    "  다행스럽게도 <b>린터(linter)</b>와 <b>포맷터(formatter)</b>가 있어서  \n",
    "  우리가 코드를 통일된 스타일로 작성하도록 도와줄 것이다.\n",
    "  \n",
    "  <div style=\"page-break-after: always;\"></div>"
   ]
  },
  {
   "cell_type": "markdown",
   "metadata": {
    "slideshow": {
     "slide_type": "slide"
    }
   },
   "source": [
    "### 1.1 린터(linter)\n",
    "\n",
    "- 린팅(linting)은 파이썬 소스 코드에서  \n",
    "  프로그래밍과 스타일에 관련된 문제를 부각시키는 표시(flag)를  \n",
    "  달아주는 도구이다. \n",
    "  [한글 위키백과의 린트](https://ko.wikipedia.org/wiki/%EB%A6%B0%ED%8A%B8_(%EC%86%8C%ED%94%84%ED%8A%B8%EC%9B%A8%EC%96%B4))에 대한 설명을 참고하라.  \n",
    "- 린터(linter)를 문서편집용 소프트웨어에서 제공되는 \"철자 검사\" 기능과 유사하다고 생각하라. \n",
    "  - `pycodestyle`, `pylint`, `pyflakes`, `flake8` 등의 린터가 유명하다.  \n",
    "  - 여기에서는 [flake8](https://flake8.pycqa.org/en/latest/)를 사용한다.  \n",
    "    커맨드 창 명령행에서 다음과 같이 설치할 수 있다:\n",
    "\n",
    "    ```shell\n",
    "    conda install -c anaconda flake8\n",
    "    ```"
   ]
  },
  {
   "cell_type": "markdown",
   "metadata": {
    "slideshow": {
     "slide_type": "subslide"
    }
   },
   "source": [
    "- `flake8`은 커맨드 창 명령행에서 실행 가능하다:\n",
    "\n",
    "    ```shell\n",
    "    flake8 경로/검토할_파이썬_코드_파일.py\n",
    "    ```\n",
    "\n",
    "- 쉘(shell) 명령을 주피터에서 직접 실행할 수도 있는데,  \n",
    "  쉘 명령 앞에 느낌표 `!`를 붙여서 입력하면 된다. \n",
    "- [`bad_style.py`](https://github.com/TomasBeuzen/python-programming-for-data-science/blob/main/chapters/data/bad_style.py) 링크를 클릭하여 열리는 코드 창에서  \n",
    "  오른쪽 상단에 보이는 `Raw` 단추를 클릭한 후,  \n",
    "  코드의 아무 곳이나 오른쪽 마우스로 눌러서 보이는  \n",
    "  `다른 이름으로 저장...` 메뉴 항목을 이용하여  \n",
    "  현행 폴더에 이 파일을 저장하라.    \n"
   ]
  },
  {
   "cell_type": "markdown",
   "metadata": {
    "slideshow": {
     "slide_type": "fragment"
    }
   },
   "source": [
    "- 원본 소스 파일은 다음과 같다:  \n",
    "  (포맷은 형편 없지만, 오류는 없다.) "
   ]
  },
  {
   "cell_type": "code",
   "execution_count": 4,
   "metadata": {
    "slideshow": {
     "slide_type": "subslide"
    }
   },
   "outputs": [],
   "source": [
    "\"\"\"bad_style.py\"\"\"\n",
    "\n",
    "x = {  'a':37,'b':42,\n",
    "'c':927}\n",
    "very_long_variable_name = {'field': 1,\n",
    "                        'is_debug': True}\n",
    "this=True\n",
    "\n",
    "if very_long_variable_name is not None and very_long_variable_name[\"field\"] > 0 or very_long_variable_name['is_debug']:\n",
    " z = 'hello '+'world'\n",
    "else:\n",
    " world = 'world'\n",
    " a = 'hello {}'.format(world)\n",
    " f = rf'hello {world}'\n",
    "if (this): y = 'hello ''world'#FIXME: https://github.com/python/black/issues/26\n",
    "class Foo  (     object  ):\n",
    "  def f    (self   ):\n",
    "    return       37*-2\n",
    "  def g(self, x,y=42):\n",
    "      return y\n",
    "# fmt: off\n",
    "custom_formatting = [\n",
    "    0,  1,  2,\n",
    "    3,  4,  5\n",
    "]\n",
    "# fmt: on\n",
    "regular_formatting = [\n",
    "    0,  1,  2,\n",
    "    3,  4,  5\n",
    "]"
   ]
  },
  {
   "cell_type": "code",
   "execution_count": 5,
   "metadata": {
    "scrolled": true,
    "slideshow": {
     "slide_type": "subslide"
    }
   },
   "outputs": [
    {
     "name": "stdout",
     "output_type": "stream",
     "text": [
      "bad_style.py:4:45: W291 trailing whitespace\n",
      "bad_style.py:5:5: E129 visually indented line with same indent as next logical line\n",
      "bad_style.py:6:2: E111 indentation is not a multiple of four\n",
      "bad_style.py:8:2: E111 indentation is not a multiple of four\n",
      "bad_style.py:8:16: F821 undefined name 'world'\n",
      "bad_style.py:9:10: E701 multiple statements on one line (colon)\n",
      "bad_style.py:9:31: E261 at least two spaces before inline comment\n",
      "bad_style.py:9:31: E262 inline comment should start with '# '\n",
      "bad_style.py:10:1: E302 expected 2 blank lines, found 0\n",
      "bad_style.py:10:13: E201 whitespace after '('\n",
      "bad_style.py:10:25: E202 whitespace before ')'\n",
      "bad_style.py:11:3: E111 indentation is not a multiple of four\n",
      "bad_style.py:11:8: E211 whitespace before '('\n",
      "bad_style.py:11:19: E202 whitespace before ')'\n",
      "bad_style.py:12:11: E271 multiple spaces after keyword\n",
      "bad_style.py:13:3: E301 expected 1 blank line, found 0\n",
      "bad_style.py:13:3: E111 indentation is not a multiple of four\n",
      "bad_style.py:13:16: E231 missing whitespace after ','\n",
      "bad_style.py:14:7: E111 indentation is not a multiple of four\n",
      "bad_style.py:15:1: E305 expected 2 blank lines after class or function definition, found 0\n",
      "bad_style.py:19:1: E302 expected 2 blank lines, found 0\n",
      "bad_style.py:20:28: W292 no newline at end of file\n"
     ]
    }
   ],
   "source": [
    "!flake8 bad_style.py"
   ]
  },
  {
   "cell_type": "markdown",
   "metadata": {
    "slideshow": {
     "slide_type": "subslide"
    }
   },
   "source": [
    "- `bad_style.py` 파일의 소스 코드를 수정하여,  \n",
    "  `flake8`이 아무런 지적도 하지 않도록 만들어 보자. "
   ]
  },
  {
   "cell_type": "code",
   "execution_count": 6,
   "metadata": {
    "slideshow": {
     "slide_type": "subslide"
    }
   },
   "outputs": [],
   "source": [
    "\"\"\"good_style.py\"\"\"\n",
    "\n",
    "x = {\"a\": 37, \"b\": 42, \"c\": 927}\n",
    "very_long_variable_name = {\"field\": 1, \"is_debug\": True}\n",
    "this = True\n",
    "\n",
    "if (\n",
    "    very_long_variable_name is not None\n",
    "    and very_long_variable_name[\"field\"] > 0\n",
    "    or very_long_variable_name[\"is_debug\"]\n",
    "):\n",
    "    z = \"hello \" + \"world\"\n",
    "else:\n",
    "    world = \"world\"\n",
    "    a = \"hello {}\".format(world)\n",
    "    f = rf\"hello {world}\"\n",
    "\n",
    "if this:\n",
    "    y = \"hello world\"  # FIXME: https://github.com/python/black/issues/26\n",
    "\n",
    "\n",
    "class Foo(object):\n",
    "    def f(self):\n",
    "        return 37 * -2\n",
    "\n",
    "    def g(self, x, y=42):\n",
    "        return y\n",
    "\n",
    "\n",
    "# fmt: off\n",
    "custom_formatting = [\n",
    "    0,  1,  2,\n",
    "    3,  4,  5\n",
    "]\n",
    "# fmt: on\n",
    "regular_formatting = [0, 1, 2, 3, 4, 5]\n"
   ]
  },
  {
   "cell_type": "markdown",
   "metadata": {
    "slideshow": {
     "slide_type": "subslide"
    }
   },
   "source": [
    "- 린터를 공부했다. 이제 포맷터를 공부하자. \n",
    "<div style=\"page-break-after: always;\"></div>"
   ]
  },
  {
   "cell_type": "markdown",
   "metadata": {
    "slideshow": {
     "slide_type": "slide"
    }
   },
   "source": [
    "### 1.2 포맷터(formatter)\n",
    "\n",
    "- 포맷팅(formatting)이란  \n",
    "  코드에 포함된 공백 문자, 들여쓰기, 한 행의 길이 등을 수정하여 \n",
    "  코드 구조를 개선하는 작업이다. \n",
    "- `autopep8`, `black`, `yapf` 등의 포맷터가 유명하다. \n",
    "- 여기서는 [black](https://black.readthedocs.io/en/stable/?badge=stable)을 사용한다. \n",
    "  다음과 같이 설치할 수 있다:\n",
    "\n",
    "  ```shell\n",
    "  conda install -c conda-forge black\n",
    "  ```\n",
    "\n",
    "- `black`은 명령행에서 실행 가능하다:\n",
    "\n",
    "  ```shell\n",
    "  black path/file_to_check.py --check\n",
    "  ```\n",
    "\n",
    "- `--check` 옵션을 지정하면, 당신의 코드가 `black style`에 적합한지를 검사만 할뿐 포맷을 수정하지는 않는다.  \n",
    "  포맷 수정을 원한다면 이 옵션을 제거하라. "
   ]
  },
  {
   "cell_type": "markdown",
   "metadata": {
    "slideshow": {
     "slide_type": "subslide"
    }
   },
   "source": [
    "- 원본 소스 파일은 다음과 같다:  \n",
    "  (포맷은 형편 없지만, 오류는 없다.) "
   ]
  },
  {
   "cell_type": "code",
   "execution_count": 7,
   "metadata": {
    "slideshow": {
     "slide_type": "subslide"
    }
   },
   "outputs": [],
   "source": [
    "\"\"\"bad_style.py\"\"\"\n",
    "\n",
    "x = {  'a':37,'b':42,\n",
    "'c':927}\n",
    "very_long_variable_name = {'field': 1,\n",
    "                        'is_debug': True}\n",
    "this=True\n",
    "\n",
    "if very_long_variable_name is not None and very_long_variable_name[\"field\"] > 0 or very_long_variable_name['is_debug']:\n",
    " z = 'hello '+'world'\n",
    "else:\n",
    " world = 'world'\n",
    " a = 'hello {}'.format(world)\n",
    " f = rf'hello {world}'\n",
    "if (this): y = 'hello ''world'#FIXME: https://github.com/python/black/issues/26\n",
    "class Foo  (     object  ):\n",
    "  def f    (self   ):\n",
    "    return       37*-2\n",
    "  def g(self, x,y=42):\n",
    "      return y\n",
    "# fmt: off\n",
    "custom_formatting = [\n",
    "    0,  1,  2,\n",
    "    3,  4,  5\n",
    "]\n",
    "# fmt: on\n",
    "regular_formatting = [\n",
    "    0,  1,  2,\n",
    "    3,  4,  5\n",
    "]"
   ]
  },
  {
   "cell_type": "code",
   "execution_count": 8,
   "metadata": {
    "slideshow": {
     "slide_type": "subslide"
    }
   },
   "outputs": [
    {
     "name": "stderr",
     "output_type": "stream",
     "text": [
      "All done! \\u2728 \\U0001f370 \\u2728\n",
      "1 file would be left unchanged.\n"
     ]
    }
   ],
   "source": [
    "!black bad_style.py --check"
   ]
  },
  {
   "cell_type": "code",
   "execution_count": 9,
   "metadata": {
    "slideshow": {
     "slide_type": "fragment"
    }
   },
   "outputs": [
    {
     "name": "stderr",
     "output_type": "stream",
     "text": [
      "All done! \\u2728 \\U0001f370 \\u2728\n",
      "1 file left unchanged.\n"
     ]
    }
   ],
   "source": [
    "!black bad_style.py"
   ]
  },
  {
   "cell_type": "markdown",
   "metadata": {
    "slideshow": {
     "slide_type": "subslide"
    }
   },
   "source": [
    "- `balck`을 써서 포맷을 수정한 코드는 아래와 같다:  \n",
    "  (`# fmt: off` 또는 `# fmt: on`으로 포맷팅을 켜거나 끄는 방법을 눈여겨 보라.)"
   ]
  },
  {
   "cell_type": "code",
   "execution_count": 10,
   "metadata": {
    "slideshow": {
     "slide_type": "subslide"
    }
   },
   "outputs": [],
   "source": [
    "\"\"\"good_style.py\"\"\"\n",
    "\n",
    "x = {\"a\": 37, \"b\": 42, \"c\": 927}\n",
    "very_long_variable_name = {\"field\": 1, \"is_debug\": True}\n",
    "this = True\n",
    "\n",
    "if (\n",
    "    very_long_variable_name is not None\n",
    "    and very_long_variable_name[\"field\"] > 0\n",
    "    or very_long_variable_name[\"is_debug\"]\n",
    "):\n",
    "    z = \"hello \" + \"world\"\n",
    "else:\n",
    "    world = \"world\"\n",
    "    a = \"hello {}\".format(world)\n",
    "    f = rf\"hello {world}\"\n",
    "if this:\n",
    "    y = \"hello \" \"world\"  # FIXME: https://github.com/python/black/issues/26\n",
    "\n",
    "\n",
    "class Foo(object):\n",
    "    def f(self):\n",
    "        return 37 * -2\n",
    "\n",
    "    def g(self, x, y=42):\n",
    "        return y\n",
    "\n",
    "\n",
    "# fmt: off\n",
    "custom_formatting = [\n",
    "    0,  1,  2,\n",
    "    3,  4,  5\n",
    "]\n",
    "# fmt: on\n",
    "regular_formatting = [0, 1, 2, 3, 4, 5]"
   ]
  },
  {
   "cell_type": "markdown",
   "metadata": {
    "slideshow": {
     "slide_type": "fragment"
    }
   },
   "source": [
    "- 린터와 포맷터를 공부했다. 이제 주석을 공부하자. \n",
    "<div style=\"page-break-after: always;\"></div>"
   ]
  },
  {
   "cell_type": "markdown",
   "metadata": {
    "slideshow": {
     "slide_type": "slide"
    }
   },
   "source": [
    "### 1.3 주석(comment)\n",
    "\n",
    "- 코드를 이해하려면 주석이 중요하다.\n",
    "  - `docstring`이 함수가 <i>무엇</i>을 수행하는지 알려주기는 한다. \n",
    "  - 주석은 함수가 <i>어떻게</i> 작동하는지 알려주어야 한다. \n",
    "- 다음은 주석에 관한 PEP 8 지침이다. \n",
    "  - **인라인 주석**: (명령행과 같은 행에 쓰는) 인라인 주석에서는  \n",
    "               명령 뒤에 최소한 공백문자 2개를 두고 `#`을 시작하고, \n",
    "               `#` 뒤에는 공백 문자 1개를 두고 내용을 쓰라.  \n",
    "  - **블럭 주석**:   여러 행으로 연속되는 블럭 주석에서는  \n",
    "                매 행마다 `#`로 시작해서 이어지는 공백 문자 1개 뒤에 내용을 쓰되,  \n",
    "                선행 코드 행에 적합한 수준으로 들여쓰기를 하라. \n",
    "  - 주석은 너무 장황하지도, 너무 함축적이지도 말아야 한다.  \n",
    "    적절하게 주석을 다는 것은 쉽지 않다. \n",
    "- 다음은 적절한 주석의 예이다:  "
   ]
  },
  {
   "cell_type": "code",
   "execution_count": 11,
   "metadata": {
    "slideshow": {
     "slide_type": "subslide"
    }
   },
   "outputs": [],
   "source": [
    "def random_walker(T):\n",
    "    x = 0\n",
    "    y = 0\n",
    "\n",
    "    for i in range(T): \n",
    "        \n",
    "        # 0과 1 범위에서 난수를 생성한다. 생성된 난수가 \n",
    "        # [0,0.25), [0.25,0.5), [0.5,0.75) 및 [0.75,1) \n",
    "        # 중의 어느 구간에 해당하느냐에 따라서 \n",
    "        # 우향, 좌향, 상향, 하향으로 이동한다.\n",
    "        # (이것은 블럭 주석이다.) \n",
    "        \n",
    "        r = random() \n",
    "        if r < 0.25:\n",
    "            x += 1      # 우향 이동\n",
    "        elif r < 0.5:\n",
    "            x -= 1      # 좌향 이동\n",
    "        elif r < 0.75:\n",
    "            y += 1      # 상향 이동\n",
    "        else:\n",
    "            y -= 1      # 하향 이동 (이것은 인라인 주석이다.)\n",
    "\n",
    "        print((x,y))\n",
    "\n",
    "    return x**2 + y**2"
   ]
  },
  {
   "cell_type": "markdown",
   "metadata": {
    "slideshow": {
     "slide_type": "subslide"
    }
   },
   "source": [
    "- 다음은 **나쁜 주석**의 예이다.  \n",
    "  내용이 과하거나, 포맷이 적절하지 못하다. "
   ]
  },
  {
   "cell_type": "code",
   "execution_count": 12,
   "metadata": {
    "slideshow": {
     "slide_type": "subslide"
    }
   },
   "outputs": [],
   "source": [
    "def random_walker(T):\n",
    "    # 좌표 초기화\n",
    "    x = 0\n",
    "    y = 0\n",
    "\n",
    "    for i in range(T):# T 회 반복\n",
    "        r = random()\n",
    "        if r < 0.25:\n",
    "            x += 1  # 우향 이동\n",
    "        elif r < 0.5:\n",
    "            x -= 1  # 좌향 이동\n",
    "        elif r < 0.75:\n",
    "            y += 1       # 위로 간다\n",
    "        else:\n",
    "            y -= 1\n",
    "\n",
    "        # 좌표를 출력한다.\n",
    "        print((x, y))\n",
    "\n",
    "    # 파이썬에서, ** 연산자는 제곱을 의미한다. \n",
    "    return x ** 2 + y ** 2"
   ]
  },
  {
   "cell_type": "markdown",
   "metadata": {
    "slideshow": {
     "slide_type": "fragment"
    }
   },
   "source": [
    "- 린터, 포맷터 및 주석을 공부했다. 이제 파이썬 스크립트를 공부하자.\n",
    "<div style=\"page-break-after: always;\"></div> "
   ]
  },
  {
   "cell_type": "markdown",
   "metadata": {
    "slideshow": {
     "slide_type": "slide"
    }
   },
   "source": [
    "## 2. 파이썬 스크립트"
   ]
  },
  {
   "cell_type": "markdown",
   "metadata": {
    "slideshow": {
     "slide_type": "fragment"
    }
   },
   "source": [
    "- 주피터는 멋진 데이터 과학 도구이다.  \n",
    "  주피터를 쓰면, 텍스트와 이미지로 설명하면서 코딩과 시각화를 함께 할 수 있다. \n",
    "- 개발 작업에서 주피터는 시험적 또는 탐색적 코딩 도구로 적합하다.  \n",
    "- 그렇지만 프로젝트가 커지면,  \n",
    "  파이썬 스크립트를 `.py` 파일 형태로 작성하게 된다. \n",
    "- `.py` 파일은 파이썬에서 \"모듈(module)\"이라 부르는데,  \n",
    "  여기에는 함수, 클래스, 변수 등의 코드가 작성된다. \n",
    "- 프로젝트 시작 단계에서는 주피터로 작업을 시작하고,  \n",
    "  점진적으로 완성된 함수, 클래스, 스크립트 등을 `.py` 파일로 옮기는 것을 추천한다. "
   ]
  },
  {
   "cell_type": "markdown",
   "metadata": {
    "slideshow": {
     "slide_type": "subslide"
    }
   },
   "source": [
    "- 파이썬 모듈을 작성하는데 특별한 소프트웨어가 필요한 것은 아니다.  \n",
    "  - 어떤 텍스트 편집기로도 코드를 작성할 수 있다. \n",
    "  - 단지 파일 확장자를 `.py`로 지정하여 저장하면 된다. \n",
    "  - 하지만 이 모든 작업을 더 쉽게 할 수 있는 소프트웨어가 존재한다. \n",
    "- 통합개발환경(IDE)는 \"Integrated Development Environment\"의 줄임말이다.\n",
    "  - IDE는 코드 개발을 위한 포괄적 기능을 제공한다.  \n",
    "    (예를 들어, 컴파일, 디버깅, 포맷팅, 테스팅, 린팅, ...)  \n",
    "  - 가장 유명한 파이썬 IDE는 [젯브레인 파이참(PyCharm)](https://www.jetbrains.com/pycharm/) 및 [아나콘다 스파이더(Spyder)](https://www.spyder-ide.org/)이다. \n",
    "  - 확장 기능을 써서 파이썬 IDE로 쓸 수 있는 것으로는 [마이크로소프트 Visual Studio Code](https://code.visualstudio.com), [Atom](https://atom.io/), [Sublime Text](https://www.sublimetext.com/) 등이다.\n",
    "  - VSCode도 인기가 큰데, [great Python tutorial online](https://code.visualstudio.com/docs/languages/python)이란 파이썬 튜토리얼을 제공하고 있으며, 강력하게 추천한다. \n",
    "  - 본 교재에서는 맞춤형 `.py` 파일을 수입(import)하는 방법에 대해서  \n",
    "    다음 절에서 다룰 예정이지만, IDE 작업을 소개하지는 않는다.  "
   ]
  },
  {
   "cell_type": "markdown",
   "metadata": {
    "slideshow": {
     "slide_type": "fragment"
    }
   },
   "source": [
    "- 파이썬 스크립트를 공부했다. 이제 라이브러리 수입을 공부하자.\n",
    "<div style=\"page-break-after: always;\"></div> "
   ]
  },
  {
   "cell_type": "markdown",
   "metadata": {
    "slideshow": {
     "slide_type": "slide"
    }
   },
   "source": [
    "## 3. 라이브러리 수입"
   ]
  },
  {
   "cell_type": "markdown",
   "metadata": {
    "slideshow": {
     "slide_type": "fragment"
    }
   },
   "source": [
    "- 파아썬에서는 다른 모듈의 코드에 접근하기 위하여,  \n",
    "  수입한다는 의미의 `import` 명령을 사용한다.\n",
    "  이 명령을 이미 써본 경험이 있을 것이다. \n",
    "- [수입에 관한 파이썬 한글 공식 문서](https://docs.python.org/ko/3/reference/import.html)를 참고하라. \n",
    "- 여기에서는 일단 경험을 통해 배우자."
   ]
  },
  {
   "cell_type": "markdown",
   "metadata": {
    "slideshow": {
     "slide_type": "slide"
    }
   },
   "source": [
    "### 3.1 수입 방법\n",
    "\n",
    "- 모듈(module) 및 패키지(package)\n",
    "  - 모듈은 확장자가 `.py`인 파이썬 코드 파일에 저장된 내용(이 메모리에 적재된 것)을 의미한다.   \n",
    "    - 확장자를 제외한 파일 이름 부분이 모듈 이름이다.\n",
    "    - 모듈은 파이썬 코드가 저장된(, 확장자가 `.py`로 지정된) 파일이라고 생각해도 좋다.  \n",
    "  - 패키지는 파이썬 모듈( 파일)이 저장된 디렉토리이다. \n",
    "    - 패키지 (폴더)에는 여러 파이썬 모듈( 파일)과 함께 `__init__.py` 파일이 저장되어야 한다(설사 빈 파일이더라도!). \n",
    "    - 패키지 내부에는 서브 패키지(하위 디렉토리) 또는 모듈( 파일)이 저장된다.   \n",
    "- 미리 작성한 [`wallet.py`](https://raw.githubusercontent.com/TomasBeuzen/python-programming-for-data-science/main/chapters/wallet.py) 모듈을 다운로드받아서 공부하자.  \n",
    "  - 링크를 클릭하면 열리는 코드에서 우측 마우스로 `다른 이름으로 저장...` 메뉴를 클릭하여  \n",
    "  이 파일을 본 노트북 파일과 같은 폴더에 저장하라.  \n",
    "- 이 코드에는 (지갑이라는 뜻으로) `Wallet` 클래스가 작성되어 있는데,  \n",
    "  물건을 사고 팔면서 발생하는 현급의 수입과 지출을 관리한다. "
   ]
  },
  {
   "cell_type": "code",
   "execution_count": 13,
   "metadata": {
    "slideshow": {
     "slide_type": "subslide"
    }
   },
   "outputs": [],
   "source": [
    "# This module contains a class Wallet that can be used to store, spend, and earn cash.\n",
    "\n",
    "\n",
    "class Wallet:\n",
    "    \"\"\"A wallet that can store, spend, and earn cash.\n",
    "\n",
    "    Parameters\n",
    "    ----------\n",
    "    balance : number\n",
    "        Amount of starting cash.\n",
    "\n",
    "    Attributes\n",
    "    ----------\n",
    "    item : str\n",
    "        The type of item, a \"Wallet\"\n",
    "    balance : float\n",
    "        The amount of money currently in the wallet.\n",
    "    \"\"\"\n",
    "\n",
    "    item = \"Wallet\"\n",
    "\n",
    "    def __init__(self, balance):\n",
    "        \"\"\"See help(Wallet)\"\"\"\n",
    "        self.balance = balance\n",
    "\n",
    "    def buy_item(self, cost, number=1):\n",
    "        \"\"\"Spend money and reduce your balance.\n",
    "\n",
    "        Parameters\n",
    "        ----------\n",
    "        cost : number\n",
    "            cost of the item to buy.\n",
    "        number : int\n",
    "            number of items to buy.\n",
    "\n",
    "        Raises\n",
    "        ------\n",
    "        InsufficientCashError\n",
    "            If you do not have enough money to spend.\n",
    "        \"\"\"\n",
    "        if cost * number <= self.balance:\n",
    "            self.balance -= cost * number\n",
    "        else:\n",
    "            raise InsufficientCashError(\n",
    "                f\"You can't spend ${cost * number} as you only have ${self.balance}.\"\n",
    "            )\n",
    "\n",
    "    def sell_item(self, cost, number=1):\n",
    "        \"\"\"Sell items and increase your balance.\n",
    "\n",
    "        Parameters\n",
    "        ----------\n",
    "        cost : number\n",
    "            cost of the item to buy.\n",
    "        number : int\n",
    "            number of items to buy.\n",
    "\n",
    "        \"\"\"\n",
    "        self.balance += cost * number\n",
    "\n",
    "\n",
    "class InsufficientCashError(Exception):\n",
    "    \"\"\"Custom error used when there is insufficient cash for a transaction.\"\"\"\n",
    "\n",
    "    pass\n"
   ]
  },
  {
   "cell_type": "markdown",
   "metadata": {
    "slideshow": {
     "slide_type": "subslide"
    }
   },
   "source": [
    "- 이 코드를 우리가 작성할 코드에서 활용하려면,  \n",
    "  아래와 같이 `wallet.py` 파일에서 확장자를 제외한 파일 이름만 지정하여 수입한다: "
   ]
  },
  {
   "cell_type": "code",
   "execution_count": 14,
   "metadata": {
    "slideshow": {
     "slide_type": "fragment"
    }
   },
   "outputs": [],
   "source": [
    "import wallet  # `wallet.py` 파일에서 `wallet` 모듈을 수입"
   ]
  },
  {
   "cell_type": "markdown",
   "metadata": {
    "slideshow": {
     "slide_type": "fragment"
    }
   },
   "source": [
    "- `dir(wallet)`를 써서 수입한 모듈에서 제공되는 모든 내용을 확인할 수 있다: "
   ]
  },
  {
   "cell_type": "code",
   "execution_count": 15,
   "metadata": {
    "scrolled": true,
    "slideshow": {
     "slide_type": "fragment"
    }
   },
   "outputs": [
    {
     "data": {
      "text/plain": [
       "['InsufficientCashError',\n",
       " 'Wallet',\n",
       " '__builtins__',\n",
       " '__cached__',\n",
       " '__doc__',\n",
       " '__file__',\n",
       " '__loader__',\n",
       " '__name__',\n",
       " '__package__',\n",
       " '__spec__']"
      ]
     },
     "execution_count": 15,
     "metadata": {},
     "output_type": "execute_result"
    }
   ],
   "source": [
    "dir(wallet)"
   ]
  },
  {
   "cell_type": "markdown",
   "metadata": {
    "slideshow": {
     "slide_type": "subslide"
    }
   },
   "source": [
    "- `as` 예약어로 `import` 명령으로 수입하는 패키지의 별칭을 부여할 수 있다: "
   ]
  },
  {
   "cell_type": "code",
   "execution_count": 16,
   "metadata": {
    "slideshow": {
     "slide_type": "fragment"
    }
   },
   "outputs": [],
   "source": [
    "import wallet as w  # wallet 모듈에 대하여 w라는 별칭 부여"
   ]
  },
  {
   "cell_type": "code",
   "execution_count": 17,
   "metadata": {
    "slideshow": {
     "slide_type": "fragment"
    }
   },
   "outputs": [
    {
     "data": {
      "text/plain": [
       "<wallet.Wallet at 0x1c0e76dceb0>"
      ]
     },
     "execution_count": 17,
     "metadata": {},
     "output_type": "execute_result"
    }
   ],
   "source": [
    "w.Wallet(100)  # 별칭을 이용하여 모듈 내부 클래스에 접근 "
   ]
  },
  {
   "cell_type": "code",
   "execution_count": 18,
   "metadata": {
    "slideshow": {
     "slide_type": "fragment"
    }
   },
   "outputs": [
    {
     "data": {
      "text/plain": [
       "wallet.InsufficientCashError()"
      ]
     },
     "execution_count": 18,
     "metadata": {},
     "output_type": "execute_result"
    }
   ],
   "source": [
    "w.InsufficientCashError()  # 별칭을 이용하여 모듈 내부 클래스에 접근"
   ]
  },
  {
   "cell_type": "markdown",
   "metadata": {
    "slideshow": {
     "slide_type": "subslide"
    }
   },
   "source": [
    "- 앞에서는 모듈 전체를 수입했다. \n",
    "- 다음과 같이 모듈에서 특정 함수/클래스/변수를 선택적으로 수입할 수도 있다:"
   ]
  },
  {
   "cell_type": "code",
   "execution_count": 19,
   "metadata": {
    "slideshow": {
     "slide_type": "fragment"
    }
   },
   "outputs": [],
   "source": [
    "from wallet import Wallet  # 모듈의 특정 클래스만 수입"
   ]
  },
  {
   "cell_type": "code",
   "execution_count": 20,
   "metadata": {
    "slideshow": {
     "slide_type": "fragment"
    }
   },
   "outputs": [
    {
     "data": {
      "text/plain": [
       "<wallet.Wallet at 0x1c0e76fd460>"
      ]
     },
     "execution_count": 20,
     "metadata": {},
     "output_type": "execute_result"
    }
   ],
   "source": [
    "Wallet(100) # 수입된 내용은 모듈 이름 접두어 없이 접근 가능"
   ]
  },
  {
   "cell_type": "markdown",
   "metadata": {
    "slideshow": {
     "slide_type": "subslide"
    }
   },
   "source": [
    "- 이상의 방법을 혼용할 수도 있다:"
   ]
  },
  {
   "cell_type": "code",
   "execution_count": 21,
   "metadata": {
    "slideshow": {
     "slide_type": "fragment"
    }
   },
   "outputs": [],
   "source": [
    "from wallet import Wallet as w  # 모듈에서 특정 클래스에 별칭을 부여하여 수입"
   ]
  },
  {
   "cell_type": "code",
   "execution_count": 22,
   "metadata": {
    "slideshow": {
     "slide_type": "fragment"
    }
   },
   "outputs": [
    {
     "data": {
      "text/plain": [
       "<wallet.Wallet at 0x1c0e75f63d0>"
      ]
     },
     "execution_count": 22,
     "metadata": {},
     "output_type": "execute_result"
    }
   ],
   "source": [
    "w(100)  # 별칭으로 클래스에 접근"
   ]
  },
  {
   "cell_type": "markdown",
   "metadata": {
    "slideshow": {
     "slide_type": "subslide"
    }
   },
   "source": [
    "- 모듈에서 제공되는 모든 자원을 한꺼번에 수입할 수도 있지만, 권장하는 방법은 아니다: "
   ]
  },
  {
   "cell_type": "code",
   "execution_count": 23,
   "metadata": {
    "slideshow": {
     "slide_type": "fragment"
    }
   },
   "outputs": [],
   "source": [
    "from wallet import *  # 모듈의 모든 자원을 한꺼번에 수입"
   ]
  },
  {
   "cell_type": "code",
   "execution_count": 24,
   "metadata": {
    "slideshow": {
     "slide_type": "fragment"
    }
   },
   "outputs": [
    {
     "data": {
      "text/plain": [
       "<wallet.Wallet at 0x1c0e76e8b50>"
      ]
     },
     "execution_count": 24,
     "metadata": {},
     "output_type": "execute_result"
    }
   ],
   "source": [
    "Wallet(100)  # 모듈 내부의 모든 자원에 접근 가능함"
   ]
  },
  {
   "cell_type": "code",
   "execution_count": 25,
   "metadata": {
    "slideshow": {
     "slide_type": "fragment"
    }
   },
   "outputs": [
    {
     "data": {
      "text/plain": [
       "wallet.InsufficientCashError()"
      ]
     },
     "execution_count": 25,
     "metadata": {},
     "output_type": "execute_result"
    }
   ],
   "source": [
    "InsufficientCashError()  # 모듈 내부의 모든 자원에 접근 가능함"
   ]
  },
  {
   "cell_type": "markdown",
   "metadata": {
    "slideshow": {
     "slide_type": "subslide"
    }
   },
   "source": [
    "- 작업 폴더 외부로부터 함수를 수입하는 방법을 공부해 보자. \n",
    "- 지금까지는 `wallet.py`가 현재 작업 중인 폴더에 저장되어 있기 때문에 `import wallet` 명령으로 수입이 가능했다.  \n",
    "  - 만일 `wallet.py`가 다른 폴더에 저장되어 있었다면, 추가적인 작업이 필요했을 것이다. \n",
    "  - 이런 상황을 위하여 `hello.py` 파일을 (현행 작업 폴더와 형제 수준인) `data` 폴더에 저장해 두었다. "
   ]
  },
  {
   "cell_type": "markdown",
   "metadata": {
    "slideshow": {
     "slide_type": "subslide"
    }
   },
   "source": [
    "- `hello.py` 파일의 내용은 다음과 같다: "
   ]
  },
  {
   "cell_type": "markdown",
   "metadata": {
    "slideshow": {
     "slide_type": "fragment"
    }
   },
   "source": [
    "```python\n",
    "PLANET = \"Earth\"\n",
    "\n",
    "def hello_world():\n",
    "    print(f\"Hello {PLANET}!\")\n",
    "```"
   ]
  },
  {
   "cell_type": "markdown",
   "metadata": {
    "slideshow": {
     "slide_type": "subslide"
    }
   },
   "source": [
    "- 마법 커맨드를 `!`를 붙여서 활용하면, 쉘 명령을 노트북 코드 셀에서 직접 실행할 수 있다. "
   ]
  },
  {
   "cell_type": "code",
   "execution_count": 26,
   "metadata": {
    "slideshow": {
     "slide_type": "fragment"
    }
   },
   "outputs": [
    {
     "name": "stdout",
     "output_type": "stream",
     "text": [
      "PLANET = \"Earth\"\n",
      "\n",
      "def hello_world():\n",
      "    print(f\"Hello {PLANET}!\")\n"
     ]
    }
   ],
   "source": [
    "!type data\\hello.py"
   ]
  },
  {
   "cell_type": "markdown",
   "metadata": {
    "slideshow": {
     "slide_type": "subslide"
    }
   },
   "source": [
    "- (현행 작업 폴더와 모듈이 존재하는 폴더가 다르므로) 아래와 같은 명령은 작동하지 않는다:"
   ]
  },
  {
   "cell_type": "code",
   "execution_count": 27,
   "metadata": {
    "slideshow": {
     "slide_type": "fragment"
    },
    "tags": [
     "raises-exception"
    ]
   },
   "outputs": [
    {
     "ename": "ModuleNotFoundError",
     "evalue": "No module named 'hello'",
     "output_type": "error",
     "traceback": [
      "\u001b[1;31m---------------------------------------------------------------------------\u001b[0m",
      "\u001b[1;31mModuleNotFoundError\u001b[0m                       Traceback (most recent call last)",
      "\u001b[1;32m<ipython-input-27-20bbd0c111a6>\u001b[0m in \u001b[0;36m<module>\u001b[1;34m\u001b[0m\n\u001b[1;32m----> 1\u001b[1;33m \u001b[1;32mfrom\u001b[0m \u001b[0mhello\u001b[0m \u001b[1;32mimport\u001b[0m \u001b[0mhello_world\u001b[0m\u001b[1;33m\u001b[0m\u001b[1;33m\u001b[0m\u001b[0m\n\u001b[0m",
      "\u001b[1;31mModuleNotFoundError\u001b[0m: No module named 'hello'"
     ]
    }
   ],
   "source": [
    "from hello import hello_world"
   ]
  },
  {
   "cell_type": "markdown",
   "metadata": {
    "slideshow": {
     "slide_type": "subslide"
    }
   },
   "source": [
    "- 파이썬이 수입 대상을 탐색하는 경로에 해당 폴더를 추가해 주어야 한다. \n",
    "- 이 작업을 하려면 `sys`라는 파이썬 내장 모듈을 활용해야 한다:"
   ]
  },
  {
   "cell_type": "code",
   "execution_count": 28,
   "metadata": {
    "slideshow": {
     "slide_type": "fragment"
    }
   },
   "outputs": [
    {
     "data": {
      "text/plain": [
       "['C:\\\\ocean\\\\2021\\\\work\\\\py4ds\\\\5_style_scripts_imports',\n",
       " 'C:\\\\anaconda3\\\\envs\\\\vd21\\\\python38.zip',\n",
       " 'C:\\\\anaconda3\\\\envs\\\\vd21\\\\DLLs',\n",
       " 'C:\\\\anaconda3\\\\envs\\\\vd21\\\\lib',\n",
       " 'C:\\\\anaconda3\\\\envs\\\\vd21',\n",
       " '',\n",
       " 'C:\\\\anaconda3\\\\envs\\\\vd21\\\\lib\\\\site-packages',\n",
       " 'C:\\\\anaconda3\\\\envs\\\\vd21\\\\lib\\\\site-packages\\\\win32',\n",
       " 'C:\\\\anaconda3\\\\envs\\\\vd21\\\\lib\\\\site-packages\\\\win32\\\\lib',\n",
       " 'C:\\\\anaconda3\\\\envs\\\\vd21\\\\lib\\\\site-packages\\\\Pythonwin',\n",
       " 'C:\\\\anaconda3\\\\envs\\\\vd21\\\\lib\\\\site-packages\\\\IPython\\\\extensions',\n",
       " 'C:\\\\Users\\\\logis\\\\.ipython',\n",
       " '../data/']"
      ]
     },
     "execution_count": 28,
     "metadata": {},
     "output_type": "execute_result"
    }
   ],
   "source": [
    "import sys                   # 파이썬 내장 모듈은 직접 수입 가능함\n",
    "sys.path.append('../data/')  # 형제 폴더를 지정\n",
    "sys.path                     # 파이썬이 모듈을 탐색할 때 사용하는 경로 리스트를 확인"
   ]
  },
  {
   "cell_type": "markdown",
   "metadata": {
    "slideshow": {
     "slide_type": "subslide"
    }
   },
   "source": [
    "- `../data/` 경로가 `sys.path`에 포함되었다.  \n",
    "  이제 `hello.py` 파일로부터 수입이 가능하다:"
   ]
  },
  {
   "cell_type": "code",
   "execution_count": 29,
   "metadata": {
    "slideshow": {
     "slide_type": "fragment"
    }
   },
   "outputs": [],
   "source": [
    "from hello import hello_world, PLANET  # hello 모듈로부터 함수와 변수를 수입"
   ]
  },
  {
   "cell_type": "code",
   "execution_count": 30,
   "metadata": {
    "slideshow": {
     "slide_type": "fragment"
    }
   },
   "outputs": [
    {
     "data": {
      "text/plain": [
       "'Earth'"
      ]
     },
     "execution_count": 30,
     "metadata": {},
     "output_type": "execute_result"
    }
   ],
   "source": [
    "PLANET          # 수입한 변수 확인"
   ]
  },
  {
   "cell_type": "code",
   "execution_count": 31,
   "metadata": {
    "scrolled": true,
    "slideshow": {
     "slide_type": "fragment"
    }
   },
   "outputs": [
    {
     "name": "stdout",
     "output_type": "stream",
     "text": [
      "Hello Earth!\n"
     ]
    }
   ],
   "source": [
    "hello_world()   # 수입한 함수 호출"
   ]
  },
  {
   "cell_type": "markdown",
   "metadata": {
    "slideshow": {
     "slide_type": "fragment"
    }
   },
   "source": [
    "- 지금까지 라이브러리 수입 방법을 공부했고, 이제부터는 패키지에 대하여 공부하자. \n",
    "<div style=\"page-break-after: always;\"></div>"
   ]
  },
  {
   "cell_type": "markdown",
   "metadata": {
    "slideshow": {
     "slide_type": "slide"
    }
   },
   "source": [
    "### 3.2 패키지(package)"
   ]
  },
  {
   "cell_type": "markdown",
   "metadata": {
    "slideshow": {
     "slide_type": "fragment"
    }
   },
   "source": [
    "- 코드가 `.py` 파일로 저장되면 모듈이 되고, 이런 모듈들이 모이면 이를 파이썬 패키지로 만들 수 있다. \n",
    "- 당신만의 파이썬 패키지를 만들어 보고 싶다면,  \n",
    "  [점프 투 파이썬에서 한글로 제공하는 패키지](https://wikidocs.net/1418)에 대한 강좌를 참고하라. \n",
    "- 후속되는 장에서 (다른 기관이 만들어 제공하는) 유명한 데이터 과학 패키지를 활용하는 방법을 공부할 예정이다. \n",
    "  - `NumPy`: 파이썬에서 데이터 과학 계산의 토대로 활용되는 패키지 \n",
    "  - `Pandas`: 파이썬에서 데이터 분석에 가장 많이 활용되는 패키지 \n",
    "- `NumPy`나 `Pandas` 패키지를 컴퓨터에 설치하면,  \n",
    "  파이썬이 설치된 경로를 알고 있기 때문에,  \n",
    "  그냥 수입하기만 하면 사용이 가능하다. "
   ]
  },
  {
   "cell_type": "markdown",
   "metadata": {
    "slideshow": {
     "slide_type": "subslide"
    }
   },
   "source": [
    "- 패키지를 설치하고, 수입하여 활용하는 예제를 공부하자. "
   ]
  },
  {
   "cell_type": "markdown",
   "metadata": {
    "slideshow": {
     "slide_type": "fragment"
    }
   },
   "source": [
    "- 넘파이 패키지는 다음 명령으로 설치한다: \n",
    "\n",
    "  ```shell\n",
    "  conda install numpy\n",
    "  ``` "
   ]
  },
  {
   "cell_type": "code",
   "execution_count": 7,
   "metadata": {
    "slideshow": {
     "slide_type": "fragment"
    }
   },
   "outputs": [],
   "source": [
    "import numpy as np"
   ]
  },
  {
   "cell_type": "code",
   "execution_count": 8,
   "metadata": {
    "slideshow": {
     "slide_type": "fragment"
    }
   },
   "outputs": [
    {
     "data": {
      "text/plain": [
       "array([1, 2, 3])"
      ]
     },
     "execution_count": 8,
     "metadata": {},
     "output_type": "execute_result"
    }
   ],
   "source": [
    "np.array([1, 2, 3])"
   ]
  },
  {
   "cell_type": "code",
   "execution_count": 11,
   "metadata": {
    "slideshow": {
     "slide_type": "fragment"
    }
   },
   "outputs": [
    {
     "data": {
      "text/plain": [
       "array([0, 0, 9])"
      ]
     },
     "execution_count": 11,
     "metadata": {},
     "output_type": "execute_result"
    }
   ],
   "source": [
    "np.random.randint(0, 10, 3)"
   ]
  },
  {
   "cell_type": "markdown",
   "metadata": {
    "slideshow": {
     "slide_type": "fragment"
    }
   },
   "source": [
    "- 넘파이 패키지는 향후 데이터 분석에서 본격적으로 공부하고,  \n",
    "  표준 라이브러리에서 제공되는 패키지를 활용해 보자. "
   ]
  },
  {
   "cell_type": "markdown",
   "metadata": {
    "slideshow": {
     "slide_type": "subslide"
    }
   },
   "source": [
    "- [파이썬 표준 라이브러리](https://docs.python.org/ko/3/library/)에는 방대한 패키지가 존재한다. \n",
    "  - 파이썬 표준 라이브러리는 파이썬에 내장되어 있으므로, 별도로 설치할 필요가 없다. \n",
    "  - 앞으로 함께 공부하면서 이들과 접하게 될 것이다. \n",
    "- 프로그램 작성 과정에서 특정 기능이 필요하다면,  \n",
    "  해당 기능을 제공하는 패키지가 존재하는지 먼저 확인할 필요가 있다.  \n",
    "  (대부분의 경우, 원하는 기능을 제공하는 패키지가 이미 존재할 것이다.)\n",
    "  - 예를 들어서, `for` 반복을 처리와 관련해서  \n",
    "    진척도를 보여주는 진행 막대(progress bar)가 필요할 수 있다.  \n",
    "    이런 기능을 제공하는 [tqdm package](https://github.com/tqdm/tqdm)를 사용하면 된다:"
   ]
  },
  {
   "cell_type": "code",
   "execution_count": 14,
   "metadata": {
    "slideshow": {
     "slide_type": "subslide"
    }
   },
   "outputs": [
    {
     "name": "stderr",
     "output_type": "stream",
     "text": [
      "100%|█████████████████████████████████████████████████████████████████| 10000000/10000000 [00:06<00:00, 1439861.64it/s]\n"
     ]
    }
   ],
   "source": [
    "from tqdm import tqdm\n",
    "for i in tqdm(range(int(10e6))):  # 천만회 반복\n",
    "    i ** 2"
   ]
  },
  {
   "cell_type": "markdown",
   "metadata": {
    "slideshow": {
     "slide_type": "fragment"
    }
   },
   "source": [
    "- 위 실행 결과에서; \n",
    "  - `00:05<00:00`는 '실행_시간 < 예상_잔여_시간'을 의미한다. \n",
    "  - `it/s`는 'iterations per second'라는 의미이다. "
   ]
  },
  {
   "cell_type": "markdown",
   "metadata": {
    "slideshow": {
     "slide_type": "fragment"
    }
   },
   "source": [
    "- 패키지 공부를 마쳤고, 값과 참조에 대하여 공부하자. \n",
    "<div style=\"page-break-after: always;\"></div> "
   ]
  },
  {
   "cell_type": "markdown",
   "metadata": {
    "slideshow": {
     "slide_type": "slide"
    }
   },
   "source": [
    "## 4. 값과 참조"
   ]
  },
  {
   "cell_type": "markdown",
   "metadata": {
    "slideshow": {
     "slide_type": "slide"
    }
   },
   "source": [
    "### 4.1 참조(reference)에 의한 처리"
   ]
  },
  {
   "cell_type": "markdown",
   "metadata": {
    "slideshow": {
     "slide_type": "fragment"
    }
   },
   "source": [
    "- 파이썬에서 모든 자료는 객체로 저장되며,  \n",
    "  변수 이름은 단지 해당 객체가 저장된 메모리 위치에 대한 참조(reference)일 뿐이다.  \n",
    "  - 변수는 해당 객체의 메모리 위치를 가리키고 있을 뿐이다.\n",
    "  - 변수와 객체는 서로 다른 존재이며, 단지 연결되어서 참조할 뿐이다. "
   ]
  },
  {
   "cell_type": "markdown",
   "metadata": {
    "slideshow": {
     "slide_type": "fragment"
    }
   },
   "source": [
    "- 객체는 값의 수정 가능성에 따라 두 유형으로 분류한다. \n",
    "    - 수정 불가형(immutable) 객체는 정수, 실수, 논리값, 그리고 튜플이다. \n",
    "    - 수정 가능형(mutable) 객체는 리스트, 사전, 집합이다. "
   ]
  },
  {
   "cell_type": "markdown",
   "metadata": {
    "slideshow": {
     "slide_type": "subslide"
    }
   },
   "source": [
    "- 객체의 수정 가능성 여부에 따라서 객체 값 변경을 처리하는 방법이 달라진다.\n",
    "    - 수정 불가형 객체는 객체의 값을 직접 수정할 수 없기 때문에,  \n",
    "      다른 메모리 위치에 (수정된 값을 가지는) 객체를 새롭게 생성하고,  \n",
    "      변수가 이 새로운 객체를 참조하도록, 변수에 저장된 참조 값을 변경하여 준다. \n",
    "    - 수정 가능형 객체는 객체가 생성되어 저장된 메모리 위치에서  \n",
    "      값의 수정(뿐만 아니라, 추가 및 삭제)이 가능하므로,  \n",
    "      객체가 저장된 곳에서 직접적으로 객체 값의 변경(또는 추가 및 삭제)이 이루어지고,  \n",
    "      따라서 변수가 참조하는 값에 변함이 없다. "
   ]
  },
  {
   "cell_type": "markdown",
   "metadata": {
    "slideshow": {
     "slide_type": "subslide"
    }
   },
   "source": [
    "- 이러한 상황을 파악하기 위하여 다음과 같은 함수를 활용하자:\n",
    "  - 여기서 id()는 객체의 고유값이다. \n",
    "  - 객체 고유값에 대한 숫자로서의 의미는 없다. \n",
    "  - 하지만 id() 값이 다르다면 다른 장소에 생성된 서로 다른 객체라는 의미로 해석할 수 있다. "
   ]
  },
  {
   "cell_type": "code",
   "execution_count": 94,
   "metadata": {
    "slideshow": {
     "slide_type": "fragment"
    }
   },
   "outputs": [],
   "source": [
    "def show_obj(obj, context=None):\n",
    "    \"\"\"obj 객체의 값과 obj 객체의 id() 값을 context 문자열과 함께 출력\"\"\"\n",
    "    print(f\"{context}: {obj}\\t at {id(obj)}\") "
   ]
  },
  {
   "cell_type": "markdown",
   "metadata": {
    "slideshow": {
     "slide_type": "subslide"
    }
   },
   "source": [
    "- 아래 코드에서 (수정 불가형인) 수치형 객체의 값이 수정되는 과정을 파악하자:"
   ]
  },
  {
   "cell_type": "code",
   "execution_count": 95,
   "metadata": {
    "slideshow": {
     "slide_type": "fragment"
    }
   },
   "outputs": [
    {
     "name": "stdout",
     "output_type": "stream",
     "text": [
      "생성 직후 x: 3\t at 140730265968448\n",
      "수정 직후 x: 5\t at 140730265968512\n"
     ]
    }
   ],
   "source": [
    "x = 3\n",
    "show_obj(x, \"생성 직후 x\")\n",
    "x = 5\n",
    "show_obj(x, \"수정 직후 x\")"
   ]
  },
  {
   "cell_type": "markdown",
   "metadata": {
    "slideshow": {
     "slide_type": "subslide"
    }
   },
   "source": [
    "- 변수 값을 수정한 직후에 변수 x의 id() 값이 변화한다.\n",
    "  - 엄밀하게 말하자면,  \n",
    "    '변수 값을 수정'한다고 하면 틀린 표현이고,  \n",
    "    '변수가 참조하는 객체 값을 수정'한다고 해야 맞다. \n",
    "  - 수치형 객체는 수정 불가형 객체이다. \n",
    "  - 그러므로 객체가 저장된 곳에서 직접 값을 수정할 수 없다. \n",
    "  - 수정 불가형 객체의 값을 수정하려면,  \n",
    "    수정할 값을 가지는 객체를 다른 곳에 생성하고,  \n",
    "    변수 x가 새롭게 생성된 객체를 참조하게 된다. \n",
    "  - 따라서 수정 불가형 객체의 값을 변경하게되면,  \n",
    "    참조하는 변수의 id() 값이 변화하게 된다. \n",
    "    \n",
    "- 수정 가능형 객체의 경우는 어떨까?"
   ]
  },
  {
   "cell_type": "markdown",
   "metadata": {
    "slideshow": {
     "slide_type": "subslide"
    }
   },
   "source": [
    "- 아래 코드에서 (수정 가능형인) 리스트형 객체의 값이 수정되는 과정을 파악하자:"
   ]
  },
  {
   "cell_type": "code",
   "execution_count": 154,
   "metadata": {
    "slideshow": {
     "slide_type": "fragment"
    }
   },
   "outputs": [
    {
     "name": "stdout",
     "output_type": "stream",
     "text": [
      "     생성 직후 x: [1, 2, 3]\t at 1928048394304\n",
      "원소 수정 직후 x: [1, 2, 0]\t at 1928048394304\n",
      "원소 추가 직후 x: [1, 2, 0, 4]\t at 1928048394304\n",
      "원소 삭제 직후 x: [2, 0, 4]\t at 1928048394304\n"
     ]
    }
   ],
   "source": [
    "x = [1, 2, 3]\n",
    "show_obj(x, \"     생성 직후 x\")\n",
    "x[-1] = 0\n",
    "show_obj(x, \"원소 수정 직후 x\")\n",
    "x.append(4)\n",
    "show_obj(x, \"원소 추가 직후 x\")\n",
    "x.remove(1)\n",
    "show_obj(x, \"원소 삭제 직후 x\")"
   ]
  },
  {
   "cell_type": "code",
   "execution_count": 156,
   "metadata": {
    "slideshow": {
     "slide_type": "fragment"
    }
   },
   "outputs": [
    {
     "name": "stdout",
     "output_type": "stream",
     "text": [
      "  재 지정 직후 x: [4, 5, 6]\t at 1928048423936\n"
     ]
    }
   ],
   "source": [
    "# 원소 값을 수정하는 것과 달리, 전체 값을 재 지정하면 새로운 객체가 생성된다. \n",
    "x = [4, 5, 6]  \n",
    "show_obj(x, \"  재 지정 직후 x\")"
   ]
  },
  {
   "cell_type": "markdown",
   "metadata": {
    "slideshow": {
     "slide_type": "subslide"
    }
   },
   "source": [
    "- 리스트형 객체의 원소 값을 수정/추가/삭제 하여도 변수 x의 id() 값에 변함이 없다.\n",
    "  - 리스트형 객체는 수정 가능형 객체이다. \n",
    "  - 그러므로 객체가 저장된 곳에서 직접 값을 수정할 수 있다. \n",
    "  - 수정 가능형 객체의 값은 변경되어도,  \n",
    "    참조하는 변수의 id() 값이 변화하지 않는다. \n",
    "- 그러나 리스트형 객체를 재 지정(re-assignment)한 이후에는 변수 x의 id() 값이 변화한다. \n",
    "  - 그러나 값을 전체적으로 재 지정하는 경우에는 새로운 객체가 생성된다.\n",
    "  - 변수는 새롭게 생성된 객체를 참조하도록 참조 값이 변화된다. "
   ]
  },
  {
   "cell_type": "markdown",
   "metadata": {
    "slideshow": {
     "slide_type": "subslide"
    }
   },
   "source": [
    "- 아래 코드의 실행 결과로 출력되는 값은 얼마일까?"
   ]
  },
  {
   "cell_type": "code",
   "execution_count": 97,
   "metadata": {
    "jupyter": {
     "outputs_hidden": false
    },
    "slideshow": {
     "slide_type": "fragment"
    }
   },
   "outputs": [],
   "source": [
    "x = 1   # 원본 생성\n",
    "y = x   # 복사본 생성\n",
    "x = 2   # 원본 수정\n",
    "# (x, y)  # 결과를 예측해보라!"
   ]
  },
  {
   "cell_type": "code",
   "execution_count": 98,
   "metadata": {
    "jupyter": {
     "outputs_hidden": false
    },
    "scrolled": true,
    "slideshow": {
     "slide_type": "fragment"
    }
   },
   "outputs": [
    {
     "data": {
      "text/plain": [
       "(2, 1)"
      ]
     },
     "execution_count": 98,
     "metadata": {},
     "output_type": "execute_result"
    }
   ],
   "source": [
    "x = 1   # 원본 생성\n",
    "y = x   # 복사본 생성\n",
    "x = 2   # 원본 수정\n",
    "(x, y)  # 확인 (복사본은 불변)"
   ]
  },
  {
   "cell_type": "markdown",
   "metadata": {
    "slideshow": {
     "slide_type": "subslide"
    }
   },
   "source": [
    "|![10_immutable_copy](https://user-images.githubusercontent.com/10287629/130617210-3748ef0e-d871-4f36-a478-4fb9829c2152.png)<br>그림 2. 수정 불가형 객체를 복사한 후 원본을 수정하는 과정|\n",
    "|:---|\n",
    "\n"
   ]
  },
  {
   "cell_type": "markdown",
   "metadata": {
    "slideshow": {
     "slide_type": "fragment"
    }
   },
   "source": [
    "- 수치형 변수의 복사본을 생성하고, 원본 객체의 값을 변경해도  \n",
    "  복사본 변수의 값은 변하지 않는다. \n",
    "- 수치형 객체는 수정 불가형이므로, 값을 수정할 때 새로운 객체가 생성된다. "
   ]
  },
  {
   "cell_type": "markdown",
   "metadata": {
    "slideshow": {
     "slide_type": "subslide"
    }
   },
   "source": [
    "- 리스트형의 경우에는 어떨까?"
   ]
  },
  {
   "cell_type": "code",
   "execution_count": 99,
   "metadata": {
    "slideshow": {
     "slide_type": "fragment"
    }
   },
   "outputs": [],
   "source": [
    "x = [1]   # 원본 생성 \n",
    "y = x     # 복사본 생성\n",
    "x[0] = 2  # 원본 수정\n",
    "# (x, y)    # 결과를 예측해보라!"
   ]
  },
  {
   "cell_type": "code",
   "execution_count": 100,
   "metadata": {
    "slideshow": {
     "slide_type": "fragment"
    }
   },
   "outputs": [
    {
     "data": {
      "text/plain": [
       "([2], [2])"
      ]
     },
     "execution_count": 100,
     "metadata": {},
     "output_type": "execute_result"
    }
   ],
   "source": [
    "x = [1]   # 원본 생성 \n",
    "y = x     # 복사본 생성\n",
    "x[0] = 2  # 원본 수정\n",
    "(x, y)    # 확인 (복사본도 수정됨)"
   ]
  },
  {
   "cell_type": "markdown",
   "metadata": {
    "slideshow": {
     "slide_type": "subslide"
    }
   },
   "source": [
    "|![20_mutable_copy](https://user-images.githubusercontent.com/10287629/130619537-10596f13-365b-47f2-b213-7f474f4b7cc0.png)<br>그림 3. 수정 가능형 객체를 복사한 후 원본을 수정하는 과정|\n",
    "|:---|\n",
    "\n"
   ]
  },
  {
   "cell_type": "markdown",
   "metadata": {
    "slideshow": {
     "slide_type": "fragment"
    }
   },
   "source": [
    "- 리스트형 변수의 복사본을 생성하고, 원본 객체의 값을 변경하니  \n",
    "  복사본 변수의 값도 변경되었다. \n",
    "- 리스트형 객체는 수정 가능형이므로, 값을 수정할 때 기존 객체가 수정된다."
   ]
  },
  {
   "cell_type": "markdown",
   "metadata": {
    "slideshow": {
     "slide_type": "fragment"
    }
   },
   "source": [
    "- 파이썬에서 지정(assignment) 또는 대입 연산은 **동일한 객체를 참조하게** 만드는 것이다.  \n",
    "  `y = x`라는 지정 연산은  \n",
    "    - x 변수에 저장된 특정 객체에 대한 참조(주소) 값을 y 변수에 복사하는 것이다. \n",
    "    - x 변수가 참조하던 객체를 y 변수도 동일하게 참조하게 만드는 것이다. \n",
    "    - 결과적으로 x 변수와 y 변수에 저장된 참조 값이 같아지고, 같은 값을 가지는 단일 객체를 함께 참조하게 된다.\n",
    "- 이러한 방식을 \"객체 참조를 값으로 복사\"한다고 표현한다. "
   ]
  },
  {
   "cell_type": "code",
   "execution_count": 101,
   "metadata": {
    "slideshow": {
     "slide_type": "subslide"
    }
   },
   "outputs": [
    {
     "name": "stdout",
     "output_type": "stream",
     "text": [
      "  원본 생성 후   원본 x: 100\t at 140730265971552\n",
      "복사본 생성 후 복사본 y: 100\t at 140730265971552\n",
      "\n",
      "  원본 수정 후   원본 x: 200\t at 140730265974752\n",
      "  원본 수정 후 복사본 y: 100\t at 140730265971552\n"
     ]
    }
   ],
   "source": [
    "x = 100                                   # 원본 생성\n",
    "show_obj(x, \"  원본 생성 후   원본 x\")\n",
    "y = x                                     # 복사본 생성\n",
    "show_obj(y, \"복사본 생성 후 복사본 y\")\n",
    "x = 200                                   # 원본 수정\n",
    "show_obj(x, \"\\n  원본 수정 후   원본 x\")\n",
    "show_obj(y, \"  원본 수정 후 복사본 y\")    # (원본만 수정됨)"
   ]
  },
  {
   "cell_type": "markdown",
   "metadata": {
    "slideshow": {
     "slide_type": "fragment"
    }
   },
   "source": [
    "- 수정 불가형 객체의 경우 상황은 다음과 같다: \n",
    "    - 수정 전/후 값의 변화는: \n",
    "      - 원본 및 복사본 생성 직후에 원본과 복사본의 값은 동일하다.\n",
    "      - 원본 수정 후에 원본만 값이 변경되고, 복사본은 변경되지 않았다.\n",
    "    - 수정 전/후 id() 값의 변화는: \n",
    "      - 원본 및 복사본 생성 직후에 원본과 복사본의 id() 값은 동일하다. \n",
    "      - 원본의 값을 수정하자 id() 값이 변화했다. \n",
    "      - 복사본은 원본의 값을 수정해도 id() 값의 변화가 없다. \n",
    "    - 원본을 수정했을 때 원본의 id() 값이 달라지는 것에 주목해야 한다:  \n",
    "      - 이는 정수형 객체가 수정 불가형이기 때문이다.\n",
    "      - 수정 불가형이므로 새로운 값으로 수정된 새로운 객체가 생성된 것이다. \n",
    "      - 원본 변수는 새로운 객체를 참조하도록 변경되었다. "
   ]
  },
  {
   "cell_type": "code",
   "execution_count": 102,
   "metadata": {
    "slideshow": {
     "slide_type": "subslide"
    }
   },
   "outputs": [
    {
     "name": "stdout",
     "output_type": "stream",
     "text": [
      "  원본 생성 후   원본 x: [1]\t at 1928028102464\n",
      "복사본 생성 후 복사본 y: [1]\t at 1928028102464\n",
      "\n",
      "  원본 수정 후   원본 x: [2]\t at 1928028102464\n",
      "  원본 수정 후 복사본 y: [2]\t at 1928028102464\n"
     ]
    }
   ],
   "source": [
    "x = [1]                                   # 원본 생성 \n",
    "show_obj(x, \"  원본 생성 후   원본 x\")\n",
    "y = x                                     # 복사본 생성\n",
    "show_obj(y, \"복사본 생성 후 복사본 y\")\n",
    "x[0] = 2                                  # 원본 수정\n",
    "show_obj(x, \"\\n  원본 수정 후   원본 x\")\n",
    "show_obj(y, \"  원본 수정 후 복사본 y\")    # (복사본도 수정됨)"
   ]
  },
  {
   "cell_type": "markdown",
   "metadata": {
    "slideshow": {
     "slide_type": "fragment"
    }
   },
   "source": [
    "- 수정 가능형 객체의 경우 상황은 다음과 같다: \n",
    "    - 수정 전/후 값의 변화는: \n",
    "      - 원본 및 복사본 생성 직후에 원본과 복사본의 값은 동일하다.\n",
    "      - 원본 수정 후에 원본과 함께 복사본 값도 변경되었다.\n",
    "    - 수정 전/후 id() 값의 변화는: \n",
    "      - 원본 및 복사본 생성 직후에 원본과 복사본의 id() 값은 동일하다. \n",
    "      - 원본 값을 수정해도 원본 및 복사본 변수의 id() 값은 변함이 없다. \n",
    "    - 이는 리스트형 객체가 수정 가능형이기 때문이다.\n",
    "      - 수정 가능형이므로 객체가 저장되어 있던 곳에서 직접 수정되는 것이다. \n",
    "      - 원본 변수이든 복사본 변수이든 새로운 객체를 참조할 일이 없고, 원래의 참조 값을 유지한다. \n",
    "- 앞서 원본을 수정하면 복사본도 함께 수정되었는데,  \n",
    "  복사본을 수정하면 원본도 함께 수정된다. "
   ]
  },
  {
   "cell_type": "code",
   "execution_count": 103,
   "metadata": {
    "slideshow": {
     "slide_type": "subslide"
    }
   },
   "outputs": [
    {
     "name": "stdout",
     "output_type": "stream",
     "text": [
      "\n",
      "복사본 수정 후   원본 x: [3]\t at 1928028102464\n",
      "복사본 수정 후 복사본 y: [3]\t at 1928028102464\n"
     ]
    }
   ],
   "source": [
    "y[0] = 3                                  # 복사본 수정\n",
    "show_obj(x, \"\\n복사본 수정 후   원본 x\")\n",
    "show_obj(y, \"복사본 수정 후 복사본 y\")    # (원본도 수정됨)"
   ]
  },
  {
   "cell_type": "markdown",
   "metadata": {
    "slideshow": {
     "slide_type": "fragment"
    }
   },
   "source": [
    "- 원본과 복사본이 동일한 객체를 참조하고 있었던 것이다. "
   ]
  },
  {
   "cell_type": "markdown",
   "metadata": {},
   "source": [
    "- 정리하면 다음과 같다:\n",
    "  - 변수는 객체에 대한 참조 값을 가지고 있을 뿐이다. \n",
    "  - `y = x`와 같은, 두 변수 간의 지정 연산은 객체에 대한 참조 값을 복사할 뿐이며,  \n",
    "    결과적으로 두 변수가 같은 객체를 참조하게 만든다. \n",
    "    - 객체가 수정 가능형인지, 수정 불가형인지에 따라서 값의 변경 방식이 달라진다. \n",
    "        - 수정 가능형이라면,  \n",
    "          객체의 고유값은 변하지 않는 상태에서 객체의 값만 변경되므로,  \n",
    "          원본과 복사본은 같은 객체를 참조하는 상태가 유지된다. \n",
    "        - 수정 불가형이라면, \n",
    "          객체의 값을 변경하려면 객체의 고유값이 달라지게 되고,  \n",
    "          수정되는 변수만 변경된 객체를 참조하게 된다. \n",
    "  \n",
    "<div style=\"page-break-after: always;\"></div>"
   ]
  },
  {
   "cell_type": "markdown",
   "metadata": {
    "slideshow": {
     "slide_type": "slide"
    }
   },
   "source": [
    "### 4.2 추가적인 이상함"
   ]
  },
  {
   "cell_type": "code",
   "execution_count": 104,
   "metadata": {
    "slideshow": {
     "slide_type": "subslide"
    }
   },
   "outputs": [
    {
     "name": "stdout",
     "output_type": "stream",
     "text": [
      "복사 후   원본 x: [1 2 3]\t at 1928028123472\n",
      "복사 후 복사본 y: [1 2 3]\t at 1928028123472\n",
      "\n",
      "덧셈 후   원본 x: [6 7 8]\t at 1928028127024\n",
      "덧셈 후 복사본 y: [1 2 3]\t at 1928028123472\n"
     ]
    }
   ],
   "source": [
    "x = np.array([1, 2, 3])  # (다음 장에서 배울) 넘파이 배열, 수정 가능형\n",
    "y = x\n",
    "show_obj(x, \"복사 후   원본 x\")\n",
    "show_obj(y, \"복사 후 복사본 y\")\n",
    "\n",
    "x = x + 5\n",
    "\n",
    "show_obj(x, \"\\n덧셈 후   원본 x\")\n",
    "show_obj(y, \"덧셈 후 복사본 y\")"
   ]
  },
  {
   "cell_type": "code",
   "execution_count": 105,
   "metadata": {
    "slideshow": {
     "slide_type": "fragment"
    }
   },
   "outputs": [
    {
     "name": "stdout",
     "output_type": "stream",
     "text": [
      "복사 후   원본 x: [1 2 3]\t at 1928028125488\n",
      "복사 후 복사본 y: [1 2 3]\t at 1928028125488\n",
      "\n",
      "증가 후   원본 x: [6 7 8]\t at 1928028125488\n",
      "증가 후 복사본 y: [6 7 8]\t at 1928028125488\n"
     ]
    }
   ],
   "source": [
    "x = np.array([1, 2, 3])\n",
    "y = x\n",
    "show_obj(x, \"복사 후   원본 x\")\n",
    "show_obj(y, \"복사 후 복사본 y\")\n",
    "\n",
    "x += 5\n",
    "\n",
    "show_obj(x, \"\\n증가 후   원본 x\")\n",
    "show_obj(y, \"증가 후 복사본 y\")"
   ]
  },
  {
   "cell_type": "markdown",
   "metadata": {
    "slideshow": {
     "slide_type": "subslide"
    }
   },
   "source": [
    "- `x += 5`는 `x = x + 5`와 다르다.\n",
    "  - `+=` 연산자는 `__iadd__` 함수를 호출하고, `+` 연산자는 `__add__` 함수를 호출한다. \n",
    "  - `+=`와 같은 연산자를 인플레이스(in-place) 연산자라고 하는데,  \n",
    "    이들은 복사본을 만들지 않고 객체 값을 저장된 장소에서 직접 변경한다.\n",
    "  - 반면에 `+`와 같은 연산자는 표준 연산자라고 하는데, 이들은 복사본을 만들어서 연산 결과를 처리한다.  \n",
    "  - `+=`와 같은 인플레이스 연산자는 `x`가 참조하는 객체 값을 (저장된 곳에서) 수정한다. \n",
    "  - `=`과 같은 표준 연산자는 우선 `x + 5`를 메모리의 새로운 배열에서 계산한 후,  \n",
    "    변수 `x`의 참조값을 이 새로운 배열에 대한 참조값으로 덮어 쓴다.\n",
    "- 집합체 변수에 대한 일반적 규칙\n",
    "  - 원본에 대한 수정이 아닌 경우: 메모리에서 새로운 객체를 생성한 후, 그 참조값을 `x`에 저장한다. \n",
    "    `x = ...`:  \n",
    "  - 원본에 대한 수정인 경우: `x`의 참조값을 이용하여 내용을 수정한다. \n",
    "    - `x.SOMETHING = y   # x의 속성에 대한 수정` \n",
    "    - `x[SOMETHING] = y  # x의 원소에 대한 수정`   \n",
    "    - `x *= y            # x의 원소에 대한 수정`"
   ]
  },
  {
   "cell_type": "markdown",
   "metadata": {
    "slideshow": {
     "slide_type": "subslide"
    }
   },
   "source": [
    "- 변경 가능한(mutable) 객체와 변경 불가한(immutable) 객체\n",
    "  - 변경 가능: 리스트(list), 사전(dict), 집합(set)\n",
    "  - 변경 불능: 기본 자료형(int, string, bool), 튜플(tuple)\n",
    "\n",
    "- 변경 가능한 객체는 원본에서 직접 변경이 수행되므로,  \n",
    "  내용 변경 후 `id()`값에 변화가 없다. \n",
    "- 변경 불가한 객체는 원본에서 직접 내용이 변경되지 못하므로,  \n",
    "  복사본을 만들어서 변경이 수행되고, 참조값을 복사본으로 수정하게 되어, \n",
    "  변경 후 `id()`값이 바뀐다. "
   ]
  },
  {
   "cell_type": "markdown",
   "metadata": {
    "slideshow": {
     "slide_type": "subslide"
    }
   },
   "source": [
    "- 변경 가능 객체부터 살펴보자."
   ]
  },
  {
   "cell_type": "code",
   "execution_count": 122,
   "metadata": {
    "slideshow": {
     "slide_type": "fragment"
    }
   },
   "outputs": [
    {
     "name": "stdout",
     "output_type": "stream",
     "text": [
      "None: [1, 2]\t at 1928027760512\n",
      "None: [1, 2, 3]\t at 1928033289152\n"
     ]
    }
   ],
   "source": [
    "# `list`는 변경 가능 객체이지만, 표준 연산자로 새로운 값을 지정하면 고유값이 변화한다. \n",
    "obj = [1, 2]\n",
    "show_obj(obj)\n",
    "obj = obj + [3]\n",
    "show_obj(obj)\n"
   ]
  },
  {
   "cell_type": "code",
   "execution_count": 147,
   "metadata": {
    "slideshow": {
     "slide_type": "fragment"
    }
   },
   "outputs": [
    {
     "name": "stdout",
     "output_type": "stream",
     "text": [
      "None: [1, 2]\t at 1928027183488\n",
      "None: [1, 2, 3]\t at 1928027183488\n"
     ]
    }
   ],
   "source": [
    "# `list`는 변경 가능 객체이고, 인플레이스 연산으로 내용 수정해도 고유값은 불변이다. \n",
    "obj = [1, 2]\n",
    "show_obj(obj)\n",
    "obj += [3]\n",
    "show_obj(obj)\n"
   ]
  },
  {
   "cell_type": "code",
   "execution_count": 150,
   "metadata": {
    "slideshow": {
     "slide_type": "subslide"
    }
   },
   "outputs": [
    {
     "name": "stdout",
     "output_type": "stream",
     "text": [
      "None: {1, 2}\t at 1928033239552\n",
      "None: {1, 2, 3}\t at 1928049006400\n"
     ]
    }
   ],
   "source": [
    "# `set`은 변경 가능 객체이고, 표준 연산자로 새로운 값을 지정하면 고유값이 변화한다. \n",
    "obj = {1, 2}\n",
    "show_obj(obj)\n",
    "obj = obj | {3}          # 집합 원소 추가\n",
    "show_obj(obj)"
   ]
  },
  {
   "cell_type": "code",
   "execution_count": 151,
   "metadata": {
    "slideshow": {
     "slide_type": "fragment"
    }
   },
   "outputs": [
    {
     "name": "stdout",
     "output_type": "stream",
     "text": [
      "None: {1, 2}\t at 1928033239552\n",
      "None: {1, 2, 3}\t at 1928033239552\n"
     ]
    }
   ],
   "source": [
    "# `set`은 변경 가능 객체이고, 인플레이스 연산으로 내용 변경해도 고유값이 불변이다. \n",
    "obj = {1, 2}\n",
    "show_obj(obj)\n",
    "obj.add(3)          # 집합 원소 추가\n",
    "show_obj(obj)"
   ]
  },
  {
   "cell_type": "markdown",
   "metadata": {
    "slideshow": {
     "slide_type": "subslide"
    }
   },
   "source": [
    "- 변경 불가능 객체도 살펴보자."
   ]
  },
  {
   "cell_type": "code",
   "execution_count": 152,
   "metadata": {
    "slideshow": {
     "slide_type": "fragment"
    }
   },
   "outputs": [
    {
     "name": "stdout",
     "output_type": "stream",
     "text": [
      "None: 1\t at 140730265968384\n",
      "None: 2\t at 140730265968416\n"
     ]
    }
   ],
   "source": [
    "# 기본 자료형 `int`는 변경 불가능 객체이므로, 인플레이스 연산으로 내용을 변경해도 고유값이 변한다.  \n",
    "obj = 1\n",
    "show_obj(obj)\n",
    "obj += 1\n",
    "show_obj(obj)"
   ]
  },
  {
   "cell_type": "code",
   "execution_count": 126,
   "metadata": {
    "slideshow": {
     "slide_type": "fragment"
    }
   },
   "outputs": [
    {
     "name": "stdout",
     "output_type": "stream",
     "text": [
      "None: 1.0\t at 1928033313200\n",
      "None: 2.0\t at 1928033313328\n"
     ]
    }
   ],
   "source": [
    "# 기본 자료형 `float`는 변경 불가능 객체이고, 인플레이스 연산으로 내용을 변경해도 고유값이 변한다.\n",
    "obj = 1.\n",
    "show_obj(obj)\n",
    "obj += 1\n",
    "show_obj(obj)"
   ]
  },
  {
   "cell_type": "code",
   "execution_count": 153,
   "metadata": {
    "slideshow": {
     "slide_type": "subslide"
    }
   },
   "outputs": [
    {
     "name": "stdout",
     "output_type": "stream",
     "text": [
      "None: (1, 2)\t at 1928062664192\n",
      "None: (1, 2, 3)\t at 1928045671808\n"
     ]
    }
   ],
   "source": [
    "# `tuple`은 변경 불가능 객체이고, 인플레이스 연산으로 내용을 변경해도 고유값이 변한다.\n",
    "obj = (1, 2)\n",
    "show_obj(obj)\n",
    "obj += (3, )\n",
    "show_obj(obj)"
   ]
  },
  {
   "cell_type": "code",
   "execution_count": 135,
   "metadata": {
    "slideshow": {
     "slide_type": "fragment"
    }
   },
   "outputs": [
    {
     "name": "stdout",
     "output_type": "stream",
     "text": [
      "None: happy\t at 1928033355632\n",
      "None: happy!\t at 1928033357488\n"
     ]
    }
   ],
   "source": [
    "# `stirng`은 변경 불가능 객체이고, 인플레이스 연산으로 내용을 변경해도 고유값이 변한다.\n",
    "obj = \"happy\"\n",
    "show_obj(obj)\n",
    "obj += \"!\"\n",
    "show_obj(obj)"
   ]
  },
  {
   "cell_type": "markdown",
   "metadata": {
    "slideshow": {
     "slide_type": "fragment"
    }
   },
   "source": [
    "- 결론적으로, \n",
    "  - 변경 가능 객체는 인플레이스 연산에서는 고유값이 불변이고, 표준 연산에서는 고유값이 변경된다.\n",
    "  - 변경 불가 객체는 인플레이스 연산을 수행해도 고유값이 변한다.\n",
    "  \n",
    "<div style=\"page-break-after: always;\"></div>"
   ]
  },
  {
   "cell_type": "markdown",
   "metadata": {
    "slideshow": {
     "slide_type": "slide"
    }
   },
   "source": [
    "### 4.3 복사(copy) 및 깊은 복사(deepcopy)"
   ]
  },
  {
   "cell_type": "markdown",
   "metadata": {
    "slideshow": {
     "slide_type": "fragment"
    }
   },
   "source": [
    "- `copy` 라이브러리를 써서 복사 행위를 통제할 수 있다:\n",
    "    - 일반 지정 연산으로는 참조값만 복사하고, 동일 객체를 함께 참조한다. \n",
    "    - `copy.copy()`로 복사하면 내용 복사로 처리된다. \n",
    "    - `copy.deepcopy()`로 복사하면 깊은 복사로 처리된다. "
   ]
  },
  {
   "cell_type": "code",
   "execution_count": 138,
   "metadata": {
    "slideshow": {
     "slide_type": "fragment"
    }
   },
   "outputs": [],
   "source": [
    "import copy  # 파이썬 표준 라이브러리이므로 단순히 수입"
   ]
  },
  {
   "cell_type": "code",
   "execution_count": 139,
   "metadata": {
    "jupyter": {
     "outputs_hidden": false
    },
    "slideshow": {
     "slide_type": "subslide"
    }
   },
   "outputs": [
    {
     "data": {
      "text/plain": [
       "[2]"
      ]
     },
     "execution_count": 139,
     "metadata": {},
     "output_type": "execute_result"
    }
   ],
   "source": [
    "x = [1]     # 리스트는 변경 가능 객체\n",
    "y = x       # 단순 대입이므로, 참조값만 복사됨\n",
    "x[0] = 2    # 원본 수정 (결국 복사본도 수정되는 효과)\n",
    "y           # 복사본도 원본과 동일함    "
   ]
  },
  {
   "cell_type": "code",
   "execution_count": 140,
   "metadata": {
    "slideshow": {
     "slide_type": "fragment"
    }
   },
   "outputs": [
    {
     "data": {
      "text/plain": [
       "[1]"
      ]
     },
     "execution_count": 140,
     "metadata": {},
     "output_type": "execute_result"
    }
   ],
   "source": [
    "x = [1]             # 리스트는 변경 가능 객체\n",
    "y = copy.copy(x)    # 내용 복사, 복사본을 별도로 만들어서 y가 이를 참조함\n",
    "x[0] = 2            # 원본만 수정\n",
    "y                   # 내용 복사본이므로, 수정된 원본과 무관함"
   ]
  },
  {
   "cell_type": "code",
   "execution_count": 141,
   "metadata": {
    "slideshow": {
     "slide_type": "fragment"
    }
   },
   "outputs": [
    {
     "data": {
      "text/plain": [
       "[1]"
      ]
     },
     "execution_count": 141,
     "metadata": {},
     "output_type": "execute_result"
    }
   ],
   "source": [
    "x = [1]             # 리스트는 변경 가능 객체\n",
    "y = x[::]           # 내용 복사, 복사본을 별도로 만들어서 y가 이를 참조함\n",
    "x[0] = 2            # 원본만 수정\n",
    "y                   # 내용 복사본이므로, 수정된 원본과 무관함"
   ]
  },
  {
   "cell_type": "markdown",
   "metadata": {
    "slideshow": {
     "slide_type": "subslide"
    }
   },
   "source": [
    "- 아래 결과를 예측할 수 있는가?"
   ]
  },
  {
   "cell_type": "code",
   "execution_count": 144,
   "metadata": {
    "jupyter": {
     "outputs_hidden": false
    },
    "slideshow": {
     "slide_type": "fragment"
    }
   },
   "outputs": [
    {
     "name": "stdout",
     "output_type": "stream",
     "text": [
      "After copy.copy():\n",
      "[[1], [2, 99], [3, 'hi']]\n",
      "[[1], [2, 99], [3, 'hi']]\n",
      "\n",
      "After modifying x[0][0]:\n",
      "[['pikachu'], [2, 99], [3, 'hi']]\n",
      "[['pikachu'], [2, 99], [3, 'hi']]\n"
     ]
    }
   ],
   "source": [
    "x = [[1], [2, 99], [3, \"hi\"]]      # 리스트의 리스트\n",
    "\n",
    "y = copy.copy(x)                   # 내용 복사\n",
    "# y = x[::]                        # 내용 복사\n",
    "print(\"After copy.copy():\")\n",
    "print(x)\n",
    "print(y)\n",
    "print(\"\")\n",
    "\n",
    "x[0][0] = \"pikachu\"                # 원본 내용을 수정\n",
    "print(\"After modifying x[0][0]:\")\n",
    "print(x)\n",
    "print(y)"
   ]
  },
  {
   "cell_type": "markdown",
   "metadata": {
    "slideshow": {
     "slide_type": "subslide"
    }
   },
   "source": [
    "- \"헐...!!\" \n",
    "  - (내용) 복사를 수행했는데도, `y`가 `x`와 같은 값을 가진다니...\n",
    "  - 이 코드에서 `copy`로 내용을 복사했지만,  \n",
    "    리스트의 껍데기만 복사하게 된다. \n",
    "  - 우리 리스트는 '리스트의 리스트'였으므로 바깥쪽 리스트는 내용을 복사하겠지만,  \n",
    "    바깥쪽 리스트 내부의 리스트는 역시 참조값만 복사된다. \n",
    "  - `y = copy.copy(x)` 실행 과정에서 이런 일이 벌어졌던 것이다. \n",
    "\n",
    "|![그림 4. (내용) 복사했지만, 내부 리스트는 여전히 참조값만 복사되는 경우](https://user-images.githubusercontent.com/10287629/144739670-456bdf5c-7f81-453e-9b2b-025d60ac9295.png)<br>그림 4. (내용) 복사했지만, 내부 리스트는 여전히 참조값만 복사되는 경우 |\n",
    "|:---|"
   ]
  },
  {
   "cell_type": "markdown",
   "metadata": {
    "slideshow": {
     "slide_type": "subslide"
    }
   },
   "source": [
    "- 이런 상황에서는 `is`를 써서 내부 상황을 파악할 수 있다. \n",
    "  - `is`는 두 객체가 같은 메모리(즉, 같은 객체)를 참조하고 있는지 알려준다. \n",
    "  - `==`는 두 객체의 내용이 같은지를 알려준다. "
   ]
  },
  {
   "cell_type": "code",
   "execution_count": 114,
   "metadata": {
    "slideshow": {
     "slide_type": "fragment"
    }
   },
   "outputs": [
    {
     "data": {
      "text/plain": [
       "True"
      ]
     },
     "execution_count": 114,
     "metadata": {},
     "output_type": "execute_result"
    }
   ],
   "source": [
    "x == y # 두 리스트의 내용은 같다고 확인됨"
   ]
  },
  {
   "cell_type": "code",
   "execution_count": 115,
   "metadata": {
    "slideshow": {
     "slide_type": "fragment"
    }
   },
   "outputs": [
    {
     "data": {
      "text/plain": [
       "False"
      ]
     },
     "execution_count": 115,
     "metadata": {},
     "output_type": "execute_result"
    }
   ],
   "source": [
    "x is y # 그렇지만, 두 리스트가 참조하는 메모리(객체)는 다르다. "
   ]
  },
  {
   "cell_type": "markdown",
   "metadata": {
    "slideshow": {
     "slide_type": "subslide"
    }
   },
   "source": [
    "- 이런 논리를 응용하여, `y`에만 내용을 추가할 수 있다. `x`에는 영향을 주지 않은 상태로: "
   ]
  },
  {
   "cell_type": "code",
   "execution_count": 116,
   "metadata": {
    "slideshow": {
     "slide_type": "fragment"
    }
   },
   "outputs": [
    {
     "name": "stdout",
     "output_type": "stream",
     "text": [
      "[['pikachu'], [2, 99], [3, 'hi']]\n",
      "[['pikachu'], [2, 99], [3, 'hi'], 5]\n"
     ]
    }
   ],
   "source": [
    "y.append(5)     # 서로 다른 객체이므로 y에만 항목이 추가됨\n",
    "\n",
    "print(x)\n",
    "print(y)"
   ]
  },
  {
   "cell_type": "code",
   "execution_count": 117,
   "metadata": {
    "slideshow": {
     "slide_type": "fragment"
    }
   },
   "outputs": [
    {
     "data": {
      "text/plain": [
       "False"
      ]
     },
     "execution_count": 117,
     "metadata": {},
     "output_type": "execute_result"
    }
   ],
   "source": [
    "x == y          # 이제 내용도 달라졌음 "
   ]
  },
  {
   "cell_type": "markdown",
   "metadata": {
    "slideshow": {
     "slide_type": "subslide"
    }
   },
   "source": [
    "- 기이하게 보일테지만, 말이 되는 논리이다:\n",
    "\n",
    "|![그림 5. 내용은 같았지만, 서로 다른 객체인 두 리스트에서 한쪽에만 항목을 추가한 결과](https://user-images.githubusercontent.com/10287629/144739678-b9a9ba35-cfdf-4fcb-a323-56b79443b10f.png)<br>그림 5. 내용은 같았지만, 서로 다른 객체인 두 리스트에서 한쪽에만 항목을 추가한 결과 |\n",
    "|:---|\n"
   ]
  },
  {
   "cell_type": "markdown",
   "metadata": {
    "slideshow": {
     "slide_type": "subslide"
    }
   },
   "source": [
    "- 요약하자면, `copy`에 의한 내용 복사는 단지 첫 단계에만 적용된다.  \n",
    "- 모든 단계에서 내용을 복사하려면 `deepcopy()` 함수를 써야 한다:\n",
    "\n",
    "|![그림 6. deepcopy](https://user-images.githubusercontent.com/10287629/144739680-78c5dde5-9289-474e-9816-f9aed223f650.png)<br>그림 6. deepcopy() 함수로 복사한 결과 |\n",
    "|:---|\n"
   ]
  },
  {
   "cell_type": "code",
   "execution_count": 146,
   "metadata": {
    "jupyter": {
     "outputs_hidden": false
    },
    "slideshow": {
     "slide_type": "fragment"
    }
   },
   "outputs": [
    {
     "name": "stdout",
     "output_type": "stream",
     "text": [
      "[['pikachu'], [2, 99], [3, 'hi']]\n",
      "[[1], [2, 99], [3, 'hi']]\n"
     ]
    }
   ],
   "source": [
    "x = [[1], [2, 99], [3, \"hi\"]]\n",
    "\n",
    "y = copy.deepcopy(x)            # 깊은 복사로 모든 수준에서 참조가 아닌 값을 복사\n",
    "\n",
    "x[0][0] = \"pikachu\"             # 깊은 복사이므로 x와 y는 완전히 다른 객체\n",
    "print(x)\n",
    "print(y)"
   ]
  },
  {
   "cell_type": "markdown",
   "metadata": {
    "slideshow": {
     "slide_type": "subslide"
    }
   },
   "source": [
    "- 흥미를 느낀다면, 파이썬의 놀라운 동작 전모를 [WTF Python 한글 번역본](https://github.com/satwikkansal/wtfpython/blob/master/README.md)에서 파악할 수 있다! \n",
    "- 지금까지 `데이터 과학을 위한 파이썬 프로그래밍` 과정을 공부하였다. \n",
    "  - 실습 환경 준비\n",
    "  - 파이썬 자료형\n",
    "  - 제어구조와 함수\n",
    "  - 문서화, 테스트 및 클래스\n",
    "  - 스타일, 스크립트 및 라이브러리\n",
    "- 이제 파이썬 공부를 마쳤으니, `데이터 분석` 과정으로 전진하시기 바란다. \n",
    "  - 넘파이\n",
    "  - 판다스\n",
    "  - 데이터 정제\n",
    "  - 데이터 분석\n",
    "  - 데이터 시각화\n",
    "  - ...\n",
    "- \"배움에는 끝이 없다!\"는 말로 파이썬 기초 공부를 마무리 하고 싶다."
   ]
  }
 ],
 "metadata": {
  "celltoolbar": "Slideshow",
  "interpreter": {
   "hash": "6407b87c2d96350ceea2422ba828a2f6c03b3557c06aa8fa9ff406e31dc3ef4f"
  },
  "kernelspec": {
   "display_name": "Python 3 (ipykernel)",
   "language": "python",
   "name": "python3"
  },
  "language_info": {
   "codemirror_mode": {
    "name": "ipython",
    "version": 3
   },
   "file_extension": ".py",
   "mimetype": "text/x-python",
   "name": "python",
   "nbconvert_exporter": "python",
   "pygments_lexer": "ipython3",
   "version": "3.8.11"
  },
  "latex_envs": {
   "LaTeX_envs_menu_present": true,
   "autoclose": false,
   "autocomplete": true,
   "bibliofile": "biblio.bib",
   "cite_by": "apalike",
   "current_citInitial": 1,
   "eqLabelWithNumbers": true,
   "eqNumInitial": 1,
   "hotkeys": {
    "equation": "Ctrl-E",
    "itemize": "Ctrl-I"
   },
   "labels_anchors": false,
   "latex_user_defs": false,
   "report_style_numbering": false,
   "user_envs_cfg": false
  },
  "toc": {
   "base_numbering": 1,
   "nav_menu": {},
   "number_sections": false,
   "sideBar": true,
   "skip_h1_title": true,
   "title_cell": "개요",
   "title_sidebar": "목차",
   "toc_cell": false,
   "toc_position": {
    "height": "calc(100% - 180px)",
    "left": "10px",
    "top": "150px",
    "width": "165px"
   },
   "toc_section_display": true,
   "toc_window_display": true
  },
  "varInspector": {
   "cols": {
    "lenName": 16,
    "lenType": 16,
    "lenVar": 40
   },
   "kernels_config": {
    "python": {
     "delete_cmd_postfix": "",
     "delete_cmd_prefix": "del ",
     "library": "var_list.py",
     "varRefreshCmd": "print(var_dic_list())"
    },
    "r": {
     "delete_cmd_postfix": ") ",
     "delete_cmd_prefix": "rm(",
     "library": "var_list.r",
     "varRefreshCmd": "cat(var_dic_list()) "
    }
   },
   "types_to_exclude": [
    "module",
    "function",
    "builtin_function_or_method",
    "instance",
    "_Feature"
   ],
   "window_display": false
  }
 },
 "nbformat": 4,
 "nbformat_minor": 4
}
