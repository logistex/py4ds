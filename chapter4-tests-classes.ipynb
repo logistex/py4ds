{
 "cells": [
  {
   "cell_type": "markdown",
   "metadata": {
    "slideshow": {
     "slide_type": "slide"
    }
   },
   "source": [
    "![14_class](https://user-images.githubusercontent.com/10287629/144736791-035a7e3a-598b-4bc4-9242-c0c138727497.png)\n",
    "\n",
    "<div style=\"page-break-after: always;\"></div> "
   ]
  },
  {
   "cell_type": "markdown",
   "metadata": {
    "slideshow": {
     "slide_type": "slide"
    }
   },
   "source": [
    "<h1>학습 목표<span class=\"tocSkip\"></span></h1>"
   ]
  },
  {
   "cell_type": "markdown",
   "metadata": {
    "slideshow": {
     "slide_type": "fragment"
    }
   },
   "source": [
    "- 함수 문서화를 수행할 수 있다. \n",
    "- 함수 테스트 케이스를 작성하고, 검증할 수 있다. \n",
    "- 파이썬 코드 오류를 교정할 수 있다.  \n",
    "- 클래스와 함수의 차이점을 이해한다. \n",
    "- 클래스를 작성할 수 있다. \n",
    "- 클래스의 속성과 메소드를 이해한다. \n",
    "- 인스턴스 속성과 클래스 속성을 구별할 수 있다. \n",
    "- 메소드, 클래스 메소드 및 정적 메소드를 구별할 수 있다. \n",
    "- 파이썬 클래스에 대한 상속을 이해하고 구현할 수 있다. \n",
    "\n",
    "<div style=\"page-break-after: always;\"></div> "
   ]
  },
  {
   "cell_type": "markdown",
   "metadata": {
    "slideshow": {
     "slide_type": "slide"
    }
   },
   "source": [
    "## 1. 문서화 문자열"
   ]
  },
  {
   "cell_type": "markdown",
   "metadata": {
    "slideshow": {
     "slide_type": "fragment"
    }
   },
   "source": [
    "- 문서화 문자열(docstring)은 문서화를 위해 사용하는 특별한 문자열이다. \n",
    "- 좋은 함수 작성 방법과 관련하여 아직까지 해결하지 못한 문제가 있다:  \n",
    "  \"4. 코드가 어떤 작업을 수행하는지 직관적으로 이해하기 어렵다.\"\n",
    "- 이 문제는 \"docstrings\"라는 함수 문서화로 해결 가능하다.  \n",
    "- [docstring](https://www.python.org/dev/peps/pep-0257/)은 함수를 정의하는 코드에서 `def` 행 바로 밑에   \n",
    "  **따옴표 3 개**(`\"\"\"`)로 둘러싸는 문자열로  \n",
    "  함수에 관한 설명을 작성하는 부분을 의미한다. \n",
    "- 문서화 문자열은 함수 뿐만이 아니라  \n",
    "  모듈, 클래스 및 클래스 내부 메소드에도 작성하기를 권장한다. "
   ]
  },
  {
   "cell_type": "code",
   "execution_count": 1,
   "metadata": {
    "slideshow": {
     "slide_type": "fragment"
    }
   },
   "outputs": [],
   "source": [
    "def make_palindrome(string):\n",
    "    \"\"\"\n",
    "    인자로 전달된 문자열을 (앞뒤 어느 쪽에서 읽어도 같은 말이 되는 어구인) 회문으로 변환하여 반환한다. \n",
    "    원 문자열 뒤에 뒤집어진 문자열을 연결하여 반환한다.\n",
    "    \"\"\"\n",
    "    \n",
    "    return string + string[::-1]"
   ]
  },
  {
   "cell_type": "markdown",
   "metadata": {
    "slideshow": {
     "slide_type": "subslide"
    }
   },
   "source": [
    "- 파이썬에서는 `help()` 함수로 다른 함수의 `docstring`을 확인할 수 있다. "
   ]
  },
  {
   "cell_type": "code",
   "execution_count": 2,
   "metadata": {
    "slideshow": {
     "slide_type": "fragment"
    }
   },
   "outputs": [
    {
     "name": "stdout",
     "output_type": "stream",
     "text": [
      "Help on function make_palindrome in module __main__:\n",
      "\n",
      "make_palindrome(string)\n",
      "    인자로 전달된 문자열을 (앞뒤 어느 쪽에서 읽어도 같은 말이 되는 어구인) 회문으로 변환하여 반환한다. \n",
      "    원 문자열 뒤에 뒤집어진 문자열을 연결하여 반환한다.\n",
      "\n"
     ]
    }
   ],
   "source": [
    "help(make_palindrome)"
   ]
  },
  {
   "cell_type": "markdown",
   "metadata": {
    "slideshow": {
     "slide_type": "subslide"
    }
   },
   "source": [
    "- `IPython/Jupyter`에서는 `?`를 써서   \n",
    "  모든 함수의 문서화 문자열을 확인할 수 있다. "
   ]
  },
  {
   "cell_type": "code",
   "execution_count": 3,
   "metadata": {
    "slideshow": {
     "slide_type": "fragment"
    }
   },
   "outputs": [],
   "source": [
    "make_palindrome?"
   ]
  },
  {
   "cell_type": "markdown",
   "metadata": {
    "slideshow": {
     "slide_type": "subslide"
    }
   },
   "source": [
    "- 그렇지만 이보다 더 쉬운 방법은,  \n",
    "  커서를 함수 호출문에 두고 `shift+tab` 키를 눌러서 docstring을 열람하는 것이다. "
   ]
  },
  {
   "cell_type": "code",
   "execution_count": 4,
   "metadata": {
    "slideshow": {
     "slide_type": "fragment"
    }
   },
   "outputs": [],
   "source": [
    "# make_palindrome('love')  # 이 행의 주석 표시를 없애고, 함수 호출문에서 shift+tab 키를 눌러보라\n",
    "\n",
    "# 함수의 signature 및 docstring을 보여줄 것이다. "
   ]
  },
  {
   "cell_type": "markdown",
   "metadata": {
    "slideshow": {
     "slide_type": "fragment"
    }
   },
   "source": [
    "- 문서화 문자열 공부를 문서화 문자열 구조부터 시작하자. \n",
    "\n",
    "<div style=\"page-break-after: always;\"></div> "
   ]
  },
  {
   "cell_type": "markdown",
   "metadata": {
    "slideshow": {
     "slide_type": "slide"
    }
   },
   "source": [
    "### 1.1 문서화 문자열의 구조\n",
    "\n",
    "- 파이썬 docstring 관례는 공식문서 [PEP 257 - Docstring Conventions](https://www.python.org/dev/peps/pep-0257/)를 참고하라.   \n",
    "  1. **Single-line**: 간단한 함수라면, 함수를 설명하는 한 줄로도 충분하다.\n",
    "  2. **reST style**: [여기](https://www.python.org/dev/peps/pep-0287/)를 보라.\n",
    "  3. **NumPy style**: [여기](https://sphinxcontrib-napoleon.readthedocs.io/en/latest/example_numpy.html)를 보라. (추천하는 스타일!)\n",
    "  4. **Google style**: [여기](https://sphinxcontrib-napoleon.readthedocs.io/en/latest/example_google.html#example-google)를 보라.\n",
    "\n",
    "- 한글로 된 자료도 많다.\n",
    "  - [파이썬-기본을...](https://wikidocs.net/16050)\n",
    "  - [한글 버전 docstring 자료](https://medium.com/@kkweon/파이썬-doc-스타일-가이드에-대한-정리-b6d27cd0a27c)\n",
    "  - [python docstring 가이드])(https://velog.io/@hamdoe/python-docstring-가이드)"
   ]
  },
  {
   "cell_type": "markdown",
   "metadata": {
    "slideshow": {
     "slide_type": "subslide"
    }
   },
   "source": [
    "- 넘파이(NumPy) 스타일:"
   ]
  },
  {
   "cell_type": "code",
   "execution_count": 5,
   "metadata": {
    "slideshow": {
     "slide_type": "fragment"
    }
   },
   "outputs": [],
   "source": [
    "def make_palindrome(string):\n",
    "    \"\"\"인자로 전달된 문자열을 회문(앞뒤 어느 쪽에서 읽어도 같은 말이 되는 어구)으로 변환하여 반환한다.\n",
    "    \n",
    "    이를 위하여 원 문자열 뒤에 해당 문자열의 뒤집어진 버전을 연결한다.\n",
    "    \n",
    "    매개변수\n",
    "    ----------\n",
    "    string : str\n",
    "        회문으로 변환할 원문 문자열.\n",
    "        \n",
    "    반환값\n",
    "    -------\n",
    "    str\n",
    "        원 문자열 뒤에 해당 문자열의 뒤집어진 버전을 연결한 문자열.\n",
    "        \n",
    "    예제\n",
    "    --------\n",
    "    >>> make_palindrome('tom')\n",
    "    'tommot'\n",
    "    \"\"\"\n",
    "    \n",
    "    return string + string[::-1]"
   ]
  },
  {
   "cell_type": "code",
   "execution_count": 6,
   "metadata": {
    "slideshow": {
     "slide_type": "fragment"
    }
   },
   "outputs": [],
   "source": [
    "make_palindrome?"
   ]
  },
  {
   "cell_type": "markdown",
   "metadata": {
    "slideshow": {
     "slide_type": "fragment"
    }
   },
   "source": [
    "- 문서화 문자열의 구조에 이어서, 가변 인자 함수의 문서화 문자열 공부로 진행하자. \n",
    "\n",
    "<div style=\"page-break-after: always;\"></div> "
   ]
  },
  {
   "cell_type": "markdown",
   "metadata": {
    "slideshow": {
     "slide_type": "slide"
    }
   },
   "source": [
    "### 1.2 선택적 인자를 가지는 함수의 문서화 문자열\n",
    "\n",
    "- 기본값을 지정할 수 있는 함수에 대해서는 다음과 같이 docstring을 작성한다. "
   ]
  },
  {
   "cell_type": "code",
   "execution_count": 7,
   "metadata": {
    "slideshow": {
     "slide_type": "fragment"
    }
   },
   "outputs": [],
   "source": [
    "# scipy style\n",
    "def repeat_string(s, n=2):\n",
    "    \"\"\"\n",
    "    Repeat the string s, n times.\n",
    "    \n",
    "    Parameters\n",
    "    ----------\n",
    "    s : str \n",
    "        the string\n",
    "    n : int, optional\n",
    "        the number of times, by default = 2\n",
    "        \n",
    "    Returns\n",
    "    -------\n",
    "    str\n",
    "        the repeated string\n",
    "        \n",
    "    Examples\n",
    "    --------\n",
    "    >>> repeat_string(\"Blah\", 3)\n",
    "    \"BlahBlahBlah\"\n",
    "    \"\"\"\n",
    "    return s * n"
   ]
  },
  {
   "cell_type": "markdown",
   "metadata": {
    "slideshow": {
     "slide_type": "subslide"
    }
   },
   "source": [
    "- 선택적 인자를 가지는,  \n",
    "  (다른 말로는) 가변적 인자를 가지는,  \n",
    "  (또 다른 말로는) 기본값이 지정된 인자를 가지는 \n",
    "  함수의 문서화 문자열에서 중요한 사항은;\n",
    "  - 선택적 인자를 명시하는 일이다. \n",
    "  - 문서화와 관련하여 자료형 힌트를 제공하는 방법을 살펴보자. \n",
    "\n",
    "<div style=\"page-break-after: always;\"></div> "
   ]
  },
  {
   "cell_type": "markdown",
   "metadata": {
    "slideshow": {
     "slide_type": "slide"
    }
   },
   "source": [
    "### 1.3 자료형 힌트 제공"
   ]
  },
  {
   "cell_type": "markdown",
   "metadata": {
    "slideshow": {
     "slide_type": "fragment"
    }
   },
   "source": [
    "- 자료형 힌트 제공 기능은 함수 인자의 자료형을 알려주는 기능이며,  \n",
    "  공식 문서 [Type hinting](https://docs.python.org/3/library/typing.html)에서 확인할 수 있다. \n",
    "    - `argument: dtype` 문법으로 함수 인자의 자료형을 표시할 수 있다. \n",
    "    - `def func() -> dtype` 문법으로 함수 반환값의 자료형을 표시할 수 있다. \n",
    "- 예제를 살펴보자:"
   ]
  },
  {
   "cell_type": "code",
   "execution_count": 8,
   "metadata": {
    "slideshow": {
     "slide_type": "subslide"
    }
   },
   "outputs": [],
   "source": [
    "# NumPy style\n",
    "def repeat_string(s: str, n: int=2) -> str:  # <---- 자료형 힌트 제공 기능\n",
    "    \"\"\"\n",
    "    Repeat the string s, n times.\n",
    "    \n",
    "    Parameters\n",
    "    ----------\n",
    "    s : str \n",
    "        the string\n",
    "    n : int, optional (default = 2)\n",
    "        the number of times\n",
    "        \n",
    "    Returns\n",
    "    -------\n",
    "    str\n",
    "        the repeated string\n",
    "        \n",
    "    Examples\n",
    "    --------\n",
    "    >>> repeat_string(\"Blah\", 3)\n",
    "    \"BlahBlahBlah\"\n",
    "    \"\"\"\n",
    "    return s * n"
   ]
  },
  {
   "cell_type": "code",
   "execution_count": 9,
   "metadata": {
    "slideshow": {
     "slide_type": "fragment"
    }
   },
   "outputs": [],
   "source": [
    "repeat_string?"
   ]
  },
  {
   "cell_type": "markdown",
   "metadata": {
    "slideshow": {
     "slide_type": "subslide"
    }
   },
   "source": [
    "- 자료형 힌트 제공 기능을 구현하면,  \n",
    "  코드의 사용자 또는 IDE가 자료형을 인식하게 도와주고 버그를 식별할 수 있게 해준다.  \n",
    "  이는 또 다른 차원의 문서화라고 할 수 있다. \n",
    "- 이렇게 한다고 해서 여러분이 문서화한 자료형을 강제하는 것은 아니다.  \n",
    "  방금 살펴본 `repeat_string` 함수의 `s` 인자에 대해서  \n",
    "  내가 원한다면 `dict`를 전달할 수도 있다(물론 `TypeError` 오류가 발생하겠지만...):"
   ]
  },
  {
   "cell_type": "code",
   "execution_count": 10,
   "metadata": {
    "slideshow": {
     "slide_type": "fragment"
    }
   },
   "outputs": [
    {
     "ename": "TypeError",
     "evalue": "unsupported operand type(s) for *: 'dict' and 'int'",
     "output_type": "error",
     "traceback": [
      "\u001b[1;31m---------------------------------------------------------------------------\u001b[0m",
      "\u001b[1;31mTypeError\u001b[0m                                 Traceback (most recent call last)",
      "\u001b[1;32m~\\AppData\\Local\\Temp/ipykernel_25236/2063406286.py\u001b[0m in \u001b[0;36m<module>\u001b[1;34m\u001b[0m\n\u001b[1;32m----> 1\u001b[1;33m \u001b[0mrepeat_string\u001b[0m\u001b[1;33m(\u001b[0m\u001b[1;33m{\u001b[0m\u001b[1;34m'key_1'\u001b[0m\u001b[1;33m:\u001b[0m \u001b[1;36m1\u001b[0m\u001b[1;33m,\u001b[0m \u001b[1;34m'key_2'\u001b[0m\u001b[1;33m:\u001b[0m \u001b[1;36m2\u001b[0m\u001b[1;33m}\u001b[0m\u001b[1;33m)\u001b[0m\u001b[1;33m\u001b[0m\u001b[1;33m\u001b[0m\u001b[0m\n\u001b[0m",
      "\u001b[1;32m~\\AppData\\Local\\Temp/ipykernel_25236/3750704142.py\u001b[0m in \u001b[0;36mrepeat_string\u001b[1;34m(s, n)\u001b[0m\n\u001b[0;32m     21\u001b[0m     \u001b[1;34m\"BlahBlahBlah\"\u001b[0m\u001b[1;33m\u001b[0m\u001b[1;33m\u001b[0m\u001b[0m\n\u001b[0;32m     22\u001b[0m     \"\"\"\n\u001b[1;32m---> 23\u001b[1;33m     \u001b[1;32mreturn\u001b[0m \u001b[0ms\u001b[0m \u001b[1;33m*\u001b[0m \u001b[0mn\u001b[0m\u001b[1;33m\u001b[0m\u001b[1;33m\u001b[0m\u001b[0m\n\u001b[0m",
      "\u001b[1;31mTypeError\u001b[0m: unsupported operand type(s) for *: 'dict' and 'int'"
     ]
    }
   ],
   "source": [
    "repeat_string({'key_1': 1, 'key_2': 2})"
   ]
  },
  {
   "cell_type": "markdown",
   "metadata": {
    "slideshow": {
     "slide_type": "subslide"
    }
   },
   "source": [
    "- 물론 오류가 발생하여도 그 책임은 코드 작성자에게 있는 것이지만 ...\n",
    "- 대부분의 IDE는 자료형 힌트 제공 기능을 활용할만큼 영리하며,  \n",
    "  만일 우리가 함수를 호출하면서 특정 인자에 정해진 자료형과 다른 자료형을 사용하면 경고를 준다. "
   ]
  },
  {
   "cell_type": "markdown",
   "metadata": {
    "slideshow": {
     "slide_type": "fragment"
    }
   },
   "source": [
    "|![그림 1. VScode에서 볼 수 있는 타입 힌트 제공 화면](https://user-images.githubusercontent.com/10287629/144739192-4de10bf3-5202-4d4c-b611-adcd75e7b41d.png)<br>그림 1. VScode에서 볼 수 있는 타입 힌트 제공 화면|\n",
    "|:---|"
   ]
  },
  {
   "cell_type": "markdown",
   "metadata": {
    "slideshow": {
     "slide_type": "fragment"
    }
   },
   "source": [
    "- 자료형 힌트 제공 공부를 마치고, 테스트 공부로 진행하자. \n",
    "\n",
    "<div style=\"page-break-after: always;\"></div> "
   ]
  },
  {
   "cell_type": "markdown",
   "metadata": {
    "slideshow": {
     "slide_type": "slide"
    }
   },
   "source": [
    "## 2. 테스트"
   ]
  },
  {
   "cell_type": "markdown",
   "metadata": {
    "slideshow": {
     "slide_type": "fragment"
    }
   },
   "source": [
    "- 지난 장에서는 함수를 공부하였다. \n",
    "  - 그런데 우리가 작성한 함수가  \n",
    "    우리가 기대했던 동작을 정확하게 수행한다는 것을  \n",
    "    어떻게 확신할 수 있을까?\n",
    "  - <b>단위 테스트(unit test)</b>는  \n",
    "    우리가 작성한 함수가   \n",
    "    우리가 기대한 동작을 정확하게 수행하는지  \n",
    "    검증하는 절차이다. \n",
    "  - 지금부터 개념을 간단히 소개한다. "
   ]
  },
  {
   "cell_type": "markdown",
   "metadata": {
    "slideshow": {
     "slide_type": "fragment"
    }
   },
   "source": [
    "- `assert` 문부터 시작하자. \n",
    "\n",
    "<div style=\"page-break-after: always;\"></div> "
   ]
  },
  {
   "cell_type": "markdown",
   "metadata": {
    "slideshow": {
     "slide_type": "subslide"
    }
   },
   "source": [
    "### 2.1 `assert` 문\n",
    "\n",
    "- `assert` 문은 우리 함수를 테스트하는 가장 보편적인 방법이다.\n",
    "  - 영어에서 'assert'는 '주장하다' 또는 '단정하다' 등의 뜻이다.   \n",
    "  - 만일 테스트한 조건이 `False`로 판정된다면, 우리 프로그램에 문제가 있는 것이다.\n",
    "  - 문법은 다음과 같다: \n",
    "    ```python\n",
    "    assert 표현식, \"표현식이 False이거나 오류 유발인 경우에 출력할 오류 메시지\"\n",
    "    ```"
   ]
  },
  {
   "cell_type": "code",
   "execution_count": 11,
   "metadata": {
    "slideshow": {
     "slide_type": "fragment"
    },
    "tags": [
     "raises-exception"
    ]
   },
   "outputs": [
    {
     "ename": "AssertionError",
     "evalue": "주장과 달리, 1과 2는 다르다!.",
     "output_type": "error",
     "traceback": [
      "\u001b[1;31m---------------------------------------------------------------------------\u001b[0m",
      "\u001b[1;31mAssertionError\u001b[0m                            Traceback (most recent call last)",
      "\u001b[1;32m~\\AppData\\Local\\Temp/ipykernel_25236/339529308.py\u001b[0m in \u001b[0;36m<module>\u001b[1;34m\u001b[0m\n\u001b[1;32m----> 1\u001b[1;33m \u001b[1;32massert\u001b[0m \u001b[1;36m1\u001b[0m \u001b[1;33m==\u001b[0m \u001b[1;36m2\u001b[0m\u001b[1;33m,\u001b[0m \u001b[1;34m\"주장과 달리, 1과 2는 다르다!.\"\u001b[0m\u001b[1;33m\u001b[0m\u001b[1;33m\u001b[0m\u001b[0m\n\u001b[0m",
      "\u001b[1;31mAssertionError\u001b[0m: 주장과 달리, 1과 2는 다르다!."
     ]
    }
   ],
   "source": [
    "assert 1 == 2, \"주장과 달리, 1과 2는 다르다!.\""
   ]
  },
  {
   "cell_type": "markdown",
   "metadata": {
    "slideshow": {
     "slide_type": "subslide"
    }
   },
   "source": [
    "- 두 숫자가 근사적으로 동등하다고 주장해야 할 때도 있다.  \n",
    "  컴퓨터에서 (소숫점을 가진) 실수에 대한 연산의 한계로 인하여,  \n",
    "  우리는 같은 값이라고 생각하지만, 그렇지 않은 경우가 있다:"
   ]
  },
  {
   "cell_type": "code",
   "execution_count": 12,
   "metadata": {
    "slideshow": {
     "slide_type": "fragment"
    },
    "tags": [
     "raises-exception"
    ]
   },
   "outputs": [
    {
     "ename": "AssertionError",
     "evalue": "주장과 달리, 같지 않다!",
     "output_type": "error",
     "traceback": [
      "\u001b[1;31m---------------------------------------------------------------------------\u001b[0m",
      "\u001b[1;31mAssertionError\u001b[0m                            Traceback (most recent call last)",
      "\u001b[1;32m~\\AppData\\Local\\Temp/ipykernel_25236/286787945.py\u001b[0m in \u001b[0;36m<module>\u001b[1;34m\u001b[0m\n\u001b[1;32m----> 1\u001b[1;33m \u001b[1;32massert\u001b[0m \u001b[1;36m0.1\u001b[0m \u001b[1;33m+\u001b[0m \u001b[1;36m0.2\u001b[0m \u001b[1;33m==\u001b[0m \u001b[1;36m0.3\u001b[0m\u001b[1;33m,\u001b[0m \u001b[1;34m\"주장과 달리, 같지 않다!\"\u001b[0m\u001b[1;33m\u001b[0m\u001b[1;33m\u001b[0m\u001b[0m\n\u001b[0m",
      "\u001b[1;31mAssertionError\u001b[0m: 주장과 달리, 같지 않다!"
     ]
    }
   ],
   "source": [
    "assert 0.1 + 0.2 == 0.3, \"주장과 달리, 같지 않다!\""
   ]
  },
  {
   "cell_type": "code",
   "execution_count": 13,
   "metadata": {
    "slideshow": {
     "slide_type": "fragment"
    }
   },
   "outputs": [],
   "source": [
    "import math  # 모듈을 수입하는 방법은 다음 장에서 공부할 예정\n",
    "assert math.isclose(0.1 + 0.2, 0.3), \"주장과 달리, 근사하지 않다!\"  # 오류가 발생하지 않으면, 출력이 없고, 문제가 없다는 의미!"
   ]
  },
  {
   "cell_type": "markdown",
   "metadata": {
    "slideshow": {
     "slide_type": "subslide"
    }
   },
   "source": [
    "- 어떤 문장이든지 논리값으로 평가할 수 있다:"
   ]
  },
  {
   "cell_type": "code",
   "execution_count": 14,
   "metadata": {
    "scrolled": true,
    "slideshow": {
     "slide_type": "fragment"
    },
    "tags": [
     "raises-exception"
    ]
   },
   "outputs": [
    {
     "ename": "AssertionError",
     "evalue": "주장과 달리, 리스트에 포함되지 않았다!",
     "output_type": "error",
     "traceback": [
      "\u001b[1;31m---------------------------------------------------------------------------\u001b[0m",
      "\u001b[1;31mAssertionError\u001b[0m                            Traceback (most recent call last)",
      "\u001b[1;32m~\\AppData\\Local\\Temp/ipykernel_25236/3317484684.py\u001b[0m in \u001b[0;36m<module>\u001b[1;34m\u001b[0m\n\u001b[1;32m----> 1\u001b[1;33m \u001b[1;32massert\u001b[0m \u001b[1;34m'varada'\u001b[0m \u001b[1;32min\u001b[0m \u001b[1;33m[\u001b[0m\u001b[1;34m'mike'\u001b[0m\u001b[1;33m,\u001b[0m \u001b[1;34m'tom'\u001b[0m\u001b[1;33m,\u001b[0m \u001b[1;34m'tiffany'\u001b[0m\u001b[1;33m]\u001b[0m\u001b[1;33m,\u001b[0m \u001b[1;34m\"주장과 달리, 리스트에 포함되지 않았다!\"\u001b[0m\u001b[1;33m\u001b[0m\u001b[1;33m\u001b[0m\u001b[0m\n\u001b[0m",
      "\u001b[1;31mAssertionError\u001b[0m: 주장과 달리, 리스트에 포함되지 않았다!"
     ]
    }
   ],
   "source": [
    "assert 'varada' in ['mike', 'tom', 'tiffany'], \"주장과 달리, 리스트에 포함되지 않았다!\""
   ]
  },
  {
   "cell_type": "markdown",
   "metadata": {
    "slideshow": {
     "slide_type": "fragment"
    }
   },
   "source": [
    "- `assert` 문 공부를 마치고, 테스트 주도 개발 공부로 진행하자. \n",
    "\n",
    "<div style=\"page-break-after: always;\"></div> "
   ]
  },
  {
   "cell_type": "markdown",
   "metadata": {
    "slideshow": {
     "slide_type": "subslide"
    }
   },
   "source": [
    "### 2.2 테스트 주도 개발"
   ]
  },
  {
   "cell_type": "markdown",
   "metadata": {
    "slideshow": {
     "slide_type": "fragment"
    }
   },
   "source": [
    "- 테스트 주도 개발(Test Driven Development, TDD)이란  \n",
    "  코드를 작성하기 전에, 먼저 테스트부터 작성하는 방식이다.\n",
    "    - 이 말은 상식에 어긋나는 것처럼 들린다.  \n",
    "      \"코드 작성을 완료해야, 테스트를 작성할 수 있는 것이 아닐까?\"\n",
    "    - 그렇지만, 실제로 우리는 코드를 작성하기 전에 기대하는 것이 명확해야 한다.  \n",
    "      따라서 우리가 기대하는 바를 테스트로 먼저 작성하는 것이 맞다.\n"
   ]
  },
  {
   "cell_type": "markdown",
   "metadata": {
    "slideshow": {
     "slide_type": "fragment"
    }
   },
   "source": [
    "- 테스트 주도 개발이 바람직한 이유는:\n",
    "    - 어떤 코드를 작성해야 하는지 더 잘 이해하게 된다. \n",
    "    - 시간이 오래 걸리는 디버깅 작업으로 일을 망쳐버리는 상황을 방지한다. \n",
    "    - 작고 점진적인 코드 개선과 추가에 집중함으로써,  \n",
    "      작업 흐름을 관리 가능한 상태로 유지할 수 있다.  "
   ]
  },
  {
   "cell_type": "markdown",
   "metadata": {
    "slideshow": {
     "slide_type": "subslide"
    }
   },
   "source": [
    "- 테스트 주도 개발은 다음과 같이 진행한다:\n",
    "    1. 스텁(stub)을 작성한다: \n",
    "       스텁은 껍데기 함수라고 할 수 있는데,  \n",
    "       아무런 기능도 수행하지 않지만,  \n",
    "       모든 입력 매개변수를 받아들이고,  \n",
    "       정확한 자료형으로 반환하는 함수이다.  \n",
    "    2. 설계 사양을 만족하는 테스트를 작성한다. \n",
    "    3. 프로그램에 대한 개요를 의사코드(pseudo-code)로 작성한다. \n",
    "    4. 점진적으로 코드를 완성하고, 자주 테스트한다. \n",
    "    5. 문서화 작업을 수행한다. \n",
    "    \n",
    "- 테스트와 관련한 마지막 주제로서,  \n",
    "  돌진 대 탐색 전법에 대해서 공부해 보자. \n",
    "\n",
    "<div style=\"page-break-after: always;\"></div> "
   ]
  },
  {
   "cell_type": "markdown",
   "metadata": {
    "slideshow": {
     "slide_type": "subslide"
    }
   },
   "source": [
    "### 2.3 EAFP vs LBYL"
   ]
  },
  {
   "cell_type": "markdown",
   "metadata": {
    "slideshow": {
     "slide_type": "fragment"
    }
   },
   "source": [
    "- EAFP 및 LBYL 철학은 함수 설계 및 테스팅과 관련된 두 종류의 상반된 접근 방식이다.  \n",
    "  - EAFP \n",
    "    - \"Easier to ask for fogiveness than permission\"  \n",
    "    - \"허락을 받기보다는 (일단 저질러 놓고) 용서를 구하자\"\n",
    "    - \"일단 돌진 전법\"\n",
    "    - (고민하는 대신에) 일단 실행하고,  \n",
    "      문제가 있다면 오류를 잡아채서 예외처리를 진행하라.\n",
    "  - LBYL \n",
    "    - \"Look before you leep\" \n",
    "    - \"도약하기 전에 살펴보라\"\n",
    "    - \"일단 탐색 전법\"\n",
    "    - 실제로 해보기 전에 할 수 있는지 검토부터 하라.\n",
    "  - 두 접근 방식은 코드 작성에 관한 상반된 철학이다. 예제를 보자:"
   ]
  },
  {
   "cell_type": "code",
   "execution_count": 15,
   "metadata": {
    "slideshow": {
     "slide_type": "subslide"
    }
   },
   "outputs": [],
   "source": [
    "d = {'name': 'Doctor Python',\n",
    "     'superpower': 'programming',\n",
    "     'weakness': 'mountain dew',\n",
    "     'enemies': 10}"
   ]
  },
  {
   "cell_type": "code",
   "execution_count": 16,
   "metadata": {
    "slideshow": {
     "slide_type": "fragment"
    }
   },
   "outputs": [
    {
     "name": "stdout",
     "output_type": "stream",
     "text": [
      "오류가 발생했네요, 미안합니다!\n"
     ]
    }
   ],
   "source": [
    "# EAFP(일단 돌진 전법)\n",
    "try:\n",
    "    d['address']\n",
    "except KeyError:\n",
    "    print('오류가 발생했네요, 미안합니다!')"
   ]
  },
  {
   "cell_type": "code",
   "execution_count": 17,
   "metadata": {
    "slideshow": {
     "slide_type": "fragment"
    }
   },
   "outputs": [
    {
     "name": "stdout",
     "output_type": "stream",
     "text": [
      "돌진하기 전에 위험을 탐지했어요!\n"
     ]
    }
   ],
   "source": [
    "# LBYL(일단 탐색 전법)\n",
    "if 'address' in d.keys():\n",
    "    d['address']\n",
    "else:\n",
    "    print('돌진하기 전에 위험을 탐지했어요!')"
   ]
  },
  {
   "cell_type": "markdown",
   "metadata": {
    "slideshow": {
     "slide_type": "fragment"
    }
   },
   "source": [
    "- 파이썬에선 EAFP(일단 돌진) 방식을 선호하고 있지만,  \n",
    "  일률적으로 어느 방식만 옳다고 하기는 어려우며,  \n",
    "  상황에 따라 다르다고 할 수밖에 없다.\n",
    "- EAFP 및 LBYL 철학에 대한 한글 설명 자료는 [suwoni-codelab](https://suwoni-codelab.com/python%20기본/2018/03/06/Python-Basic-EAFP/)을 참고하라. "
   ]
  },
  {
   "cell_type": "markdown",
   "metadata": {
    "slideshow": {
     "slide_type": "fragment"
    }
   },
   "source": [
    "- 돌진/탐색 전략 공부를 마치고, 디버깅 공부로 진행하자. \n",
    "\n",
    "<div style=\"page-break-after: always;\"></div> "
   ]
  },
  {
   "cell_type": "markdown",
   "metadata": {
    "slideshow": {
     "slide_type": "slide"
    }
   },
   "source": [
    "## 3. 디버깅"
   ]
  },
  {
   "cell_type": "markdown",
   "metadata": {
    "slideshow": {
     "slide_type": "fragment"
    }
   },
   "source": [
    "- 만약 당신의 파이썬 코드가 제대로 작동하지 않는다면, 어떻게 해야 하는가?  \n",
    "  - 아마도 \"수작업 테스팅\" 또는 \"탐색적 테스팅\"을 진행할 것이다. \n",
    "  - 우리는 코드가 작동할 때까지 수정 작업을 반복하면서,  \n",
    "    의심가는 코드 주변에 문제가 드러나도록 출력문을 추가할 것이다.\n",
    "  - 예를 들어서, 아래 `random_walker` 코드<sup>주1</sup>를 살펴보자: \n",
    "\n",
    "주1. `random_walker` 코드는 프린스톤 대학교의 컴퓨터 과학 교육 과정  \n",
    "    &nbsp;&nbsp;&nbsp;&nbsp; COS 126 [Conditionals and Loops](http://www.cs.princeton.edu/courses/archive/fall10/cos126/assignments/loops.html)에서 허락을 받고 인용한 것이다. "
   ]
  },
  {
   "cell_type": "code",
   "execution_count": 18,
   "metadata": {
    "slideshow": {
     "slide_type": "subslide"
    },
    "tags": [
     "ignore"
    ]
   },
   "outputs": [
    {
     "name": "stdout",
     "output_type": "stream",
     "text": [
      "(0, 1)\n",
      "(0, 2)\n",
      "(-1, 3)\n",
      "(-1, 2)\n",
      "(-1, 1)\n"
     ]
    },
    {
     "data": {
      "text/plain": [
       "1.41"
      ]
     },
     "execution_count": 18,
     "metadata": {},
     "output_type": "execute_result"
    }
   ],
   "source": [
    "from random import random\n",
    "\n",
    "def random_walker(T):\n",
    "    \"\"\"\n",
    "    이차원(2D) 공간에서 T 회 랜덤 이동을 모사(simulate)하고, 매번 이동할 때마다 현재의 좌표를 출력한다. \n",
    "    원점으로부터 종점까지의 유클리드 거리를 반환한다.\n",
    "    \n",
    "    인자\n",
    "    ----------\n",
    "    T : int\n",
    "        전진할 걸음 수\n",
    "        \n",
    "    반환값\n",
    "    -------\n",
    "    float\n",
    "        원점으로부터 종점까지의 유클리드 거리를 소숫점 2자리까지 반올림하여 반환\n",
    "        \n",
    "    예제\n",
    "    --------\n",
    "    >>> random_walker(3)\n",
    "    (0, -1)\n",
    "    (0, 0)\n",
    "    (0, -1)\n",
    "    1.0\n",
    "    \"\"\"\n",
    "\n",
    "    x = 0\n",
    "    y = 0\n",
    "\n",
    "    for i in range(T):\n",
    "        rand = random()  # 0부터 1사이의 난수 발생, 그런데 아래 코드 논리는 좀 이상하네... (만일 rand == 0.1 라면)\n",
    "        if rand < 0.25:\n",
    "            x += 1\n",
    "        if rand < 0.5:\n",
    "            x -= 1\n",
    "        if rand < 0.75:\n",
    "            y += 1\n",
    "        else:\n",
    "            y -= 1\n",
    "        print((x, y))\n",
    "    return round((x**2 + y**2) ** 0.5, 2)  # 유클리드 거리를 반올림하여 반환\n",
    "\n",
    "random_walker(5)"
   ]
  },
  {
   "cell_type": "markdown",
   "metadata": {
    "slideshow": {
     "slide_type": "subslide"
    }
   },
   "source": [
    "- 위 코드를 다시 반복적으로 실행해보면,  \n",
    "  (x 값이 + 방향으로는 변화하지 못하여) 오른쪽으로는 전진이 이루어지지 않으며,  \n",
    "  y 값은 + 방향으로 변화할 가능성이 그렇지 않은 경우에 비하여 3 배 크다. \n",
    "- 이런 상황이라면, 어떤 일이 벌어지고 있는지 파악하기 위하여  \n",
    "  약간의 출력문을 추가해야 할 것이다:"
   ]
  },
  {
   "cell_type": "code",
   "execution_count": 19,
   "metadata": {
    "slideshow": {
     "slide_type": "subslide"
    },
    "tags": [
     "ignore"
    ]
   },
   "outputs": [
    {
     "name": "stdout",
     "output_type": "stream",
     "text": [
      "0.45663408806083605\n",
      "좌측으로 이동!\n",
      "(-1, 1)\n",
      "0.7553416278973213\n",
      "(-1, 0)\n",
      "0.5042260000719903\n",
      "(-1, 1)\n",
      "0.7292194271413136\n",
      "(-1, 2)\n",
      "0.8773644481052152\n",
      "(-1, 1)\n"
     ]
    },
    {
     "data": {
      "text/plain": [
       "1.41"
      ]
     },
     "execution_count": 19,
     "metadata": {},
     "output_type": "execute_result"
    }
   ],
   "source": [
    "def random_walker(T):\n",
    "    \"\"\"\n",
    "    이차원(2D) 공간에서 T 회 랜덤 이동을 모사(simulate)하고, 매번 이동할 때마다 현재의 좌표를 출력한다. \n",
    "    원점으로부터 종점까지의 유클리드 거리를 반환한다.\n",
    "    \n",
    "    인자\n",
    "    ----------\n",
    "    T : int\n",
    "        전진할 걸음 수\n",
    "        \n",
    "    반환값\n",
    "    -------\n",
    "    float\n",
    "        원점으로부터 종점까지의 유클리드 거리를 소숫점 2자리까지 반올림하여 반환\n",
    "        \n",
    "    예제\n",
    "    --------\n",
    "    >>> random_walker(3)\n",
    "    (0, -1)\n",
    "    (0, 0)\n",
    "    (0, -1)\n",
    "    1.0\n",
    "    \"\"\"\n",
    "\n",
    "    x = 0\n",
    "    y = 0\n",
    "\n",
    "    for i in range(T):\n",
    "        rand = random()\n",
    "        print(rand)\n",
    "        if rand < 0.25:\n",
    "            print(\"우측으로 이동!\")\n",
    "            x += 1\n",
    "        if rand < 0.5:\n",
    "            print(\"좌측으로 이동!\")\n",
    "            x -= 1\n",
    "        if rand < 0.75:\n",
    "            y += 1\n",
    "        else:\n",
    "            y -= 1\n",
    "        print((x, y))\n",
    "    return round((x**2 + y**2) ** 0.5, 2)\n",
    "\n",
    "random_walker(5)"
   ]
  },
  {
   "cell_type": "markdown",
   "metadata": {
    "slideshow": {
     "slide_type": "subslide"
    }
   },
   "source": [
    "- 오류의 원인을 알아냈는가?\n",
    "  - \"우측으로 이동!\"이 출력된 직후에는 곧바로  \n",
    "    \"좌측으로 이동!\"이 항상 함께 출력되고 있는데,  \n",
    "    이로 인하여 x 축 방향의 이동이 상쇄됨을 알 수 있다. \n",
    "  - 문제의 원인은 처음 두 `if` 문에 있는데,  \n",
    "    독립된 `if` 문을 두 번 연속해서 사용하지 말고  \n",
    "    두번째 `if` 문 대신에 `elif` 문을 썼어야 했다. \n",
    "    - `if`와 `elif`를 연결해서 사용하면, `if`와 `elif` 중에서 어느 한쪽만 처리된다.\n",
    "    - 독립된 `if`를 두 번 연속해서 사용하면, 두 `if`가 차례대로 모두 처리된다.  \n",
    "- 이 경우는 상당히 단순한 디버깅 케이스에 해당한다.   \n",
    "  - 출력문을 추가하는 방식이 항상 문제를 해결한다고 할 수 없다. \n",
    "  - 출력문을 추가하는 방식은 효율적이라 할 수 없다. "
   ]
  },
  {
   "cell_type": "markdown",
   "metadata": {
    "slideshow": {
     "slide_type": "subslide"
    }
   },
   "source": [
    "- 대신에 `pdb` 모듈을 사용할 수 있다. \n",
    "  - 파이썬 디버깅을 위한 `pdb` 모듈은 표준 라이브러리로 파이썬에 내장되어 제공된다. \n",
    "  - `breakpoint()`를 써서 코드 실행을 특정 지점에서 잠시 멈추게 할 수 있다.   \n",
    "  - 코드 실행이 잠시 멈춘 상태에서 변수 값을 확인할 수 있다. \n",
    "  - 한글판 파이썬 공식 문서의 [`pdb` 파이썬 디버거](https://docs.python.org/ko/3/library/pdb.html)를 참고하라. \n",
    "  - 영문판 [파이썬 디버거 치트시트](https://appletree.or.kr/quick_reference_cards/Python/Python%20Debugger%20Cheatsheet.pdf)를 참고하면 디버거 콘솔에서 대화형으로 작업할 수 있다. "
   ]
  },
  {
   "cell_type": "code",
   "execution_count": 20,
   "metadata": {
    "slideshow": {
     "slide_type": "subslide"
    },
    "tags": [
     "raises-exception"
    ]
   },
   "outputs": [
    {
     "name": "stdout",
     "output_type": "stream",
     "text": [
      "> \u001b[1;32mc:\\users\\logis\\appdata\\local\\temp\\ipykernel_25236\\1602201014.py\u001b[0m(33)\u001b[0;36mrandom_walker\u001b[1;34m()\u001b[0m\n",
      "\n",
      "ipdb> (x, y, rand)\n",
      "(0, 0, 0.3202914690031623)\n",
      "ipdb> c\n",
      "좌측으로 전진!\n",
      "(-1, 1)\n",
      "> \u001b[1;32mc:\\users\\logis\\appdata\\local\\temp\\ipykernel_25236\\1602201014.py\u001b[0m(32)\u001b[0;36mrandom_walker\u001b[1;34m()\u001b[0m\n",
      "\n",
      "ipdb> (x, y, rand)\n",
      "(-1, 1, 0.7681917605398352)\n",
      "ipdb> c\n",
      "(-1, 0)\n",
      "> \u001b[1;32mc:\\users\\logis\\appdata\\local\\temp\\ipykernel_25236\\1602201014.py\u001b[0m(33)\u001b[0;36mrandom_walker\u001b[1;34m()\u001b[0m\n",
      "\n",
      "ipdb> (x, y, rand)\n",
      "(-1, 0, 0.7199054622146172)\n",
      "ipdb> c\n",
      "(-1, 1)\n",
      "> \u001b[1;32mc:\\users\\logis\\appdata\\local\\temp\\ipykernel_25236\\1602201014.py\u001b[0m(32)\u001b[0;36mrandom_walker\u001b[1;34m()\u001b[0m\n",
      "\n",
      "ipdb> (x, y, rand)\n",
      "(-1, 1, 0.606475581609945)\n",
      "ipdb> c\n",
      "(-1, 2)\n",
      "> \u001b[1;32mc:\\users\\logis\\appdata\\local\\temp\\ipykernel_25236\\1602201014.py\u001b[0m(33)\u001b[0;36mrandom_walker\u001b[1;34m()\u001b[0m\n",
      "\n",
      "ipdb> (x, y, rand)\n",
      "(-1, 2, 0.2823203870190887)\n",
      "ipdb> c\n",
      "좌측으로 전진!\n",
      "(-2, 3)\n"
     ]
    },
    {
     "data": {
      "text/plain": [
       "3.61"
      ]
     },
     "execution_count": 20,
     "metadata": {},
     "output_type": "execute_result"
    }
   ],
   "source": [
    "from random import random\n",
    "\n",
    "def random_walker(T):\n",
    "    \"\"\"\n",
    "    이차원(2D) 공간에서 T 회 랜덤 이동을 모사(simulate)하고, 매번 이동할 때마다 현재의 좌표를 출력한다. \n",
    "    원점으로부터 종점까지의 유클리드 거리를 반환한다.\n",
    "    \n",
    "    인자\n",
    "    ----------\n",
    "    T : int\n",
    "        전진할 걸음 수\n",
    "        \n",
    "    반환값\n",
    "    -------\n",
    "    float\n",
    "        원점으로부터 종점까지의 유클리드 거리를 소숫점 2자리까지 반올림하여 반환\n",
    "        \n",
    "    예제\n",
    "    --------\n",
    "    >>> random_walker(3)\n",
    "    (0, -1)\n",
    "    (0, 0)\n",
    "    (0, -1)\n",
    "    1.0\n",
    "    \"\"\"\n",
    "\n",
    "    x = 0\n",
    "    y = 0\n",
    "\n",
    "    for i in range(T):\n",
    "        rand = random()\n",
    "        breakpoint()                # 중단점 !!!\n",
    "        if rand < 0.25:\n",
    "            print(\"우측으로 전진!\")\n",
    "            x += 1\n",
    "        if rand < 0.5:\n",
    "            print(\"좌측으로 전진!\")\n",
    "            x -= 1\n",
    "        if rand < 0.75:\n",
    "            y += 1\n",
    "        else:\n",
    "            y -= 1\n",
    "        print((x, y))\n",
    "    return round((x**2 + y**2) ** 0.5, 2)\n",
    "\n",
    "random_walker(5)"
   ]
  },
  {
   "cell_type": "markdown",
   "metadata": {
    "slideshow": {
     "slide_type": "subslide"
    }
   },
   "source": [
    "- 올바른 `if` 구문 코드는 다음과 같다:\n",
    "\n",
    "```python\n",
    "        # (상/하/좌/우) 4 방향 이동 확률이 동등하게! \n",
    "        if rand < 0.25:  \n",
    "            x += 1\n",
    "        elif rand < 0.5:\n",
    "            x -= 1\n",
    "        elif rand < 0.75:\n",
    "            y += 1\n",
    "        else:\n",
    "            y -= 1\n",
    "```"
   ]
  },
  {
   "cell_type": "code",
   "execution_count": 21,
   "metadata": {
    "slideshow": {
     "slide_type": "subslide"
    },
    "tags": [
     "ignore"
    ]
   },
   "outputs": [
    {
     "name": "stdout",
     "output_type": "stream",
     "text": [
      "(1, 0)\n",
      "(2, 0)\n",
      "(2, 1)\n",
      "(1, 1)\n",
      "(0, 1)\n"
     ]
    },
    {
     "data": {
      "text/plain": [
       "1.0"
      ]
     },
     "execution_count": 21,
     "metadata": {},
     "output_type": "execute_result"
    }
   ],
   "source": [
    "def random_walker(T):\n",
    "    \"\"\"\n",
    "    이차원(2D) 공간에서 T 회 랜덤 이동을 모사(simulate)하고, 매번 이동할 때마다 현재의 좌표를 출력한다. \n",
    "    원점으로부터 종점까지의 유클리드 거리를 반환한다.\n",
    "    \n",
    "    인자\n",
    "    ----------\n",
    "    T : int\n",
    "        전진할 걸음 수\n",
    "        \n",
    "    반환값\n",
    "    -------\n",
    "    float\n",
    "        원점으로부터 종점까지의 유클리드 거리를 소숫점 2자리까지 반올림하여 반환\n",
    "        \n",
    "    예제\n",
    "    --------\n",
    "    >>> random_walker(3)\n",
    "    (0, -1)\n",
    "    (0, 0)\n",
    "    (0, -1)\n",
    "    1.0\n",
    "    \"\"\"\n",
    "\n",
    "    x = 0\n",
    "    y = 0\n",
    "\n",
    "    for i in range(T):\n",
    "        rand = random()\n",
    "        if rand < 0.25:\n",
    "            x += 1\n",
    "        elif rand < 0.5:\n",
    "            x -= 1\n",
    "        elif rand < 0.75:\n",
    "            y += 1\n",
    "        else:\n",
    "            y -= 1\n",
    "        print((x, y))\n",
    "    return round((x**2 + y**2) ** 0.5, 2)\n",
    "\n",
    "random_walker(5)"
   ]
  },
  {
   "cell_type": "markdown",
   "metadata": {
    "slideshow": {
     "slide_type": "subslide"
    }
   },
   "source": [
    "- `pdb`는 표준적인 파이썬 디버거이다.  \n",
    "  - `pdb` 사용법에 관해서는 '예제로 배우는 파이썬 프로그래밍' 사이트에서 한글로 제공하는  \n",
    "    [Python 디버깅 (PDB)](http://pythonstudy.xyz/python/article/505-Python-디버깅-PDB)를 참고하라. \n",
    "  - 대부분의 파이썬 IDE 들은 고유한 디버깅 기능을 제공한다. \n",
    "  - 예를 들어서, '예제로 배우는 파이썬 프로그래밍' 사이트에서 한글로 제공하는  \n",
    "    [Visual Studio Code 사용](http://pythonstudy.xyz/python/article/503-Visual-Studio-Code-사용) 문서를 보면 VSCode 사용법에 관한 안내를 확인할 수 있다. \n",
    "  - 주피터에서도 매직 커맨드 `%debug`를 써서 디버깅이 가능한데,  \n",
    "    [jupyter notebook 에서 디버깅 (debug) 하기 #ipdb 명령어](https://stricky.tistory.com/93) 등의 자료를 참고하라. \n",
    "- 주피터랩(JupyterLab)이 제공하는 [변수 검사기](https://uwgdqo.tistory.com/366)라는 확장 기능도 유용한 도구이다. "
   ]
  },
  {
   "cell_type": "markdown",
   "metadata": {
    "slideshow": {
     "slide_type": "fragment"
    }
   },
   "source": [
    "- 디버깅 공부를 마치고, 클래스 공부로 진행하자. \n",
    "\n",
    "<div style=\"page-break-after: always;\"></div> "
   ]
  },
  {
   "cell_type": "markdown",
   "metadata": {
    "slideshow": {
     "slide_type": "slide"
    }
   },
   "source": [
    "## 4. 클래스"
   ]
  },
  {
   "cell_type": "markdown",
   "metadata": {
    "slideshow": {
     "slide_type": "fragment"
    }
   },
   "source": [
    "- 파이썬에 내장되어 있는 `dict`나 `list`와 같은 자료형은 익숙할 것이다. \n",
    "- 원한다면 우리 나름의 새로운 자료형을 생성할 수도 있다. \n",
    "    - 사용자가 정의한 자료형을 <b>클래스(class)</b>라고 한다. \n",
    "    - 클래스로부터 생성한 인스턴스(instance)를 <b>객체(object)</b>라고 한다.\n",
    "    - 클래스 대 객체(또는 인스턴스)의 관계는 다음과 같이 정리할 수 있다:\n",
    "    | 클래스 | 객체(또는 인스턴스) | 설명 |\n",
    "    |:-:|:-:|---|\n",
    "    | `int` | `i`| 정수형 변수 `i`는 `int` 클래스(자료형)의 객체(또는 인스턴스)이다. |\n",
    "    | `dict`|`d`| 사전형 변수 `d`는 `dict` 클래스(자료형)의 객체(또는 인스턴스)이다. |\n",
    "    | `Book`|`b`| `Book`형 변수 `b`는 `Book` 클래스(자료형)의 객체(또는 인스턴스)이다. | \n",
    "- 파이썬 한글 공식 문서의 [클래스](https://docs.python.org/ko/3/tutorial/classes.html)를 참고하라. \n",
    "- 파이썬 클래스에 관해서는 [점프 투 파이썬](https://wikidocs.net/28)을 참고하라. \n",
    "- 파이썬으로 객체지향프로그래밍(object-oriented programming, OOP)에 관해서는  \n",
    "  [파이썬 - OOP](http://schoolofweb.net/blog/posts/파이썬-oop-part-1-객체-지향-프로그래밍oop은-무엇인가-왜-사용하는가/)를 강력 추천한다."
   ]
  },
  {
   "cell_type": "code",
   "execution_count": 22,
   "metadata": {
    "slideshow": {
     "slide_type": "subslide"
    }
   },
   "outputs": [],
   "source": [
    "d = dict()  # dict 자료형으로부터 객체 d를 생성"
   ]
  },
  {
   "cell_type": "markdown",
   "metadata": {
    "slideshow": {
     "slide_type": "fragment"
    }
   },
   "source": [
    "- 여기서  \n",
    "  `dict`는 자료형(또는 클래스)이고,  \n",
    "  `d`는 `dict`의 객체(또는 인스턴스)이다. "
   ]
  },
  {
   "cell_type": "code",
   "execution_count": 23,
   "metadata": {
    "slideshow": {
     "slide_type": "fragment"
    }
   },
   "outputs": [
    {
     "data": {
      "text/plain": [
       "dict"
      ]
     },
     "execution_count": 23,
     "metadata": {},
     "output_type": "execute_result"
    }
   ],
   "source": [
    "type(d)  # d의 자료형은 dict"
   ]
  },
  {
   "cell_type": "code",
   "execution_count": 24,
   "metadata": {
    "slideshow": {
     "slide_type": "fragment"
    }
   },
   "outputs": [
    {
     "data": {
      "text/plain": [
       "type"
      ]
     },
     "execution_count": 24,
     "metadata": {},
     "output_type": "execute_result"
    }
   ],
   "source": [
    "type(dict)  # dict의 자료형은 type"
   ]
  },
  {
   "cell_type": "markdown",
   "metadata": {
    "slideshow": {
     "slide_type": "subslide"
    }
   },
   "source": [
    "- `d`는 `dict` 자료형의 인스턴스이다.  \n",
    "  `d`는 `dict` 자료형으로부터 생성되었다는 말이다.  \n",
    "  따라서: "
   ]
  },
  {
   "cell_type": "code",
   "execution_count": 25,
   "metadata": {
    "slideshow": {
     "slide_type": "fragment"
    }
   },
   "outputs": [
    {
     "data": {
      "text/plain": [
       "True"
      ]
     },
     "execution_count": 25,
     "metadata": {},
     "output_type": "execute_result"
    }
   ],
   "source": [
    "isinstance(d, dict)  # d가 dict의 인스턴스인지 확인"
   ]
  },
  {
   "cell_type": "markdown",
   "metadata": {
    "slideshow": {
     "slide_type": "fragment"
    }
   },
   "source": [
    "- 클래스 기본 개념을 마치고, 맞춤형 자료형의 필요성 공부로 진행하자. \n",
    "\n",
    "<div style=\"page-break-after: always;\"></div> "
   ]
  },
  {
   "cell_type": "markdown",
   "metadata": {
    "slideshow": {
     "slide_type": "subslide"
    }
   },
   "source": [
    "### 4.1 맞춤형 클래스(자료형)를 생성하는 이유\n",
    "\n",
    "- \"클래스는 데이터와 기능을 한 단위로 묶는 수단을 제공한다.\"라고  \n",
    "  [파이썬 공식 문서의 클래스 부분](https://docs.python.org/ko/3/tutorial/classes.html)의 첫 줄에 명시되어 있다. \n",
    "  - 데이터와 기능을 한 단위로 묶어야 사용하기 쉽고, 재사용하기도 좋다. \n",
    "  - 예제를 통하여 클래스의 효용을 배워보자.\n",
    "- UBC(브리티시 컬럼비아 대학, 캐나다)의 MDS(Master of Data Science) 과정에  \n",
    "  참여하고 있는 학생과 교수에 대한 정보를 저장하는 작업부터 시작한다.   \n",
    "- 우선 이름(first name)과 성(last name), 그리고 이메일 주소를 사전으로 준비하자. "
   ]
  },
  {
   "cell_type": "code",
   "execution_count": 26,
   "metadata": {
    "slideshow": {
     "slide_type": "subslide"
    }
   },
   "outputs": [],
   "source": [
    "mds_1 = {'first': 'Tom',\n",
    "         'last': 'Beuzen',\n",
    "         'email': 'tom.beuzen@mds.com'}"
   ]
  },
  {
   "cell_type": "markdown",
   "metadata": {
    "slideshow": {
     "slide_type": "fragment"
    }
   },
   "source": [
    "- 구성원의 이름과 성으로부터 전체 이름(full name)을 반환하는 함수를 만들어 보자:"
   ]
  },
  {
   "cell_type": "code",
   "execution_count": 27,
   "metadata": {
    "slideshow": {
     "slide_type": "fragment"
    }
   },
   "outputs": [],
   "source": [
    "def full_name(first, last):\n",
    "    \"\"\"first와 last를 단일 공백으로 연결(하여 반환)한다.\"\"\"\n",
    "    return f\"{first} {last}\""
   ]
  },
  {
   "cell_type": "code",
   "execution_count": 28,
   "metadata": {
    "slideshow": {
     "slide_type": "fragment"
    }
   },
   "outputs": [
    {
     "data": {
      "text/plain": [
       "'Tom Beuzen'"
      ]
     },
     "execution_count": 28,
     "metadata": {},
     "output_type": "execute_result"
    }
   ],
   "source": [
    "full_name(mds_1['first'], mds_1['last'])"
   ]
  },
  {
   "cell_type": "markdown",
   "metadata": {
    "slideshow": {
     "slide_type": "subslide"
    }
   },
   "source": [
    "- 새로운 구성원을 위해서는 동일한 코드를 복사하여 붙여넣기할 수 있다. "
   ]
  },
  {
   "cell_type": "code",
   "execution_count": 29,
   "metadata": {
    "slideshow": {
     "slide_type": "fragment"
    }
   },
   "outputs": [
    {
     "data": {
      "text/plain": [
       "'Tiffany Timbers'"
      ]
     },
     "execution_count": 29,
     "metadata": {},
     "output_type": "execute_result"
    }
   ],
   "source": [
    "mds_2 = {'first': 'Tiffany',\n",
    "         'last': 'Timbers',\n",
    "         'email': 'tiffany.timbers@mds.com'}\n",
    "full_name(mds_2['first'], mds_2['last'])"
   ]
  },
  {
   "cell_type": "markdown",
   "metadata": {},
   "source": [
    "- (맞춤형 자료형인) 클래스의 필요성을 살펴보았다. 이제 클래스 생성 방법을 공부하자. \n",
    "\n",
    "<div style=\"page-break-after: always;\"></div> "
   ]
  },
  {
   "cell_type": "markdown",
   "metadata": {
    "slideshow": {
     "slide_type": "subslide"
    }
   },
   "source": [
    "### 4.2 클래스 생성\n",
    "\n",
    "- 앞선 코드는 비효율적이다. \n",
    "  - 객체에 대하여 더 많은 데이터와 더 많은 함수를 포함시키고자 원한다면,  \n",
    "    복잡성이 더욱 가중될 것이라고 상상할 수 있다.\n",
    "  - 이제부터 클래스를 객체(지금은 MDS 구성원) 생성을 위한 <b>청사진</b>으로 생각하자.\n",
    "- **용어 정리**:\n",
    "  - 클래스 데이터 = \"속성(property)\" = 클래스 내부에서 정의한 **변수**\n",
    "  - 클래스 기능 = \"메소드(method)\" = 클래스 내부에서 정의한 **함수**\n",
    "- **문법 정리**:\n",
    "  - 클래스는 `class` 예약어에 이어지는 이름과 콜론(`:`)으로 정의한다:"
   ]
  },
  {
   "cell_type": "code",
   "execution_count": 30,
   "metadata": {
    "slideshow": {
     "slide_type": "fragment"
    }
   },
   "outputs": [],
   "source": [
    "class mds_member:\n",
    "    pass  # 일단 패스!"
   ]
  },
  {
   "cell_type": "code",
   "execution_count": 31,
   "metadata": {
    "slideshow": {
     "slide_type": "fragment"
    }
   },
   "outputs": [
    {
     "data": {
      "text/plain": [
       "__main__.mds_member"
      ]
     },
     "execution_count": 31,
     "metadata": {},
     "output_type": "execute_result"
    }
   ],
   "source": [
    "mds_1 = mds_member()    # 객체 생성 \n",
    "type(mds_1)             # 생성된 객체의 자료형 확인"
   ]
  },
  {
   "cell_type": "markdown",
   "metadata": {
    "slideshow": {
     "slide_type": "subslide"
    }
   },
   "source": [
    "- 클래스에 `__init__` 메소드를 추가하여  \n",
    "  새로운 객체를 생성할 때마다 (객체 생성 논리가) 자동적으로 실행되게 할 수 있다.  \n",
    "  - 이 `__init__` 메소드 내부에서 객체 생성에 필요한 초기화 작업을 수행할 수 있다.  \n",
    "  - 우리의 `mds_member` 클래스 내부에 `__init__` 메소드를 추가해보자. \n",
    "  - 여기서 `self`는 해당 클래스로부터 생성된 인스턴스,  \n",
    "    즉 방금 생성시킨 (바로 그) 객체를 참조하는 변수인데,  \n",
    "    클래스 메소드의 첫 인자로 <b>필수적으로</b> 지정되어야 한다."
   ]
  },
  {
   "cell_type": "code",
   "execution_count": 32,
   "metadata": {
    "slideshow": {
     "slide_type": "fragment"
    }
   },
   "outputs": [],
   "source": [
    "class mds_member:\n",
    "    \n",
    "    def __init__(self, first, last):\n",
    "        # 아래  'self.'으로 시작하는 변수들을 \"속성\"이라 함\n",
    "        self.first = first\n",
    "        self.last = last\n",
    "        self.email = first.lower() + \".\" + last.lower() + \"@mds.com\""
   ]
  },
  {
   "cell_type": "code",
   "execution_count": 33,
   "metadata": {
    "slideshow": {
     "slide_type": "fragment"
    }
   },
   "outputs": [
    {
     "name": "stdout",
     "output_type": "stream",
     "text": [
      "Varada\n",
      "Kolhatkar\n",
      "varada.kolhatkar@mds.com\n"
     ]
    }
   ],
   "source": [
    "mds_1 = mds_member('Varada', 'Kolhatkar')  # 객체 생성\n",
    "print(mds_1.first)                         # 객체 속성을 확인 (객체명.속성명)\n",
    "print(mds_1.last)\n",
    "print(mds_1.email)"
   ]
  },
  {
   "cell_type": "markdown",
   "metadata": {
    "slideshow": {
     "slide_type": "subslide"
    }
   },
   "source": [
    "- 전체 이름을 제공받기 위해서, 앞에서 정의했던 함수를 수정하지 않고 그대로 이용할 수도 있다:"
   ]
  },
  {
   "cell_type": "code",
   "execution_count": 34,
   "metadata": {
    "slideshow": {
     "slide_type": "fragment"
    }
   },
   "outputs": [
    {
     "data": {
      "text/plain": [
       "'Varada Kolhatkar'"
      ]
     },
     "execution_count": 34,
     "metadata": {},
     "output_type": "execute_result"
    }
   ],
   "source": [
    "full_name(mds_1.first, mds_1.last)"
   ]
  },
  {
   "cell_type": "markdown",
   "metadata": {
    "slideshow": {
     "slide_type": "subslide"
    }
   },
   "source": [
    "- 하지만 더 좋은 방법은  \n",
    "  이 함수를 클래스 `메소드`로 통합하는 것이다:"
   ]
  },
  {
   "cell_type": "code",
   "execution_count": 35,
   "metadata": {
    "slideshow": {
     "slide_type": "fragment"
    }
   },
   "outputs": [],
   "source": [
    "class mds_member:\n",
    "    \n",
    "    def __init__(self, first, last):\n",
    "        self.first = first\n",
    "        self.last = last\n",
    "        self.email = first.lower() + \".\" + last.lower() + \"@mds.com\"\n",
    "        \n",
    "    def full_name(self):\n",
    "        return f\"{self.first} {self.last}\""
   ]
  },
  {
   "cell_type": "code",
   "execution_count": 36,
   "metadata": {
    "slideshow": {
     "slide_type": "fragment"
    }
   },
   "outputs": [
    {
     "name": "stdout",
     "output_type": "stream",
     "text": [
      "Varada\n",
      "Kolhatkar\n",
      "varada.kolhatkar@mds.com\n",
      "Varada Kolhatkar\n"
     ]
    }
   ],
   "source": [
    "mds_1 = mds_member('Varada', 'Kolhatkar')  # 객체 생성\n",
    "print(mds_1.first)                         # 객체 속성에 접근 (객체명.속성명)\n",
    "print(mds_1.last)\n",
    "print(mds_1.email)\n",
    "print(mds_1.full_name())                   # 객체 메소드에 접근 (객체명.메소드명())"
   ]
  },
  {
   "cell_type": "markdown",
   "metadata": {
    "slideshow": {
     "slide_type": "fragment"
    }
   },
   "source": [
    "- `mds_1.last` 및 `mds_1.full_name()`에서 볼 수 있듯이,  \n",
    "  - 메소드를 호출할 때에는, 메소드 이름 뒤에 괄호를 쓰고 필요한 인자를 전달해야 한다. \n",
    "  - 메소드는 클래스 내부에 내장시킨 함수이다. \n",
    "  - 속성은 클래스 내부에 내장시킨 변수인데, 속성에 접근할 때에는 괄호를 쓰지 않는다. "
   ]
  },
  {
   "cell_type": "markdown",
   "metadata": {
    "slideshow": {
     "slide_type": "fragment"
    }
   },
   "source": [
    "- 클래스 생성 공부를 마치고, 인스턴스/클래스 속성 공부로 진행하자. \n",
    "\n",
    "<div style=\"page-break-after: always;\"></div> "
   ]
  },
  {
   "cell_type": "markdown",
   "metadata": {
    "slideshow": {
     "slide_type": "subslide"
    }
   },
   "source": [
    "### 4.3 인스턴스 속성 및 클래스 속성\n",
    "\n",
    "- `mds_1.first`와 같은 속성은 때때로 `인스턴스 속성(instance attribute)` 또는 객체 속성으로 불린다.  \n",
    "  인스턴스 속성은 생성된 특정 객체에 관련된 특정 객체의 전용 변수이다. \n",
    "- `클래스 속성(class attribute)`도 존재하는데,  \n",
    "  - 클래스 속성은 특정 클래스의 모든 객체에 공통적으로 관련된 변수이고,  \n",
    "    모든 객체가 공유하는 변수이다. \n",
    "  - 클래스 속성은 `__init__` 메소드 외부에서 정의된다. "
   ]
  },
  {
   "cell_type": "code",
   "execution_count": 37,
   "metadata": {
    "slideshow": {
     "slide_type": "fragment"
    }
   },
   "outputs": [],
   "source": [
    "class mds_member:\n",
    "    \n",
    "    role = \"MDS member\" # 클래스 속성\n",
    "    campus = \"UBC\"      # 클래스 속성\n",
    "    \n",
    "    def __init__(self, first, last):\n",
    "        self.first = first                                            # 객체 속성\n",
    "        self.last = last                                              # 객체 속성 \n",
    "        self.email = first.lower() + \".\" + last.lower() + \"@mds.com\"  # 객체 속성\n",
    "        \n",
    "    def full_name(self):\n",
    "        return f\"{self.first} {self.last}\""
   ]
  },
  {
   "cell_type": "markdown",
   "metadata": {
    "slideshow": {
     "slide_type": "subslide"
    }
   },
   "source": [
    "- 동일 클래스의 모든 객체는 클래스 속성을 공유한다. "
   ]
  },
  {
   "cell_type": "code",
   "execution_count": 38,
   "metadata": {
    "slideshow": {
     "slide_type": "fragment"
    }
   },
   "outputs": [
    {
     "name": "stdout",
     "output_type": "stream",
     "text": [
      "Tom is at campus UBC.\n",
      "Joel is at campus UBC.\n",
      "Varada is at campus UBC.\n"
     ]
    }
   ],
   "source": [
    "mds_1 = mds_member('Tom', 'Beuzen')\n",
    "mds_2 = mds_member('Joel', 'Ostblom')\n",
    "mds_3 = mds_member('Varada', 'Kolhatkar')\n",
    "print(f\"{mds_1.first} is at campus {mds_1.campus}.\")       # 객체를 통한 속성 접근\n",
    "print(f\"{mds_2.first} is at campus {mds_2.campus}.\")       \n",
    "print(f\"{mds_3.first} is at campus {mds_member.campus}.\")  # 클래스를 속성 접근"
   ]
  },
  {
   "cell_type": "markdown",
   "metadata": {
    "slideshow": {
     "slide_type": "subslide"
    }
   },
   "source": [
    "- 직전 코드에서 클래스 속성 `campus`의 값은  \n",
    "  - 어느 객체를 통해서 접근해도 동일한 단일 값으로 공유되었다. \n",
    "  - 심지어는 클래스 이름 자체를 통해 접근해도 동일한 단일 값으로 공유되었다. \n",
    "  - 클래스 속성은 클래스의 모든 객체가 공유하는 값이다. \n",
    "- 클래스 속성의 값은 심지어 인스턴스가 생성된 후에도 변경할 수 있다.  \n",
    "  이렇게 변경된 클래스 속성의 값은 생성된 모든 객체에서 공유된다: "
   ]
  },
  {
   "cell_type": "code",
   "execution_count": 39,
   "metadata": {
    "slideshow": {
     "slide_type": "fragment"
    }
   },
   "outputs": [
    {
     "name": "stdout",
     "output_type": "stream",
     "text": [
      "Tom is at campus UBC Okanagan.\n",
      "Mike is at campus UBC Okanagan.\n",
      "Joel is at campus UBC Okanagan.\n"
     ]
    }
   ],
   "source": [
    "mds_1 = mds_member('Tom', 'Beuzen')\n",
    "mds_2 = mds_member('Mike', 'Gelbart')\n",
    "mds_3 = mds_member('Joel', 'Ostblom')\n",
    "\n",
    "mds_member.campus = 'UBC Okanagan'      # 객체 생성 후에 클래스 속성의 값을 변경\n",
    "\n",
    "print(f\"{mds_1.first} is at campus {mds_1.campus}.\")\n",
    "print(f\"{mds_2.first} is at campus {mds_2.campus}.\")\n",
    "print(f\"{mds_3.first} is at campus {mds_member.campus}.\")"
   ]
  },
  {
   "cell_type": "markdown",
   "metadata": {
    "slideshow": {
     "slide_type": "subslide"
    }
   },
   "source": [
    "- 클래스 속성의 값을 설정할 때  \n",
    "  - 클래스 정의에서 설정한 값은 일단 모든 객체에 공유된다.\n",
    "  - 클래스 객체를 통해 클래스 속성 값을 변경하면,  \n",
    "    모든 객체에게 변경된 값이 공유된다. \n",
    "  - 특정 객체를 통해 클래스 속성 값을 변경하면,  \n",
    "    해당 객체에 대해서만 개별적인 클래스 속성 값이 유지된다.  \n",
    "    - 이런 식으로 특정 객체를 통해 클래스 속성을 변경하여,  \n",
    "      해당 객체만의 개별적 클래스 속성을 별도로 유지하는 방식은 권장하는 방식이 아니다.\n",
    "    - 이런 식으로 할 것이면, 클래스 속성이 아니라 인스턴스 속성으로 처리하는 것이 바람직하다.   "
   ]
  },
  {
   "cell_type": "code",
   "execution_count": 40,
   "metadata": {
    "slideshow": {
     "slide_type": "subslide"
    }
   },
   "outputs": [],
   "source": [
    "class mds_member:\n",
    "    \n",
    "    role = \"MDS member\"\n",
    "    campus = \"UBC\"                      # 공유 클래스 속성을 초기화\n",
    "    \n",
    "    def __init__(self, first, last):\n",
    "        self.first = first\n",
    "        self.last = last\n",
    "        self.email = first.lower() + \".\" + last.lower() + \"@mds.com\"\n",
    "        \n",
    "    def full_name(self):\n",
    "        return f\"{self.first} {self.last}\""
   ]
  },
  {
   "cell_type": "code",
   "execution_count": 41,
   "metadata": {
    "scrolled": true,
    "slideshow": {
     "slide_type": "subslide"
    }
   },
   "outputs": [
    {
     "name": "stdout",
     "output_type": "stream",
     "text": [
      "Tom is at campus UBC Okanagan.\n",
      "Mike is at campus UBC.\n",
      "Joel is at campus UBC.\n",
      "Tom is at campus UBC Okanagan.\n",
      "Mike is at campus UBC Vancouver.\n",
      "Joel is at campus UBC Vancouver.\n"
     ]
    }
   ],
   "source": [
    "mds_1 = mds_member('Tom', 'Beuzen')\n",
    "mds_2 = mds_member('Mike', 'Gelbart')\n",
    "mds_3 = mds_member('Joel', 'Ostblom')\n",
    "\n",
    "mds_1.campus = 'UBC Okanagan'           # 개별 객체를 통해 전용 클래스 속성을 변경\n",
    "\n",
    "print(f\"{mds_1.first} is at campus {mds_1.campus}.\")  # 개별 객체 전용 클래스 속성\n",
    "print(f\"{mds_2.first} is at campus {mds_2.campus}.\")  # 공유하는 클래스 속성\n",
    "print(f\"{mds_3.first} is at campus {mds_3.campus}.\")  # 공유하는 클래스 속성\n",
    "\n",
    "mds_member.campus = 'UBC Vancouver'     # 클래스를 통해 공유 클래스 속성을 변경\n",
    "\n",
    "print(f\"{mds_1.first} is at campus {mds_1.campus}.\")  # 개별 객체 전용 클래스 속성\n",
    "print(f\"{mds_2.first} is at campus {mds_2.campus}.\")  # 공유하는 클래스 속성\n",
    "print(f\"{mds_3.first} is at campus {mds_3.campus}.\")  # 공유하는 클래스 속성"
   ]
  },
  {
   "cell_type": "markdown",
   "metadata": {
    "slideshow": {
     "slide_type": "fragment"
    }
   },
   "source": [
    "- 속성의 유형을 인스턴스/클래스로 분류하여 공부하였다.  이제 메소드 유형을 공부하자. \n",
    "\n",
    "<div style=\"page-break-after: always;\"></div> "
   ]
  },
  {
   "cell_type": "markdown",
   "metadata": {
    "slideshow": {
     "slide_type": "subslide"
    }
   },
   "source": [
    "### 4.4 메소드 유형\n",
    "\n",
    "- 우리가 지금까지 공부한 메소드는 `\"정규\" 메소드`라고도 부른다.  \n",
    "  정규 메소드는 (`self` 인자를 사용해서) 해당 클래스의 객체를 대상으로 작업을 수행한다. \n",
    "- 그런데 `\"클래스\" 메소드`를 사용할 수도 있다.  \n",
    "  - 클래스 메소드는 실제로 클래스를 대상으로 작업을 수행한다. \n",
    "  - 클래스 메소드는 흔히 \"대안적 생성자(alternative constructor)\"로 사용된다. \n",
    "  - 예를 들자면, 누군가가 우리 클래스에 대하여  \n",
    "    이름을 쉼표로 구분한 형태로 아래와 같이 사용하고 싶어한다고 가정해보자: "
   ]
  },
  {
   "cell_type": "code",
   "execution_count": 42,
   "metadata": {
    "slideshow": {
     "slide_type": "fragment"
    }
   },
   "outputs": [],
   "source": [
    "name = 'Tom, Beuzen'"
   ]
  },
  {
   "cell_type": "markdown",
   "metadata": {
    "slideshow": {
     "slide_type": "fragment"
    }
   },
   "source": [
    "- 안타깝지만, 이런 형식의 이름은 아래와 같이 사용할 수 없다:"
   ]
  },
  {
   "cell_type": "code",
   "execution_count": 43,
   "metadata": {
    "slideshow": {
     "slide_type": "fragment"
    },
    "tags": [
     "raises-exception"
    ]
   },
   "outputs": [
    {
     "ename": "TypeError",
     "evalue": "__init__() missing 1 required positional argument: 'last'",
     "output_type": "error",
     "traceback": [
      "\u001b[1;31m---------------------------------------------------------------------------\u001b[0m",
      "\u001b[1;31mTypeError\u001b[0m                                 Traceback (most recent call last)",
      "\u001b[1;32m~\\AppData\\Local\\Temp/ipykernel_25236/3151315516.py\u001b[0m in \u001b[0;36m<module>\u001b[1;34m\u001b[0m\n\u001b[1;32m----> 1\u001b[1;33m \u001b[0mmds_member\u001b[0m\u001b[1;33m(\u001b[0m\u001b[0mname\u001b[0m\u001b[1;33m)\u001b[0m\u001b[1;33m\u001b[0m\u001b[1;33m\u001b[0m\u001b[0m\n\u001b[0m",
      "\u001b[1;31mTypeError\u001b[0m: __init__() missing 1 required positional argument: 'last'"
     ]
    }
   ],
   "source": [
    "mds_member(name)"
   ]
  },
  {
   "cell_type": "markdown",
   "metadata": {
    "slideshow": {
     "slide_type": "subslide"
    }
   },
   "source": [
    "- 우리 클래스를 사용하려면, 이름 문자열을 `first`와 `last`로 분할해야만 한다: "
   ]
  },
  {
   "cell_type": "code",
   "execution_count": 44,
   "metadata": {
    "slideshow": {
     "slide_type": "fragment"
    }
   },
   "outputs": [
    {
     "name": "stdout",
     "output_type": "stream",
     "text": [
      "Tom\n",
      "Beuzen\n"
     ]
    }
   ],
   "source": [
    "first, last = name.split(', ')\n",
    "print(first)\n",
    "print(last)"
   ]
  },
  {
   "cell_type": "markdown",
   "metadata": {
    "slideshow": {
     "slide_type": "fragment"
    }
   },
   "source": [
    "- 이렇게 분리한 후에야 우리 클래스를 통하여 객체를 생성할 수 있다:"
   ]
  },
  {
   "cell_type": "code",
   "execution_count": 45,
   "metadata": {
    "slideshow": {
     "slide_type": "fragment"
    }
   },
   "outputs": [],
   "source": [
    "mds_1 = mds_member(first, last)"
   ]
  },
  {
   "cell_type": "markdown",
   "metadata": {
    "slideshow": {
     "slide_type": "subslide"
    }
   },
   "source": [
    "- 만일 이러한 사용 사례가 보편적이라면,  \n",
    "  매번 이름 문자열을 분리한 후에 우리 클래스를 사용하라고 강요하는 것은 바람직하지 않다.  \n",
    "  차라리 이러한 사용 사례를 `클래스 메소드`로 반영해주어야 한다.  \n",
    "  1. 메소드를 `class method`로 지정하기 위하여,  \n",
    "     `@classmethod`라는 장식자(decorator)를 사용한다  \n",
    "     (장식자에 대해서는 뒤에서 다시 다룬다);\n",
    "  2. `self` 대신에 `cls`를 첫 인자로 지정한다."
   ]
  },
  {
   "cell_type": "code",
   "execution_count": 46,
   "metadata": {
    "slideshow": {
     "slide_type": "fragment"
    }
   },
   "outputs": [],
   "source": [
    "class mds_member:\n",
    "\n",
    "    role = \"MDS member\"\n",
    "    campus = \"UBC\"\n",
    "    \n",
    "    def __init__(self, first, last):\n",
    "        self.first = first\n",
    "        self.last = last\n",
    "        self.email = first.lower() + \".\" + last.lower() + \"@mds.com\"\n",
    "        \n",
    "    def full_name(self):\n",
    "        return f\"{self.first} {self.last}\"\n",
    "    \n",
    "    @classmethod                    # 클래스 메소드를 지정하는 장식자!\n",
    "    def from_csv(cls, csv_name):    # 첫 인자를 cls로!, csv(comma seperated value)\n",
    "        first, last = csv_name.split(', ')\n",
    "        return cls(first, last)"
   ]
  },
  {
   "cell_type": "markdown",
   "metadata": {
    "slideshow": {
     "slide_type": "subslide"
    }
   },
   "source": [
    "- 이제 쉽표로 구분된 이름을 직접 사용할 수 있다!"
   ]
  },
  {
   "cell_type": "code",
   "execution_count": 47,
   "metadata": {
    "slideshow": {
     "slide_type": "fragment"
    }
   },
   "outputs": [
    {
     "data": {
      "text/plain": [
       "'Tom Beuzen'"
      ]
     },
     "execution_count": 47,
     "metadata": {},
     "output_type": "execute_result"
    }
   ],
   "source": [
    "mds_1 = mds_member.from_csv('Tom, Beuzen')  # \"클래스명.\"을 통해서 클래스 메소드에 접근\n",
    "mds_1.full_name()"
   ]
  },
  {
   "cell_type": "markdown",
   "metadata": {
    "slideshow": {
     "slide_type": "subslide"
    }
   },
   "source": [
    "- `정적 메소드(static method)`라는 세번째 유형의 메소드가 존재한다.  \n",
    "  - 정적 메소드는  \n",
    "    (**클래스의 객체를 대상**으로 하는) 정규 메소드가 아니며,  \n",
    "    (**클래스 자체를 대상**으로 하는) 클래스 메소드도 아니다.   \n",
    "    그냥 **단순한 함수**일 뿐이다. \n",
    "  - 하지만 어찌 되었든 우리 클래스에 관계되는 함수이므로 클래스 내부에 정의하는 것이다.\n",
    "  - 정적 메소드를 정의할 때에는 `@staticmethod`라는 장식자를 사용한다. "
   ]
  },
  {
   "cell_type": "code",
   "execution_count": 48,
   "metadata": {
    "slideshow": {
     "slide_type": "subslide"
    }
   },
   "outputs": [],
   "source": [
    "class mds_member:\n",
    "    \n",
    "    role = \"MDS member\"\n",
    "    campus = \"UBC\"\n",
    "    \n",
    "    def __init__(self, first, last):\n",
    "        self.first = first\n",
    "        self.last = last\n",
    "        self.email = first.lower() + \".\" + last.lower() + \"@mds.com\"\n",
    "        \n",
    "    def full_name(self):\n",
    "        return f\"{self.first} {self.last}\"\n",
    "    \n",
    "    @classmethod\n",
    "    def from_csv(cls, csv_name):\n",
    "        first, last = csv_name.split(',')\n",
    "        return cls(first, last)\n",
    "    \n",
    "    @staticmethod               # 정적 메소드\n",
    "    def is_quizweek(week):      # 첫 인자에 self도 cls도 없음! \n",
    "        return True if week in [3, 5] else False"
   ]
  },
  {
   "cell_type": "markdown",
   "metadata": {
    "slideshow": {
     "slide_type": "fragment"
    }
   },
   "source": [
    "- `is_quizweek()`라는 정적 메소드에는 첫 인자로 `self`나 `cls`를 쓰지 않는다.  \n",
    "  단지 MDS와 관계되는 함수이기에 클래스 내부에 정의하는 일반 함수일 뿐이다. "
   ]
  },
  {
   "cell_type": "code",
   "execution_count": 49,
   "metadata": {
    "slideshow": {
     "slide_type": "fragment"
    }
   },
   "outputs": [
    {
     "name": "stdout",
     "output_type": "stream",
     "text": [
      "1주차는 퀴즈를 치르는 주간인가? False\n",
      "3주차는 퀴즈를 치르는 주간인가? True\n"
     ]
    }
   ],
   "source": [
    "mds_1 = mds_member.from_csv('Tom,Beuzen')\n",
    "print(f\"1주차는 퀴즈를 치르는 주간인가? {mds_1.is_quizweek(1)}\")\n",
    "print(f\"3주차는 퀴즈를 치르는 주간인가? {mds_member.is_quizweek(3)}\")"
   ]
  },
  {
   "cell_type": "markdown",
   "metadata": {
    "slideshow": {
     "slide_type": "subslide"
    }
   },
   "source": [
    "- 메소드 유형 공부를 마치고, 장식자 공부로 진행하자. \n",
    "\n",
    "<div style=\"page-break-after: always;\"></div> "
   ]
  },
  {
   "cell_type": "markdown",
   "metadata": {
    "slideshow": {
     "slide_type": "subslide"
    }
   },
   "source": [
    "### 4.5 장식자\n",
    "\n",
    "- 장식자(decorator)는 꽤나 복잡한 주제이다.  \n",
    "  장식자에 대해서는 다음 내용을 추천한다: \n",
    "  - 파이썬 코딩 도장 사이트에서 한글로 제공하는 [데코레이터 사용하기](https://dojang.io/mod/page/view.php?id=2427) \n",
    "  - 리얼 파이썬 사이트에서 영문으로 제공하는 [primer on python decorators](https://realpython.com/primer-on-python-decorators/) \n",
    "- 장식자는 다른 함수를 인자로 전달받아서 기능을 추가해주는  \n",
    "  일종의 함수라고 생각해도 좋다. \n",
    "- (함수를 장식하는) 장식자에 대해서 추가적으로 설명하자면 다음과 같다:  \n",
    "  - 파이썬에서 함수는 일종의 자료형이라는 점을 기억하라. \n",
    "  - 따라서 다른 함수에 함수를 인자로서 전달이 가능하다. \n",
    "  - 장식자는 함수를 인자로서 전달받아서,  \n",
    "    전달받은 함수에 특정한 기능을 추가하고,  \n",
    "    실행 가능한 \"장식된 함수(decorated function)\"를 반환한다.\n",
    "  - 이런 식으로 장식자를 만들어 보자:"
   ]
  },
  {
   "cell_type": "code",
   "execution_count": 50,
   "metadata": {
    "slideshow": {
     "slide_type": "subslide"
    }
   },
   "outputs": [],
   "source": [
    "# 장식하고자 하는 원본 함수\n",
    "def original_func():\n",
    "    print(\"나는 원본 함수이다!\")\n",
    "\n",
    "# 장식자\n",
    "def my_decorator(func):  # 원본 함수를 인자로 전달받음\n",
    "    \n",
    "    def wrapper():      # 원본 함수에 부가 기능을 추가하여 포장\n",
    "        print(f\"{func.__name__} 장식 전.\")  # 원본 함수 실행 전 기능 추가\n",
    "        result = func()                    # 원본 함수 실행 결과를 저장\n",
    "        print(f\"{func.__name__} 장식 후.\")  # 원본 함수 실행 후 기능 추가\n",
    "        return result   # 원본 함수 실행 결과를 반환\n",
    "    \n",
    "    return wrapper  # 나중에 실행할 수 있도록, 실행되지 않은 wrapper 함수 이름을 반환"
   ]
  },
  {
   "cell_type": "markdown",
   "metadata": {
    "slideshow": {
     "slide_type": "fragment"
    }
   },
   "source": [
    "- `my_decorator()` 함수는 함수 이름을 반환하는데,  \n",
    "  원본 함수에 부가 기능이 추가되어 장식된 함수의 이름일 뿐이다. "
   ]
  },
  {
   "cell_type": "code",
   "execution_count": 51,
   "metadata": {
    "slideshow": {
     "slide_type": "fragment"
    }
   },
   "outputs": [
    {
     "data": {
      "text/plain": [
       "<function __main__.my_decorator.<locals>.wrapper()>"
      ]
     },
     "execution_count": 51,
     "metadata": {},
     "output_type": "execute_result"
    }
   ],
   "source": [
    "my_decorator(original_func)  # 이는 단지 장식된 함수 이름일 뿐!"
   ]
  },
  {
   "cell_type": "markdown",
   "metadata": {
    "slideshow": {
     "slide_type": "subslide"
    }
   },
   "source": [
    "- `my_decorator()` 장식자로부터 반환받은 값이 함수 이름이라고 했는데,  \n",
    "  이 함수를 실제로 실행하려면 괄호를 추가하여 호출해야 한다. "
   ]
  },
  {
   "cell_type": "code",
   "execution_count": 52,
   "metadata": {
    "slideshow": {
     "slide_type": "fragment"
    }
   },
   "outputs": [
    {
     "name": "stdout",
     "output_type": "stream",
     "text": [
      "original_func 장식 전.\n",
      "나는 원본 함수이다!\n",
      "original_func 장식 후.\n"
     ]
    }
   ],
   "source": [
    "my_decorator(original_func)()  # 장식된 함수를 실제로 실행"
   ]
  },
  {
   "cell_type": "markdown",
   "metadata": {
    "slideshow": {
     "slide_type": "subslide"
    }
   },
   "source": [
    "- 어떤 함수이든 우리가 작성했던 장식자로 장식할 수 있다:"
   ]
  },
  {
   "cell_type": "code",
   "execution_count": 53,
   "metadata": {
    "slideshow": {
     "slide_type": "fragment"
    }
   },
   "outputs": [
    {
     "name": "stdout",
     "output_type": "stream",
     "text": [
      "another_func 장식 전.\n",
      "나는 또 다른 원본 함수이다!\n",
      "another_func 장식 후.\n"
     ]
    }
   ],
   "source": [
    "def another_func():\n",
    "    print(\"나는 또 다른 원본 함수이다!\")\n",
    "\n",
    "my_decorator(another_func)()"
   ]
  },
  {
   "cell_type": "markdown",
   "metadata": {
    "slideshow": {
     "slide_type": "subslide"
    }
   },
   "source": [
    "- 장식자를 이용하면, 어떤 원본 함수이든지  \n",
    "  원본 함수의 실행 전과 후에 추가적인 기능을 수행하도록 장식할 수 있다. \n",
    "- 장식자 함수를 호출하는 문법이 가독성 관점에서 자연스럽지는 않다.  \n",
    "  이렇게 하는 대신에,  \n",
    "  `@` 기호를 \"문법적 조미료\"로 사용할 수 있으며,  \n",
    "  `@` 기호를 사용하여 장식자의 가독성과 재사용성을 개선할 수 있다. "
   ]
  },
  {
   "cell_type": "code",
   "execution_count": 54,
   "metadata": {
    "slideshow": {
     "slide_type": "fragment"
    }
   },
   "outputs": [
    {
     "name": "stdout",
     "output_type": "stream",
     "text": [
      "one_more_func 장식 전.\n",
      "추가적 원본 함수 하나 더...\n",
      "one_more_func 장식 후.\n"
     ]
    }
   ],
   "source": [
    "@my_decorator\n",
    "def one_more_func():\n",
    "    print(\"추가적 원본 함수 하나 더...\")\n",
    "    \n",
    "one_more_func()"
   ]
  },
  {
   "cell_type": "markdown",
   "metadata": {
    "slideshow": {
     "slide_type": "subslide"
    }
   },
   "source": [
    "- 진짜로 쓸모 있는 장식자를 만들어 봅시다.  \n",
    "  어떤 함수든지 그 실행 시간을 측정하는 장식자를 만들어 봅시다. "
   ]
  },
  {
   "cell_type": "code",
   "execution_count": 55,
   "metadata": {
    "slideshow": {
     "slide_type": "fragment"
    }
   },
   "outputs": [],
   "source": [
    "import time  # time 모듈 수입, 수입에 대해서는 다음 장에서 공부\n",
    "\n",
    "def timer(my_function):  # 타어머 장식자 정의\n",
    "    \n",
    "    def wrapper():  # 타이머 기능 추가\n",
    "        t1 = time.time()\n",
    "        result = my_function()  # 원본 함수 실행 결과 저장\n",
    "        t2 = time.time()\n",
    "        print(f\"{my_function.__name__} 실행 시간: {t2 - t1:.3f} 초\")  # 실행 시간 출력\n",
    "        return result\n",
    "\n",
    "    return wrapper"
   ]
  },
  {
   "cell_type": "code",
   "execution_count": 56,
   "metadata": {
    "slideshow": {
     "slide_type": "subslide"
    }
   },
   "outputs": [
    {
     "name": "stdout",
     "output_type": "stream",
     "text": [
      "0\n",
      "1000000\n",
      "2000000\n",
      "3000000\n",
      "4000000\n",
      "5000000\n",
      "6000000\n",
      "7000000\n",
      "8000000\n",
      "9000000\n",
      "silly_function 실행 시간: 0.854 초\n"
     ]
    }
   ],
   "source": [
    "@timer\n",
    "def silly_function():\n",
    "    for i in range(1000_0000):     # 천만번 반복\n",
    "        if (i % 100_0000) == 0:    # 백만번째마다 출력\n",
    "            print(i) \n",
    "        else:\n",
    "            pass\n",
    "        \n",
    "silly_function()"
   ]
  },
  {
   "cell_type": "markdown",
   "metadata": {
    "slideshow": {
     "slide_type": "fragment"
    }
   },
   "source": [
    "- `classmethod`나 `staticmethod`와 같은 파이썬 내장 장식자는  \n",
    "  C 언어로 작성되었으며, 여기서 이 코드를 소개하지는 않는다.  \n",
    "- 나만의 장식자를 생성하는 경우는 흔하지 않았으며,  \n",
    "  내장된 장식자만을 써도 충분하다는 것이 저자의 경험이다. "
   ]
  },
  {
   "cell_type": "markdown",
   "metadata": {
    "slideshow": {
     "slide_type": "fragment"
    }
   },
   "source": [
    "- 장식자에 대한 공부를 마치고, 이제 클래스 상속을 공부하자. \n",
    "\n",
    "<div style=\"page-break-after: always;\"></div>   "
   ]
  },
  {
   "cell_type": "markdown",
   "metadata": {
    "slideshow": {
     "slide_type": "subslide"
    }
   },
   "source": [
    "### 4.6 상속 및 파생 클래스\n",
    "\n",
    "- 말그대로 상속(inheritance)을 써서 다른 클래스로부터 메소드와 속성을 \"상속\"받을 수 있다.  \n",
    "  - 지금까지는 `mds_member` 클래스로 작업을 진행했었다.  \n",
    "  - 지금부터는 한 걸음 더 나아가서,  \n",
    "    `mds_student`와 `mds_instructor` 클래스를 생성해보자. \n",
    "  - 이들 \"mds 학생\"과 \"mds 교수\"는 모두 \"mds 멤버\"라는 점을 잊지 말라\n",
    "    - \"mds 학생\"/\"mds 교수\"는 \"mds 멤버\"보다 더욱 세분화된, 또는 **구체화된 클래스**이다.  \n",
    "    - \"mds 멤버\"는 \"mds 학생\"/\"mds 교수\"보다 더욱 추상화된, 또는 **일반화된 클래스**이다.\n",
    "- 일반화된 클래스를 **부모(기반) 클래스**라고, 구체화된 클래스를 **자식(파생) 클래스**라고 한다. \n",
    "- 부모 클래스를 먼저 구현하고, 이를 **상속**받아서 자식 클래스를 구현하는 것이 편하다.\n",
    "- \"자식 클래스는 부모 클래스의 일종이다\"라는 의미에서 \"is_a 연관 관계\"라고 할 수 있다.  \n",
    "- 예를 들어서 버스나 트럭은 모두 자동차의 일종이며,  \n",
    "  자동차는 부모 클래스, 버스/트럭은 자식 클래스이다. \n",
    "- 자식 클래스는 부모 클래스의 속성/메소드를 상속받은 후,  \n",
    "  속성이나 메소드가 추가/변형되어서 **구체화**된다.  "
   ]
  },
  {
   "cell_type": "code",
   "execution_count": 57,
   "metadata": {
    "slideshow": {
     "slide_type": "subslide"
    }
   },
   "outputs": [],
   "source": [
    "class mds_member:\n",
    "    \n",
    "    role = \"MDS member\"\n",
    "    campus = \"UBC\"\n",
    "    \n",
    "    def __init__(self, first, last):\n",
    "        self.first = first\n",
    "        self.last = last\n",
    "        self.email = first.lower() + \".\" + last.lower() + \"@mds.com\"\n",
    "        \n",
    "    def full_name(self):\n",
    "        return f\"{self.first} {self.last}\"\n",
    "    \n",
    "    @classmethod\n",
    "    def from_csv(cls, csv):\n",
    "        first, last = csv_name.split(',')\n",
    "        return cls(first, last)\n",
    "    \n",
    "    @staticmethod\n",
    "    def is_quizweek(week):\n",
    "        return True if week in [3, 5] else False"
   ]
  },
  {
   "cell_type": "markdown",
   "metadata": {
    "slideshow": {
     "slide_type": "subslide"
    }
   },
   "source": [
    "- `mds_student` 클래스는 \n",
    "  `mds_member` 클래스가 가진 모든 속성과 메소드를 상속받아야 한다.\n",
    "- `mds_student` 클래스가 `mds_member` 클래스로부터 상속을 받으려면,  \n",
    "  `mds_student` 클래스를 정의할 때  \n",
    "  `mds_member` 클래스를 매개변수로서 그저 전달하기만 하면 된다. "
   ]
  },
  {
   "cell_type": "code",
   "execution_count": 58,
   "metadata": {
    "slideshow": {
     "slide_type": "fragment"
    }
   },
   "outputs": [],
   "source": [
    "# mds_member를 mds_student의 매개변수로 전달하면 상속 완료!\n",
    "class mds_student(mds_member):  \n",
    "    pass"
   ]
  },
  {
   "cell_type": "code",
   "execution_count": 59,
   "metadata": {
    "slideshow": {
     "slide_type": "fragment"
    }
   },
   "outputs": [
    {
     "name": "stdout",
     "output_type": "stream",
     "text": [
      "Craig Smith\n",
      "Megan Scott\n"
     ]
    }
   ],
   "source": [
    "# (mds_member로부터 상속받은) mds_student는 \n",
    "# mds_member의 모든 속성과 메소드를 (상속받아) 보유하고 있음\n",
    "student_1 = mds_student('Craig', 'Smith')\n",
    "student_2 = mds_student('Megan', 'Scott')\n",
    "print(student_1.full_name())\n",
    "print(student_2.full_name())"
   ]
  },
  {
   "cell_type": "markdown",
   "metadata": {
    "slideshow": {
     "slide_type": "subslide"
    }
   },
   "source": [
    "- 위 코드에서 벌어진 일은 다음과 같다. \n",
    "    - `mds_student` 객체가 생성되기 위해서는,  \n",
    "      우선 `mds_student` 클래스에서 `__init__` 메소드가 호출되어야 한다. \n",
    "    - 그런데 `mds_student` 클래스에는 `__init__` 메소드가 정의되어 있지 않다. \n",
    "    - 그렇지만 `mds_student` 클래스는 `mds_member` 클래스로부터 상속을 받았다. \n",
    "    - 따라서 `mds_member` 클래스가 가진 `__init__` 메소드가 대신 실행되어 \n",
    "      `mds_student` 객체가 생성된다. \n",
    "    - 이렇게 자식에게서 속성이나 메소드가 발견되지 않을 경우에,  \n",
    "      부모에게서 속성이나 메소드를 탐색하는 순서를  \n",
    "      \"[메소드 탐색 순서(method resolution order)](https://www.python.org/download/releases/2.3/mro/)\"라고 한다. \n",
    "    - `help()` 함수로 이 메소드 탐색 순서를 직접 확인하자:"
   ]
  },
  {
   "cell_type": "code",
   "execution_count": 60,
   "metadata": {
    "slideshow": {
     "slide_type": "subslide"
    }
   },
   "outputs": [
    {
     "name": "stdout",
     "output_type": "stream",
     "text": [
      "Help on class mds_student in module __main__:\n",
      "\n",
      "class mds_student(mds_member)\n",
      " |  mds_student(first, last)\n",
      " |  \n",
      " |  Method resolution order:\n",
      " |      mds_student\n",
      " |      mds_member\n",
      " |      builtins.object\n",
      " |  \n",
      " |  Methods inherited from mds_member:\n",
      " |  \n",
      " |  __init__(self, first, last)\n",
      " |      Initialize self.  See help(type(self)) for accurate signature.\n",
      " |  \n",
      " |  full_name(self)\n",
      " |  \n",
      " |  ----------------------------------------------------------------------\n",
      " |  Class methods inherited from mds_member:\n",
      " |  \n",
      " |  from_csv(csv) from builtins.type\n",
      " |  \n",
      " |  ----------------------------------------------------------------------\n",
      " |  Static methods inherited from mds_member:\n",
      " |  \n",
      " |  is_quizweek(week)\n",
      " |  \n",
      " |  ----------------------------------------------------------------------\n",
      " |  Data descriptors inherited from mds_member:\n",
      " |  \n",
      " |  __dict__\n",
      " |      dictionary for instance variables (if defined)\n",
      " |  \n",
      " |  __weakref__\n",
      " |      list of weak references to the object (if defined)\n",
      " |  \n",
      " |  ----------------------------------------------------------------------\n",
      " |  Data and other attributes inherited from mds_member:\n",
      " |  \n",
      " |  campus = 'UBC'\n",
      " |  \n",
      " |  role = 'MDS member'\n",
      "\n"
     ]
    }
   ],
   "source": [
    "help(mds_student)"
   ]
  },
  {
   "cell_type": "markdown",
   "metadata": {
    "slideshow": {
     "slide_type": "subslide"
    }
   },
   "source": [
    "- 이제는 `mds_student` 클래스를 (구체화하여) 다듬어 보자.\n",
    "  - 우선 학생 객체에 대해서는 역할 `role`을 \"MDS Student\"로 지정하는 것이다. \n",
    "  - 이를 위해서는 `mds_student` 클래스의 클래스 속성을 재정의(over-ride)하기만 하면 된다. \n",
    "  - 상속을 받은 (자식) 클래스에서 재정의하지 않은 속성이나 메소드는  \n",
    "    상속을 해준 (부모) 클래스에서 정의한 내용을 그대로 상속받게 된다. \n",
    "  - 하지만, 자식 클래스에서 재정의한 속성이나 메소드는 부모 클래스로부터 상속되지 않는다."
   ]
  },
  {
   "cell_type": "code",
   "execution_count": 61,
   "metadata": {
    "slideshow": {
     "slide_type": "fragment"
    }
   },
   "outputs": [],
   "source": [
    "class mds_student(mds_member):\n",
    "    role = \"MDS student\"        # 부모는 \"MDS member\"였는데, 자식에서 재정의한 클래스 속성"
   ]
  },
  {
   "cell_type": "code",
   "execution_count": 62,
   "metadata": {
    "slideshow": {
     "slide_type": "fragment"
    }
   },
   "outputs": [
    {
     "name": "stdout",
     "output_type": "stream",
     "text": [
      "MDS student\n",
      "UBC\n",
      "John Smith\n"
     ]
    }
   ],
   "source": [
    "student_1 = mds_student('John', 'Smith')\n",
    "print(student_1.role)\n",
    "print(student_1.campus)\n",
    "print(student_1.full_name())"
   ]
  },
  {
   "cell_type": "markdown",
   "metadata": {
    "slideshow": {
     "slide_type": "subslide"
    }
   },
   "source": [
    "- 이제 학생 클래스에 `grade`라는 성적을 인스턴스 속성으로 추가해 보자.  \n",
    "  여러분은 아마도 다음과 같이 시도할 것이다:"
   ]
  },
  {
   "cell_type": "code",
   "execution_count": 63,
   "metadata": {
    "slideshow": {
     "slide_type": "fragment"
    }
   },
   "outputs": [
    {
     "name": "stdout",
     "output_type": "stream",
     "text": [
      "john.smith@mds.com\n",
      "B+\n"
     ]
    }
   ],
   "source": [
    "class mds_student(mds_member):\n",
    "    role = \"MDS student\"\n",
    "    \n",
    "    def __init__(self, first, last, grade):\n",
    "        self.first = first\n",
    "        self.last = last\n",
    "        self.email = first.lower() + \".\" + last.lower() + \"@mds.com\"\n",
    "        self.grade = grade      # 여기에 인스턴스 속성을 추가\n",
    "        \n",
    "student_1 = mds_student('John', 'Smith', 'B+')\n",
    "print(student_1.email)\n",
    "print(student_1.grade)"
   ]
  },
  {
   "cell_type": "markdown",
   "metadata": {
    "slideshow": {
     "slide_type": "subslide"
    }
   },
   "source": [
    "- 하지만 이렇게 하면 DRY 원칙에 어긋나는 코드가 되고 만다.  \n",
    "  - 직전 코드에서 `__init__()` 메소드에 작성한 코드의 앞 부분은  \n",
    "    이미 `mds_member` 클래스에서 작성했던 코드와 중복된다. \n",
    "  - 상속을 받았으므로, 부모 클래스에서 정의한 인스턴스 속성을  \n",
    "    자식 클래스에서 다시 반복해서 정의할 필요가 없다.  \n",
    "- 상속받은 인스턴스 속성은 `super()` 함수로 쉽게 처리하고,  \n",
    "상속받은 바 없는 `grade`만 새롭게 정의하면 된다. \n",
    "  - 그런데, `super()` 함수의 작동 방식은 다소 복잡할 수 있다.  \n",
    "    이에 관해서는 리얼 파이썬 사이트에서 영문으로 제공하는  \n",
    "    [an Overview of Python's Super Function](https://realpython.com/python-super/#an-overview-of-pythons-super-function)을 추천한다.  \n",
    "  - 하지만, `super()` 함수를 써서 상속받을 수 있다는 사실만 기억해도 충분하다. "
   ]
  },
  {
   "cell_type": "code",
   "execution_count": 64,
   "metadata": {
    "slideshow": {
     "slide_type": "subslide"
    }
   },
   "outputs": [
    {
     "name": "stdout",
     "output_type": "stream",
     "text": [
      "john.smith@mds.com\n",
      "B+\n"
     ]
    }
   ],
   "source": [
    "class mds_student(mds_member):\n",
    "    role = \"MDS student\"\n",
    "    \n",
    "    def __init__(self, first, last, grade):\n",
    "        super().__init__(first, last)   # super() 함수로 인스턴스 속성을 상속받음\n",
    "        self.grade = grade              # 추가 사항만 구체화\n",
    "        \n",
    "student_1 = mds_student('John', 'Smith', 'B+')\n",
    "print(student_1.email)\n",
    "print(student_1.grade)"
   ]
  },
  {
   "cell_type": "markdown",
   "metadata": {
    "slideshow": {
     "slide_type": "subslide"
    }
   },
   "source": [
    "- 놀랍지 않은가!  \n",
    "  상속의 놀라운 위력을 이해하기 시작했으리라 기대한다. \n",
    "- 이제 또 하나의 파생(또는 자식) 클래스인 `mds_instructor`를 교수에 대하여 작성해 보자. \n",
    "  - 상속을 해주는 클래스를 `부모 클래스` 또는 `기반 클래스`라고 부른다. \n",
    "  - 상속을 받는 클래스를 `자식 클래스` 또는 `파생 클래스`라고 부른다. \n",
    "  - 파생 클래스 `mds_instructor`에는  \n",
    "    교수로서 강좌를 등록하거나 삭제하는 기능을 수행하는  \n",
    "    `add_course()`와 `remove_course()` 메소드가 새롭게 구현되어야 한다. "
   ]
  },
  {
   "cell_type": "code",
   "execution_count": 65,
   "metadata": {
    "slideshow": {
     "slide_type": "subslide"
    }
   },
   "outputs": [],
   "source": [
    "class mds_instructor(mds_member):\n",
    "    role = \"MDS instructor\"     # 부모는 \"MDS member\"였는데, 자식에서 재정의한 클래스 속성\n",
    "    \n",
    "    def __init__(self, first, last, courses=None):\n",
    "        super().__init__(first, last)   \n",
    "        self.courses = ([] if courses is None else courses)  # 기반 클래스의 새로운 인스턴스 속성\n",
    "        \n",
    "    def add_course(self, course):                            # 기반 클래스의 새로운 인스턴스 메소드\n",
    "        self.courses.append(course)\n",
    "        \n",
    "    def remove_course(self, course):                         # 기반 클래스의 새로운 인스턴스 메소드\n",
    "        self.courses.remove(course)"
   ]
  },
  {
   "cell_type": "code",
   "execution_count": 66,
   "metadata": {
    "slideshow": {
     "slide_type": "fragment"
    }
   },
   "outputs": [
    {
     "name": "stdout",
     "output_type": "stream",
     "text": [
      "Tom Beuzen\n",
      "['511', '561', '513']\n"
     ]
    }
   ],
   "source": [
    "instructor_1 = mds_instructor('Tom', 'Beuzen', ['511', '561', '513'])\n",
    "print(instructor_1.full_name())\n",
    "print(instructor_1.courses)"
   ]
  },
  {
   "cell_type": "code",
   "execution_count": 67,
   "metadata": {
    "slideshow": {
     "slide_type": "fragment"
    }
   },
   "outputs": [
    {
     "data": {
      "text/plain": [
       "['511', '561', '591']"
      ]
     },
     "execution_count": 67,
     "metadata": {},
     "output_type": "execute_result"
    }
   ],
   "source": [
    "instructor_1.add_course('591')\n",
    "instructor_1.remove_course('513')\n",
    "instructor_1.courses"
   ]
  },
  {
   "cell_type": "markdown",
   "metadata": {
    "slideshow": {
     "slide_type": "fragment"
    }
   },
   "source": [
    "- 상속 및 파생 클래스 공부를 마치고, 설정자/획득자/삭제자 공부로 진행하자. \n",
    "\n",
    "<div style=\"page-break-after: always;\"></div> "
   ]
  },
  {
   "cell_type": "markdown",
   "metadata": {
    "slideshow": {
     "slide_type": "subslide"
    }
   },
   "source": [
    "### 4.7 설정자/획득자/삭제자\n",
    "\n",
    "- 파이썬 클래스와 관련해서 공부할 중요한 주제가 하나 더 남아 있다:  \n",
    "  - 설정자(setter)\n",
    "  - 획득자(getter)\n",
    "  - 삭제자(deleter)\n",
    "- 이들의 필요성은 예제로 이해하는 게 가장 효과적이다.  \n",
    "  `mds_member` 클래스의 단순 버전으로 시작하자. "
   ]
  },
  {
   "cell_type": "code",
   "execution_count": 68,
   "metadata": {
    "slideshow": {
     "slide_type": "subslide"
    }
   },
   "outputs": [],
   "source": [
    "class mds_member:\n",
    "    \n",
    "    def __init__(self, first, last):\n",
    "        self.first = first\n",
    "        self.last = last\n",
    "        self.email = first.lower() + \".\" + last.lower() + \"@mds.com\"\n",
    "        \n",
    "    def full_name(self):\n",
    "        return f\"{self.first} {self.last}\""
   ]
  },
  {
   "cell_type": "code",
   "execution_count": 69,
   "metadata": {
    "slideshow": {
     "slide_type": "fragment"
    }
   },
   "outputs": [
    {
     "name": "stdout",
     "output_type": "stream",
     "text": [
      "Tom\n",
      "Beuzen\n",
      "tom.beuzen@mds.com\n",
      "Tom Beuzen\n"
     ]
    }
   ],
   "source": [
    "mds_1 = mds_member('Tom', 'Beuzen')\n",
    "print(mds_1.first)\n",
    "print(mds_1.last)\n",
    "print(mds_1.email)\n",
    "print(mds_1.full_name())"
   ]
  },
  {
   "cell_type": "markdown",
   "metadata": {
    "slideshow": {
     "slide_type": "fragment"
    }
   },
   "source": [
    "- 이 클래스 객체에 대한 `.first` 속성에 지정한 이름 철자에 오류가 있었고,  \n",
    "  이를 교정해야 한다고 가정해 보라.  \n",
    "  어떤 일이 벌어지는지 지켜보라..."
   ]
  },
  {
   "cell_type": "code",
   "execution_count": 70,
   "metadata": {
    "slideshow": {
     "slide_type": "subslide"
    }
   },
   "outputs": [
    {
     "name": "stdout",
     "output_type": "stream",
     "text": [
      "Tomas\n",
      "Beuzen\n",
      "tom.beuzen@mds.com\n",
      "Tomas Beuzen\n"
     ]
    }
   ],
   "source": [
    "mds_1.first = 'Tomas'       # 'Tom'이라고 실수했던 이름을 수정하고 싶으나...\n",
    "print(mds_1.first)\n",
    "print(mds_1.last)\n",
    "print(mds_1.email)          # *** email은 first에 기반해서 \"생성 시점에서\" 이미 자동 조합되었음 ***\n",
    "print(mds_1.full_name())    # full_name()은 \"실시간으로\" 자동 조합되어 반환됨"
   ]
  },
  {
   "cell_type": "markdown",
   "metadata": {
    "slideshow": {
     "slide_type": "subslide"
    }
   },
   "source": [
    "- 헐...\n",
    "  - first 속성을 수정해도 교정되지 않는다!<br>\n",
    "    이 속성은 객체 생성 시점에 이미 설정되었기 때문이다. \n",
    "  - `full_name()` 메소드에서는 이러한 문제가 발생하지 않는다.  \n",
    "    이 메소드는 요청을 접수한 시점에, first와 last 속성을 실시간으로 조합해서 반환하기 때문이다. \n",
    "  - 여기까지 상황을 파악한 입장이라면,  \n",
    "    이메일 주소를 실시간으로 반환하는 `email()` 메소드를 만들려고 할 수도 있다. \n",
    "  - 그러나 이런 방식은 다양한 이유에서 좋은 해결 방법이 아니다.  \n",
    "    이렇게 하면, 속성 값을 확인할 떄마다 `email()` 메소드를 호출해야만 한다.  \n",
    "  - 더 좋은 방법은 우리의 `email` 속성을 메소드처럼 정의하되,  \n",
    "    `@property` 장식자를 써서 속성으로서의 자격을 유지하도록 만드는 것이다.  "
   ]
  },
  {
   "cell_type": "code",
   "execution_count": 71,
   "metadata": {
    "slideshow": {
     "slide_type": "subslide"
    }
   },
   "outputs": [],
   "source": [
    "class mds_member:\n",
    "    \n",
    "    def __init__(self, first, last):\n",
    "        self.first = first\n",
    "        self.last = last\n",
    "        \n",
    "    def full_name(self):\n",
    "        return f\"{self.first} {self.last}\"\n",
    "    \n",
    "    @property       # 메소드를 속성으로 취급하게 하는 장식자\n",
    "    def email(self):\n",
    "        return self.first.lower() + \".\" + self.last.lower() + \"@mds.com\""
   ]
  },
  {
   "cell_type": "code",
   "execution_count": 72,
   "metadata": {
    "slideshow": {
     "slide_type": "fragment"
    }
   },
   "outputs": [
    {
     "name": "stdout",
     "output_type": "stream",
     "text": [
      "Tomas\n",
      "Beuzen\n",
      "tomas.beuzen@mds.com\n",
      "Tomas Beuzen\n"
     ]
    }
   ],
   "source": [
    "mds_1 = mds_member('Tom', 'Beuzen')\n",
    "mds_1.first = 'Tomas'                # 속성 값을 수정\n",
    "print(mds_1.first)\n",
    "print(mds_1.last)\n",
    "print(mds_1.email)                   # 속성처럼 사용\n",
    "print(mds_1.full_name())"
   ]
  },
  {
   "cell_type": "markdown",
   "metadata": {
    "slideshow": {
     "slide_type": "subslide"
    }
   },
   "source": [
    "- `full_name()` 메소드에 대해서도 동일하게 처리할 수 있다. "
   ]
  },
  {
   "cell_type": "code",
   "execution_count": 73,
   "metadata": {
    "slideshow": {
     "slide_type": "fragment"
    }
   },
   "outputs": [],
   "source": [
    "class mds_member:\n",
    "    \n",
    "    def __init__(self, first, last):\n",
    "        self.first = first\n",
    "        self.last = last\n",
    "    \n",
    "    @property           # 속성 장식자\n",
    "    def full_name(self):\n",
    "        return f\"{self.first} {self.last}\"\n",
    "    \n",
    "    @property           # 속성 장식자\n",
    "    def email(self):\n",
    "        return self.first.lower() + \".\" + self.last.lower() + \"@mds.com\""
   ]
  },
  {
   "cell_type": "code",
   "execution_count": 74,
   "metadata": {
    "slideshow": {
     "slide_type": "fragment"
    }
   },
   "outputs": [
    {
     "data": {
      "text/plain": [
       "'Tom Beuzen'"
      ]
     },
     "execution_count": 74,
     "metadata": {},
     "output_type": "execute_result"
    }
   ],
   "source": [
    "mds_1 = mds_member('Tom', 'Beuzen')\n",
    "mds_1.full_name                     # 속성처럼 사용 "
   ]
  },
  {
   "cell_type": "markdown",
   "metadata": {
    "slideshow": {
     "slide_type": "subslide"
    }
   },
   "source": [
    "- 하지만 이번에는 풀 네임을 변경하고 싶다면 어떻게 해야 하는가?"
   ]
  },
  {
   "cell_type": "code",
   "execution_count": 75,
   "metadata": {
    "slideshow": {
     "slide_type": "fragment"
    },
    "tags": [
     "raises-exception"
    ]
   },
   "outputs": [
    {
     "ename": "AttributeError",
     "evalue": "can't set attribute",
     "output_type": "error",
     "traceback": [
      "\u001b[1;31m---------------------------------------------------------------------------\u001b[0m",
      "\u001b[1;31mAttributeError\u001b[0m                            Traceback (most recent call last)",
      "\u001b[1;32m~\\AppData\\Local\\Temp/ipykernel_25236/4245882528.py\u001b[0m in \u001b[0;36m<module>\u001b[1;34m\u001b[0m\n\u001b[1;32m----> 1\u001b[1;33m \u001b[0mmds_1\u001b[0m\u001b[1;33m.\u001b[0m\u001b[0mfull_name\u001b[0m \u001b[1;33m=\u001b[0m \u001b[1;34m'Thomas Beuzen'\u001b[0m  \u001b[1;31m# 값을 변경할 수 없다는 오류\u001b[0m\u001b[1;33m\u001b[0m\u001b[1;33m\u001b[0m\u001b[0m\n\u001b[0m",
      "\u001b[1;31mAttributeError\u001b[0m: can't set attribute"
     ]
    }
   ],
   "source": [
    "mds_1.full_name = 'Thomas Beuzen'  # 값을 변경할 수 없다는 오류 "
   ]
  },
  {
   "cell_type": "markdown",
   "metadata": {
    "slideshow": {
     "slide_type": "fragment"
    }
   },
   "source": [
    "- 값을 변경할 수 없다는 `AttributeError: can't set attribute` 예외가 발생한다.  \n",
    "  - 객체는 우리가 지정한 값을 어떻게 처리해야 할지 모른다. \n",
    "  - 우리가 지정한 풀 네임으로 `self.first`와 `self.last` 속성을 변경해준다면 최상일 것이다. \n",
    "  - 이를 해결하는 방법으로서  \n",
    "    `@<attribute>.setter` 장식자를 사용하는 `설정자(setter)`가 필요하다:"
   ]
  },
  {
   "cell_type": "code",
   "execution_count": 76,
   "metadata": {
    "slideshow": {
     "slide_type": "subslide"
    }
   },
   "outputs": [],
   "source": [
    "class mds_member:\n",
    "    \n",
    "    def __init__(self, first, last):\n",
    "        self.first = first\n",
    "        self.last = last\n",
    "    \n",
    "    @property\n",
    "    def full_name(self):\n",
    "        return f\"{self.first} {self.last}\"\n",
    "    \n",
    "    @full_name.setter       # 설정자로 장식\n",
    "    def full_name(self, name):\n",
    "        first, last = name.split(' ')\n",
    "        self.first = first\n",
    "        self.last = last\n",
    "    \n",
    "    @property\n",
    "    def email(self):\n",
    "        return self.first.lower() + \".\" + self.last.lower() + \"@mds.com\""
   ]
  },
  {
   "cell_type": "code",
   "execution_count": 77,
   "metadata": {
    "slideshow": {
     "slide_type": "fragment"
    }
   },
   "outputs": [
    {
     "name": "stdout",
     "output_type": "stream",
     "text": [
      "Thomas\n",
      "Beuzen\n",
      "thomas.beuzen@mds.com\n",
      "Thomas Beuzen\n"
     ]
    }
   ],
   "source": [
    "mds_1 = mds_member('Tom', 'Beuzen')  # first를 실수로 'Tom'으로 입력하여...\n",
    "mds_1.full_name = 'Thomas Beuzen'    # 풀 네임을 수정하니, 성공! (설정자가 구현되었기에)\n",
    "print(mds_1.first)\n",
    "print(mds_1.last)\n",
    "print(mds_1.email)\n",
    "print(mds_1.full_name)"
   ]
  },
  {
   "cell_type": "markdown",
   "metadata": {
    "slideshow": {
     "slide_type": "subslide"
    }
   },
   "source": [
    "- 거의 끝났다.  \n",
    "  - 지금까지  \n",
    "    정보를 가져오는 획득자(getter)와  \n",
    "    정보를 설정하는 설정자(setter)를 공부했다. \n",
    "  - 정보를 삭제하고 싶다면?\n",
    "  - `@<attribute>.deleter` 장식자를 사용하여 삭제자(deleter)를 구현해야 한다. "
   ]
  },
  {
   "cell_type": "code",
   "execution_count": 78,
   "metadata": {
    "slideshow": {
     "slide_type": "subslide"
    }
   },
   "outputs": [],
   "source": [
    "class mds_member:\n",
    "    \n",
    "    def __init__(self, first, last):\n",
    "        self.first = first\n",
    "        self.last = last\n",
    "    \n",
    "    @property\n",
    "    def full_name(self):\n",
    "        return f\"{self.first} {self.last}\"\n",
    "    \n",
    "    @full_name.setter\n",
    "    def full_name(self, name):\n",
    "        first, last = name.split(' ')\n",
    "        self.first = first\n",
    "        self.last = last\n",
    "        \n",
    "    @full_name.deleter          # 삭제자로 장식\n",
    "    def full_name(self):\n",
    "        print('Name deleted!')\n",
    "        self.first = None\n",
    "        self.last = None\n",
    "    \n",
    "    @property\n",
    "    def email(self):\n",
    "        return self.first.lower() + \".\" + self.last.lower() + \"@mds.com\""
   ]
  },
  {
   "cell_type": "code",
   "execution_count": 79,
   "metadata": {
    "slideshow": {
     "slide_type": "fragment"
    }
   },
   "outputs": [
    {
     "name": "stdout",
     "output_type": "stream",
     "text": [
      "Name deleted!\n",
      "None\n",
      "None\n"
     ]
    }
   ],
   "source": [
    "mds_1 = mds_member('Tom', 'Beuzen')\n",
    "delattr(mds_1, \"full_name\")     # delattr() 함수로 객체의 속성을 삭제\n",
    "print(mds_1.first)\n",
    "print(mds_1.last)"
   ]
  },
  {
   "cell_type": "markdown",
   "metadata": {
    "slideshow": {
     "slide_type": "subslide"
    }
   },
   "source": [
    "- 단위 테스트와 클래스 공부를 모두 마친 여러분에게 축하를 전합니다.  \n",
    "  내용도 많았고, 일부 내용은 다소 어려운 수준이었습니다.  \n",
    "  미래를 위하여 한번 봐 둔다는 편안한 마음으로 받아들여 주세요.\n",
    "  여러분 모두 고생했습니다. \n",
    "\n",
    "<div style=\"page-break-after: always;\"></div>   "
   ]
  },
  {
   "cell_type": "markdown",
   "metadata": {
    "slideshow": {
     "slide_type": "fragment"
    }
   },
   "source": [
    "- 이어지는 5 장에서는 다음 내용으로 파이썬 언어 공부를 마무리합니다. \n",
    "  - 스타일 지침\n",
    "  - 파이썬 스크립트\n",
    "  - 라이브러리 수입\n",
    "  - 파이썬의 난해한 동작\n",
    "\n",
    "- 5장까지 파이썬 언어 공부를 마치면, 본격적으로 데이터 분석 공부를 진행합시다.\n",
    "  - 넘파이\n",
    "  - 판다스\n",
    "  - 데이터 정제\n",
    "  - 데이터 분석\n",
    "  - 데이터 시각화\n",
    "  - ..."
   ]
  }
 ],
 "metadata": {
  "anaconda-cloud": {},
  "celltoolbar": "Slideshow",
  "interpreter": {
   "hash": "6407b87c2d96350ceea2422ba828a2f6c03b3557c06aa8fa9ff406e31dc3ef4f"
  },
  "kernelspec": {
   "display_name": "Python 3 (ipykernel)",
   "language": "python",
   "name": "python3"
  },
  "language_info": {
   "codemirror_mode": {
    "name": "ipython",
    "version": 3
   },
   "file_extension": ".py",
   "mimetype": "text/x-python",
   "name": "python",
   "nbconvert_exporter": "python",
   "pygments_lexer": "ipython3",
   "version": "3.8.11"
  },
  "latex_envs": {
   "LaTeX_envs_menu_present": true,
   "autoclose": false,
   "autocomplete": true,
   "bibliofile": "biblio.bib",
   "cite_by": "apalike",
   "current_citInitial": 1,
   "eqLabelWithNumbers": true,
   "eqNumInitial": 1,
   "hotkeys": {
    "equation": "Ctrl-E",
    "itemize": "Ctrl-I"
   },
   "labels_anchors": false,
   "latex_user_defs": false,
   "report_style_numbering": false,
   "user_envs_cfg": false
  },
  "toc": {
   "base_numbering": 1,
   "nav_menu": {},
   "number_sections": false,
   "sideBar": true,
   "skip_h1_title": true,
   "title_cell": "목차",
   "title_sidebar": "목차",
   "toc_cell": false,
   "toc_position": {
    "height": "calc(100% - 180px)",
    "left": "10px",
    "top": "150px",
    "width": "182.391px"
   },
   "toc_section_display": true,
   "toc_window_display": true
  },
  "varInspector": {
   "cols": {
    "lenName": 16,
    "lenType": 16,
    "lenVar": 40
   },
   "kernels_config": {
    "python": {
     "delete_cmd_postfix": "",
     "delete_cmd_prefix": "del ",
     "library": "var_list.py",
     "varRefreshCmd": "print(var_dic_list())"
    },
    "r": {
     "delete_cmd_postfix": ") ",
     "delete_cmd_prefix": "rm(",
     "library": "var_list.r",
     "varRefreshCmd": "cat(var_dic_list()) "
    }
   },
   "types_to_exclude": [
    "module",
    "function",
    "builtin_function_or_method",
    "instance",
    "_Feature"
   ],
   "window_display": false
  }
 },
 "nbformat": 4,
 "nbformat_minor": 4
}
