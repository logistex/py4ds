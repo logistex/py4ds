{
 "cells": [
  {
   "cell_type": "markdown",
   "id": "c061d889",
   "metadata": {},
   "source": [
    "# 신교수 강의 노트"
   ]
  },
  {
   "cell_type": "markdown",
   "id": "db03870d",
   "metadata": {},
   "source": [
    "## 데이터 과학을 위한 파이썬 \n",
    "\n",
    "- 과정 소개\n",
    "  - 원저: [Python Programming for Data Science](https://www.tomasbeuzen.com/python-programming-for-data-science/README.html)\n",
    "  - 편저: 신해웅\n",
    "  - 저작권: By Tomas Beuzen © Copyright 2021 \n",
    "  - 내용: 캐나다 브리티시 컬럼비아 대학의 데이터 과학 과정에서 진행하는 파이썬 프로그래밍 커리큘럼이다.\n",
    "\n",
    "- [로드맵](https://colab.research.google.com/github/logistex/py4ds/blob/main/0_roadmap.ipynb) \n",
    "- [실습 환경 준비](https://colab.research.google.com/drive/1O4LAE26APijP1uI63PvR-nKmi8YkV82L?hl=ko#scrollTo=b6rd7ThOj3Ng)\n",
    "- [파이썬 자료형](https://colab.research.google.com/drive/12pwcHFn_yAPDU6nKZHNNwyuxZY6E896F?hl=ko#scrollTo=9H22w6XgmEaT)\n",
    "- [제어 구조와 함수](https://colab.research.google.com/drive/1f7HhrYfeuqgDOb6h92kvHgkn1jc_YV5S?hl=ko)\n",
    "- [문서화 문자열, 테스트 및 클래스](https://colab.research.google.com/drive/13JwDQYtNJYqz_bsogyajPhX5lwPS1qzr?hl=ko)\n",
    "- [스타일, 스크립트 및 라이브러리](https://colab.research.google.com/drive/1M421qsx-cHowiPYVR7tmsUa0jFuAnpLN?hl=ko#scrollTo=SDmihVEHxVge)"
   ]
  },
  {
   "cell_type": "markdown",
   "id": "a0174c56",
   "metadata": {},
   "source": [
    "## 데이터 과학을 위한 데이터 분석 \n",
    "\n",
    "- 과정 소개\n",
    "  - 원저: [Python Programming for Data Science](https://www.tomasbeuzen.com/python-programming-for-data-science/README.html)\n",
    "  - 편저: 신해웅\n",
    "  - 저작권: By Tomas Beuzen © Copyright 2021 \n",
    "  - 내용: 캐나다 브리티시 컬럼비아 대학의 데이터 과학 과정에서 진행하는 데이터 분석 커리큘럼이다.\n",
    "- [로드맵](https://colab.research.google.com/drive/17EmZQHS9XaEKXLPjQ28__4ca5XFWWWqH?hl=ko) \n",
    "- [실습 환경 준비](https://colab.research.google.com/drive/191pHvpLmJaxbqlNRmwRfm2lVDsR-uXxt?hl=ko)\n",
    "- [넘파이](https://colab.research.google.com/drive/1fT0781aRIojAC7LOKgCQOzeR2z0tODbJ?hl=ko)\n",
    "- [판다스](https://colab.research.google.com/drive/10X1KZcBI703H68RsLTPc_Qmk3hiqvDcq?hl=ko)\n",
    "- [데이터 정제 및 분석 기본](https://colab.research.google.com/drive/1YGuWvX3TBXLn7h-4A7Q30rqwgB1uRnyY?hl=ko)\n",
    "- [데이터 정제 및 분석 응용](https://colab.research.google.com/drive/1PtNmmbCd1Ivgl40UVGB974AnM3rhVhuA?hl=ko)"
   ]
  },
  {
   "cell_type": "markdown",
   "id": "f1094bf1",
   "metadata": {},
   "source": [
    "## 데이터 과학을 위한 데이터 시각화 \n",
    "\n",
    "- 과정 소개\n",
    "  - 원저: [Visualization Curriculum](https://uwdata.github.io/visualization-curriculum)\n",
    "  - 편저: 신해웅\n",
    "  - 저작권: By Jeffrey Heer, Dominik Moritz, Jake VanderPlas, and Brock Craft © Copyright 2020.\n",
    "  - 내용: 미국 워싱턴 대학의 데이터 과학 과정에서 진행하는 Vega-Lite 및 Altair를 사용하는 데이터 시각화 커리큘럼이다. \n",
    "\n",
    "- [알테어 데모](https://colab.research.google.com/drive/1c17wPmSI-mIBer9RD6blxt7RsdQPfaXA?hl=ko#scrollTo=-KvZR0sKXKXW)\n",
    "- [알테어 시각화 결과를 장고로 배포하기](https://colab.research.google.com/drive/1Na-eyaG44q1M2IdSUT9EOcTmnRGr3fIx?hl=ko#scrollTo=f384fc2b)\n",
    "- [알테어 소개](https://colab.research.google.com/drive/1g3bEu7RjWPa-OzdpZ-6yd5oI-gyMFpqu?hl=ko)\n",
    "- [데이터 유형, 마크 및 인코딩 채널](https://colab.research.google.com/drive/1lpF753_hH9zpEXTki89YIY-Nd28HlW8c?hl=ko)\n",
    "- [데이터 변환](https://colab.research.google.com/drive/1d5yfOu3RIPgv3V9I-eZ_ZY1Bx313Dw8K?hl=ko)\n",
    "- [눈금, 축 및 범례](https://colab.research.google.com/drive/1FRLOSaNPO1b-Da6nKvDwaaoBZi0_EifW?hl=ko#scrollTo=yvgDmqC1cCJ3)\n",
    "- [다중 뷰 구성](https://colab.research.google.com/drive/13EBQIAWMn_WrcixFG7wUVCyVYDhhKj1W?hl=ko)\n",
    "- [상호작용](https://colab.research.google.com/github/logistex/vc/blob/master/06_altair_interaction.ipynb?hl=ko) (번역 중...)\n",
    "- [지도 시각화](https://colab.research.google.com/github/logistex/vc/blob/master/07_altair_cartographic.ipynb?hl=ko) (번역 중...)\n",
    "- [디버깅 지침](https://colab.research.google.com/github/logistex/vc/blob/master/08_altair_debugging.ipynb?hl=ko) (번역 중...)\n"
   ]
  }
 ],
 "metadata": {
  "kernelspec": {
   "display_name": "Python 3 (ipykernel)",
   "language": "python",
   "name": "python3"
  },
  "language_info": {
   "codemirror_mode": {
    "name": "ipython",
    "version": 3
   },
   "file_extension": ".py",
   "mimetype": "text/x-python",
   "name": "python",
   "nbconvert_exporter": "python",
   "pygments_lexer": "ipython3",
   "version": "3.8.11"
  },
  "latex_envs": {
   "LaTeX_envs_menu_present": true,
   "autoclose": false,
   "autocomplete": true,
   "bibliofile": "biblio.bib",
   "cite_by": "apalike",
   "current_citInitial": 1,
   "eqLabelWithNumbers": true,
   "eqNumInitial": 1,
   "hotkeys": {
    "equation": "Ctrl-E",
    "itemize": "Ctrl-I"
   },
   "labels_anchors": false,
   "latex_user_defs": false,
   "report_style_numbering": false,
   "user_envs_cfg": false
  },
  "toc": {
   "base_numbering": 1,
   "nav_menu": {},
   "number_sections": false,
   "sideBar": true,
   "skip_h1_title": true,
   "title_cell": "Table of Contents",
   "title_sidebar": "Contents",
   "toc_cell": false,
   "toc_position": {},
   "toc_section_display": true,
   "toc_window_display": true
  },
  "varInspector": {
   "cols": {
    "lenName": 16,
    "lenType": 16,
    "lenVar": 40
   },
   "kernels_config": {
    "python": {
     "delete_cmd_postfix": "",
     "delete_cmd_prefix": "del ",
     "library": "var_list.py",
     "varRefreshCmd": "print(var_dic_list())"
    },
    "r": {
     "delete_cmd_postfix": ") ",
     "delete_cmd_prefix": "rm(",
     "library": "var_list.r",
     "varRefreshCmd": "cat(var_dic_list()) "
    }
   },
   "types_to_exclude": [
    "module",
    "function",
    "builtin_function_or_method",
    "instance",
    "_Feature"
   ],
   "window_display": false
  }
 },
 "nbformat": 4,
 "nbformat_minor": 5
}
