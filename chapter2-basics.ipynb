{
 "cells": [
  {
   "cell_type": "markdown",
   "metadata": {
    "slideshow": {
     "slide_type": "slide"
    }
   },
   "source": [
    "![12_dtype](https://user-images.githubusercontent.com/10287629/144736789-7e224d22-85ac-4949-ac9d-96dff37257ae.png)\n",
    "\n",
    "<div style=\"page-break-after: always;\"></div> "
   ]
  },
  {
   "cell_type": "markdown",
   "metadata": {
    "slideshow": {
     "slide_type": "slide"
    }
   },
   "source": [
    "<h2>학습 목표<span class=\"tocSkip\"></span></h2>\n",
    "\n",
    "- 파이썬 기본 자료형인 `int`, `float`, `string`, `list`, `dict`, `tuple` 등을  \n",
    "  구별하여 활용할 수 있고, 생성할 수 있다. \n",
    "- 수치 값에 대하여 `+`, `-`, `*`, `/`, `**`와 같은 수치 연산을 수행할 수 있다. \n",
    "- 문자열을 다루기 위하여  \n",
    "  `.lower()`, `.split()`와 같은 문자열 연산을 수행할 수 있다. \n",
    "- 비교 연산자(`==`, `!=`, `>` 등)와 논리 연산자(`and`, `or`, `not`)를 이용하여  \n",
    "  비교 및 논리 연산을 수행할 수 있다.\n",
    "- 튜플, 리스트, 문자열 및 사전에 대하여  \n",
    "  지정, 인덱싱, 슬라이싱 및 부분집합 등을 수행할 수 있다. \n",
    "- 리스트와 같이 수정 가능한 객체와 튜플과 같이 수정 불가능한 객체를 구별할 수 있다.  \n",
    "\n",
    "<div style=\"page-break-after: always;\"></div> "
   ]
  },
  {
   "cell_type": "markdown",
   "metadata": {
    "slideshow": {
     "slide_type": "slide"
    }
   },
   "source": [
    "## 1. 파이썬 기본 자료형"
   ]
  },
  {
   "cell_type": "markdown",
   "metadata": {
    "slideshow": {
     "slide_type": "fragment"
    }
   },
   "source": [
    "- **값**(value)은 수치나 텍스트와 같은 데이터 조각을 의미하며,  \n",
    "  컴퓨터 프로그램의 작업 대상이다. \n",
    "- 값에 대한 **자료형**(data type)이 다양하게 준비되어 있다. \n",
    "    - `42`는 정수(integer)이고, `3.14`는 실수(float)이다. \n",
    "    - `\"안녕\"`은 문자열(string)이고, `True`는 논리(boolean) 자료형이다."
   ]
  },
  {
   "cell_type": "markdown",
   "metadata": {
    "slideshow": {
     "slide_type": "subslide"
    }
   },
   "source": [
    "- **변수**(variable)는 값을 참조하는 이름이다. \n",
    "    - 수학이나 통계학에서는 보통 $x$ 및 $y$와 같은 변수 이름을 사용한다. \n",
    "    - 파이썬에서는  \n",
    "      문자로 시작하거나 언더스코어(`_`)로 시작하는 어떤 단어라도  \n",
    "      변수로 사용할 수 있다.\n",
    "    - 하지만 [예약어](https://docs.python.org/3.3/reference/lexical_analysis.html#keywords)를 변수 이름으로 사용할 수는 없다.  \n",
    "      `for`, `while`, `class`, `lambda`, 등은 특별한 기능을 발휘하기 위해  \n",
    "      예약된 단어이므로 변수 이름으로 쓰지 말아야 한다. \n",
    "    - 변수는 (단일 수치 값, 단일 벡터, 단일 문자열, 등과 같은)  \n",
    "      어떤 정보를 담아두는 상자와 유사하다.\n",
    "- **지정 연산자**(assignment operator) `=`을 사용하여  \n",
    "  변수에 값을 지정(혹은 저장)할 수 있다.    "
   ]
  },
  {
   "cell_type": "markdown",
   "metadata": {
    "slideshow": {
     "slide_type": "fragment"
    }
   },
   "source": [
    "\n",
    "|![그림 1-1. 상자에 물건을 넣듯이, 변수에 값을 저장하는 개념](https://user-images.githubusercontent.com/10287629/144738410-41cc18c9-7b47-42e6-ba8d-ad5c4b4100bd.png)<br>그림 1-1. 상자에 물건을 넣듯이, 변수에 값을 저장하는 개념<br>출처: [medium.com](https://www.google.com/url?sa=i&url=https%3A%2F%2Fmedium.com%2F%40stevenpcurtis.sc%2Fwhat-is-a-variable-3447ac1331b9&psig=AOvVaw3YbYfgb7XFOJ_sHP5eliob&ust=1595365663851000&source=images&cd=vfe&ved=0CA0QjhxqFwoTCMi8nrfe3OoCFQAAAAAdAAAAABAZ)|\n",
    "|:---|\n",
    "\n",
    "- 파이썬 기본 자료형에 대해서는 다음 문서를 확인하라.\n",
    "  - [파이썬 기본 자료형](https://wikidocs.net/14641)\n",
    "  - [Python 3 documentation](https://docs.python.org/3/library/stdtypes.html)\n",
    "  \n",
    "<div style=\"page-break-after: always;\"></div> "
   ]
  },
  {
   "cell_type": "markdown",
   "metadata": {
    "slideshow": {
     "slide_type": "slide"
    }
   },
   "source": [
    "### 1.1 파이썬 기본 자료형\n",
    "\n",
    "| 영문<br>이름             | 자료형<br>이름| 자료형<br>카테고리| 설명                                    | 예제                                       |\n",
    "| :-------------------- | :--------- | :------------- | :-------------------------------------- | :----------------------------------------- |\n",
    "| integer               | `int`      | Numeric Type   | 부호를 구분하는 정수 자료형             | `42`                                       |\n",
    "| floating point number | `float`    | Numeric Type   | 십진수 형식의 실수 자료형               | `3.14159`                                  |\n",
    "| boolean               | `bool`     | Boolean Values | 참/거짓으로 구분하는 논리 자료형        | `True`                                     |\n",
    "| string                | `str`      | Sequence Type  | 텍스트                                  | `\"안녕하세요?\"`                            |\n",
    "| list                  | `list`     | Sequence Type  | 객체의 집합체 (수정 및 정렬 가능)       | `['김씨', '박씨', '이씨']`                 |\n",
    "| tuple                 | `tuple`    | Sequence Type  | 객체의 집합체 (수정 불가능, 정렬 가능)  | `('수요일', 6, 9, 2021)`                   |\n",
    "| dictionary            | `dict`     | Mapping Type   | 키-값(key-value) 순서쌍                 | `{'name':'최씨', 'code':511, 'credits':2}` |\n",
    "| none                  | `NoneType` | Null Object    | 값이 지정되지 않았다는 표시             | `None`                                     |\n",
    "\n",
    "<div style=\"page-break-after: always;\"></div> "
   ]
  },
  {
   "cell_type": "markdown",
   "metadata": {
    "slideshow": {
     "slide_type": "slide"
    }
   },
   "source": [
    "### 1.2 수치 자료형"
   ]
  },
  {
   "cell_type": "markdown",
   "metadata": {
    "slideshow": {
     "slide_type": "subslide"
    }
   },
   "source": [
    "- 수치 자료형에는 세 종류가 있다. \n",
    "    - 정수\n",
    "    - 실수\n",
    "    - 복소수 (본 교재에서는 다루지 않는다.)\n",
    "- 파이썬 `type()` 함수로 객체의 자료형을 확인할 수 있다. \n",
    "- 파이썬 `print()` 함수로 객체의 값을 출력할 수 있다.  "
   ]
  },
  {
   "cell_type": "code",
   "execution_count": 1,
   "metadata": {
    "slideshow": {
     "slide_type": "fragment"
    }
   },
   "outputs": [],
   "source": [
    "x = 42  # 변수 x에 값 `42`를 지정"
   ]
  },
  {
   "cell_type": "code",
   "execution_count": 2,
   "metadata": {
    "slideshow": {
     "slide_type": "fragment"
    }
   },
   "outputs": [
    {
     "data": {
      "text/plain": [
       "int"
      ]
     },
     "execution_count": 2,
     "metadata": {},
     "output_type": "execute_result"
    }
   ],
   "source": [
    "type(x)  # 변수 x의 자료형 확인"
   ]
  },
  {
   "cell_type": "code",
   "execution_count": 3,
   "metadata": {
    "slideshow": {
     "slide_type": "fragment"
    }
   },
   "outputs": [
    {
     "name": "stdout",
     "output_type": "stream",
     "text": [
      "42\n"
     ]
    }
   ],
   "source": [
    "print(x)  # 변수 x의 값을 출력 "
   ]
  },
  {
   "cell_type": "markdown",
   "metadata": {
    "slideshow": {
     "slide_type": "subslide"
    }
   },
   "source": [
    "- 주피터(Jupyter)/IPython(파이썬 상호작용형 버전)에서는,  \n",
    "  코드 셀의 마지막 행에 써준 변수의 내용이 자동적으로 출력되므로,  \n",
    "  굳이 `print()` 명령을 쓰지 않아도 된다. "
   ]
  },
  {
   "cell_type": "code",
   "execution_count": 4,
   "metadata": {
    "slideshow": {
     "slide_type": "fragment"
    }
   },
   "outputs": [
    {
     "data": {
      "text/plain": [
       "42"
      ]
     },
     "execution_count": 4,
     "metadata": {},
     "output_type": "execute_result"
    }
   ],
   "source": [
    "x  # 명령행의 마지막에 나오는 `#` 표시 이후는 주석으로 간주되어 실행 대상에서 제외된다. "
   ]
  },
  {
   "cell_type": "code",
   "execution_count": 5,
   "metadata": {
    "slideshow": {
     "slide_type": "fragment"
    }
   },
   "outputs": [
    {
     "data": {
      "text/plain": [
       "3.14159"
      ]
     },
     "execution_count": 5,
     "metadata": {},
     "output_type": "execute_result"
    }
   ],
   "source": [
    "pi = 3.14159  # 변수에 실수를 지정\n",
    "pi"
   ]
  },
  {
   "cell_type": "code",
   "execution_count": 6,
   "metadata": {
    "slideshow": {
     "slide_type": "fragment"
    }
   },
   "outputs": [
    {
     "data": {
      "text/plain": [
       "float"
      ]
     },
     "execution_count": 6,
     "metadata": {},
     "output_type": "execute_result"
    }
   ],
   "source": [
    "type(pi)  # 변수의 자료형 확인"
   ]
  },
  {
   "cell_type": "markdown",
   "metadata": {
    "slideshow": {
     "slide_type": "slide"
    }
   },
   "source": [
    "<div style=\"page-break-after: always;\"></div> \n",
    "\n",
    "### 1.3 수치 연산\n",
    "\n",
    "- 파이썬 수치 연산자를 정리한 표이다. \n",
    "\n",
    "| 연산자   |   설명    |\n",
    "| :------: | :--------------: |\n",
    "|   `+`    |     덧셈     |\n",
    "|   `-`    |   뺄셈    |\n",
    "|   `*`    |  곱셈  |\n",
    "|   `/`    |     나눗셈     |\n",
    "|   `**`   |  제곱  |\n",
    "|   `//`   | 정수 나눗셈 (소숫점 이하 버림 처리) |\n",
    "|   `%`    |      나눗셈의 나머지 (modulo)      |\n",
    "\n",
    "- 수치형 값에 이들 연산자를 적용하고 그 결과를 살펴보자. "
   ]
  },
  {
   "cell_type": "code",
   "execution_count": 7,
   "metadata": {
    "slideshow": {
     "slide_type": "fragment"
    }
   },
   "outputs": [
    {
     "data": {
      "text/plain": [
       "6"
      ]
     },
     "execution_count": 7,
     "metadata": {},
     "output_type": "execute_result"
    }
   ],
   "source": [
    "1 + 2 + 3  # 덧셈"
   ]
  },
  {
   "cell_type": "code",
   "execution_count": 8,
   "metadata": {
    "slideshow": {
     "slide_type": "fragment"
    }
   },
   "outputs": [
    {
     "data": {
      "text/plain": [
       "6.28318"
      ]
     },
     "execution_count": 8,
     "metadata": {},
     "output_type": "execute_result"
    }
   ],
   "source": [
    "2 * 3.14159  # 곱셈"
   ]
  },
  {
   "cell_type": "code",
   "execution_count": 9,
   "metadata": {
    "slideshow": {
     "slide_type": "fragment"
    }
   },
   "outputs": [
    {
     "data": {
      "text/plain": [
       "1024"
      ]
     },
     "execution_count": 9,
     "metadata": {},
     "output_type": "execute_result"
    }
   ],
   "source": [
    "2 ** 10  # 제곱"
   ]
  },
  {
   "cell_type": "markdown",
   "metadata": {
    "slideshow": {
     "slide_type": "subslide"
    }
   },
   "source": [
    "- 나눗셈의 결과는 예상과 다른 자료형이 생성되기도 하는데,  \n",
    "  정수끼리 나눈 결과가 실수일 수 있다."
   ]
  },
  {
   "cell_type": "code",
   "execution_count": 10,
   "metadata": {
    "slideshow": {
     "slide_type": "fragment"
    }
   },
   "outputs": [
    {
     "data": {
      "text/plain": [
       "int"
      ]
     },
     "execution_count": 10,
     "metadata": {},
     "output_type": "execute_result"
    }
   ],
   "source": [
    "int_2 = 2    # 변수에 정수를 지정\n",
    "type(int_2)  # 변수의 자료형을 확인하면 int"
   ]
  },
  {
   "cell_type": "code",
   "execution_count": 11,
   "metadata": {
    "slideshow": {
     "slide_type": "fragment"
    }
   },
   "outputs": [
    {
     "data": {
      "text/plain": [
       "1.0"
      ]
     },
     "execution_count": 11,
     "metadata": {},
     "output_type": "execute_result"
    }
   ],
   "source": [
    "int_2 / int_2  # 정수형끼리 나눈 결과가 실수형으로 생성됨"
   ]
  },
  {
   "cell_type": "code",
   "execution_count": 12,
   "metadata": {
    "slideshow": {
     "slide_type": "fragment"
    }
   },
   "outputs": [
    {
     "data": {
      "text/plain": [
       "float"
      ]
     },
     "execution_count": 12,
     "metadata": {},
     "output_type": "execute_result"
    }
   ],
   "source": [
    "type(int_2 / int_2)  # 정수형 나눗셈의 결과 자료형을 확인하니 실수형"
   ]
  },
  {
   "cell_type": "markdown",
   "metadata": {
    "slideshow": {
     "slide_type": "subslide"
    }
   },
   "source": [
    "- `//` 연산자로 \"정수 나눗셈\"을 수행할 수 있다.  \n",
    "  결과에서 소숫점 이하 부분이 버림 처리되는데,   \n",
    "  영어로는 결과값이 바닥에 깔린다는 의미에서  \n",
    "  \"floor division\"이라고도 부른다.  \n",
    "  연산 결과는 정수형으로 생성된다.  "
   ]
  },
  {
   "cell_type": "code",
   "execution_count": 13,
   "metadata": {
    "slideshow": {
     "slide_type": "fragment"
    }
   },
   "outputs": [
    {
     "data": {
      "text/plain": [
       "50.5"
      ]
     },
     "execution_count": 13,
     "metadata": {},
     "output_type": "execute_result"
    }
   ],
   "source": [
    "101 / 2  # 일반적 나눗셈은 소숫점 이하까지 계산됨"
   ]
  },
  {
   "cell_type": "code",
   "execution_count": 14,
   "metadata": {
    "slideshow": {
     "slide_type": "fragment"
    }
   },
   "outputs": [
    {
     "data": {
      "text/plain": [
       "50"
      ]
     },
     "execution_count": 14,
     "metadata": {},
     "output_type": "execute_result"
    }
   ],
   "source": [
    "101 // 2  # \"정수 나눗셈\" - 소숫점 이하 버림 처리"
   ]
  },
  {
   "cell_type": "markdown",
   "metadata": {
    "slideshow": {
     "slide_type": "subslide"
    }
   },
   "source": [
    "- 정수 나눗셈은 나눗셈 수행 결과에 `int()` 함수를 적용한 결과와 비슷하다.  \n",
    "  `int()` 함수는 매개변수로 전달된 값을 버림 처리하여 정수로 변환하여 반환한다.  "
   ]
  },
  {
   "cell_type": "code",
   "execution_count": 15,
   "metadata": {
    "slideshow": {
     "slide_type": "fragment"
    }
   },
   "outputs": [
    {
     "data": {
      "text/plain": [
       "0"
      ]
     },
     "execution_count": 15,
     "metadata": {},
     "output_type": "execute_result"
    }
   ],
   "source": [
    "int(99 / 100)  # 계산 결과를 버림 처리하여 정수로 변환"
   ]
  },
  {
   "cell_type": "markdown",
   "metadata": {
    "slideshow": {
     "slide_type": "subslide"
    }
   },
   "source": [
    "- 나눗셈의 나머지를 구하려면 `%` 연산자를 쓸 수 있다. "
   ]
  },
  {
   "cell_type": "code",
   "execution_count": 16,
   "metadata": {
    "slideshow": {
     "slide_type": "fragment"
    }
   },
   "outputs": [
    {
     "data": {
      "text/plain": [
       "0"
      ]
     },
     "execution_count": 16,
     "metadata": {},
     "output_type": "execute_result"
    }
   ],
   "source": [
    "100 % 2  # \"100 mod 2\", 100을 2로 나누었을 때의 나머지를 계산"
   ]
  },
  {
   "cell_type": "code",
   "execution_count": 17,
   "metadata": {
    "slideshow": {
     "slide_type": "fragment"
    }
   },
   "outputs": [
    {
     "data": {
      "text/plain": [
       "1"
      ]
     },
     "execution_count": 17,
     "metadata": {},
     "output_type": "execute_result"
    }
   ],
   "source": [
    "101 % 2  # \"101 mod 2\", 101을 2로 나누었을 때의 나머지를 계산"
   ]
  },
  {
   "cell_type": "code",
   "execution_count": 18,
   "metadata": {
    "slideshow": {
     "slide_type": "fragment"
    }
   },
   "outputs": [
    {
     "data": {
      "text/plain": [
       "0.5"
      ]
     },
     "execution_count": 18,
     "metadata": {},
     "output_type": "execute_result"
    }
   ],
   "source": [
    "100.5 % 2  # 실수에 대한 나머지 연산"
   ]
  },
  {
   "cell_type": "markdown",
   "metadata": {
    "slideshow": {
     "slide_type": "slide"
    }
   },
   "source": [
    "<div style=\"page-break-after: always;\"></div> \n",
    "\n",
    "### 1.4 None\n",
    "\n",
    "파이썬 자료형의 일종인 `NoneType`은 <br>\n",
    "값이 지정되지 않았다는 의미인 `None` 값에 대한 자료형이다. "
   ]
  },
  {
   "cell_type": "code",
   "execution_count": 19,
   "metadata": {
    "slideshow": {
     "slide_type": "fragment"
    }
   },
   "outputs": [],
   "source": [
    "x = None  # 변수에 지정할 값이 없다는 의미 "
   ]
  },
  {
   "cell_type": "code",
   "execution_count": 20,
   "metadata": {
    "slideshow": {
     "slide_type": "fragment"
    }
   },
   "outputs": [
    {
     "name": "stdout",
     "output_type": "stream",
     "text": [
      "None\n"
     ]
    }
   ],
   "source": [
    "print(x)  # 출력 확인"
   ]
  },
  {
   "cell_type": "code",
   "execution_count": 21,
   "metadata": {
    "slideshow": {
     "slide_type": "fragment"
    }
   },
   "outputs": [
    {
     "data": {
      "text/plain": [
       "NoneType"
      ]
     },
     "execution_count": 21,
     "metadata": {},
     "output_type": "execute_result"
    }
   ],
   "source": [
    "type(x)  # 자료형 확인 "
   ]
  },
  {
   "cell_type": "markdown",
   "metadata": {
    "slideshow": {
     "slide_type": "slide"
    }
   },
   "source": [
    "<div style=\"page-break-after: always;\"></div> \n",
    "\n",
    "### 1.5 문자열(strings)\n",
    "\n",
    "- 텍스트는 `string`이란 자료형으로 저장되며,  \n",
    "  연속된 문자열을 의미한다. \n",
    "\n",
    "- 실질적으로 문자열은 일련의 유니코드 값이다.  \n",
    "  유니코드에 대한 추가적 정보는 [위키백과 유니코드](https://ko.wikipedia.org/wiki/유니코드) 및 [great blog post](https://www.joelonsoftware.com/2003/10/08/the-absolute-minimum-every-software-developer-absolutely-positively-must-know-about-unicode-and-character-sets-no-excuses/)를 참고하라. \n",
    "\n",
    "- 문자열은 연속된 문자들을 다음으로 둘러싼 형태로 표시한다:\n",
    "  - 작은 따옴표, 예를 들어서 `'여러분'`\n",
    "  - 큰 따옴표, 예를 들어서 `\"안녕\"`\n",
    "\n",
    "- 작은 따옴표를 쓴 문자열과 큰 따옴표를 쓴 문자열 간에는 아무 차이가 없다.\n",
    "  - 두 종류의 따옴표를 함께 써야만 하는 경우가 있다(아래 예제 참고). \n",
    "  - 연속된 큰 따옴표 3 개로 문자열을 둘러싸는 경우도 있는데,  \n",
    "    함수 문서화 등에서 사용한다:  \n",
    "    `\"\"\"이 함수는 두 숫자의 덧셈을 반환한다\"\"\"`와 같이 사용하며,  \n",
    "    아래에서 추가적인 예제로 설명한다.  "
   ]
  },
  {
   "cell_type": "code",
   "execution_count": 22,
   "metadata": {
    "slideshow": {
     "slide_type": "subslide"
    }
   },
   "outputs": [],
   "source": [
    "my_name = \"신교수\"  # (큰 따옴표로 둘러싼) 문자열 값을 변수에 저장"
   ]
  },
  {
   "cell_type": "code",
   "execution_count": 23,
   "metadata": {
    "slideshow": {
     "slide_type": "fragment"
    }
   },
   "outputs": [
    {
     "data": {
      "text/plain": [
       "'신교수'"
      ]
     },
     "execution_count": 23,
     "metadata": {},
     "output_type": "execute_result"
    }
   ],
   "source": [
    "my_name  # 저장된 문자열 값 확인"
   ]
  },
  {
   "cell_type": "code",
   "execution_count": 24,
   "metadata": {
    "slideshow": {
     "slide_type": "fragment"
    }
   },
   "outputs": [
    {
     "data": {
      "text/plain": [
       "str"
      ]
     },
     "execution_count": 24,
     "metadata": {},
     "output_type": "execute_result"
    }
   ],
   "source": [
    "type(my_name)  # 문자열을 저장한 변수의 자료형 확인"
   ]
  },
  {
   "cell_type": "code",
   "execution_count": 25,
   "metadata": {
    "slideshow": {
     "slide_type": "subslide"
    }
   },
   "outputs": [],
   "source": [
    "과목 = '데이터 분석 및 시각화'  # (작은 따옴표로 둘러싼) 문자열 값을 변수에 저장, 파이썬에서는 변수 이름을 한글로 지정 가능함"
   ]
  },
  {
   "cell_type": "code",
   "execution_count": 26,
   "metadata": {
    "slideshow": {
     "slide_type": "fragment"
    }
   },
   "outputs": [
    {
     "data": {
      "text/plain": [
       "'데이터 분석 및 시각화'"
      ]
     },
     "execution_count": 26,
     "metadata": {},
     "output_type": "execute_result"
    }
   ],
   "source": [
    "과목  # 이름이 한글로 된 변수의 값 확인"
   ]
  },
  {
   "cell_type": "code",
   "execution_count": 27,
   "metadata": {
    "slideshow": {
     "slide_type": "fragment"
    }
   },
   "outputs": [
    {
     "data": {
      "text/plain": [
       "str"
      ]
     },
     "execution_count": 27,
     "metadata": {},
     "output_type": "execute_result"
    }
   ],
   "source": [
    "type(과목)  # 변수의 자료형 확인"
   ]
  },
  {
   "cell_type": "markdown",
   "metadata": {
    "slideshow": {
     "slide_type": "subslide"
    }
   },
   "source": [
    "- 문자열 자체에  \n",
    "  작은 따옴표, 생략 또는 소유격 부호(apostrophe)가  \n",
    "  포함되어야 하는 경우에는  \n",
    "  문자열 전체를 큰 따옴표로 둘러싸야 한다.   \n",
    "  반대로 문자열 자체에 큰 따옴표가 포함되어야 한다면,  \n",
    "  문자열 전체를 작은 따옴표로 둘러싸면 된다. "
   ]
  },
  {
   "cell_type": "code",
   "execution_count": 28,
   "metadata": {
    "slideshow": {
     "slide_type": "fragment"
    }
   },
   "outputs": [],
   "source": [
    "sentence = \"It's a rainy day.\"  # 문자열 자체에 작은 따옴표가 생략 부호로 포함된 경우"
   ]
  },
  {
   "cell_type": "code",
   "execution_count": 29,
   "metadata": {
    "slideshow": {
     "slide_type": "fragment"
    }
   },
   "outputs": [
    {
     "data": {
      "text/plain": [
       "\"It's a rainy day.\""
      ]
     },
     "execution_count": 29,
     "metadata": {},
     "output_type": "execute_result"
    }
   ],
   "source": [
    "sentence"
   ]
  },
  {
   "cell_type": "code",
   "execution_count": 30,
   "metadata": {
    "slideshow": {
     "slide_type": "fragment"
    }
   },
   "outputs": [
    {
     "data": {
      "text/plain": [
       "str"
      ]
     },
     "execution_count": 30,
     "metadata": {},
     "output_type": "execute_result"
    }
   ],
   "source": [
    "type(sentence)"
   ]
  },
  {
   "cell_type": "code",
   "execution_count": 31,
   "metadata": {
    "slideshow": {
     "slide_type": "subslide"
    }
   },
   "outputs": [],
   "source": [
    "quote = 'Donald Knuth: \"Premature optimization is the root of all evil.\"'  # 문자열 자체에 큰 따옴표가 포함된 경우"
   ]
  },
  {
   "cell_type": "code",
   "execution_count": 32,
   "metadata": {
    "slideshow": {
     "slide_type": "fragment"
    }
   },
   "outputs": [
    {
     "data": {
      "text/plain": [
       "'Donald Knuth: \"Premature optimization is the root of all evil.\"'"
      ]
     },
     "execution_count": 32,
     "metadata": {},
     "output_type": "execute_result"
    }
   ],
   "source": [
    "quote"
   ]
  },
  {
   "cell_type": "markdown",
   "metadata": {
    "slideshow": {
     "slide_type": "slide"
    }
   },
   "source": [
    "<div style=\"page-break-after: always;\"></div> \n",
    "\n",
    "### 1.6 논리 자료형(boolean)\n",
    "\n",
    "논리 자료형 `bool`에는 두 가지 값이 존재한다: `True` 및 `False`."
   ]
  },
  {
   "cell_type": "code",
   "execution_count": 33,
   "metadata": {
    "slideshow": {
     "slide_type": "fragment"
    }
   },
   "outputs": [],
   "source": [
    "the_truth = True"
   ]
  },
  {
   "cell_type": "code",
   "execution_count": 34,
   "metadata": {
    "slideshow": {
     "slide_type": "fragment"
    }
   },
   "outputs": [
    {
     "data": {
      "text/plain": [
       "True"
      ]
     },
     "execution_count": 34,
     "metadata": {},
     "output_type": "execute_result"
    }
   ],
   "source": [
    "the_truth"
   ]
  },
  {
   "cell_type": "code",
   "execution_count": 35,
   "metadata": {
    "slideshow": {
     "slide_type": "fragment"
    }
   },
   "outputs": [
    {
     "data": {
      "text/plain": [
       "bool"
      ]
     },
     "execution_count": 35,
     "metadata": {},
     "output_type": "execute_result"
    }
   ],
   "source": [
    "type(the_truth)"
   ]
  },
  {
   "cell_type": "code",
   "execution_count": 36,
   "metadata": {
    "slideshow": {
     "slide_type": "subslide"
    }
   },
   "outputs": [],
   "source": [
    "lies = False"
   ]
  },
  {
   "cell_type": "code",
   "execution_count": 37,
   "metadata": {
    "slideshow": {
     "slide_type": "fragment"
    }
   },
   "outputs": [
    {
     "data": {
      "text/plain": [
       "False"
      ]
     },
     "execution_count": 37,
     "metadata": {},
     "output_type": "execute_result"
    }
   ],
   "source": [
    "lies"
   ]
  },
  {
   "cell_type": "code",
   "execution_count": 38,
   "metadata": {
    "slideshow": {
     "slide_type": "fragment"
    }
   },
   "outputs": [
    {
     "data": {
      "text/plain": [
       "bool"
      ]
     },
     "execution_count": 38,
     "metadata": {},
     "output_type": "execute_result"
    }
   ],
   "source": [
    "type(lies)"
   ]
  },
  {
   "cell_type": "markdown",
   "metadata": {
    "slideshow": {
     "slide_type": "slide"
    }
   },
   "source": [
    "<div style=\"page-break-after: always;\"></div> \n",
    "\n",
    "### 1.7 비교 연산자\n",
    "\n",
    "객체를 비교할 때 비교 연산자를 쓸 수 있으며,  \n",
    "그 결과는 논리 자료형으로 판정된다. \n",
    "\n",
    "| 연산자  | 설명                          |\n",
    "| :-------- | :----------------------------------- |\n",
    "| `x == y ` | `x`와 `y`가 동등한 값인가?                 |\n",
    "| `x != y`  | `x`와 `y`가 동등하지 않은 값인가?             |\n",
    "| `x > y`   | `x`가 `y`보다 큰가?             |\n",
    "| `x >= y`  | `x`가 `y`보다 크거나 같은가? |\n",
    "| `x < y`   | `x`가 `y`보다 작은가?                |\n",
    "| `x <= y`  | `x`가 `y`보다 작거나 같은가?    |\n",
    "| `x is y`  | `x`가 `y`와 같은 객체인가?       |"
   ]
  },
  {
   "cell_type": "code",
   "execution_count": 39,
   "metadata": {
    "slideshow": {
     "slide_type": "subslide"
    }
   },
   "outputs": [
    {
     "data": {
      "text/plain": [
       "True"
      ]
     },
     "execution_count": 39,
     "metadata": {},
     "output_type": "execute_result"
    }
   ],
   "source": [
    "2 < 3  # 2가 3보다 작은가?"
   ]
  },
  {
   "cell_type": "code",
   "execution_count": 40,
   "metadata": {
    "slideshow": {
     "slide_type": "fragment"
    }
   },
   "outputs": [
    {
     "data": {
      "text/plain": [
       "False"
      ]
     },
     "execution_count": 40,
     "metadata": {},
     "output_type": "execute_result"
    }
   ],
   "source": [
    "\"Deep learning\" == \"Solve all the world's problems\"  # 두 문자열이 동등한가?"
   ]
  },
  {
   "cell_type": "code",
   "execution_count": 41,
   "metadata": {
    "slideshow": {
     "slide_type": "fragment"
    }
   },
   "outputs": [
    {
     "data": {
      "text/plain": [
       "True"
      ]
     },
     "execution_count": 41,
     "metadata": {},
     "output_type": "execute_result"
    }
   ],
   "source": [
    "2 != \"2\"  # (숫자)2가 (문자) \"2\"와 동등하지 않은 값인가?"
   ]
  },
  {
   "cell_type": "code",
   "execution_count": 42,
   "metadata": {
    "slideshow": {
     "slide_type": "subslide"
    }
   },
   "outputs": [
    {
     "name": "stderr",
     "output_type": "stream",
     "text": [
      "<>:1: SyntaxWarning: \"is\" with a literal. Did you mean \"==\"?\n",
      "<>:1: SyntaxWarning: \"is\" with a literal. Did you mean \"==\"?\n",
      "C:\\Users\\logis\\AppData\\Local\\Temp/ipykernel_9404/3319517146.py:1: SyntaxWarning: \"is\" with a literal. Did you mean \"==\"?\n",
      "  2 is 2  # 2가 2와 같은 객체인가?\n"
     ]
    },
    {
     "data": {
      "text/plain": [
       "True"
      ]
     },
     "execution_count": 42,
     "metadata": {},
     "output_type": "execute_result"
    }
   ],
   "source": [
    "2 is 2  # 2가 2와 같은 객체인가?"
   ]
  },
  {
   "cell_type": "code",
   "execution_count": 43,
   "metadata": {
    "slideshow": {
     "slide_type": "fragment"
    }
   },
   "outputs": [
    {
     "data": {
      "text/plain": [
       "True"
      ]
     },
     "execution_count": 43,
     "metadata": {},
     "output_type": "execute_result"
    }
   ],
   "source": [
    "2 == 2.0  # 2가 2.0과 동등한 값인가?"
   ]
  },
  {
   "cell_type": "markdown",
   "metadata": {
    "slideshow": {
     "slide_type": "slide"
    }
   },
   "source": [
    "<div style=\"page-break-after: always;\"></div> \n",
    "\n",
    "### 1.8 논리 연산자\n",
    "\n",
    "- 논리 연산자는 두 논리 값에 대한 논리적 연산을 수행하며, 결과를 논리값으로 판정한다.\n",
    "\n",
    "| 연산자 | 설명 |\n",
    "| :---: | :--- |\n",
    "|`x and y`| `x`와 `y`가 모두 참(True)인가? |\n",
    "|`x or y` | `x`와 `y` 중에서 적어도 하나는 참(True)인가? |\n",
    "| `not x` | `x`가 거짓(False)인가? | "
   ]
  },
  {
   "cell_type": "code",
   "execution_count": 44,
   "metadata": {
    "slideshow": {
     "slide_type": "subslide"
    }
   },
   "outputs": [
    {
     "data": {
      "text/plain": [
       "True"
      ]
     },
     "execution_count": 44,
     "metadata": {},
     "output_type": "execute_result"
    }
   ],
   "source": [
    "True and True"
   ]
  },
  {
   "cell_type": "code",
   "execution_count": 45,
   "metadata": {
    "slideshow": {
     "slide_type": "fragment"
    }
   },
   "outputs": [
    {
     "data": {
      "text/plain": [
       "False"
      ]
     },
     "execution_count": 45,
     "metadata": {},
     "output_type": "execute_result"
    }
   ],
   "source": [
    "True and False"
   ]
  },
  {
   "cell_type": "code",
   "execution_count": 46,
   "metadata": {
    "slideshow": {
     "slide_type": "fragment"
    }
   },
   "outputs": [
    {
     "data": {
      "text/plain": [
       "True"
      ]
     },
     "execution_count": 46,
     "metadata": {},
     "output_type": "execute_result"
    }
   ],
   "source": [
    "True or False"
   ]
  },
  {
   "cell_type": "code",
   "execution_count": 47,
   "metadata": {
    "slideshow": {
     "slide_type": "fragment"
    }
   },
   "outputs": [
    {
     "data": {
      "text/plain": [
       "False"
      ]
     },
     "execution_count": 47,
     "metadata": {},
     "output_type": "execute_result"
    }
   ],
   "source": [
    "False or False"
   ]
  },
  {
   "cell_type": "code",
   "execution_count": 48,
   "metadata": {
    "slideshow": {
     "slide_type": "subslide"
    }
   },
   "outputs": [
    {
     "data": {
      "text/plain": [
       "True"
      ]
     },
     "execution_count": 48,
     "metadata": {},
     "output_type": "execute_result"
    }
   ],
   "source": [
    "(\"Python 2\" != \"Python 3\") and (2 <= 3)  # 논리(표현)식을 논리 연산자로 결합한 논리(표현)식"
   ]
  },
  {
   "cell_type": "code",
   "execution_count": 49,
   "metadata": {
    "slideshow": {
     "slide_type": "fragment"
    }
   },
   "outputs": [
    {
     "data": {
      "text/plain": [
       "True"
      ]
     },
     "execution_count": 49,
     "metadata": {},
     "output_type": "execute_result"
    }
   ],
   "source": [
    "True"
   ]
  },
  {
   "cell_type": "code",
   "execution_count": 50,
   "metadata": {
    "slideshow": {
     "slide_type": "fragment"
    }
   },
   "outputs": [
    {
     "data": {
      "text/plain": [
       "False"
      ]
     },
     "execution_count": 50,
     "metadata": {},
     "output_type": "execute_result"
    }
   ],
   "source": [
    "not True"
   ]
  },
  {
   "cell_type": "code",
   "execution_count": 51,
   "metadata": {
    "slideshow": {
     "slide_type": "fragment"
    }
   },
   "outputs": [
    {
     "data": {
      "text/plain": [
       "True"
      ]
     },
     "execution_count": 51,
     "metadata": {},
     "output_type": "execute_result"
    }
   ],
   "source": [
    "not not True"
   ]
  },
  {
   "cell_type": "markdown",
   "metadata": {
    "slideshow": {
     "slide_type": "subslide"
    }
   },
   "source": [
    "- 파이썬에서 `&`, `|`, `^`, `~`, `<<`, `>>`와 같은 비트 연산자를 사용할 수 있다.  \n",
    "  [비트 연산자](https://wikidocs.net/1161) 및 [bitwise operators](https://wiki.python.org/moin/BitwiseOperators)를 참고하라. "
   ]
  },
  {
   "cell_type": "code",
   "execution_count": 52,
   "metadata": {
    "slideshow": {
     "slide_type": "fragment"
    }
   },
   "outputs": [
    {
     "name": "stdout",
     "output_type": "stream",
     "text": [
      "5의 비트 값: 101\n",
      "4의 비트 값: 100\n",
      "            ↓↓↓\n",
      "            100\n",
      "             ↓ \n",
      "             4\n"
     ]
    }
   ],
   "source": [
    "print(f\"5의 비트 값: {5:0b}\")\n",
    "print(f\"4의 비트 값: {4:0b}\")\n",
    "print(f\"            ↓↓↓\")\n",
    "print(f\"            {5 & 4:0b}\")\n",
    "print(f\"             ↓ \")\n",
    "print(f\"             {5 & 4}\")"
   ]
  },
  {
   "cell_type": "markdown",
   "metadata": {
    "slideshow": {
     "slide_type": "slide"
    }
   },
   "source": [
    "<div style=\"page-break-after: always;\"></div> \n",
    "\n",
    "### 1.9 자료형 변환(casting)\n",
    "\n",
    "- 때때로 어떤 값의 자료형을 다른 자료형으로 명시적으로 변환하고 싶은 경우가 있다.  \n",
    "  이 경우에는 `str()`, `int()` 및 `float()` 등과 같은 함수를 활용해야 한다.  \n",
    "  파이썬이 해당 자료형으로 변환하거나, 실패할 경우에는 예외를 발생한다. "
   ]
  },
  {
   "cell_type": "code",
   "execution_count": 53,
   "metadata": {
    "slideshow": {
     "slide_type": "subslide"
    }
   },
   "outputs": [
    {
     "data": {
      "text/plain": [
       "float"
      ]
     },
     "execution_count": 53,
     "metadata": {},
     "output_type": "execute_result"
    }
   ],
   "source": [
    "x = 5.0\n",
    "type(x)"
   ]
  },
  {
   "cell_type": "code",
   "execution_count": 54,
   "metadata": {
    "slideshow": {
     "slide_type": "fragment"
    }
   },
   "outputs": [
    {
     "data": {
      "text/plain": [
       "5"
      ]
     },
     "execution_count": 54,
     "metadata": {},
     "output_type": "execute_result"
    }
   ],
   "source": [
    "x = int(5.0)  # float에서 int로 자료형 변환\n",
    "x"
   ]
  },
  {
   "cell_type": "code",
   "execution_count": 55,
   "metadata": {
    "slideshow": {
     "slide_type": "fragment"
    }
   },
   "outputs": [
    {
     "data": {
      "text/plain": [
       "int"
      ]
     },
     "execution_count": 55,
     "metadata": {},
     "output_type": "execute_result"
    }
   ],
   "source": [
    "type(x)"
   ]
  },
  {
   "cell_type": "code",
   "execution_count": 56,
   "metadata": {
    "slideshow": {
     "slide_type": "subslide"
    }
   },
   "outputs": [
    {
     "data": {
      "text/plain": [
       "'5.0'"
      ]
     },
     "execution_count": 56,
     "metadata": {},
     "output_type": "execute_result"
    }
   ],
   "source": [
    "x = str(5.0)  # float에서 string으로 자료형 변환\n",
    "x"
   ]
  },
  {
   "cell_type": "code",
   "execution_count": 57,
   "metadata": {
    "slideshow": {
     "slide_type": "fragment"
    }
   },
   "outputs": [
    {
     "data": {
      "text/plain": [
       "str"
      ]
     },
     "execution_count": 57,
     "metadata": {},
     "output_type": "execute_result"
    }
   ],
   "source": [
    "type(x)"
   ]
  },
  {
   "cell_type": "code",
   "execution_count": 58,
   "metadata": {
    "slideshow": {
     "slide_type": "subslide"
    }
   },
   "outputs": [
    {
     "data": {
      "text/plain": [
       "False"
      ]
     },
     "execution_count": 58,
     "metadata": {},
     "output_type": "execute_result"
    }
   ],
   "source": [
    "str(5.0) == 5.0  # string 자료형 값과 float 자료형 값은 동등하지 않음"
   ]
  },
  {
   "cell_type": "code",
   "execution_count": 59,
   "metadata": {
    "slideshow": {
     "slide_type": "fragment"
    }
   },
   "outputs": [
    {
     "data": {
      "text/plain": [
       "5"
      ]
     },
     "execution_count": 59,
     "metadata": {},
     "output_type": "execute_result"
    }
   ],
   "source": [
    "int(5.3)  # float 자료형을 int 자료형으로 변환하면 버림 현상이 발생함"
   ]
  },
  {
   "cell_type": "code",
   "execution_count": 60,
   "metadata": {
    "slideshow": {
     "slide_type": "fragment"
    },
    "tags": [
     "raises-exception"
    ]
   },
   "outputs": [
    {
     "ename": "ValueError",
     "evalue": "could not convert string to float: 'hello'",
     "output_type": "error",
     "traceback": [
      "\u001b[1;31m---------------------------------------------------------------------------\u001b[0m",
      "\u001b[1;31mValueError\u001b[0m                                Traceback (most recent call last)",
      "\u001b[1;32m~\\AppData\\Local\\Temp/ipykernel_9404/3215098261.py\u001b[0m in \u001b[0;36m<module>\u001b[1;34m\u001b[0m\n\u001b[1;32m----> 1\u001b[1;33m \u001b[0mfloat\u001b[0m\u001b[1;33m(\u001b[0m\u001b[1;34m\"hello\"\u001b[0m\u001b[1;33m)\u001b[0m  \u001b[1;31m# string 자료형을 float 자료형으로 변환은 불가\u001b[0m\u001b[1;33m\u001b[0m\u001b[1;33m\u001b[0m\u001b[0m\n\u001b[0m",
      "\u001b[1;31mValueError\u001b[0m: could not convert string to float: 'hello'"
     ]
    }
   ],
   "source": [
    "float(\"hello\")  # string 자료형을 float 자료형으로 변환은 불가"
   ]
  },
  {
   "cell_type": "markdown",
   "metadata": {
    "slideshow": {
     "slide_type": "slide"
    }
   },
   "source": [
    "<div style=\"page-break-after: always;\"></div> \n",
    "\n",
    "## 2. 리스트 및 튜플"
   ]
  },
  {
   "cell_type": "markdown",
   "metadata": {
    "slideshow": {
     "slide_type": "fragment"
    }
   },
   "source": [
    "- 리스트(list) 및 튜플(tuple)은 여러 원소 값을 단일 객체에 저장할 수 있게 해준다.  \n",
    "  원소는 _정렬_ 가능하다. 이 말의 의미는 뒤에서 설명한다. \n",
    "- 튜플은 수정 불가능한 리스트라고 이해하라.   \n",
    "- 리스트부터 시작하자.  \n",
    "  리스트는 대괄호 `[]`로 정의한다. "
   ]
  },
  {
   "cell_type": "code",
   "execution_count": 61,
   "metadata": {
    "slideshow": {
     "slide_type": "subslide"
    }
   },
   "outputs": [],
   "source": [
    "my_list = [1, 2, \"THREE\", 4, 0.5]  # 리스트에 다양한 자료형의 값을 함께 저장할 수 있음 "
   ]
  },
  {
   "cell_type": "code",
   "execution_count": 62,
   "metadata": {
    "slideshow": {
     "slide_type": "fragment"
    }
   },
   "outputs": [
    {
     "data": {
      "text/plain": [
       "[1, 2, 'THREE', 4, 0.5]"
      ]
     },
     "execution_count": 62,
     "metadata": {},
     "output_type": "execute_result"
    }
   ],
   "source": [
    "my_list"
   ]
  },
  {
   "cell_type": "code",
   "execution_count": 63,
   "metadata": {
    "slideshow": {
     "slide_type": "fragment"
    }
   },
   "outputs": [
    {
     "data": {
      "text/plain": [
       "list"
      ]
     },
     "execution_count": 63,
     "metadata": {},
     "output_type": "execute_result"
    }
   ],
   "source": [
    "type(my_list)  # 리스트의 자료형은 `list`"
   ]
  },
  {
   "cell_type": "markdown",
   "metadata": {
    "slideshow": {
     "slide_type": "subslide"
    }
   },
   "source": [
    "- 리스트에는 어떤 자료형도 저장할 수 있다.  \n",
    "  심지어 리스트 내부에 리스트를 (원소로) 저장할 수도 있다.   "
   ]
  },
  {
   "cell_type": "code",
   "execution_count": 64,
   "metadata": {
    "slideshow": {
     "slide_type": "fragment"
    }
   },
   "outputs": [
    {
     "data": {
      "text/plain": [
       "[1, 'two', [3, 4, 'five'], True, None, {'key': 'value'}]"
      ]
     },
     "execution_count": 64,
     "metadata": {},
     "output_type": "execute_result"
    }
   ],
   "source": [
    "another_list = [1, \"two\", [3, 4, \"five\"], True, None, {\"key\": \"value\"}]  # 리스트 및 사전를 저장한 리스트 \n",
    "another_list"
   ]
  },
  {
   "cell_type": "markdown",
   "metadata": {
    "slideshow": {
     "slide_type": "subslide"
    }
   },
   "source": [
    "- 리스트의 길이를 `len()` 함수로 구할 수 있다: "
   ]
  },
  {
   "cell_type": "code",
   "execution_count": 65,
   "metadata": {
    "slideshow": {
     "slide_type": "fragment"
    }
   },
   "outputs": [
    {
     "data": {
      "text/plain": [
       "5"
      ]
     },
     "execution_count": 65,
     "metadata": {},
     "output_type": "execute_result"
    }
   ],
   "source": [
    "len(my_list)  # 리스트의 길이 확인"
   ]
  },
  {
   "cell_type": "markdown",
   "metadata": {
    "slideshow": {
     "slide_type": "subslide"
    }
   },
   "source": [
    "- 튜플은 리스트와 유사한 자료형이다.  \n",
    "  - 리스트는 수정 가능(mutable)하지만,  \n",
    "    튜플은 수정 불가능(immutable)하다.  \n",
    "    이 의미는 나중에 설명한다.  \n",
    "  - 튜플은 일반 괄호`()`로 정의한다. "
   ]
  },
  {
   "cell_type": "code",
   "execution_count": 66,
   "metadata": {
    "slideshow": {
     "slide_type": "subslide"
    }
   },
   "outputs": [],
   "source": [
    "today = (1, 2, \"THREE\", 4, 0.5)  # 튜플을 정의"
   ]
  },
  {
   "cell_type": "code",
   "execution_count": 67,
   "metadata": {
    "slideshow": {
     "slide_type": "fragment"
    }
   },
   "outputs": [
    {
     "data": {
      "text/plain": [
       "(1, 2, 'THREE', 4, 0.5)"
      ]
     },
     "execution_count": 67,
     "metadata": {},
     "output_type": "execute_result"
    }
   ],
   "source": [
    "today"
   ]
  },
  {
   "cell_type": "code",
   "execution_count": 68,
   "metadata": {
    "slideshow": {
     "slide_type": "fragment"
    }
   },
   "outputs": [
    {
     "data": {
      "text/plain": [
       "tuple"
      ]
     },
     "execution_count": 68,
     "metadata": {},
     "output_type": "execute_result"
    }
   ],
   "source": [
    "type(today)"
   ]
  },
  {
   "cell_type": "code",
   "execution_count": 69,
   "metadata": {
    "slideshow": {
     "slide_type": "fragment"
    }
   },
   "outputs": [
    {
     "data": {
      "text/plain": [
       "5"
      ]
     },
     "execution_count": 69,
     "metadata": {},
     "output_type": "execute_result"
    }
   ],
   "source": [
    "len(today)"
   ]
  },
  {
   "cell_type": "markdown",
   "metadata": {
    "slideshow": {
     "slide_type": "slide"
    }
   },
   "source": [
    "<div style=\"page-break-after: always;\"></div> \n",
    "\n",
    "### 2.1 인덱싱 및 슬라이싱\n",
    "\n",
    "- 리스트 및 튜플 내부의 값에 접근할 때에는 대괄호 문법을 써서 접근한다.  \n",
    "  파이썬은 0부터 시작하는 인덱스 값을 사용한다. "
   ]
  },
  {
   "cell_type": "code",
   "execution_count": 70,
   "metadata": {
    "slideshow": {
     "slide_type": "fragment"
    }
   },
   "outputs": [
    {
     "data": {
      "text/plain": [
       "[1, 2, 'THREE', 4, 0.5]"
      ]
     },
     "execution_count": 70,
     "metadata": {},
     "output_type": "execute_result"
    }
   ],
   "source": [
    "my_list"
   ]
  },
  {
   "cell_type": "code",
   "execution_count": 71,
   "metadata": {
    "slideshow": {
     "slide_type": "fragment"
    }
   },
   "outputs": [
    {
     "data": {
      "text/plain": [
       "1"
      ]
     },
     "execution_count": 71,
     "metadata": {},
     "output_type": "execute_result"
    }
   ],
   "source": [
    "my_list[0]  # 인덱싱"
   ]
  },
  {
   "cell_type": "code",
   "execution_count": 72,
   "metadata": {
    "slideshow": {
     "slide_type": "subslide"
    }
   },
   "outputs": [
    {
     "data": {
      "text/plain": [
       "'THREE'"
      ]
     },
     "execution_count": 72,
     "metadata": {},
     "output_type": "execute_result"
    }
   ],
   "source": [
    "my_list[2]  # 인덱스 값은 0부터 시작!"
   ]
  },
  {
   "cell_type": "code",
   "execution_count": 73,
   "metadata": {
    "slideshow": {
     "slide_type": "fragment"
    }
   },
   "outputs": [
    {
     "data": {
      "text/plain": [
       "5"
      ]
     },
     "execution_count": 73,
     "metadata": {},
     "output_type": "execute_result"
    }
   ],
   "source": [
    "len(my_list)"
   ]
  },
  {
   "cell_type": "code",
   "execution_count": 74,
   "metadata": {
    "slideshow": {
     "slide_type": "fragment"
    },
    "tags": [
     "raises-exception"
    ]
   },
   "outputs": [
    {
     "ename": "IndexError",
     "evalue": "list index out of range",
     "output_type": "error",
     "traceback": [
      "\u001b[1;31m---------------------------------------------------------------------------\u001b[0m",
      "\u001b[1;31mIndexError\u001b[0m                                Traceback (most recent call last)",
      "\u001b[1;32m~\\AppData\\Local\\Temp/ipykernel_9404/799098335.py\u001b[0m in \u001b[0;36m<module>\u001b[1;34m\u001b[0m\n\u001b[1;32m----> 1\u001b[1;33m \u001b[0mmy_list\u001b[0m\u001b[1;33m[\u001b[0m\u001b[1;36m5\u001b[0m\u001b[1;33m]\u001b[0m  \u001b[1;31m# 인덱스 값의 범위를 초과한 오류\u001b[0m\u001b[1;33m\u001b[0m\u001b[1;33m\u001b[0m\u001b[0m\n\u001b[0m",
      "\u001b[1;31mIndexError\u001b[0m: list index out of range"
     ]
    }
   ],
   "source": [
    "my_list[5]  # 인덱스 값의 범위를 초과한 오류 "
   ]
  },
  {
   "cell_type": "markdown",
   "metadata": {
    "slideshow": {
     "slide_type": "subslide"
    }
   },
   "source": [
    "- 인덱스 값을 음수로 지정할 수 있으며,  \n",
    "  리스트 및 튜플의 시작 지점과 종료 지점이  \n",
    "  원형 고리 모양으로 연결되었다고 상상하라. "
   ]
  },
  {
   "cell_type": "code",
   "execution_count": 75,
   "metadata": {
    "slideshow": {
     "slide_type": "fragment"
    }
   },
   "outputs": [
    {
     "data": {
      "text/plain": [
       "[1, 2, 'THREE', 4, 0.5]"
      ]
     },
     "execution_count": 75,
     "metadata": {},
     "output_type": "execute_result"
    }
   ],
   "source": [
    "my_list"
   ]
  },
  {
   "cell_type": "code",
   "execution_count": 76,
   "metadata": {
    "slideshow": {
     "slide_type": "fragment"
    }
   },
   "outputs": [
    {
     "data": {
      "text/plain": [
       "0.5"
      ]
     },
     "execution_count": 76,
     "metadata": {},
     "output_type": "execute_result"
    }
   ],
   "source": [
    "my_list[-1]  # 인덱스 0에서 앞으로 한 칸을 가면 맨 뒤!"
   ]
  },
  {
   "cell_type": "code",
   "execution_count": 77,
   "metadata": {
    "slideshow": {
     "slide_type": "fragment"
    }
   },
   "outputs": [
    {
     "data": {
      "text/plain": [
       "4"
      ]
     },
     "execution_count": 77,
     "metadata": {},
     "output_type": "execute_result"
    }
   ],
   "source": [
    "my_list[-2]  # 인덱스 0에서 앞으로 두 칸을 이동한 곳 "
   ]
  },
  {
   "cell_type": "markdown",
   "metadata": {
    "slideshow": {
     "slide_type": "subslide"
    }
   },
   "source": [
    "- 콜론 `:`을 써서 인덱스의 구간을 지정할 수 있다.  \n",
    "  이런 식으로 리스트 및 튜플의 원소 구간을 인덱싱하는 방식을  \n",
    "  슬라이싱(slicing)이라고 한다. "
   ]
  },
  {
   "cell_type": "code",
   "execution_count": 78,
   "metadata": {
    "slideshow": {
     "slide_type": "fragment"
    }
   },
   "outputs": [
    {
     "data": {
      "text/plain": [
       "[2, 'THREE']"
      ]
     },
     "execution_count": 78,
     "metadata": {},
     "output_type": "execute_result"
    }
   ],
   "source": [
    "my_list[1:3]  # 0부터 시작하는 인덱스로 1~2까지, 마지막 인덱스 값은 제외됨"
   ]
  },
  {
   "cell_type": "markdown",
   "metadata": {
    "slideshow": {
     "slide_type": "fragment"
    }
   },
   "source": [
    "- 직전의 슬라이싱 예제에서 슬라이스의 시작 값은 포함되고, 마지막 값은 제외된다.  \n",
    "  `my_list[1:3]` 슬라이싱에서 1과 2번 인덱스는 포함되지만, 3번 인덱스는 제외된다.   "
   ]
  },
  {
   "cell_type": "markdown",
   "metadata": {
    "slideshow": {
     "slide_type": "subslide"
    }
   },
   "source": [
    "- 문자열은 인덱싱 및 슬라이싱에서 리스트 및 튜플과 같은 방식으로 처리된다.  \n",
    "  문자열은 연속된 문자로 처리되며, 문자들이 연속적으로 저장된 리스트로 생각할 수 있다. "
   ]
  },
  {
   "cell_type": "code",
   "execution_count": 79,
   "metadata": {
    "slideshow": {
     "slide_type": "fragment"
    }
   },
   "outputs": [],
   "source": [
    "alphabet = \"abcdefghijklmnopqrstuvwxyz\"  # 문자열 정의"
   ]
  },
  {
   "cell_type": "code",
   "execution_count": 80,
   "metadata": {
    "slideshow": {
     "slide_type": "fragment"
    }
   },
   "outputs": [
    {
     "data": {
      "text/plain": [
       "'a'"
      ]
     },
     "execution_count": 80,
     "metadata": {},
     "output_type": "execute_result"
    }
   ],
   "source": [
    "alphabet[0]"
   ]
  },
  {
   "cell_type": "code",
   "execution_count": 81,
   "metadata": {
    "slideshow": {
     "slide_type": "fragment"
    }
   },
   "outputs": [
    {
     "data": {
      "text/plain": [
       "'z'"
      ]
     },
     "execution_count": 81,
     "metadata": {},
     "output_type": "execute_result"
    }
   ],
   "source": [
    "alphabet[-1]"
   ]
  },
  {
   "cell_type": "code",
   "execution_count": 82,
   "metadata": {
    "slideshow": {
     "slide_type": "subslide"
    }
   },
   "outputs": [
    {
     "data": {
      "text/plain": [
       "'x'"
      ]
     },
     "execution_count": 82,
     "metadata": {},
     "output_type": "execute_result"
    }
   ],
   "source": [
    "alphabet[-3]"
   ]
  },
  {
   "cell_type": "code",
   "execution_count": 83,
   "metadata": {
    "slideshow": {
     "slide_type": "fragment"
    }
   },
   "outputs": [
    {
     "data": {
      "text/plain": [
       "'abcde'"
      ]
     },
     "execution_count": 83,
     "metadata": {},
     "output_type": "execute_result"
    }
   ],
   "source": [
    "alphabet[:5]"
   ]
  },
  {
   "cell_type": "code",
   "execution_count": 84,
   "metadata": {
    "slideshow": {
     "slide_type": "fragment"
    }
   },
   "outputs": [
    {
     "data": {
      "text/plain": [
       "'mnopqrst'"
      ]
     },
     "execution_count": 84,
     "metadata": {},
     "output_type": "execute_result"
    }
   ],
   "source": [
    "alphabet[12:20]"
   ]
  },
  {
   "cell_type": "markdown",
   "metadata": {
    "slideshow": {
     "slide_type": "slide"
    }
   },
   "source": [
    "<div style=\"page-break-after: always;\"></div> \n",
    "\n",
    "### 2.2 리스트 메소드\n",
    "\n",
    "- 리스트는 객체이며,  \n",
    "  자신이 저장한 데이터를 처리하기 위한 메소드(method)를 가지고 있다. \n",
    "  - 메소드는 객체에 준비되어 있는 함수(function)이다. \n",
    "  - 메소드는 객체를 정의하는 클래스 내부에서 정의되는 멤버 함수이다. \n",
    "  - 특정 객체의 메소드는 `객체이름.메소드이름()` 형식으로 호출된다.  \n",
    "    예를 들어, `my_list.append(item)`와 같이 호출하면,  \n",
    "    `item`이 `my_list`라는 리스트의 끝에 추가(append)된다. \n",
    "  - 리스트에 준비되어 있는 메소드를 [파이썬 자습서](https://docs.python.org/ko/3/tutorial/datastructures.html)에서 확인하라. "
   ]
  },
  {
   "cell_type": "code",
   "execution_count": 85,
   "metadata": {
    "slideshow": {
     "slide_type": "subslide"
    }
   },
   "outputs": [
    {
     "data": {
      "text/plain": [
       "[2, 3, 5, 7, 11]"
      ]
     },
     "execution_count": 85,
     "metadata": {},
     "output_type": "execute_result"
    }
   ],
   "source": [
    "primes = [2, 3, 5, 7, 11]  # 소수를 저장한 리스트 정의\n",
    "primes"
   ]
  },
  {
   "cell_type": "code",
   "execution_count": 86,
   "metadata": {
    "slideshow": {
     "slide_type": "fragment"
    }
   },
   "outputs": [
    {
     "data": {
      "text/plain": [
       "5"
      ]
     },
     "execution_count": 86,
     "metadata": {},
     "output_type": "execute_result"
    }
   ],
   "source": [
    "len(primes)"
   ]
  },
  {
   "cell_type": "code",
   "execution_count": 87,
   "metadata": {
    "slideshow": {
     "slide_type": "fragment"
    }
   },
   "outputs": [],
   "source": [
    "primes.append(13)  # 리스트 끝에 항목 추가"
   ]
  },
  {
   "cell_type": "code",
   "execution_count": 88,
   "metadata": {
    "slideshow": {
     "slide_type": "fragment"
    }
   },
   "outputs": [
    {
     "data": {
      "text/plain": [
       "[2, 3, 5, 7, 11, 13]"
      ]
     },
     "execution_count": 88,
     "metadata": {},
     "output_type": "execute_result"
    }
   ],
   "source": [
    "primes"
   ]
  },
  {
   "cell_type": "markdown",
   "metadata": {
    "slideshow": {
     "slide_type": "slide"
    }
   },
   "source": [
    "<div style=\"page-break-after: always;\"></div> \n",
    "\n",
    "### 2.3 집합\n",
    "\n",
    "- 파이썬 기본 자료형에는 집합(set)이 있다.  \n",
    "  - 집합에는 _중복되지 않은_ 항목을 _정렬되지 않은_ 상태로 저장할 수 있다.  \n",
    "  - 집합 자료형은 원소의 위치를 관리하지 않으며 _정렬되지 않는다_ 는 표현을 쓴다.\n",
    "  - 그러므로 집합 자료형에 저장된 원소에 대해서는 인덱싱이 불가능하다. "
   ]
  },
  {
   "cell_type": "code",
   "execution_count": 89,
   "metadata": {
    "slideshow": {
     "slide_type": "fragment"
    }
   },
   "outputs": [
    {
     "data": {
      "text/plain": [
       "{2, 3, 5, 11}"
      ]
     },
     "execution_count": 89,
     "metadata": {},
     "output_type": "execute_result"
    }
   ],
   "source": [
    "s = {2, 3, 5, 11}  # 집합 자료형인 변수 정의\n",
    "s"
   ]
  },
  {
   "cell_type": "code",
   "execution_count": 90,
   "metadata": {
    "slideshow": {
     "slide_type": "fragment"
    }
   },
   "outputs": [
    {
     "data": {
      "text/plain": [
       "True"
      ]
     },
     "execution_count": 90,
     "metadata": {},
     "output_type": "execute_result"
    }
   ],
   "source": [
    "{1, 2, 3} == {3, 2, 1}  # 집합 자료형에서 원소의 저장 순서는 무의미함"
   ]
  },
  {
   "cell_type": "code",
   "execution_count": 91,
   "metadata": {
    "slideshow": {
     "slide_type": "fragment"
    }
   },
   "outputs": [
    {
     "data": {
      "text/plain": [
       "False"
      ]
     },
     "execution_count": 91,
     "metadata": {},
     "output_type": "execute_result"
    }
   ],
   "source": [
    "[1, 2, 3] == [3, 2, 1]  # 리스트 자료형에서는 원소의 저장 순서를 구별함"
   ]
  },
  {
   "cell_type": "code",
   "execution_count": 92,
   "metadata": {
    "slideshow": {
     "slide_type": "subslide"
    }
   },
   "outputs": [
    {
     "data": {
      "text/plain": [
       "{2, 3, 5, 11}"
      ]
     },
     "execution_count": 92,
     "metadata": {},
     "output_type": "execute_result"
    }
   ],
   "source": [
    "s.add(2)  # 이미 존재하는 원소를 집합에 추가해도 중복 저장되지 않음\n",
    "s"
   ]
  },
  {
   "cell_type": "code",
   "execution_count": 93,
   "metadata": {
    "slideshow": {
     "slide_type": "fragment"
    },
    "tags": [
     "raises-exception"
    ]
   },
   "outputs": [
    {
     "ename": "TypeError",
     "evalue": "'set' object is not subscriptable",
     "output_type": "error",
     "traceback": [
      "\u001b[1;31m---------------------------------------------------------------------------\u001b[0m",
      "\u001b[1;31mTypeError\u001b[0m                                 Traceback (most recent call last)",
      "\u001b[1;32m~\\AppData\\Local\\Temp/ipykernel_9404/533662529.py\u001b[0m in \u001b[0;36m<module>\u001b[1;34m\u001b[0m\n\u001b[1;32m----> 1\u001b[1;33m \u001b[0ms\u001b[0m\u001b[1;33m[\u001b[0m\u001b[1;36m0\u001b[0m\u001b[1;33m]\u001b[0m  \u001b[1;31m# 집합 자료형에서는 인덱싱 불허\u001b[0m\u001b[1;33m\u001b[0m\u001b[1;33m\u001b[0m\u001b[0m\n\u001b[0m",
      "\u001b[1;31mTypeError\u001b[0m: 'set' object is not subscriptable"
     ]
    }
   ],
   "source": [
    "s[0]  # 집합 자료형에서는 인덱싱 불허"
   ]
  },
  {
   "cell_type": "markdown",
   "metadata": {
    "slideshow": {
     "slide_type": "fragment"
    }
   },
   "source": [
    "- 직전 코드의 오류는 집합 자료형이 정렬 불가능하며,  \n",
    "  인덱싱이 허용되지 않기 때문에 발생하였다. "
   ]
  },
  {
   "cell_type": "markdown",
   "metadata": {
    "slideshow": {
     "slide_type": "slide"
    }
   },
   "source": [
    "<div style=\"page-break-after: always;\"></div> \n",
    "\n",
    "### 2.4 수정 가능 대 수정 불능 자료형\n",
    "\n",
    "- 문자열과 튜플은 수정 불능(immutable)인 자료형이다.  \n",
    "  수정 불능이란 집합체에 저장된 특정 원소 값의 변경이 불가능하다는 의미이다.  \n",
    "- 리스트는 수정 가능(mutable)한 자료형이다.  \n",
    "  수정 가능이란 집합체에 저장된 특정 원소 값의 변경이 가능하다는 의미이다. "
   ]
  },
  {
   "cell_type": "code",
   "execution_count": 94,
   "metadata": {
    "slideshow": {
     "slide_type": "fragment"
    }
   },
   "outputs": [
    {
     "data": {
      "text/plain": [
       "['Indiana', 'Fang', 'Linsey']"
      ]
     },
     "execution_count": 94,
     "metadata": {},
     "output_type": "execute_result"
    }
   ],
   "source": [
    "names_list = [\"Indiana\", \"Fang\", \"Linsey\"]  # 리스트 생성\n",
    "names_list"
   ]
  },
  {
   "cell_type": "code",
   "execution_count": 95,
   "metadata": {
    "slideshow": {
     "slide_type": "subslide"
    }
   },
   "outputs": [
    {
     "data": {
      "text/plain": [
       "['Cool guy', 'Fang', 'Linsey']"
      ]
     },
     "execution_count": 95,
     "metadata": {},
     "output_type": "execute_result"
    }
   ],
   "source": [
    "names_list[0] = \"Cool guy\"  # 리스트 원소 값 변경 시도\n",
    "names_list                  # 원소 값이 변경되었음을 확인"
   ]
  },
  {
   "cell_type": "code",
   "execution_count": 96,
   "metadata": {
    "slideshow": {
     "slide_type": "fragment"
    }
   },
   "outputs": [
    {
     "data": {
      "text/plain": [
       "('Indiana', 'Fang', 'Linsey')"
      ]
     },
     "execution_count": 96,
     "metadata": {},
     "output_type": "execute_result"
    }
   ],
   "source": [
    "names_tuple = (\"Indiana\", \"Fang\", \"Linsey\")  # 튜플 생성\n",
    "names_tuple"
   ]
  },
  {
   "cell_type": "code",
   "execution_count": 97,
   "metadata": {
    "slideshow": {
     "slide_type": "fragment"
    },
    "tags": [
     "raises-exception"
    ]
   },
   "outputs": [
    {
     "ename": "TypeError",
     "evalue": "'tuple' object does not support item assignment",
     "output_type": "error",
     "traceback": [
      "\u001b[1;31m---------------------------------------------------------------------------\u001b[0m",
      "\u001b[1;31mTypeError\u001b[0m                                 Traceback (most recent call last)",
      "\u001b[1;32m~\\AppData\\Local\\Temp/ipykernel_9404/21885515.py\u001b[0m in \u001b[0;36m<module>\u001b[1;34m\u001b[0m\n\u001b[1;32m----> 1\u001b[1;33m \u001b[0mnames_tuple\u001b[0m\u001b[1;33m[\u001b[0m\u001b[1;36m0\u001b[0m\u001b[1;33m]\u001b[0m \u001b[1;33m=\u001b[0m \u001b[1;34m\"Not cool guy\"\u001b[0m  \u001b[1;31m# 튜플 원소 값 변겅을 시도하면 오류 발생\u001b[0m\u001b[1;33m\u001b[0m\u001b[1;33m\u001b[0m\u001b[0m\n\u001b[0m",
      "\u001b[1;31mTypeError\u001b[0m: 'tuple' object does not support item assignment"
     ]
    }
   ],
   "source": [
    "names_tuple[0] = \"Not cool guy\"  # 튜플 원소 값 변겅을 시도하면 오류 발생"
   ]
  },
  {
   "cell_type": "markdown",
   "metadata": {
    "slideshow": {
     "slide_type": "subslide"
    }
   },
   "source": [
    "- 문자열도 수정 불가 자료형이며, 문자열 내부의 특정 문자를 편집할 수 없다."
   ]
  },
  {
   "cell_type": "code",
   "execution_count": 98,
   "metadata": {
    "slideshow": {
     "slide_type": "fragment"
    }
   },
   "outputs": [],
   "source": [
    "my_name = \"Tom\"  # 문자열 생성"
   ]
  },
  {
   "cell_type": "code",
   "execution_count": 99,
   "metadata": {
    "slideshow": {
     "slide_type": "fragment"
    },
    "tags": [
     "raises-exception"
    ]
   },
   "outputs": [
    {
     "ename": "TypeError",
     "evalue": "'str' object does not support item assignment",
     "output_type": "error",
     "traceback": [
      "\u001b[1;31m---------------------------------------------------------------------------\u001b[0m",
      "\u001b[1;31mTypeError\u001b[0m                                 Traceback (most recent call last)",
      "\u001b[1;32m~\\AppData\\Local\\Temp/ipykernel_9404/2901450289.py\u001b[0m in \u001b[0;36m<module>\u001b[1;34m\u001b[0m\n\u001b[1;32m----> 1\u001b[1;33m \u001b[0mmy_name\u001b[0m\u001b[1;33m[\u001b[0m\u001b[1;33m-\u001b[0m\u001b[1;36m1\u001b[0m\u001b[1;33m]\u001b[0m \u001b[1;33m=\u001b[0m \u001b[1;34m\"q\"\u001b[0m  \u001b[1;31m# 문자열 원소 값 변경을 시도하면 오류 발생\u001b[0m\u001b[1;33m\u001b[0m\u001b[1;33m\u001b[0m\u001b[0m\n\u001b[0m",
      "\u001b[1;31mTypeError\u001b[0m: 'str' object does not support item assignment"
     ]
    }
   ],
   "source": [
    "my_name[-1] = \"q\"  # 문자열 원소 값 변경을 시도하면 오류 발생"
   ]
  },
  {
   "cell_type": "code",
   "execution_count": 100,
   "metadata": {
    "slideshow": {
     "slide_type": "fragment"
    }
   },
   "outputs": [
    {
     "data": {
      "text/plain": [
       "'Jerry'"
      ]
     },
     "execution_count": 100,
     "metadata": {},
     "output_type": "execute_result"
    }
   ],
   "source": [
    "my_name = \"Jerry\"  # 문자열 전체 값 변경은 가능함\n",
    "my_name            # 문자열 전체 값 확인"
   ]
  },
  {
   "cell_type": "code",
   "execution_count": 101,
   "metadata": {
    "slideshow": {
     "slide_type": "subslide"
    }
   },
   "outputs": [],
   "source": [
    "x = ([1, 2, 3], 5)  # 튜플 생성"
   ]
  },
  {
   "cell_type": "code",
   "execution_count": 102,
   "metadata": {
    "slideshow": {
     "slide_type": "fragment"
    },
    "tags": [
     "raises-exception"
    ]
   },
   "outputs": [
    {
     "ename": "TypeError",
     "evalue": "'tuple' object does not support item assignment",
     "output_type": "error",
     "traceback": [
      "\u001b[1;31m---------------------------------------------------------------------------\u001b[0m",
      "\u001b[1;31mTypeError\u001b[0m                                 Traceback (most recent call last)",
      "\u001b[1;32m~\\AppData\\Local\\Temp/ipykernel_9404/2578474190.py\u001b[0m in \u001b[0;36m<module>\u001b[1;34m\u001b[0m\n\u001b[1;32m----> 1\u001b[1;33m \u001b[0mx\u001b[0m\u001b[1;33m[\u001b[0m\u001b[1;36m1\u001b[0m\u001b[1;33m]\u001b[0m \u001b[1;33m=\u001b[0m \u001b[1;36m7\u001b[0m  \u001b[1;31m# 튜플 원소 값 변경은 불가능\u001b[0m\u001b[1;33m\u001b[0m\u001b[1;33m\u001b[0m\u001b[0m\n\u001b[0m",
      "\u001b[1;31mTypeError\u001b[0m: 'tuple' object does not support item assignment"
     ]
    }
   ],
   "source": [
    "x[1] = 7  # 튜플 원소 값 변경은 불가능 "
   ]
  },
  {
   "cell_type": "code",
   "execution_count": 103,
   "metadata": {
    "slideshow": {
     "slide_type": "subslide"
    }
   },
   "outputs": [
    {
     "data": {
      "text/plain": [
       "([1, 2, 3], 5)"
      ]
     },
     "execution_count": 103,
     "metadata": {},
     "output_type": "execute_result"
    }
   ],
   "source": [
    "x"
   ]
  },
  {
   "cell_type": "code",
   "execution_count": 104,
   "metadata": {
    "slideshow": {
     "slide_type": "fragment"
    }
   },
   "outputs": [],
   "source": [
    "x[0][1] = 4  # 튜플에 저장된 리스트에 대하여 두번째 원소 값 변경을 시도"
   ]
  },
  {
   "cell_type": "code",
   "execution_count": 105,
   "metadata": {
    "slideshow": {
     "slide_type": "fragment"
    }
   },
   "outputs": [
    {
     "data": {
      "text/plain": [
       "([1, 4, 3], 5)"
      ]
     },
     "execution_count": 105,
     "metadata": {},
     "output_type": "execute_result"
    }
   ],
   "source": [
    "x  # 튜플에 저장된 리스트에 대하여 두번째 원소 값 변경을 확인"
   ]
  },
  {
   "cell_type": "code",
   "execution_count": 106,
   "metadata": {
    "slideshow": {
     "slide_type": "fragment"
    }
   },
   "outputs": [
    {
     "data": {
      "text/plain": [
       "(1, 2, 3)"
      ]
     },
     "execution_count": 106,
     "metadata": {},
     "output_type": "execute_result"
    }
   ],
   "source": [
    "x = (1, 2, 3)  # 튜플 전체 값 변경은 가능함\n",
    "x"
   ]
  },
  {
   "cell_type": "markdown",
   "metadata": {
    "slideshow": {
     "slide_type": "subslide"
    }
   },
   "source": [
    "- 수정 가능 및 수정 불가의 개념에 대한 보충 설명은  \n",
    "  [여기](https://wikidocs.net/32277)를 참고하라. \n",
    "    - 파이썬의 모든 자료는 사실 객체로 저장된다. \n",
    "    - 수정 불가능한 객체는 숫자, 문자열 및 튜플이다. \n",
    "    - 수정 가능한 객체는 리스트, 사전 및 (앞으로 공부할) 넘파이 배열이다. \n",
    "    - 수정 불가능한 객체는 직접 값을 변경하는  \n",
    "      \"깊은 복사\"(deep copy) 개념과 관련되며,  \n",
    "    - 수정 가능한 객체는 내부적으로 참조 포인터만 복사하는  \n",
    "      \"얕은 복사\"(shallow copy) 개념과 관련된다. \n",
    "    "
   ]
  },
  {
   "cell_type": "markdown",
   "metadata": {
    "slideshow": {
     "slide_type": "slide"
    }
   },
   "source": [
    "<div style=\"page-break-after: always;\"></div> \n",
    "\n",
    "## 3. 문자열"
   ]
  },
  {
   "cell_type": "markdown",
   "metadata": {
    "slideshow": {
     "slide_type": "subslide"
    }
   },
   "source": [
    "- 문자열 객체에는 파이썬이 제공하는 다양한 메소드가 존재한다.  "
   ]
  },
  {
   "cell_type": "code",
   "execution_count": 107,
   "metadata": {
    "slideshow": {
     "slide_type": "fragment"
    }
   },
   "outputs": [
    {
     "data": {
      "text/plain": [
       "'HOW ARE YOU TODAY?'"
      ]
     },
     "execution_count": 107,
     "metadata": {},
     "output_type": "execute_result"
    }
   ],
   "source": [
    "all_caps = \"HOW ARE YOU TODAY?\"\n",
    "all_caps"
   ]
  },
  {
   "cell_type": "code",
   "execution_count": 108,
   "metadata": {
    "slideshow": {
     "slide_type": "fragment"
    }
   },
   "outputs": [
    {
     "data": {
      "text/plain": [
       "'how are you today?'"
      ]
     },
     "execution_count": 108,
     "metadata": {},
     "output_type": "execute_result"
    }
   ],
   "source": [
    "new_str = all_caps.lower()  # 문자열을 소문자로 변환하는 메소드\n",
    "new_str"
   ]
  },
  {
   "cell_type": "markdown",
   "metadata": {
    "slideshow": {
     "slide_type": "subslide"
    }
   },
   "source": [
    "- 문자열 메소드 lower()가 원본 문자열을 수정하지는 않으며, 복사본을 수정하여 반환한다. "
   ]
  },
  {
   "cell_type": "code",
   "execution_count": 109,
   "metadata": {
    "slideshow": {
     "slide_type": "fragment"
    }
   },
   "outputs": [
    {
     "data": {
      "text/plain": [
       "'HOW ARE YOU TODAY?'"
      ]
     },
     "execution_count": 109,
     "metadata": {},
     "output_type": "execute_result"
    }
   ],
   "source": [
    "all_caps"
   ]
  },
  {
   "cell_type": "markdown",
   "metadata": {
    "slideshow": {
     "slide_type": "subslide"
    }
   },
   "source": [
    "- 매우 다양한 문자열 메소드가 존재한다.  \n",
    "  점프 투 파이썬에서 [문자열 관련 함수들](https://wikidocs.net/13#_19)을 참고할 수 있다.  "
   ]
  },
  {
   "cell_type": "code",
   "execution_count": 110,
   "metadata": {
    "slideshow": {
     "slide_type": "fragment"
    }
   },
   "outputs": [
    {
     "data": {
      "text/plain": [
       "['HOW', 'ARE', 'YOU', 'TODAY?']"
      ]
     },
     "execution_count": 110,
     "metadata": {},
     "output_type": "execute_result"
    }
   ],
   "source": [
    "all_caps.split()  # 문자열을 단어로 분할한 결과를 리스트로 반환"
   ]
  },
  {
   "cell_type": "code",
   "execution_count": 111,
   "metadata": {
    "slideshow": {
     "slide_type": "fragment"
    }
   },
   "outputs": [
    {
     "data": {
      "text/plain": [
       "3"
      ]
     },
     "execution_count": 111,
     "metadata": {},
     "output_type": "execute_result"
    }
   ],
   "source": [
    "all_caps.count(\"O\")  # 매개변수로 지정한 문자가 문자열에서 출현하는 횟수를 반환"
   ]
  },
  {
   "cell_type": "markdown",
   "metadata": {
    "slideshow": {
     "slide_type": "subslide"
    }
   },
   "source": [
    "- list() 함수로 문자열을 리스트로 변환할 수 있다.  \n",
    "  매개변수로 지정한 문자열에 포함된 모든 문자를 원소 형태로 저장한 리스트를 반환한다.   "
   ]
  },
  {
   "cell_type": "code",
   "execution_count": 112,
   "metadata": {
    "slideshow": {
     "slide_type": "fragment"
    }
   },
   "outputs": [
    {
     "data": {
      "text/plain": [
       "['H',\n",
       " 'O',\n",
       " 'W',\n",
       " ' ',\n",
       " 'A',\n",
       " 'R',\n",
       " 'E',\n",
       " ' ',\n",
       " 'Y',\n",
       " 'O',\n",
       " 'U',\n",
       " ' ',\n",
       " 'T',\n",
       " 'O',\n",
       " 'D',\n",
       " 'A',\n",
       " 'Y',\n",
       " '?']"
      ]
     },
     "execution_count": 112,
     "metadata": {},
     "output_type": "execute_result"
    }
   ],
   "source": [
    "caps_list = list(all_caps)\n",
    "caps_list"
   ]
  },
  {
   "cell_type": "code",
   "execution_count": 113,
   "metadata": {
    "slideshow": {
     "slide_type": "subslide"
    }
   },
   "outputs": [
    {
     "data": {
      "text/plain": [
       "'HOW ARE YOU TODAY?'"
      ]
     },
     "execution_count": 113,
     "metadata": {},
     "output_type": "execute_result"
    }
   ],
   "source": [
    " # list() 함수의 반대 기능, 리스트에 저장된 문자 원소를 모두 결합한 문자열을 반환\n",
    "\"\".join(caps_list) "
   ]
  },
  {
   "cell_type": "code",
   "execution_count": 114,
   "metadata": {
    "slideshow": {
     "slide_type": "fragment"
    }
   },
   "outputs": [
    {
     "data": {
      "text/plain": [
       "'H-O-W- -A-R-E- -Y-O-U- -T-O-D-A-Y-?'"
      ]
     },
     "execution_count": 114,
     "metadata": {},
     "output_type": "execute_result"
    }
   ],
   "source": [
    "# 리스트에 저장된 모든 문자 원소를 결합할 때, 메소드의 주체로 지정된 문자를 포함하여 결합\n",
    "\"-\".join(caps_list)  "
   ]
  },
  {
   "cell_type": "markdown",
   "metadata": {
    "slideshow": {
     "slide_type": "subslide"
    }
   },
   "source": [
    "- 여러 메소드를 연쇄적으로 호출 가능하다.  \n",
    "  이후에 넘파이 및 판다스를 공부할 때에도 자주 사용하는 방식이다.  "
   ]
  },
  {
   "cell_type": "code",
   "execution_count": 115,
   "metadata": {
    "slideshow": {
     "slide_type": "fragment"
    }
   },
   "outputs": [
    {
     "data": {
      "text/plain": [
       "['H',\n",
       " 'O',\n",
       " 'W',\n",
       " ' ',\n",
       " 'A',\n",
       " 'R',\n",
       " 'E',\n",
       " ' ',\n",
       " 'Y',\n",
       " 'O',\n",
       " 'U',\n",
       " ' ',\n",
       " 'T',\n",
       " 'O',\n",
       " 'D',\n",
       " 'A',\n",
       " 'Y',\n",
       " '?']"
      ]
     },
     "execution_count": 115,
     "metadata": {},
     "output_type": "execute_result"
    }
   ],
   "source": [
    "caps_list"
   ]
  },
  {
   "cell_type": "code",
   "execution_count": 116,
   "metadata": {
    "slideshow": {
     "slide_type": "fragment"
    }
   },
   "outputs": [
    {
     "data": {
      "text/plain": [
       "['how', 'are', 'you', 'today?']"
      ]
     },
     "execution_count": 116,
     "metadata": {},
     "output_type": "execute_result"
    }
   ],
   "source": [
    "# 리스트 결합, 소문자로 변환, (공백 문자를 기준으로 그 결과를 다시)분할하는 작업을 \n",
    "# 연쇄적으로 호출\n",
    "\"\".join(caps_list).lower().split(\" \")  "
   ]
  },
  {
   "cell_type": "markdown",
   "metadata": {
    "slideshow": {
     "slide_type": "slide"
    }
   },
   "source": [
    "- 문자열 공부를 마무리 하기 전에, 문자열 형식화 방법을 공부해보자. "
   ]
  },
  {
   "cell_type": "markdown",
   "metadata": {
    "slideshow": {
     "slide_type": "fragment"
    }
   },
   "source": [
    "- 파이썬은 \"빈칸 채우기\" 방식으로 문자열을 생성하고,  \n",
    "  이를 형식화(formatting) 하는 다양한 방법을 제공한다.  \n",
    "  - 변수 값을 포함한 문장 형식으로 결과를 출력할 때 자주 사용된다. \n",
    "  - [문자열 형식화](https://wikidocs.net/13#_15) 방식도 여러 유형이 존재하는데,  \n",
    "    [f-문자열 형식화](https://wikidocs.net/13#f) 방식을 추천한다. \n",
    "  - f-문자열 형식화 방식은 파이썬 3.6에서 도입되었다.  \n",
    "    이전 버전의 파이썬에서는 이 방식을 사용할 수 없었다. \n",
    "  - 출력할 문자열의  \n",
    "    맨 앞에 \"f\"를 붙이고,  \n",
    "    출력할 변수 이름을 중괄호 `{}` 내부에 써주면 된다. "
   ]
  },
  {
   "cell_type": "code",
   "execution_count": 117,
   "metadata": {
    "slideshow": {
     "slide_type": "subslide"
    }
   },
   "outputs": [
    {
     "data": {
      "text/plain": [
       "'안녕하세요. 이름은 갓난이이고, 나이는 0.33세입니다. 생일은 2021년 06월 1일입니다.'"
      ]
     },
     "execution_count": 117,
     "metadata": {},
     "output_type": "execute_result"
    }
   ],
   "source": [
    "이름 = \"갓난이\"\n",
    "나이 = 4 / 12\n",
    "일 = 1\n",
    "월 = 6\n",
    "연 = 2021\n",
    "인사 = f\"안녕하세요. 이름은 {이름}이고, 나이는 {나이:.2f}세입니다. 생일은 {연}년 {월:02}월 {일}일입니다.\"\n",
    "인사"
   ]
  },
  {
   "cell_type": "markdown",
   "metadata": {
    "slideshow": {
     "slide_type": "fragment"
    }
   },
   "source": [
    "- 직전 코드에서, 중괄호 속의 변수 뒤에 나오는 콜론은 형식 지정자이다.  \n",
    "  - `:.2f`는 `나이` 변수의 값을 출력할 때 소숫점 2 자리까지 출력하라는 의미이다. \n",
    "  - 문자열 [형식 지정자](https://dojang.io/mod/page/view.php?id=2300)에 관한 자료를 참고하라. \n"
   ]
  },
  {
   "cell_type": "markdown",
   "metadata": {
    "slideshow": {
     "slide_type": "slide"
    }
   },
   "source": [
    "<div style=\"page-break-after: always;\"></div> \n",
    "\n",
    "## 4. 사전 "
   ]
  },
  {
   "cell_type": "markdown",
   "metadata": {
    "slideshow": {
     "slide_type": "fragment"
    }
   },
   "source": [
    "- 사전은 키-값 순서쌍 형식으로 자료를 저장하는 자료형이며,  \n",
    "  중괄호 `{}` 내부에 `키: 값`을 쉼표로 구분하여 나열한다. "
   ]
  },
  {
   "cell_type": "code",
   "execution_count": 118,
   "metadata": {
    "slideshow": {
     "slide_type": "fragment"
    }
   },
   "outputs": [],
   "source": [
    "house = {\n",
    "    \"bedrooms\": 3,\n",
    "    \"bathrooms\": 2,\n",
    "    \"city\": \"Vancouver\",\n",
    "    \"price\": 2499999,\n",
    "    \"date_sold\": (1, 3, 2015),  # 파이썬에서는 쉼표를 마지막 항목 뒤에도 쓸 수 있음\n",
    "}\n",
    "\n",
    "condo = {\n",
    "    \"bedrooms\": 2,\n",
    "    \"bathrooms\": 1,\n",
    "    \"city\": \"Burnaby\",\n",
    "    \"price\": 699999,\n",
    "    \"date_sold\": (27, 8, 2011),  # 파이썬에서는 쉼표를 마지막 항목 뒤에도 쓸 수 있음\n",
    "}"
   ]
  },
  {
   "cell_type": "markdown",
   "metadata": {
    "slideshow": {
     "slide_type": "subslide"
    }
   },
   "source": [
    "- 사전에 저장된 키-값 항목에서, 특정 키에 대응하는 값에 접근하려면 대괄호 표현을 사용한다. "
   ]
  },
  {
   "cell_type": "code",
   "execution_count": 119,
   "metadata": {
    "slideshow": {
     "slide_type": "fragment"
    }
   },
   "outputs": [
    {
     "data": {
      "text/plain": [
       "2499999"
      ]
     },
     "execution_count": 119,
     "metadata": {},
     "output_type": "execute_result"
    }
   ],
   "source": [
    "house[\"price\"]  # house 사전에서 키 \"price\"에 대응하는 값에 접근"
   ]
  },
  {
   "cell_type": "code",
   "execution_count": 120,
   "metadata": {
    "slideshow": {
     "slide_type": "fragment"
    }
   },
   "outputs": [
    {
     "data": {
      "text/plain": [
       "'Burnaby'"
      ]
     },
     "execution_count": 120,
     "metadata": {},
     "output_type": "execute_result"
    }
   ],
   "source": [
    "condo[\"city\"]  # condo 사전에서 키 \"city\"에 대응하는 값에 접근"
   ]
  },
  {
   "cell_type": "markdown",
   "metadata": {
    "slideshow": {
     "slide_type": "subslide"
    }
   },
   "source": [
    "- 사전은 수정 가능(mutabel)한 자료형이므로, 편집이 가능하다.  "
   ]
  },
  {
   "cell_type": "code",
   "execution_count": 121,
   "metadata": {
    "slideshow": {
     "slide_type": "fragment"
    }
   },
   "outputs": [
    {
     "data": {
      "text/plain": [
       "{'bedrooms': 2,\n",
       " 'bathrooms': 1,\n",
       " 'city': 'Burnaby',\n",
       " 'price': 5,\n",
       " 'date_sold': (27, 8, 2011)}"
      ]
     },
     "execution_count": 121,
     "metadata": {},
     "output_type": "execute_result"
    }
   ],
   "source": [
    "condo[\"price\"] = 5  # 사전에 등록된 키에 대응하는 값을 수정\n",
    "condo"
   ]
  },
  {
   "cell_type": "code",
   "execution_count": 122,
   "metadata": {
    "slideshow": {
     "slide_type": "subslide"
    }
   },
   "outputs": [],
   "source": [
    "condo[\"flooring\"] = \"wood\"  # 사전에 새로운 키-값 항목을 추가"
   ]
  },
  {
   "cell_type": "code",
   "execution_count": 123,
   "metadata": {
    "slideshow": {
     "slide_type": "fragment"
    }
   },
   "outputs": [
    {
     "data": {
      "text/plain": [
       "{'bedrooms': 2,\n",
       " 'bathrooms': 1,\n",
       " 'city': 'Burnaby',\n",
       " 'price': 5,\n",
       " 'date_sold': (27, 8, 2011),\n",
       " 'flooring': 'wood'}"
      ]
     },
     "execution_count": 123,
     "metadata": {},
     "output_type": "execute_result"
    }
   ],
   "source": [
    "condo"
   ]
  },
  {
   "cell_type": "markdown",
   "metadata": {
    "slideshow": {
     "slide_type": "subslide"
    }
   },
   "source": [
    "- 사전에 등록된 특정 키-값 항목을 삭제할 수 있다. "
   ]
  },
  {
   "cell_type": "code",
   "execution_count": 124,
   "metadata": {
    "slideshow": {
     "slide_type": "fragment"
    }
   },
   "outputs": [],
   "source": [
    "del condo[\"city\"]  # 특정 키를 지정하여 키-값 항목을 삭제"
   ]
  },
  {
   "cell_type": "code",
   "execution_count": 125,
   "metadata": {
    "slideshow": {
     "slide_type": "fragment"
    }
   },
   "outputs": [
    {
     "data": {
      "text/plain": [
       "{'bedrooms': 2,\n",
       " 'bathrooms': 1,\n",
       " 'price': 5,\n",
       " 'date_sold': (27, 8, 2011),\n",
       " 'flooring': 'wood'}"
      ]
     },
     "execution_count": 125,
     "metadata": {},
     "output_type": "execute_result"
    }
   ],
   "source": [
    "condo"
   ]
  },
  {
   "cell_type": "markdown",
   "metadata": {
    "slideshow": {
     "slide_type": "subslide"
    }
   },
   "source": [
    "- 사전에 키-값 항목을 추가할 수 있다. "
   ]
  },
  {
   "cell_type": "code",
   "execution_count": 126,
   "metadata": {
    "slideshow": {
     "slide_type": "fragment"
    }
   },
   "outputs": [],
   "source": [
    "condo[5] = 443345"
   ]
  },
  {
   "cell_type": "code",
   "execution_count": 127,
   "metadata": {
    "slideshow": {
     "slide_type": "fragment"
    }
   },
   "outputs": [
    {
     "data": {
      "text/plain": [
       "{'bedrooms': 2,\n",
       " 'bathrooms': 1,\n",
       " 'price': 5,\n",
       " 'date_sold': (27, 8, 2011),\n",
       " 'flooring': 'wood',\n",
       " 5: 443345}"
      ]
     },
     "execution_count": 127,
     "metadata": {},
     "output_type": "execute_result"
    }
   ],
   "source": [
    "condo"
   ]
  },
  {
   "cell_type": "markdown",
   "metadata": {
    "slideshow": {
     "slide_type": "subslide"
    }
   },
   "source": [
    "- 사전에서 키는 수정 불가(immutable)하다. \n",
    "- 어떤 자료형이든 사전의 키로 사용할 수 있다. 심지어 튜플도 키가 될 수 있다. "
   ]
  },
  {
   "cell_type": "code",
   "execution_count": 128,
   "metadata": {
    "slideshow": {
     "slide_type": "fragment"
    }
   },
   "outputs": [
    {
     "data": {
      "text/plain": [
       "{'bedrooms': 2,\n",
       " 'bathrooms': 1,\n",
       " 'price': 5,\n",
       " 'date_sold': (27, 8, 2011),\n",
       " 'flooring': 'wood',\n",
       " 5: 443345,\n",
       " (1, 2, 3): 777}"
      ]
     },
     "execution_count": 128,
     "metadata": {},
     "output_type": "execute_result"
    }
   ],
   "source": [
    "condo[(1, 2, 3)] = 777  # 튜플을 사전의 키로 지정하여 값을 등록\n",
    "condo"
   ]
  },
  {
   "cell_type": "markdown",
   "metadata": {
    "slideshow": {
     "slide_type": "subslide"
    }
   },
   "source": [
    "- 사전에서 존재하지 않는 키를 통해 값에 접근하면 키 오류가 발생한다.  "
   ]
  },
  {
   "cell_type": "code",
   "execution_count": 129,
   "metadata": {
    "slideshow": {
     "slide_type": "fragment"
    },
    "tags": [
     "raises-exception"
    ]
   },
   "outputs": [
    {
     "ename": "KeyError",
     "evalue": "'not-here'",
     "output_type": "error",
     "traceback": [
      "\u001b[1;31m---------------------------------------------------------------------------\u001b[0m",
      "\u001b[1;31mKeyError\u001b[0m                                  Traceback (most recent call last)",
      "\u001b[1;32m~\\AppData\\Local\\Temp/ipykernel_9404/618239294.py\u001b[0m in \u001b[0;36m<module>\u001b[1;34m\u001b[0m\n\u001b[1;32m----> 1\u001b[1;33m \u001b[0mcondo\u001b[0m\u001b[1;33m[\u001b[0m\u001b[1;34m\"not-here\"\u001b[0m\u001b[1;33m]\u001b[0m\u001b[1;33m\u001b[0m\u001b[1;33m\u001b[0m\u001b[0m\n\u001b[0m",
      "\u001b[1;31mKeyError\u001b[0m: 'not-here'"
     ]
    }
   ],
   "source": [
    "condo[\"not-here\"]"
   ]
  },
  {
   "cell_type": "markdown",
   "metadata": {
    "slideshow": {
     "slide_type": "fragment"
    }
   },
   "source": [
    "- 사전에 관한 추가적 학습 자료는 \"점프 투 파이썬\" 사이트의 [딕셔너리 자료형](https://wikidocs.net/16#_5)을 추천한다. "
   ]
  },
  {
   "cell_type": "markdown",
   "metadata": {
    "slideshow": {
     "slide_type": "slide"
    }
   },
   "source": [
    "<div style=\"page-break-after: always;\"></div> \n",
    "\n",
    "## 5. 빈 객체"
   ]
  },
  {
   "cell_type": "markdown",
   "metadata": {
    "slideshow": {
     "slide_type": "subslide"
    }
   },
   "source": [
    "- 때로 등록된 항목이 없는 상태의 빈 객체를 생성하고,  \n",
    "  나중에 항목을 추가할 경우가 있다. "
   ]
  },
  {
   "cell_type": "code",
   "execution_count": 130,
   "metadata": {
    "slideshow": {
     "slide_type": "fragment"
    }
   },
   "outputs": [
    {
     "data": {
      "text/plain": [
       "[]"
      ]
     },
     "execution_count": 130,
     "metadata": {},
     "output_type": "execute_result"
    }
   ],
   "source": [
    "lst = list()  # 빈 리스트 생성 방법 1\n",
    "lst"
   ]
  },
  {
   "cell_type": "code",
   "execution_count": 131,
   "metadata": {
    "slideshow": {
     "slide_type": "fragment"
    }
   },
   "outputs": [
    {
     "data": {
      "text/plain": [
       "[]"
      ]
     },
     "execution_count": 131,
     "metadata": {},
     "output_type": "execute_result"
    }
   ],
   "source": [
    "lst = []  # 빈 리스트 생성 방법 2\n",
    "lst"
   ]
  },
  {
   "cell_type": "markdown",
   "metadata": {
    "slideshow": {
     "slide_type": "fragment"
    }
   },
   "source": [
    "- 빈 리스트를 생성하는 앞의 두 방법 간에 아무런 차이가 없다.  \n",
    "  다만 `[]` 방법이 `list()` 보다 [실행 속도가 빠르다](https://stackoverflow.com/questions/2972212/creating-an-empty-list-in-python)."
   ]
  },
  {
   "cell_type": "code",
   "execution_count": 132,
   "metadata": {
    "slideshow": {
     "slide_type": "subslide"
    }
   },
   "outputs": [
    {
     "data": {
      "text/plain": [
       "()"
      ]
     },
     "execution_count": 132,
     "metadata": {},
     "output_type": "execute_result"
    }
   ],
   "source": [
    "tup = tuple()  # 빈 튜플 생성 방법 1\n",
    "tup"
   ]
  },
  {
   "cell_type": "code",
   "execution_count": 133,
   "metadata": {
    "slideshow": {
     "slide_type": "fragment"
    }
   },
   "outputs": [
    {
     "data": {
      "text/plain": [
       "()"
      ]
     },
     "execution_count": 133,
     "metadata": {},
     "output_type": "execute_result"
    }
   ],
   "source": [
    "tup = ()  # 빈 튜플 생성 방법 2\n",
    "tup"
   ]
  },
  {
   "cell_type": "code",
   "execution_count": 134,
   "metadata": {
    "slideshow": {
     "slide_type": "fragment"
    }
   },
   "outputs": [
    {
     "data": {
      "text/plain": [
       "{}"
      ]
     },
     "execution_count": 134,
     "metadata": {},
     "output_type": "execute_result"
    }
   ],
   "source": [
    "dic = dict()  # 빈 사전 생성 방법 1\n",
    "dic"
   ]
  },
  {
   "cell_type": "code",
   "execution_count": 135,
   "metadata": {
    "slideshow": {
     "slide_type": "fragment"
    }
   },
   "outputs": [
    {
     "data": {
      "text/plain": [
       "{}"
      ]
     },
     "execution_count": 135,
     "metadata": {},
     "output_type": "execute_result"
    }
   ],
   "source": [
    "dic = {}  # 빈 사전 생성 방법 2\n",
    "dic"
   ]
  },
  {
   "cell_type": "code",
   "execution_count": 136,
   "metadata": {
    "slideshow": {
     "slide_type": "fragment"
    }
   },
   "outputs": [
    {
     "data": {
      "text/plain": [
       "set()"
      ]
     },
     "execution_count": 136,
     "metadata": {},
     "output_type": "execute_result"
    }
   ],
   "source": [
    "st = set()  # 빈 집합 생성 방법\n",
    "st"
   ]
  }
 ],
 "metadata": {
  "celltoolbar": "Slideshow",
  "interpreter": {
   "hash": "f246c46465a839b03f551761a769ba81ae41c099e7112fdbce4e20743f88f76e"
  },
  "kernelspec": {
   "display_name": "Python 3 (ipykernel)",
   "language": "python",
   "name": "python3"
  },
  "language_info": {
   "codemirror_mode": {
    "name": "ipython",
    "version": 3
   },
   "file_extension": ".py",
   "mimetype": "text/x-python",
   "name": "python",
   "nbconvert_exporter": "python",
   "pygments_lexer": "ipython3",
   "version": "3.8.11"
  },
  "latex_envs": {
   "LaTeX_envs_menu_present": true,
   "autoclose": false,
   "autocomplete": true,
   "bibliofile": "biblio.bib",
   "cite_by": "apalike",
   "current_citInitial": 1,
   "eqLabelWithNumbers": true,
   "eqNumInitial": 1,
   "hotkeys": {
    "equation": "Ctrl-E",
    "itemize": "Ctrl-I"
   },
   "labels_anchors": false,
   "latex_user_defs": false,
   "report_style_numbering": false,
   "user_envs_cfg": false
  },
  "toc": {
   "base_numbering": 1,
   "nav_menu": {},
   "number_sections": false,
   "sideBar": true,
   "skip_h1_title": true,
   "title_cell": "개요",
   "title_sidebar": "Contents",
   "toc_cell": false,
   "toc_position": {
    "height": "calc(100% - 180px)",
    "left": "10px",
    "top": "150px",
    "width": "206.594px"
   },
   "toc_section_display": true,
   "toc_window_display": true
  },
  "toc-autonumbering": false,
  "toc-showcode": false,
  "toc-showmarkdowntxt": false,
  "toc-showtags": false,
  "varInspector": {
   "cols": {
    "lenName": 16,
    "lenType": 16,
    "lenVar": 40
   },
   "kernels_config": {
    "python": {
     "delete_cmd_postfix": "",
     "delete_cmd_prefix": "del ",
     "library": "var_list.py",
     "varRefreshCmd": "print(var_dic_list())"
    },
    "r": {
     "delete_cmd_postfix": ") ",
     "delete_cmd_prefix": "rm(",
     "library": "var_list.r",
     "varRefreshCmd": "cat(var_dic_list()) "
    }
   },
   "types_to_exclude": [
    "module",
    "function",
    "builtin_function_or_method",
    "instance",
    "_Feature"
   ],
   "window_display": false
  }
 },
 "nbformat": 4,
 "nbformat_minor": 4
}
