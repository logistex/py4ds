{
 "cells": [
  {
   "cell_type": "markdown",
   "metadata": {
    "slideshow": {
     "slide_type": "slide"
    }
   },
   "source": [
    "![13_func](https://user-images.githubusercontent.com/10287629/144736790-eabf9f92-e207-4eb4-9c4a-4bb6b0ad31b5.png)\n",
    "\n",
    "<div style=\"page-break-after: always;\"></div> "
   ]
  },
  {
   "cell_type": "markdown",
   "metadata": {
    "slideshow": {
     "slide_type": "slide"
    }
   },
   "source": [
    "<h1>학습 목표<span class=\"tocSkip\"></span></h1>"
   ]
  },
  {
   "cell_type": "markdown",
   "metadata": {
    "slideshow": {
     "slide_type": "fragment"
    }
   },
   "source": [
    "- `if`, `elif` 및 `else` 등의 예약어를 활용하여 조건문을 작성할 수 있다. \n",
    "- 들여쓰기 수준으로 코드 블록을 식별할 수 있다.\n",
    "- `for` 및 `while` 반복 구문을 작성할 수 있다. \n",
    "- `for` 반복문에서 사용할 수 있는 반복 처리 가능한(iterable) 자료형을 식별할 수 있다.\n",
    "- 컴프리헨션(comprehension)을 활용하여   \n",
    "  `list`, `dictionary` 및 `set`을 생성할 수 있다.  \n",
    "- `try`/`except` 구문을 작성할 수 있다. \n",
    "- 함수 및 익명 함수를 정의할 수 있다. \n",
    "- 위치 인자 및 키워드 인자를 구분할 수 있다. \n",
    "- 지역 및 전역 인자를 구분할 수 있다. \n",
    "- 모듈형 코드를 작성하기 위하여 `DRY 원칙`을 적용할 수 있다. \n",
    "- 함수의 부작용을 평가할 수 있다. \n",
    "- 함수에 대하여 매개변수, 반환값, 행위 및 활용법 등을  \n",
    "  문서화하는 문자열(docstring)을 작성할 수 있다.  \n",
    "\n",
    "<div style=\"page-break-after: always;\"></div> "
   ]
  },
  {
   "cell_type": "markdown",
   "metadata": {
    "slideshow": {
     "slide_type": "slide"
    }
   },
   "source": [
    "## 1. 조건 처리 구조"
   ]
  },
  {
   "cell_type": "markdown",
   "metadata": {
    "slideshow": {
     "slide_type": "fragment"
    }
   },
   "source": [
    "- [조건 처리 구조](https://wikidocs.net/20)는 특정 코드 블록이  \n",
    "  프로그램의 상황에 따라서 선택적으로 수행되도록 제어하는 방식을 제공한다.  \n",
    "  예제를 살펴 보면서, 핵심 예약어와 문법, 그리고 들여쓰기 방법을 익히자. \n",
    "- 아래 코드는 조건 처리 구조의 예제이다. "
   ]
  },
  {
   "cell_type": "code",
   "execution_count": 1,
   "metadata": {
    "slideshow": {
     "slide_type": "fragment"
    }
   },
   "outputs": [
    {
     "name": "stdout",
     "output_type": "stream",
     "text": [
      "That's my name too!\n",
      "Nice to meet you!\n"
     ]
    }
   ],
   "source": [
    "name = \"Tom\"  # \"Santa\" \"Shin\"\n",
    "\n",
    "if name.lower() == \"tom\":\n",
    "    print(\"That's my name too!\")\n",
    "elif name.lower() == \"santa\":\n",
    "    print(\"That's a funny name.\")\n",
    "else:\n",
    "    print(f\"Hello {name}! That's a cool name!\")\n",
    "    \n",
    "print(\"Nice to meet you!\")"
   ]
  },
  {
   "cell_type": "markdown",
   "metadata": {
    "slideshow": {
     "slide_type": "subslide"
    }
   },
   "source": [
    "- 핵심 사항은 다음과 같다: \n",
    "    - 예약어 `if`, `elif` 및 `else`를 사용\n",
    "    - 콜론 `:`을 써서 개별 조건식을 마무리\n",
    "    - 공백 4 개로 들여쓰기 하여 코드 블록을 정의\n",
    "    - `if` 문의 조건이 `True`로 판정되면,  \n",
    "      첫 블록만 실행되고, if 구문 전체를 탈출\n",
    "    - `if` 문에 `elif` 및 `else`가 반드시 나오는 것은 아니며,  \n",
    "      원할 때만 사용할 수 있음\n",
    "    - `elif`는 `if` 문의 조건이 `False`인 경우에 추가적인 조건을 판정\n",
    "    - `else`는 앞에 나온 다른 조건이 모두 `False`인 경우에 기본적인 처리 블록을 지정\n",
    "    - 전체 `if` 문의 끝은 첫 `if` 예약어와 같은 수준의 들여쓰기 블록이 끝나는 행    "
   ]
  },
  {
   "cell_type": "markdown",
   "metadata": {
    "slideshow": {
     "slide_type": "subslide"
    }
   },
   "source": [
    "- `if` 구문은 중첩적인 구조로 작성 가능하다.  "
   ]
  },
  {
   "cell_type": "code",
   "execution_count": 2,
   "metadata": {
    "slideshow": {
     "slide_type": "fragment"
    }
   },
   "outputs": [
    {
     "name": "stdout",
     "output_type": "stream",
     "text": [
      "Hello Super Tom! That's a cool name.\n",
      "Do you really have superpowers?\n",
      "Nice to meet you!\n"
     ]
    }
   ],
   "source": [
    "name = \"Super Tom\"\n",
    "\n",
    "if name.lower() == \"tom\":\n",
    "    print(\"That's my name too!\")\n",
    "elif name.lower() == \"santa\":\n",
    "    print(\"That's a funny name.\")\n",
    "else:                            # else 절에 if 구조가 중첩되었음\n",
    "    print(f\"Hello {name}! That's a cool name.\")\n",
    "    if name.lower().startswith(\"super\"):\n",
    "        print(\"Do you really have superpowers?\")\n",
    "\n",
    "print(\"Nice to meet you!\")"
   ]
  },
  {
   "cell_type": "markdown",
   "metadata": {
    "slideshow": {
     "slide_type": "fragment"
    }
   },
   "source": [
    "- 가장 간단한 형태의 `if/else` 구조부터 공부하자. \n",
    "\n",
    "<div style=\"page-break-after: always;\"></div> "
   ]
  },
  {
   "cell_type": "markdown",
   "metadata": {
    "slideshow": {
     "slide_type": "slide"
    }
   },
   "source": [
    "### 1.1 단일 행 if/else"
   ]
  },
  {
   "cell_type": "markdown",
   "metadata": {
    "slideshow": {
     "slide_type": "fragment"
    }
   },
   "source": [
    "- 단순한 `if` 구문인 경우, \"단일 행\" 형식으로도 작성이 가능하다.  "
   ]
  },
  {
   "cell_type": "code",
   "execution_count": 3,
   "metadata": {
    "slideshow": {
     "slide_type": "fragment"
    }
   },
   "outputs": [
    {
     "data": {
      "text/plain": [
       "'short list'"
      ]
     },
     "execution_count": 3,
     "metadata": {},
     "output_type": "execute_result"
    }
   ],
   "source": [
    "words = [\"the\", \"list\", \"of\", \"words\"]\n",
    "\n",
    "x = \"long list\" if len(words) > 10 else \"short list\"  # 단일 행 if/else\n",
    "x"
   ]
  },
  {
   "cell_type": "code",
   "execution_count": 4,
   "metadata": {
    "slideshow": {
     "slide_type": "fragment"
    }
   },
   "outputs": [
    {
     "data": {
      "text/plain": [
       "'short list'"
      ]
     },
     "execution_count": 4,
     "metadata": {},
     "output_type": "execute_result"
    }
   ],
   "source": [
    "# 단일 행 if/else 구문이 아니면 아래와 같이 길게 작성해야 한다.   \n",
    "if len(words) > 10:\n",
    "    x = \"long list\"\n",
    "else:\n",
    "    x = \"short list\"\n",
    "x"
   ]
  },
  {
   "cell_type": "markdown",
   "metadata": {
    "slideshow": {
     "slide_type": "fragment"
    }
   },
   "source": [
    "- 이제 참/거짓 판정에 대해 공부하자. \n",
    "\n",
    "<div style=\"page-break-after: always;\"></div> "
   ]
  },
  {
   "cell_type": "markdown",
   "metadata": {
    "slideshow": {
     "slide_type": "slide"
    }
   },
   "source": [
    "### 1.2 참/거짓 판정"
   ]
  },
  {
   "cell_type": "markdown",
   "metadata": {
    "slideshow": {
     "slide_type": "fragment"
    }
   },
   "source": [
    "- 파이썬 `if` 및 `while` 문에서, 객체나 값 자체의 참/거짓 판정이 가능하다. \n",
    "    - `False` 값:  \n",
    "      `None`, `0`이거나  \n",
    "      원소가 하나도 없는 집합체(`''`, `()`, `[]`, `{}`, `set()`)라면 \n",
    "      `False` 값으로 판정된다.     \n",
    "    - `True` 값:  \n",
    "      (`False` 값으로 판정되는) 앞의 경우에 해당하지 않는  \n",
    "      모든 객체는 `True` 값으로 판정된다. \n",
    "- [객체나 값 자체의 판정](https://shoark7.github.io/programming/python/how-python-evaluates-conditional-expression)에 관한 국문 자료를 참고하라. "
   ]
  },
  {
   "cell_type": "code",
   "execution_count": 5,
   "metadata": {
    "slideshow": {
     "slide_type": "subslide"
    }
   },
   "outputs": [
    {
     "name": "stdout",
     "output_type": "stream",
     "text": [
      "참으로 판정되는 경우입니다.\n"
     ]
    }
   ],
   "source": [
    "x = 1\n",
    "\n",
    "if x:\n",
    "    print(\"참으로 판정되는 경우입니다.\")\n",
    "else:\n",
    "    print(\"거짓으로 판정되는 경우입니다.\")"
   ]
  },
  {
   "cell_type": "code",
   "execution_count": 6,
   "metadata": {
    "slideshow": {
     "slide_type": "fragment"
    }
   },
   "outputs": [
    {
     "name": "stdout",
     "output_type": "stream",
     "text": [
      "거짓으로 판정되는 경우입니다.\n"
     ]
    }
   ],
   "source": [
    "x = 0\n",
    "\n",
    "if x:\n",
    "    print(\"참으로 판정되는 경우입니다.\")\n",
    "else:\n",
    "    print(\"거짓으로 판정되는 경우입니다.\")"
   ]
  },
  {
   "cell_type": "code",
   "execution_count": 7,
   "metadata": {
    "slideshow": {
     "slide_type": "subslide"
    }
   },
   "outputs": [
    {
     "name": "stdout",
     "output_type": "stream",
     "text": [
      "빈 리스트가 아니군요.\n",
      "빈 리스트가 아니군요.\n"
     ]
    }
   ],
   "source": [
    "some_list = [1, 2, 3]\n",
    "\n",
    "if some_list:             # 추천 방식\n",
    "    print(\"빈 리스트가 아니군요.\")\n",
    "    \n",
    "if len(some_list) >= 1:   # 가능하지만 추천 방식은 아님\n",
    "    print(\"빈 리스트가 아니군요.\")"
   ]
  },
  {
   "cell_type": "markdown",
   "metadata": {
    "slideshow": {
     "slide_type": "fragment"
    }
   },
   "source": [
    "- 이제 단락 평가에 대해 공부하자. \n",
    "\n",
    "<div style=\"page-break-after: always;\"></div> "
   ]
  },
  {
   "cell_type": "markdown",
   "metadata": {
    "slideshow": {
     "slide_type": "slide"
    }
   },
   "source": [
    "### 1.3 단락 평가"
   ]
  },
  {
   "cell_type": "markdown",
   "metadata": {
    "slideshow": {
     "slide_type": "fragment"
    }
   },
   "source": [
    "- 파이썬은 \"단락(short-circuting)\" 평가 개념을 제공한다.  \n",
    "  단락이란 전기 분야에서 '의도와 달리 짧게 이어진다'는 뜻인데,  \n",
    "  \"합선\"과 비슷한 단어이다.  \n",
    "  파이썬에서는  \n",
    "  잔여 표현식의 평가가 남아 있지만  \n",
    "  결과가 뻔하게 예상되는 경우라면,  \n",
    "  논리 값 평가 작업을 자동 중지하는 방식이다. "
   ]
  },
  {
   "cell_type": "code",
   "execution_count": 8,
   "metadata": {
    "slideshow": {
     "slide_type": "subslide"
    }
   },
   "outputs": [
    {
     "ename": "NameError",
     "evalue": "name 'fake_variable' is not defined",
     "output_type": "error",
     "traceback": [
      "\u001b[1;31m---------------------------------------------------------------------------\u001b[0m",
      "\u001b[1;31mNameError\u001b[0m                                 Traceback (most recent call last)",
      "\u001b[1;32m~\\AppData\\Local\\Temp/ipykernel_25132/3119110274.py\u001b[0m in \u001b[0;36m<module>\u001b[1;34m\u001b[0m\n\u001b[1;32m----> 1\u001b[1;33m \u001b[0mfake_variable\u001b[0m  \u001b[1;31m# 정의되지 않은 변수\u001b[0m\u001b[1;33m\u001b[0m\u001b[1;33m\u001b[0m\u001b[0m\n\u001b[0m",
      "\u001b[1;31mNameError\u001b[0m: name 'fake_variable' is not defined"
     ]
    }
   ],
   "source": [
    "fake_variable  # 정의되지 않은 변수"
   ]
  },
  {
   "cell_type": "code",
   "execution_count": null,
   "metadata": {
    "slideshow": {
     "slide_type": "fragment"
    }
   },
   "outputs": [],
   "source": [
    "# 이 표현식에서 `True or` 부분만 평가하면 뒤는 평가할 필요가 없음\n",
    "# `True or` 부분만의 평가로 단락되므로, 오류 발생 없음\n",
    "True or fake_variable  "
   ]
  },
  {
   "cell_type": "code",
   "execution_count": null,
   "metadata": {
    "slideshow": {
     "slide_type": "subslide"
    }
   },
   "outputs": [],
   "source": [
    "# 이 표현식은 단락되지 않아, 결국 오류가 발생함\n",
    "True and fake_variable"
   ]
  },
  {
   "cell_type": "code",
   "execution_count": null,
   "metadata": {
    "scrolled": true,
    "slideshow": {
     "slide_type": "fragment"
    }
   },
   "outputs": [],
   "source": [
    "# 이 표현식에서는 `False and` 부분만 평가하면 뒤는 평가할 필요가 없음\n",
    "False and fake_variable  "
   ]
  },
  {
   "cell_type": "markdown",
   "metadata": {
    "slideshow": {
     "slide_type": "subslide"
    }
   },
   "source": [
    "- 파이썬에서 논리 (표현)식을 평가할 때, 단락 평가의 개념을 정리하면 다음과 같다.  \n",
    "\n",
    "|표현식|결과|설명|\n",
    "|---|---|---|\n",
    "|A or B|만일 A가 `True`이면 A, 아니면 B|A가 `False`인 경우에만 B를 평가|\n",
    "|A and B|만일 A가 `False`이면 A, 아니면 B|A가 `True`인 경우에만 B를 평가|\n",
    "\n",
    "\n",
    "<div style=\"page-break-after: always;\"></div> "
   ]
  },
  {
   "cell_type": "markdown",
   "metadata": {
    "slideshow": {
     "slide_type": "fragment"
    }
   },
   "source": [
    "- 지금까지 조건 처리 구조를 공부했고,  \n",
    "  이제부터 반복 처리 구조를 공부하자. \n",
    "\n",
    "<div style=\"page-break-after: always;\"></div> "
   ]
  },
  {
   "cell_type": "markdown",
   "metadata": {
    "slideshow": {
     "slide_type": "slide"
    }
   },
   "source": [
    "## 2. `for` 반복 구조"
   ]
  },
  {
   "cell_type": "markdown",
   "metadata": {
    "slideshow": {
     "slide_type": "fragment"
    }
   },
   "source": [
    "- `for` 반복 구문을 쓰면 특정 코드 블록을  \n",
    "  정해진 횟수만큼 **반복 수행** 할 수 있다. "
   ]
  },
  {
   "cell_type": "code",
   "execution_count": null,
   "metadata": {
    "slideshow": {
     "slide_type": "fragment"
    }
   },
   "outputs": [],
   "source": [
    "for n in [2, 7, -1, 5]:\n",
    "    print(f\"수치는 {n}이고 제곱하면 {n**2}입니다.\")\n",
    "print(\"반복 수행이 끝났어요!\")"
   ]
  },
  {
   "cell_type": "markdown",
   "metadata": {
    "slideshow": {
     "slide_type": "subslide"
    }
   },
   "source": [
    "- 요점은 다음과 같다: \n",
    "    - 예약어 `for`는 반복 구문을 시작한다.  \n",
    "      콜론 `:` 표시는 반복 구문의 첫 줄을 끝낸다. \n",
    "    - 들여쓰기된 코드 블록은 리스트의 모든 원소에 대해서 반복적으로 실행된다. \n",
    "    - 반복 구문은 변수 `n`이 리스트의 모든 원소에 대해서 반복 실행된 후 종료된다.\n",
    "    - 어떤 종류의 \"반복 처리 가능한 개체\"(iterable)에 대해서든 반복 실행이 가능하다:  \n",
    "      `list`, `tuple`, `range`, `set`, `string`.\n",
    "    - 값을 연속적으로 저장하고 있는 모든 개체는 반복 처리 가능한 개체이다.  \n",
    "      이 경우에 연속적으로 저장되어 있는 모든 값에 대하여 반복적으로 실행된다."
   ]
  },
  {
   "cell_type": "code",
   "execution_count": 9,
   "metadata": {
    "slideshow": {
     "slide_type": "fragment"
    }
   },
   "outputs": [
    {
     "name": "stdout",
     "output_type": "stream",
     "text": [
      "이번 문자는 P!\n",
      "이번 문자는 y!\n",
      "이번 문자는 t!\n",
      "이번 문자는 h!\n",
      "이번 문자는 o!\n",
      "이번 문자는 n!\n",
      "전체 문자열은 Python!\n"
     ]
    }
   ],
   "source": [
    "word = \"Python\"  # 문자열에는 문자가 연속적으로 저장되어 있음\n",
    "for letter in word:\n",
    "    print(\"이번 문자는 \" + letter + \"!\")\n",
    "\n",
    "print(f\"전체 문자열은 {word}!\")"
   ]
  },
  {
   "cell_type": "markdown",
   "metadata": {
    "slideshow": {
     "slide_type": "subslide"
    }
   },
   "source": [
    "- 가장 흔한 패턴은 `for`를 `range()`와 함께 쓰는 방식이다.  \n",
    "  - `range()`는 지정한 값(의 직전)까지 연속되는 정수를 제공한다.  \n",
    "  - `range()`에 지정한 값은 연속적으로 제공되는 정수에서 제외된다. \n",
    "  - `range` 뒤에 `()`가 붙어 있는 (함수) 형태에 주목하라.  "
   ]
  },
  {
   "cell_type": "code",
   "execution_count": 10,
   "metadata": {
    "slideshow": {
     "slide_type": "fragment"
    }
   },
   "outputs": [
    {
     "data": {
      "text/plain": [
       "range(0, 10)"
      ]
     },
     "execution_count": 10,
     "metadata": {},
     "output_type": "execute_result"
    }
   ],
   "source": [
    "range(10)  # (0부터) 10 (직전까지) 연속되는 정수의 범위를 지정"
   ]
  },
  {
   "cell_type": "code",
   "execution_count": 11,
   "metadata": {
    "slideshow": {
     "slide_type": "fragment"
    }
   },
   "outputs": [
    {
     "data": {
      "text/plain": [
       "[0, 1, 2, 3, 4, 5, 6, 7, 8, 9]"
      ]
     },
     "execution_count": 11,
     "metadata": {},
     "output_type": "execute_result"
    }
   ],
   "source": [
    "list(range(10))  # 리스트 생성에 활용"
   ]
  },
  {
   "cell_type": "code",
   "execution_count": 12,
   "metadata": {
    "slideshow": {
     "slide_type": "fragment"
    }
   },
   "outputs": [
    {
     "name": "stdout",
     "output_type": "stream",
     "text": [
      "0\n",
      "1\n",
      "2\n",
      "3\n",
      "4\n",
      "5\n",
      "6\n",
      "7\n",
      "8\n",
      "9\n"
     ]
    }
   ],
   "source": [
    "for i in range(10):  # 반복 구문에 활용\n",
    "    print(i)"
   ]
  },
  {
   "cell_type": "markdown",
   "metadata": {
    "slideshow": {
     "slide_type": "subslide"
    }
   },
   "source": [
    "- `range`(범위)의 시작 값과 증분 값을 지정할 수 있다. "
   ]
  },
  {
   "cell_type": "code",
   "execution_count": 13,
   "metadata": {
    "slideshow": {
     "slide_type": "fragment"
    }
   },
   "outputs": [
    {
     "name": "stdout",
     "output_type": "stream",
     "text": [
      "1\n",
      "11\n",
      "21\n",
      "31\n",
      "41\n",
      "51\n",
      "61\n",
      "71\n",
      "81\n",
      "91\n"
     ]
    }
   ],
   "source": [
    "for i in range(1, 101, 10):  # (시작, 끝, 증분), 끝 값 직전까지!\n",
    "    print(i)"
   ]
  },
  {
   "cell_type": "markdown",
   "metadata": {
    "slideshow": {
     "slide_type": "subslide"
    }
   },
   "source": [
    "- 반복 구문 내부에 반복 구문을 중첩할 수 있으며,  \n",
    "  이런 중첩 반복 구조를 통하여 데이터의 다차원 반복이 가능하다."
   ]
  },
  {
   "cell_type": "code",
   "execution_count": 14,
   "metadata": {
    "slideshow": {
     "slide_type": "fragment"
    }
   },
   "outputs": [
    {
     "name": "stdout",
     "output_type": "stream",
     "text": [
      "(1, 'a')\n",
      "(1, 'b')\n",
      "(1, 'c')\n",
      "(2, 'a')\n",
      "(2, 'b')\n",
      "(2, 'c')\n",
      "(3, 'a')\n",
      "(3, 'b')\n",
      "(3, 'c')\n"
     ]
    }
   ],
   "source": [
    "# 내부 반복이 먼저 완료되어야, 외부 반복이 수행된다. \n",
    "for x in [1, 2, 3]:            # 외부 반복\n",
    "    for y in [\"a\", \"b\", \"c\"]:  # 내부 반복\n",
    "        print((x, y))"
   ]
  },
  {
   "cell_type": "code",
   "execution_count": 15,
   "metadata": {
    "slideshow": {
     "slide_type": "subslide"
    }
   },
   "outputs": [
    {
     "name": "stdout",
     "output_type": "stream",
     "text": [
      "0 a\n",
      "1 b\n",
      "2 c\n"
     ]
    }
   ],
   "source": [
    "list_1 = [0, 1, 2]\n",
    "list_2 = [\"a\", \"b\", \"c\"]\n",
    "for i in range(3):\n",
    "    print(list_1[i], list_2[i])"
   ]
  },
  {
   "cell_type": "markdown",
   "metadata": {
    "slideshow": {
     "slide_type": "fragment"
    }
   },
   "source": [
    "- 두 리스트에 대한 동시적 반복은 더 멋지게 코딩이 가능하다.  \n",
    "  - `zip()` 및 `enumerate()`를 함께 쓰는 방식이다.  \n",
    "  - `zip()`은 길이가 같은 반복 처리 가능한 객체의 원소를  \n",
    "    차례대로 하나로 묶어서 반환한다. \n",
    "  - `zip()`은 `zip 객체`를 반환하는데,  \n",
    "    이는 반복 처리 가능한 튜플이다. "
   ]
  },
  {
   "cell_type": "code",
   "execution_count": 16,
   "metadata": {
    "slideshow": {
     "slide_type": "fragment"
    }
   },
   "outputs": [
    {
     "name": "stdout",
     "output_type": "stream",
     "text": [
      "(0, 'a')\n",
      "(1, 'b')\n",
      "(2, 'c')\n"
     ]
    }
   ],
   "source": [
    "# 두 리스트의 각 원소를 하나로 묶어서 차례대로 반환하는 zip()\n",
    "for item in zip(list_1, list_2):  \n",
    "    print(item)"
   ]
  },
  {
   "cell_type": "markdown",
   "metadata": {
    "slideshow": {
     "slide_type": "subslide"
    }
   },
   "source": [
    "- 반복 구문에서 `zip()`이 반환하는 퓨플을  \n",
    "  \"풀어서(unpack)\" 사용할 수도 있다. \n"
   ]
  },
  {
   "cell_type": "code",
   "execution_count": 17,
   "metadata": {
    "slideshow": {
     "slide_type": "fragment"
    }
   },
   "outputs": [
    {
     "name": "stdout",
     "output_type": "stream",
     "text": [
      "0 a\n",
      "1 b\n",
      "2 c\n"
     ]
    }
   ],
   "source": [
    "for i, j in zip(list_1, list_2):\n",
    "    print(i, j)"
   ]
  },
  {
   "cell_type": "markdown",
   "metadata": {
    "slideshow": {
     "slide_type": "subslide"
    }
   },
   "source": [
    "- `enumerate()`는 반복 처리 가능한 객체에 계수기(counter)를 추가하는데,  \n",
    "  이 계수 값을 반복 구문에서 사용할 수 있다. "
   ]
  },
  {
   "cell_type": "code",
   "execution_count": 18,
   "metadata": {
    "slideshow": {
     "slide_type": "fragment"
    }
   },
   "outputs": [
    {
     "name": "stdout",
     "output_type": "stream",
     "text": [
      "(0, 'a')\n",
      "(1, 'b')\n",
      "(2, 'c')\n"
     ]
    }
   ],
   "source": [
    "# (계수, 리스트_원소) 형태로 반환하는 enumerate()\n",
    "for item in enumerate(list_2):  \n",
    "    print(item)"
   ]
  },
  {
   "cell_type": "code",
   "execution_count": 19,
   "metadata": {
    "slideshow": {
     "slide_type": "subslide"
    }
   },
   "outputs": [
    {
     "name": "stdout",
     "output_type": "stream",
     "text": [
      "번호 0, 값 a\n",
      "번호 1, 값 b\n",
      "번호 2, 값 c\n"
     ]
    }
   ],
   "source": [
    "# unpacked 형태로 반환받는 경우\n",
    "for index, value in enumerate(list_2):\n",
    "    print(f\"번호 {index}, 값 {value}\")"
   ]
  },
  {
   "cell_type": "code",
   "execution_count": 20,
   "metadata": {
    "slideshow": {
     "slide_type": "fragment"
    }
   },
   "outputs": [
    {
     "name": "stdout",
     "output_type": "stream",
     "text": [
      "계수 0, 값 a\n",
      "계수 1, 값 b\n",
      "계수 2, 값 c\n"
     ]
    }
   ],
   "source": [
    "# unpacked 형태로 반환받는 경우\n",
    "for i, v in enumerate(list_2):  # unpacked 형태로 반환받는 변수 이름은 자유로 지정 가능\n",
    "    print(f\"계수 {i}, 값 {v}\")"
   ]
  },
  {
   "cell_type": "markdown",
   "metadata": {
    "slideshow": {
     "slide_type": "subslide"
    }
   },
   "source": [
    "- 사전의 원소에 대하여 키-값 쌍 형태로 반복하려면 `.items()`를 쓴다.  \n",
    "  `for key, value in dictionary.items()` 형태로 사용한다. "
   ]
  },
  {
   "cell_type": "code",
   "execution_count": 21,
   "metadata": {
    "slideshow": {
     "slide_type": "fragment"
    }
   },
   "outputs": [
    {
     "name": "stdout",
     "output_type": "stream",
     "text": [
      "과목 번호 521은 국어 과목이다.\n",
      "과목 번호 551은 영어 과목이다.\n",
      "과목 번호 511은 수학 과목이다.\n"
     ]
    }
   ],
   "source": [
    "과정 = {521 : \"국어\",\n",
    "        551 : \"영어\",\n",
    "        511 : \"수학\", }\n",
    "\n",
    "for 번호, 과목 in 과정.items():\n",
    "    print(f\"과목 번호 {번호}은 {과목} 과목이다.\")"
   ]
  },
  {
   "cell_type": "markdown",
   "metadata": {
    "slideshow": {
     "slide_type": "subslide"
    }
   },
   "source": [
    "- `enumerate()`를 써서 계수기를 추가하여 묶음 풀기(un-packing)가 가능하다. "
   ]
  },
  {
   "cell_type": "code",
   "execution_count": 22,
   "metadata": {
    "slideshow": {
     "slide_type": "fragment"
    }
   },
   "outputs": [
    {
     "name": "stdout",
     "output_type": "stream",
     "text": [
      "과목 1: 521, 국어\n",
      "과목 2: 551, 영어\n",
      "과목 3: 511, 수학\n"
     ]
    }
   ],
   "source": [
    "for n, (번호, 과목) in enumerate(과정.items()):\n",
    "    print(f\"과목 {n+1}: {번호}, {과목}\")"
   ]
  },
  {
   "cell_type": "markdown",
   "metadata": {
    "slideshow": {
     "slide_type": "fragment"
    }
   },
   "source": [
    "- 지금까지 `for` 반복 구조를 공부했고,  \n",
    "  이제부터 `while` 반복 구조를 공부하자. \n",
    "\n",
    "<div style=\"page-break-after: always;\"></div> "
   ]
  },
  {
   "cell_type": "markdown",
   "metadata": {
    "slideshow": {
     "slide_type": "slide"
    }
   },
   "source": [
    "## 3. `while` 반복 구조"
   ]
  },
  {
   "cell_type": "markdown",
   "metadata": {
    "slideshow": {
     "slide_type": "fragment"
    }
   },
   "source": [
    "- `while` 반복 구문은 `for` 반복 구문과는 개념이 다소 다르다. \n",
    "  - `while` 반복 구문은 `while 조건:` 문법 형태로 시작하는데,  \n",
    "    `조건`이 만족되는 동안 계속 반복적으로 실행한다.  \n",
    "  - `for` 반복 구문은 반복 횟수가 명확하다. \n",
    "  - `while` 반복 구문은 지정한 조건이 만족되는 동안 반복되므로,  \n",
    "    반복 횟수를 사전에 결정하기 어렵다. \n",
    "  - 또한 `while 조건:`에서 지정한 조건이 항상 `True`로 판정된다면  \n",
    "    무한 반복이 일어나게 되므로,  \n",
    "    일반적으로 반복 과정에서 조건이 `False`로 변할 수 있도록 논리를 구성한다.\n",
    "  - `while` 반복 구문에 대해서는  \n",
    "    [점프 투 파이썬 문서](https://wikidocs.net/21) 또는 \n",
    "    [판다스 영문 공식 문서](https://docs.python.org/3/reference/compound_stmts.html#while)를 참고하라."
   ]
  },
  {
   "cell_type": "code",
   "execution_count": 23,
   "metadata": {
    "slideshow": {
     "slide_type": "subslide"
    }
   },
   "outputs": [
    {
     "name": "stdout",
     "output_type": "stream",
     "text": [
      "10\n",
      "9\n",
      "8\n",
      "7\n",
      "6\n",
      "5\n",
      "4\n",
      "3\n",
      "2\n",
      "1\n",
      "반복 종료!\n"
     ]
    }
   ],
   "source": [
    "n = 10        # n 초기값 지정\n",
    "while n > 0:  # n이 양수인 조건을 만족하는 동안 반복\n",
    "    print(n)  # n 출력    \n",
    "    n -= 1    # n을 1만큼 감소시킴(언제가는 반복 조건을 만족하지 못하게 됨)\n",
    "\n",
    "print(\"반복 종료!\")"
   ]
  },
  {
   "cell_type": "markdown",
   "metadata": {
    "slideshow": {
     "slide_type": "fragment"
    }
   },
   "source": [
    "- 직전 코드에서 `while` 문장을 마치 자연어인 것 처럼 읽어보라. \n",
    "  - \"n이 0보다 큰 **동안** 반복적으로, n을 출력하고, n을 1만큼 감소시키라.\"\n",
    "  - n이 10인 초기 상태에서 시작해서,  \n",
    "    (들여쓰기 한) 반복 블럭이 수행될 때마다 n 값이 줄어들게 되며,  \n",
    "    n이 0이 되는 순간에 마침내 반복 조건이 만족되지 않으므로 반복을 종료하게 된다. "
   ]
  },
  {
   "cell_type": "markdown",
   "metadata": {
    "slideshow": {
     "slide_type": "subslide"
    }
   },
   "source": [
    "- 반복 조건을 어떻게 설정하느냐에 따라서,  \n",
    "  또한 반복 과정에서 반복 조건에 관련된 변수를 어떻게 변화시키느냐에 따라서  \n",
    "  반복이 몇 번만에 종료될지 또는 과연 종료되기는 할 것인지 예단하기 어렵다. \n",
    "- [콜라츠 추측](https://ko.wikipedia.org/wiki/콜라츠_추측)에 관한 한글 위키 문서를 읽어보라.\n",
    "    - 콜라츠 수열은 임의의 양의 정수 n에서 시작해서,  \n",
    "      다음 규칙에 따라서 수열을 만들어 내는 과정을 반복한다.   \n",
    "      - n이 짝수라면 다음 수를 절반으로 만들고,  \n",
    "      - n이 홀수라면 다음 수를 3배에 1을 더한 수로 만드는 것이다.  \n",
    "      - 위 과정을 n이 1이 될 때까지 반복한다. 즉 n이 1이 되면 반복을 종료한다. \n",
    "    - 아래 코드는 콜라츠 수열을 파이썬으로 구현한 것이다. \n",
    "    - 콜라츠는 어떤 양의 정수로 시작하는 콜라츠 수열을 만들어도,  \n",
    "      결국은 1로 수렴할 것이라고 추측하였다.  \n",
    "    - 지금까지 컴퓨터로 실험한 결과는 2<sup>68</sup>까지는 이 추측이 맞다는 것이 확인되었다.  \n",
    "    - 하지만 아직까지 수학적인 증명은 이루어지지 못하였다. \n",
    "    - 우리는 여전히 몇 번만에 콜라츠 수열이 1로 수렴할지 예측하지 못한다. "
   ]
  },
  {
   "cell_type": "code",
   "execution_count": 24,
   "metadata": {
    "slideshow": {
     "slide_type": "subslide"
    }
   },
   "outputs": [
    {
     "name": "stdout",
     "output_type": "stream",
     "text": [
      "11\n",
      "34\n",
      "17\n",
      "52\n",
      "26\n",
      "13\n",
      "40\n",
      "20\n",
      "10\n",
      "5\n",
      "16\n",
      "8\n",
      "4\n",
      "2\n",
      "1\n"
     ]
    }
   ],
   "source": [
    "# 11부터 시작하는 콜라츠 수열\n",
    "n = 11\n",
    "while n != 1:\n",
    "    print(int(n))\n",
    "    if n % 2 == 0:  # 짝수이면\n",
    "        n = n / 2\n",
    "    else:           # 홀수이면\n",
    "        n = n * 3 + 1\n",
    "print(int(n))"
   ]
  },
  {
   "cell_type": "markdown",
   "metadata": {
    "slideshow": {
     "slide_type": "subslide"
    }
   },
   "source": [
    "- 특정 상황에서는,  \n",
    "  `while` 반복이 (특정 조건을 판단하여) 강제 종료되도록 해야 하는데,  \n",
    "  `break` 예약어를 쓰면 된다. "
   ]
  },
  {
   "cell_type": "code",
   "execution_count": 25,
   "metadata": {
    "slideshow": {
     "slide_type": "fragment"
    }
   },
   "outputs": [
    {
     "name": "stdout",
     "output_type": "stream",
     "text": [
      "123\n",
      "370\n",
      "185\n",
      "556\n",
      "278\n",
      "139\n",
      "418\n",
      "209\n",
      "628\n",
      "314\n",
      "반복회수가 10회에 도달하여, 강제 종료합니다!\n"
     ]
    }
   ],
   "source": [
    "n = 123\n",
    "반복횟수 = 0\n",
    "while n != 1:\n",
    "    print(int(n))\n",
    "    if n % 2 == 0: # n is even\n",
    "        n = n / 2\n",
    "    else: # n is odd\n",
    "        n = n * 3 + 1\n",
    "    반복횟수 += 1\n",
    "    if 반복횟수 == 10:\n",
    "        print(f\"반복회수가 10회에 도달하여, 강제 종료합니다!\")\n",
    "        break  # 강제 종료"
   ]
  },
  {
   "cell_type": "markdown",
   "metadata": {
    "slideshow": {
     "slide_type": "subslide"
    }
   },
   "source": [
    "- `continue` 예약어는 `break`와 비슷하지만,  \n",
    "  약간 달라서 반복을 종료시키지는 않고,  \n",
    "  반복 블럭의 나머지 부분을 건너뛰어 반복 블럭의 처음부터 다시 반복하게 한다. "
   ]
  },
  {
   "cell_type": "code",
   "execution_count": 26,
   "metadata": {
    "slideshow": {
     "slide_type": "fragment"
    }
   },
   "outputs": [
    {
     "name": "stdout",
     "output_type": "stream",
     "text": [
      "10\n",
      "8\n",
      "6\n",
      "4\n",
      "2\n",
      "(n = 0) 상태로 종료!\n"
     ]
    }
   ],
   "source": [
    "n = 10\n",
    "while n > 0:        # 양수인 동안 반복\n",
    "    if n % 2 != 0:  # 홀수이면 1만큼 감소하고, 반복 블럭의 남은 부분을 무시하고 처음부터 반복\n",
    "        n = n - 1   \n",
    "        continue\n",
    "        break       # 이 행은 절대로 실행되지 않음! 왜 그럴까?\n",
    "    print(n)        # 짝수일때만 출력하고 1만큼 감소\n",
    "    n = n - 1\n",
    "\n",
    "print(f\"(n = {n}) 상태로 종료!\")"
   ]
  },
  {
   "cell_type": "markdown",
   "metadata": {
    "slideshow": {
     "slide_type": "fragment"
    }
   },
   "source": [
    "- 지금까지 반복 처리 구조를 공부했고,  \n",
    "  이제부터 집합체 컴프리헨션을 공부하자. \n",
    "\n",
    "<div style=\"page-break-after: always;\"></div> "
   ]
  },
  {
   "cell_type": "markdown",
   "metadata": {
    "slideshow": {
     "slide_type": "slide"
    }
   },
   "source": [
    "## 4. 집합체 컴프리헨션"
   ]
  },
  {
   "cell_type": "markdown",
   "metadata": {
    "slideshow": {
     "slide_type": "fragment"
    }
   },
   "source": [
    "- 컴프리헨션(comprehension)은 리스트/튜플/집합/사전 등의  \n",
    "  집합체 자료구조를 생성하는 간략 코딩 방법이다.  \n",
    "  파이썬 고수들은 집합체를 생성할 때, 표준적인 `for` 반복 구문보다  \n",
    "  이 간략 코딩 방법을 즐겨서 사용한다: "
   ]
  },
  {
   "cell_type": "code",
   "execution_count": 27,
   "metadata": {
    "slideshow": {
     "slide_type": "fragment"
    }
   },
   "outputs": [
    {
     "name": "stdout",
     "output_type": "stream",
     "text": [
      "['뒤', '글', '자', '만', '봐']\n"
     ]
    }
   ],
   "source": [
    "세로드립 = ['뒤돌아정신병원가', \n",
    "            '글구너말구새로운', \n",
    "            '자식을사랑하는데', \n",
    "            '만날걔랑은영화만', \n",
    "            '봐이상해앞글자봐', ]\n",
    "첫_글자 = []\n",
    "for 단어 in 세로드립:\n",
    "    첫_글자.append(단어[0])\n",
    "print(첫_글자)"
   ]
  },
  {
   "cell_type": "markdown",
   "metadata": {
    "slideshow": {
     "slide_type": "subslide"
    }
   },
   "source": [
    "- 리스트 컴프리헨션을 써서 위 코드를 한 줄로 줄일 수 있다:"
   ]
  },
  {
   "cell_type": "code",
   "execution_count": 28,
   "metadata": {
    "jupyter": {
     "outputs_hidden": false
    },
    "slideshow": {
     "slide_type": "fragment"
    }
   },
   "outputs": [
    {
     "data": {
      "text/plain": [
       "['가', '운', '데', '만', '봐']"
      ]
     },
     "execution_count": 28,
     "metadata": {},
     "output_type": "execute_result"
    }
   ],
   "source": [
    "[단어[-1] for 단어 in 세로드립]  # 리스트 컴프리헨션"
   ]
  },
  {
   "cell_type": "code",
   "execution_count": 29,
   "metadata": {
    "jupyter": {
     "outputs_hidden": false
    },
    "slideshow": {
     "slide_type": "fragment"
    }
   },
   "outputs": [
    {
     "data": {
      "text/plain": [
       "['정', '말', '사', '랑', '해']"
      ]
     },
     "execution_count": 29,
     "metadata": {},
     "output_type": "execute_result"
    }
   ],
   "source": [
    "[단어[3] for 단어 in 세로드립]  # 리스트 컴프리헨션"
   ]
  },
  {
   "cell_type": "markdown",
   "metadata": {
    "slideshow": {
     "slide_type": "subslide"
    }
   },
   "source": [
    "- 다중 반복이나 조건 반복을 써서 더 복잡하지만 더 짧게 만들 수 있다: "
   ]
  },
  {
   "cell_type": "code",
   "execution_count": 30,
   "metadata": {
    "slideshow": {
     "slide_type": "fragment"
    }
   },
   "outputs": [
    {
     "data": {
      "text/plain": [
       "[(0, 0),\n",
       " (0, 1),\n",
       " (0, 2),\n",
       " (0, 3),\n",
       " (1, 0),\n",
       " (1, 1),\n",
       " (1, 2),\n",
       " (1, 3),\n",
       " (2, 0),\n",
       " (2, 1),\n",
       " (2, 2),\n",
       " (2, 3)]"
      ]
     },
     "execution_count": 30,
     "metadata": {},
     "output_type": "execute_result"
    }
   ],
   "source": [
    "# 뒤에 쓴 j가 먼저 반복되고, 앞에 쓴 i가 나중에 반복됨\n",
    "[(i, j) for i in range(3) for j in range(4)]   "
   ]
  },
  {
   "cell_type": "code",
   "execution_count": 31,
   "metadata": {
    "slideshow": {
     "slide_type": "subslide"
    }
   },
   "outputs": [
    {
     "data": {
      "text/plain": [
       "[0, 2, 4, 6, 8, 10]"
      ]
     },
     "execution_count": 31,
     "metadata": {},
     "output_type": "execute_result"
    }
   ],
   "source": [
    "# 조건 반복으로 짝수만 원소로 저장\n",
    "\n",
    "[i for i in range(11) if i % 2 == 0]  "
   ]
  },
  {
   "cell_type": "code",
   "execution_count": 32,
   "metadata": {
    "slideshow": {
     "slide_type": "fragment"
    }
   },
   "outputs": [
    {
     "data": {
      "text/plain": [
       "[0, -1, 2, -3, 4, -5, 6, -7, 8, -9, 10]"
      ]
     },
     "execution_count": 32,
     "metadata": {},
     "output_type": "execute_result"
    }
   ],
   "source": [
    "# 조건 반복으로, 홀수만 음수로\n",
    "# (i % 2)가 True(!= 0)라는 의미는 나머지가 0이 아니라는 의미, 즉 홀수\n",
    "# (i % 2)가 False(== 0)라는 의미는 나머지가 0이라는 의미, 즉 짝수\n",
    "\n",
    "[-i if i % 2 else i for i in range(11)]  "
   ]
  },
  {
   "cell_type": "markdown",
   "metadata": {
    "slideshow": {
     "slide_type": "subslide"
    }
   },
   "source": [
    "- 집합 컴프리헨션도 가능하다:"
   ]
  },
  {
   "cell_type": "code",
   "execution_count": 33,
   "metadata": {
    "slideshow": {
     "slide_type": "fragment"
    }
   },
   "outputs": [
    {
     "data": {
      "text/plain": [
       "{'e', 'm', 'o'}"
      ]
     },
     "execution_count": 33,
     "metadata": {},
     "output_type": "execute_result"
    }
   ],
   "source": [
    "words = ['hello', 'goodbye', 'the', 'antidisestablishmentarianism']  \n",
    "# 'antidisestablishmentarianism' == '영국 교회를 폐지하는 것에 대한 반대'\n",
    "y = {word[-1] for word in words}  # 집합 컴프리헨션\n",
    "y  # 집합에는 원소를 중복 등록할 수 없으므로, 단지 3 개 원소만 등록됨, 또한 집합에 저장된 원소는 정렬이 원천적으로 불가능함"
   ]
  },
  {
   "cell_type": "markdown",
   "metadata": {
    "slideshow": {
     "slide_type": "subslide"
    }
   },
   "source": [
    "- 사전 컴프리헨션도 가능하다:"
   ]
  },
  {
   "cell_type": "code",
   "execution_count": 34,
   "metadata": {
    "slideshow": {
     "slide_type": "fragment"
    }
   },
   "outputs": [
    {
     "data": {
      "text/plain": [
       "{'hello': 5, 'goodbye': 7, 'the': 3, 'antidisestablishmentarianism': 28}"
      ]
     },
     "execution_count": 34,
     "metadata": {},
     "output_type": "execute_result"
    }
   ],
   "source": [
    "word_lengths = {word:len(word) for word in words} # dictionary comprehension\n",
    "word_lengths"
   ]
  },
  {
   "cell_type": "markdown",
   "metadata": {
    "slideshow": {
     "slide_type": "subslide"
    }
   },
   "source": [
    "- 튜플 컴프리헨션은 우리가 예상한 것과는 다르다...  \n",
    "  대신에 튜플에 대해서는 \"제너레이터\"(generator)가 제공되는데,  \n",
    "  이에 대해서는 나중에 공부하겠다. "
   ]
  },
  {
   "cell_type": "code",
   "execution_count": 35,
   "metadata": {
    "slideshow": {
     "slide_type": "fragment"
    }
   },
   "outputs": [
    {
     "name": "stdout",
     "output_type": "stream",
     "text": [
      "<generator object <genexpr> at 0x00000233A55B3A50>\n"
     ]
    }
   ],
   "source": [
    "# 이것은 튜플 컴프리헨션이 아닌, 제너레이터인데, 이에 대해서는 나중에 공부할 예정\n",
    "y = (word[-1] for word in words)  \n",
    "print(y)"
   ]
  },
  {
   "cell_type": "markdown",
   "metadata": {
    "slideshow": {
     "slide_type": "fragment"
    }
   },
   "source": [
    "- 지금까지 집합체 컴프리헨션을 공부했고,  \n",
    "  이제부터 `try/except` 구문을 공부하자. \n",
    "\n",
    "<div style=\"page-break-after: always;\"></div> "
   ]
  },
  {
   "cell_type": "markdown",
   "metadata": {
    "slideshow": {
     "slide_type": "slide"
    }
   },
   "source": [
    "## 5. `try` / `except` 구문"
   ]
  },
  {
   "cell_type": "markdown",
   "metadata": {
    "slideshow": {
     "slide_type": "fragment"
    }
   },
   "source": [
    "|![그림 1. NIИ 록 밴드 공연 장면에서 의도적으로 연출한 윈도 블루 스크린](https://user-images.githubusercontent.com/10287629/144738812-f911657e-745b-477d-b713-ad45db43771e.jpg)<br>그림 1. NIИ 록 밴드 공연 장면에서 의도적으로 연출한 윈도 블루 스크린<br>출처: [cnet.com](https://www.cnet.com/news/nine-inch-nails-depresses-with-a-big-blue-screen-of-death/)|\n",
    "|:---|"
   ]
  },
  {
   "cell_type": "markdown",
   "metadata": {
    "slideshow": {
     "slide_type": "subslide"
    }
   },
   "source": [
    "- 무엇인가 잘못되어서, 우리가 작성한 코드가  \n",
    "  그냥 멈추어 버리기를 바라는 사람은 없을 것이다.  \n",
    "  최소한 **우아하게** 실패해야 한다.  \n",
    "  파이썬에선 이런 상황을 대비하여 `try`/`except` 구문을 준비해두었다.  \n",
    "  아래에서 기본적인 예제를 살펴보라: "
   ]
  },
  {
   "cell_type": "code",
   "execution_count": 36,
   "metadata": {
    "slideshow": {
     "slide_type": "fragment"
    },
    "tags": [
     "raises-exception"
    ]
   },
   "outputs": [
    {
     "ename": "NameError",
     "evalue": "name '이_변수는_존재하지도_않음' is not defined",
     "output_type": "error",
     "traceback": [
      "\u001b[1;31m---------------------------------------------------------------------------\u001b[0m",
      "\u001b[1;31mNameError\u001b[0m                                 Traceback (most recent call last)",
      "\u001b[1;32m~\\AppData\\Local\\Temp/ipykernel_25132/3089541963.py\u001b[0m in \u001b[0;36m<module>\u001b[1;34m\u001b[0m\n\u001b[0;32m      1\u001b[0m \u001b[1;31m# 이렇게 오류가 발생하는 코드는 비호감!!!\u001b[0m\u001b[1;33m\u001b[0m\u001b[1;33m\u001b[0m\u001b[1;33m\u001b[0m\u001b[0m\n\u001b[1;32m----> 2\u001b[1;33m \u001b[0m이_변수는_존재하지도_않음\u001b[0m\u001b[1;33m\u001b[0m\u001b[1;33m\u001b[0m\u001b[0m\n\u001b[0m\u001b[0;32m      3\u001b[0m \u001b[0mprint\u001b[0m\u001b[1;33m(\u001b[0m\u001b[1;34m\"Another line\"\u001b[0m\u001b[1;33m)\u001b[0m  \u001b[1;31m# 이 행을 실행하기도 전에 오류가 발생함\u001b[0m\u001b[1;33m\u001b[0m\u001b[1;33m\u001b[0m\u001b[0m\n",
      "\u001b[1;31mNameError\u001b[0m: name '이_변수는_존재하지도_않음' is not defined"
     ]
    }
   ],
   "source": [
    "# 이렇게 오류가 발생하는 코드는 비호감!!!\n",
    "이_변수는_존재하지도_않음\n",
    "print(\"Another line\")  # 이 행을 실행하기도 전에 오류가 발생함"
   ]
  },
  {
   "cell_type": "code",
   "execution_count": 37,
   "metadata": {
    "slideshow": {
     "slide_type": "subslide"
    }
   },
   "outputs": [
    {
     "name": "stdout",
     "output_type": "stream",
     "text": [
      "무언가 잘못 되었습니다! 하지만 오류를 내고 멈추게 하고 싶지는 않았습니다.\n",
      "다른 행이 실행되었습니다.\n"
     ]
    }
   ],
   "source": [
    "try:\n",
    "    이_변수는_존재하지도_않음\n",
    "except:\n",
    "    pass # 말그대로 '통과'하라는 파이썬 예약어\n",
    "    print(\"무언가 잘못 되었습니다! 하지만 오류를 내고 멈추게 하고 싶지는 않았습니다.\") # 뭐라도 변명을 출력\n",
    "print(\"다른 행이 실행되었습니다.\")"
   ]
  },
  {
   "cell_type": "markdown",
   "metadata": {
    "slideshow": {
     "slide_type": "fragment"
    }
   },
   "source": [
    "- 파이썬은 먼저 `try` 블럭을 실행하려고 시도한다.  \n",
    "  만일 오류가 발생하면, 이 오류를 `except` 블럭에서 \"잡아채어\"(catch) 마무리한다.  \n",
    "  이런 연유로 다른 언어에서는 `try`/`catch` 구문을 쓰기도 한다. \n",
    "- 오류(다른 말로 **예외**(exception)라고도 함) 유형은 매우 다양하게 정의되어 있다. \n",
    "  - 직전 코드에서는 `NameError`가 발생했었다. \n",
    "  - 아래 코드에서 더 다양한 오류 유형을 살펴보자:"
   ]
  },
  {
   "cell_type": "code",
   "execution_count": 38,
   "metadata": {
    "slideshow": {
     "slide_type": "subslide"
    },
    "tags": [
     "raises-exception"
    ]
   },
   "outputs": [
    {
     "ename": "ZeroDivisionError",
     "evalue": "division by zero",
     "output_type": "error",
     "traceback": [
      "\u001b[1;31m---------------------------------------------------------------------------\u001b[0m",
      "\u001b[1;31mZeroDivisionError\u001b[0m                         Traceback (most recent call last)",
      "\u001b[1;32m~\\AppData\\Local\\Temp/ipykernel_25132/1257208593.py\u001b[0m in \u001b[0;36m<module>\u001b[1;34m\u001b[0m\n\u001b[1;32m----> 1\u001b[1;33m \u001b[1;36m5\u001b[0m\u001b[1;33m/\u001b[0m\u001b[1;36m0\u001b[0m  \u001b[1;31m# ZeroDivisionError (0으로 나누려고 했다는 오류)\u001b[0m\u001b[1;33m\u001b[0m\u001b[1;33m\u001b[0m\u001b[0m\n\u001b[0m",
      "\u001b[1;31mZeroDivisionError\u001b[0m: division by zero"
     ]
    }
   ],
   "source": [
    "5/0  # ZeroDivisionError (0으로 나누려고 했다는 오류)"
   ]
  },
  {
   "cell_type": "code",
   "execution_count": 39,
   "metadata": {
    "slideshow": {
     "slide_type": "fragment"
    },
    "tags": [
     "raises-exception"
    ]
   },
   "outputs": [
    {
     "ename": "IndexError",
     "evalue": "list index out of range",
     "output_type": "error",
     "traceback": [
      "\u001b[1;31m---------------------------------------------------------------------------\u001b[0m",
      "\u001b[1;31mIndexError\u001b[0m                                Traceback (most recent call last)",
      "\u001b[1;32m~\\AppData\\Local\\Temp/ipykernel_25132/2155313909.py\u001b[0m in \u001b[0;36m<module>\u001b[1;34m\u001b[0m\n\u001b[0;32m      1\u001b[0m \u001b[0mmy_list\u001b[0m \u001b[1;33m=\u001b[0m \u001b[1;33m[\u001b[0m\u001b[1;36m1\u001b[0m\u001b[1;33m,\u001b[0m \u001b[1;36m2\u001b[0m\u001b[1;33m,\u001b[0m \u001b[1;36m3\u001b[0m\u001b[1;33m]\u001b[0m\u001b[1;33m\u001b[0m\u001b[1;33m\u001b[0m\u001b[0m\n\u001b[1;32m----> 2\u001b[1;33m \u001b[0mmy_list\u001b[0m\u001b[1;33m[\u001b[0m\u001b[1;36m5\u001b[0m\u001b[1;33m]\u001b[0m  \u001b[1;31m# IndexError (인덱스 값이 범위를 벗어났다는 오류)\u001b[0m\u001b[1;33m\u001b[0m\u001b[1;33m\u001b[0m\u001b[0m\n\u001b[0m",
      "\u001b[1;31mIndexError\u001b[0m: list index out of range"
     ]
    }
   ],
   "source": [
    "my_list = [1, 2, 3]\n",
    "my_list[5]  # IndexError (인덱스 값이 범위를 벗어났다는 오류)"
   ]
  },
  {
   "cell_type": "code",
   "execution_count": 40,
   "metadata": {
    "slideshow": {
     "slide_type": "subslide"
    },
    "tags": [
     "raises-exception"
    ]
   },
   "outputs": [
    {
     "ename": "TypeError",
     "evalue": "'tuple' object does not support item assignment",
     "output_type": "error",
     "traceback": [
      "\u001b[1;31m---------------------------------------------------------------------------\u001b[0m",
      "\u001b[1;31mTypeError\u001b[0m                                 Traceback (most recent call last)",
      "\u001b[1;32m~\\AppData\\Local\\Temp/ipykernel_25132/1638875261.py\u001b[0m in \u001b[0;36m<module>\u001b[1;34m\u001b[0m\n\u001b[0;32m      1\u001b[0m \u001b[0mmy_tuple\u001b[0m \u001b[1;33m=\u001b[0m \u001b[1;33m(\u001b[0m\u001b[1;36m1\u001b[0m\u001b[1;33m,\u001b[0m \u001b[1;36m2\u001b[0m\u001b[1;33m,\u001b[0m \u001b[1;36m3\u001b[0m\u001b[1;33m)\u001b[0m\u001b[1;33m\u001b[0m\u001b[1;33m\u001b[0m\u001b[0m\n\u001b[1;32m----> 2\u001b[1;33m \u001b[0mmy_tuple\u001b[0m\u001b[1;33m[\u001b[0m\u001b[1;36m0\u001b[0m\u001b[1;33m]\u001b[0m \u001b[1;33m=\u001b[0m \u001b[1;36m0\u001b[0m  \u001b[1;31m# TypeError (튜플은 원소 값 수정이 불가능한 자료형이므로 오류 발생)\u001b[0m\u001b[1;33m\u001b[0m\u001b[1;33m\u001b[0m\u001b[0m\n\u001b[0m",
      "\u001b[1;31mTypeError\u001b[0m: 'tuple' object does not support item assignment"
     ]
    }
   ],
   "source": [
    "my_tuple = (1, 2, 3)\n",
    "my_tuple[0] = 0  # TypeError (튜플은 원소 값 수정이 불가능한 자료형이므로 오류 발생)"
   ]
  },
  {
   "cell_type": "markdown",
   "metadata": {
    "slideshow": {
     "slide_type": "subslide"
    }
   },
   "source": [
    "- 앞으로 코드를 작성하면서 매우 매우 다양한 오류를 접하게 될 것이다.  \n",
    "  `try`/`except`를 써서 어떠한 예외라도 잡아채서, 아래와 같이 우아하게 대응할 수 있을 것이다: "
   ]
  },
  {
   "cell_type": "code",
   "execution_count": 41,
   "metadata": {
    "slideshow": {
     "slide_type": "fragment"
    }
   },
   "outputs": [
    {
     "name": "stdout",
     "output_type": "stream",
     "text": [
      "다음과 같은 오류가 발생했습니다.\n",
      "name '이_변수는_존재하지도_않음' is not defined\n",
      "<class 'NameError'>\n"
     ]
    }
   ],
   "source": [
    "try:\n",
    "    이_변수는_존재하지도_않음\n",
    "except Exception as ex:\n",
    "    print(\"다음과 같은 오류가 발생했습니다.\")\n",
    "    print(ex)\n",
    "    print(type(ex))"
   ]
  },
  {
   "cell_type": "markdown",
   "metadata": {
    "slideshow": {
     "slide_type": "subslide"
    }
   },
   "source": [
    "- 직전 코드에서는,  \n",
    "  발생한 오류를 잡아채서 이를 `ex`라는 변수에 저장하였고,  \n",
    "  해당 변수 `ex`와 그 유형 `type(ex)`를 출력했다. \n",
    "  - 오류 메시지와 오류 유형을 확인하는 방법을 배웠다. \n",
    "  - 오류에 대처하는 방법으로 이와 같은 방식을 강력하게 추천한다.\n",
    "- 아래와 같이 오류 유형에 따라서 다른 방식으로 대처할 수도 있다:"
   ]
  },
  {
   "cell_type": "code",
   "execution_count": 42,
   "metadata": {
    "slideshow": {
     "slide_type": "fragment"
    }
   },
   "outputs": [
    {
     "name": "stdout",
     "output_type": "stream",
     "text": [
      "You made a name error!\n"
     ]
    }
   ],
   "source": [
    "try:\n",
    "    이_변수는_존재하지도_않음  # name error\n",
    "#     (1, 2, 3)[0] = 1       # type error\n",
    "#     5/0                    # ZeroDivisionError\n",
    "except TypeError:\n",
    "    print(\"You made a type error!\")\n",
    "except NameError:\n",
    "    print(\"You made a name error!\")\n",
    "except:\n",
    "    print(\"You made some other sort of error\")"
   ]
  },
  {
   "cell_type": "markdown",
   "metadata": {
    "slideshow": {
     "slide_type": "subslide"
    }
   },
   "source": [
    "- 직전 코드에서 마지막 `except` 블럭은  \n",
    "  앞에서 나열한 오류 유형에 속하지 않는 모든 유형을 잡아채는 수단이다.  \n",
    "  이런 방식은 `if`/`elif`/`else` 구문의 접근 방식과 유사한 작전이다. \n",
    "  - `try`블럭에서 활용할 수 있는 `else` 및 `finally` 예약어도 준비되어 있다.\n",
    "    - `else` 블럭은  \n",
    "      `try` 블럭에서 아무 오류도 발생하지 않을 경우에 실행되는 블럭이다. \n",
    "    - `finally` 블럭은  \n",
    "      `try` 블럭의 오류 발생 여부에 무관하게 마무리 실행을 위한 블럭이다. \n",
    "- [`try`와 관련한 예외 처리에 관한 점프 투 파이썬의 설명](https://wikidocs.net/30)을 참고하라. "
   ]
  },
  {
   "cell_type": "code",
   "execution_count": 43,
   "metadata": {
    "slideshow": {
     "slide_type": "fragment"
    }
   },
   "outputs": [
    {
     "name": "stdout",
     "output_type": "stream",
     "text": [
      "정의되지 않은 변수를 사용했습니다.\n",
      "어찌 되었든 오류 처리가 마무리되었습니다.\n"
     ]
    }
   ],
   "source": [
    "try:\n",
    "    이_변수는_존재하지도_않음\n",
    "except:\n",
    "    print(\"정의되지 않은 변수를 사용했습니다.\")\n",
    "else:\n",
    "    print(\"아무런 오류가 없었습니다.\")\n",
    "finally:\n",
    "    print(\"어찌 되었든 오류 처리가 마무리되었습니다.\")"
   ]
  },
  {
   "cell_type": "markdown",
   "metadata": {
    "slideshow": {
     "slide_type": "subslide"
    }
   },
   "source": [
    "- `raise`를 써서, 의도적으로 오류를 발생시키는 코드를 작성할 수 있다: "
   ]
  },
  {
   "cell_type": "code",
   "execution_count": 44,
   "metadata": {
    "slideshow": {
     "slide_type": "fragment"
    }
   },
   "outputs": [],
   "source": [
    "def add_one(x):  # 함수에 대해서는 다음 절에서 공부할 예정\n",
    "    return x + 1"
   ]
  },
  {
   "cell_type": "code",
   "execution_count": 45,
   "metadata": {
    "slideshow": {
     "slide_type": "fragment"
    },
    "tags": [
     "raises-exception"
    ]
   },
   "outputs": [
    {
     "ename": "TypeError",
     "evalue": "can only concatenate str (not \"int\") to str",
     "output_type": "error",
     "traceback": [
      "\u001b[1;31m---------------------------------------------------------------------------\u001b[0m",
      "\u001b[1;31mTypeError\u001b[0m                                 Traceback (most recent call last)",
      "\u001b[1;32m~\\AppData\\Local\\Temp/ipykernel_25132/1103371692.py\u001b[0m in \u001b[0;36m<module>\u001b[1;34m\u001b[0m\n\u001b[1;32m----> 1\u001b[1;33m \u001b[0madd_one\u001b[0m\u001b[1;33m(\u001b[0m\u001b[1;34m\"blah\"\u001b[0m\u001b[1;33m)\u001b[0m\u001b[1;33m\u001b[0m\u001b[1;33m\u001b[0m\u001b[0m\n\u001b[0m",
      "\u001b[1;32m~\\AppData\\Local\\Temp/ipykernel_25132/1747481755.py\u001b[0m in \u001b[0;36madd_one\u001b[1;34m(x)\u001b[0m\n\u001b[0;32m      1\u001b[0m \u001b[1;32mdef\u001b[0m \u001b[0madd_one\u001b[0m\u001b[1;33m(\u001b[0m\u001b[0mx\u001b[0m\u001b[1;33m)\u001b[0m\u001b[1;33m:\u001b[0m  \u001b[1;31m# 함수에 대해서는 다음 절에서 공부할 예정\u001b[0m\u001b[1;33m\u001b[0m\u001b[1;33m\u001b[0m\u001b[0m\n\u001b[1;32m----> 2\u001b[1;33m     \u001b[1;32mreturn\u001b[0m \u001b[0mx\u001b[0m \u001b[1;33m+\u001b[0m \u001b[1;36m1\u001b[0m\u001b[1;33m\u001b[0m\u001b[1;33m\u001b[0m\u001b[0m\n\u001b[0m",
      "\u001b[1;31mTypeError\u001b[0m: can only concatenate str (not \"int\") to str"
     ]
    }
   ],
   "source": [
    "add_one(\"blah\")"
   ]
  },
  {
   "cell_type": "code",
   "execution_count": 46,
   "metadata": {
    "slideshow": {
     "slide_type": "subslide"
    }
   },
   "outputs": [],
   "source": [
    "def add_one(x):\n",
    "    if not isinstance(x, float) and not isinstance(x, int):  # 만일 매개변수가 실수도 아니고, 정수도 아니라면\n",
    "        raise TypeError(f\"수치가 아닌, {type(x)}(을)를 전달했습니다.\")  # 의도적으로 오류 발생시킴\n",
    "        \n",
    "    return x + 1"
   ]
  },
  {
   "cell_type": "code",
   "execution_count": 47,
   "metadata": {
    "slideshow": {
     "slide_type": "fragment"
    },
    "tags": [
     "raises-exception"
    ]
   },
   "outputs": [
    {
     "ename": "TypeError",
     "evalue": "수치가 아닌, <class 'str'>(을)를 전달했습니다.",
     "output_type": "error",
     "traceback": [
      "\u001b[1;31m---------------------------------------------------------------------------\u001b[0m",
      "\u001b[1;31mTypeError\u001b[0m                                 Traceback (most recent call last)",
      "\u001b[1;32m~\\AppData\\Local\\Temp/ipykernel_25132/1103371692.py\u001b[0m in \u001b[0;36m<module>\u001b[1;34m\u001b[0m\n\u001b[1;32m----> 1\u001b[1;33m \u001b[0madd_one\u001b[0m\u001b[1;33m(\u001b[0m\u001b[1;34m\"blah\"\u001b[0m\u001b[1;33m)\u001b[0m\u001b[1;33m\u001b[0m\u001b[1;33m\u001b[0m\u001b[0m\n\u001b[0m",
      "\u001b[1;32m~\\AppData\\Local\\Temp/ipykernel_25132/3487022585.py\u001b[0m in \u001b[0;36madd_one\u001b[1;34m(x)\u001b[0m\n\u001b[0;32m      1\u001b[0m \u001b[1;32mdef\u001b[0m \u001b[0madd_one\u001b[0m\u001b[1;33m(\u001b[0m\u001b[0mx\u001b[0m\u001b[1;33m)\u001b[0m\u001b[1;33m:\u001b[0m\u001b[1;33m\u001b[0m\u001b[1;33m\u001b[0m\u001b[0m\n\u001b[0;32m      2\u001b[0m     \u001b[1;32mif\u001b[0m \u001b[1;32mnot\u001b[0m \u001b[0misinstance\u001b[0m\u001b[1;33m(\u001b[0m\u001b[0mx\u001b[0m\u001b[1;33m,\u001b[0m \u001b[0mfloat\u001b[0m\u001b[1;33m)\u001b[0m \u001b[1;32mand\u001b[0m \u001b[1;32mnot\u001b[0m \u001b[0misinstance\u001b[0m\u001b[1;33m(\u001b[0m\u001b[0mx\u001b[0m\u001b[1;33m,\u001b[0m \u001b[0mint\u001b[0m\u001b[1;33m)\u001b[0m\u001b[1;33m:\u001b[0m  \u001b[1;31m# 만일 매개변수가 실수도 아니고, 정수도 아니라면\u001b[0m\u001b[1;33m\u001b[0m\u001b[1;33m\u001b[0m\u001b[0m\n\u001b[1;32m----> 3\u001b[1;33m         \u001b[1;32mraise\u001b[0m \u001b[0mTypeError\u001b[0m\u001b[1;33m(\u001b[0m\u001b[1;34mf\"수치가 아닌, {type(x)}(을)를 전달했습니다.\"\u001b[0m\u001b[1;33m)\u001b[0m  \u001b[1;31m# 의도적으로 오류 발생시킴\u001b[0m\u001b[1;33m\u001b[0m\u001b[1;33m\u001b[0m\u001b[0m\n\u001b[0m\u001b[0;32m      4\u001b[0m \u001b[1;33m\u001b[0m\u001b[0m\n\u001b[0;32m      5\u001b[0m     \u001b[1;32mreturn\u001b[0m \u001b[0mx\u001b[0m \u001b[1;33m+\u001b[0m \u001b[1;36m1\u001b[0m\u001b[1;33m\u001b[0m\u001b[1;33m\u001b[0m\u001b[0m\n",
      "\u001b[1;31mTypeError\u001b[0m: 수치가 아닌, <class 'str'>(을)를 전달했습니다."
     ]
    }
   ],
   "source": [
    "add_one(\"blah\")"
   ]
  },
  {
   "cell_type": "markdown",
   "metadata": {
    "slideshow": {
     "slide_type": "subslide"
    }
   },
   "source": [
    "- 이는 당신의 함수가 특정 조건에서 문제가 발생할 가능성이 있을 때,  \n",
    "  이에 대한 예방책을 함수 사용자에게 강제하고 싶은 상황에서 유용하다.  \n",
    "  오류의 원인을 명쾌하게 함수 사용자에게 전달할 수 있다.  \n",
    "  이에 대한 상세한 설명은 점프 투 파이썬의 [오류 일부러 발생시키기](https://wikidocs.net/30#_5) 부분을 참고하라. \n",
    "- 최종적으로, 오류 유형을 맞춤형으로 정의하는 방법을 살펴본다.  \n",
    "  이를 위해서는 `Exception` 클래스를 상속받아야 한다.  \n",
    "  클래스와 클래스 간의 상속에 관해서는 다음 장에서 자세히 공부할 예정이니,  \n",
    "  '한번 봐 둔다'는 마음가짐으로 감상하자. "
   ]
  },
  {
   "cell_type": "code",
   "execution_count": 48,
   "metadata": {
    "slideshow": {
     "slide_type": "subslide"
    }
   },
   "outputs": [],
   "source": [
    "# Exception 클래스를 상속받는 CustomAdditionError 클래스를 정의\n",
    "class CustomAdditionError(Exception):    \n",
    "    pass"
   ]
  },
  {
   "cell_type": "code",
   "execution_count": 49,
   "metadata": {
    "slideshow": {
     "slide_type": "fragment"
    }
   },
   "outputs": [],
   "source": [
    "def add_one(x):\n",
    "    if not isinstance(x, float) and not isinstance(x, int):    # 만일 매개변수가 실수도 아니고, 정수도 아니라면\n",
    "        raise CustomAdditionError(\"매개변수 x는 수치형이어야 합니다!\")  # 일부러 오류 발생시킴\n",
    "        \n",
    "    return x + 1"
   ]
  },
  {
   "cell_type": "code",
   "execution_count": 50,
   "metadata": {
    "slideshow": {
     "slide_type": "fragment"
    }
   },
   "outputs": [
    {
     "data": {
      "text/plain": [
       "101"
      ]
     },
     "execution_count": 50,
     "metadata": {},
     "output_type": "execute_result"
    }
   ],
   "source": [
    "add_one(100)"
   ]
  },
  {
   "cell_type": "code",
   "execution_count": 51,
   "metadata": {
    "scrolled": true,
    "slideshow": {
     "slide_type": "subslide"
    },
    "tags": [
     "raises-exception"
    ]
   },
   "outputs": [
    {
     "ename": "CustomAdditionError",
     "evalue": "매개변수 x는 수치형이어야 합니다!",
     "output_type": "error",
     "traceback": [
      "\u001b[1;31m---------------------------------------------------------------------------\u001b[0m",
      "\u001b[1;31mCustomAdditionError\u001b[0m                       Traceback (most recent call last)",
      "\u001b[1;32m~\\AppData\\Local\\Temp/ipykernel_25132/1103371692.py\u001b[0m in \u001b[0;36m<module>\u001b[1;34m\u001b[0m\n\u001b[1;32m----> 1\u001b[1;33m \u001b[0madd_one\u001b[0m\u001b[1;33m(\u001b[0m\u001b[1;34m\"blah\"\u001b[0m\u001b[1;33m)\u001b[0m\u001b[1;33m\u001b[0m\u001b[1;33m\u001b[0m\u001b[0m\n\u001b[0m",
      "\u001b[1;32m~\\AppData\\Local\\Temp/ipykernel_25132/663630192.py\u001b[0m in \u001b[0;36madd_one\u001b[1;34m(x)\u001b[0m\n\u001b[0;32m      1\u001b[0m \u001b[1;32mdef\u001b[0m \u001b[0madd_one\u001b[0m\u001b[1;33m(\u001b[0m\u001b[0mx\u001b[0m\u001b[1;33m)\u001b[0m\u001b[1;33m:\u001b[0m\u001b[1;33m\u001b[0m\u001b[1;33m\u001b[0m\u001b[0m\n\u001b[0;32m      2\u001b[0m     \u001b[1;32mif\u001b[0m \u001b[1;32mnot\u001b[0m \u001b[0misinstance\u001b[0m\u001b[1;33m(\u001b[0m\u001b[0mx\u001b[0m\u001b[1;33m,\u001b[0m \u001b[0mfloat\u001b[0m\u001b[1;33m)\u001b[0m \u001b[1;32mand\u001b[0m \u001b[1;32mnot\u001b[0m \u001b[0misinstance\u001b[0m\u001b[1;33m(\u001b[0m\u001b[0mx\u001b[0m\u001b[1;33m,\u001b[0m \u001b[0mint\u001b[0m\u001b[1;33m)\u001b[0m\u001b[1;33m:\u001b[0m    \u001b[1;31m# 만일 매개변수가 실수도 아니고, 정수도 아니라면\u001b[0m\u001b[1;33m\u001b[0m\u001b[1;33m\u001b[0m\u001b[0m\n\u001b[1;32m----> 3\u001b[1;33m         \u001b[1;32mraise\u001b[0m \u001b[0mCustomAdditionError\u001b[0m\u001b[1;33m(\u001b[0m\u001b[1;34m\"매개변수 x는 수치형이어야 합니다!\"\u001b[0m\u001b[1;33m)\u001b[0m  \u001b[1;31m# 일부러 오류 발생시킴\u001b[0m\u001b[1;33m\u001b[0m\u001b[1;33m\u001b[0m\u001b[0m\n\u001b[0m\u001b[0;32m      4\u001b[0m \u001b[1;33m\u001b[0m\u001b[0m\n\u001b[0;32m      5\u001b[0m     \u001b[1;32mreturn\u001b[0m \u001b[0mx\u001b[0m \u001b[1;33m+\u001b[0m \u001b[1;36m1\u001b[0m\u001b[1;33m\u001b[0m\u001b[1;33m\u001b[0m\u001b[0m\n",
      "\u001b[1;31mCustomAdditionError\u001b[0m: 매개변수 x는 수치형이어야 합니다!"
     ]
    }
   ],
   "source": [
    "add_one(\"blah\")"
   ]
  },
  {
   "cell_type": "markdown",
   "metadata": {
    "slideshow": {
     "slide_type": "fragment"
    }
   },
   "source": [
    "- 지금까지 `try/except` 구문을 공부했고,  \n",
    "  이제부터 함수를 공부하자. \n",
    "\n",
    "<div style=\"page-break-after: always;\"></div> "
   ]
  },
  {
   "cell_type": "markdown",
   "metadata": {
    "slideshow": {
     "slide_type": "slide"
    }
   },
   "source": [
    "## 6. 함수"
   ]
  },
  {
   "cell_type": "markdown",
   "metadata": {
    "slideshow": {
     "slide_type": "fragment"
    }
   },
   "source": [
    "- [함수](https://docs.python.org/3/tutorial/controlflow.html#defining-functions)는 재사용 가능한 코드 조각이다. \n",
    "  - 함수는 \"인자\"(argument)라고 부르는 입력 매개변수를 전달받을 수 있다. \n",
    "  - 함수는 전달받은 인자 값으로 어떤 작업을 수행한다. \n",
    "  - 함수는 작업 수행의 결과를 반환값으로 \"반환\"할 수 있다. \n",
    "  - 함수는 일단 \"정의\"된 후에는, 여러 번 반복적으로 \"호출\"하여 실행할 수 있다.   "
   ]
  },
  {
   "cell_type": "markdown",
   "metadata": {
    "slideshow": {
     "slide_type": "fragment"
    }
   },
   "source": [
    "- 예를 들어서, `square`라는 이름을 가지는 함수를 정의해보자. \n",
    "  - `square` 함수는 작업 수행에 필요한 매개변수 `n`을 전달받는다. \n",
    "  - `square` 함수는 전달받은 매개변수의 제곱을 계산한다. \n",
    "  - `square` 함수는 계산 결과를 반환한다.  "
   ]
  },
  {
   "cell_type": "code",
   "execution_count": 52,
   "metadata": {
    "slideshow": {
     "slide_type": "subslide"
    }
   },
   "outputs": [],
   "source": [
    "def square(n):          # 함수 정의 \n",
    "    n_squared = n**2    # 제곱 계산\n",
    "    return n_squared    # 결과 반환"
   ]
  },
  {
   "cell_type": "code",
   "execution_count": 53,
   "metadata": {
    "slideshow": {
     "slide_type": "fragment"
    }
   },
   "outputs": [
    {
     "data": {
      "text/plain": [
       "4"
      ]
     },
     "execution_count": 53,
     "metadata": {},
     "output_type": "execute_result"
    }
   ],
   "source": [
    "square(2)       # 함수 호출"
   ]
  },
  {
   "cell_type": "code",
   "execution_count": 54,
   "metadata": {
    "slideshow": {
     "slide_type": "fragment"
    }
   },
   "outputs": [
    {
     "data": {
      "text/plain": [
       "10000"
      ]
     },
     "execution_count": 54,
     "metadata": {},
     "output_type": "execute_result"
    }
   ],
   "source": [
    "square(100)     # 함수 호출"
   ]
  },
  {
   "cell_type": "code",
   "execution_count": 55,
   "metadata": {
    "slideshow": {
     "slide_type": "fragment"
    }
   },
   "outputs": [
    {
     "data": {
      "text/plain": [
       "152399025"
      ]
     },
     "execution_count": 55,
     "metadata": {},
     "output_type": "execute_result"
    }
   ],
   "source": [
    "square(12345)   # 함수 호출"
   ]
  },
  {
   "cell_type": "markdown",
   "metadata": {
    "slideshow": {
     "slide_type": "subslide"
    }
   },
   "source": [
    "- 함수 정의는 아래와 같이 작성한다. \n",
    "    - 함수 정의는 `def` 예약어로 시작한다.  \n",
    "    - 함수 이름을 명시한다. \n",
    "    - 함수의 인자를 괄호 속에 컴마(`,`)로 구분하여 작성한다. \n",
    "    - 함수를 정의하는 첫 줄은 콜론(`:`)으로 종결한다.\n",
    "    - 함수 몸체는 들여쓰기로 구분한다. \n",
    "    - 함수의 실행결과는 `return` 예약어로 반환한다. "
   ]
  },
  {
   "cell_type": "markdown",
   "metadata": {
    "slideshow": {
     "slide_type": "fragment"
    }
   },
   "source": [
    "- 이제부터 함수의 첫 주제로 부작용 및 지역 변수에 대해 공부하자. \n",
    "\n",
    "<div style=\"page-break-after: always;\"></div> "
   ]
  },
  {
   "cell_type": "markdown",
   "metadata": {
    "slideshow": {
     "slide_type": "slide"
    }
   },
   "source": [
    "### 6.1 부작용 및 지역 변수\n",
    "\n",
    "- 함수 내부에서 변수를 생성하면, 이들 변수는 \"지역\" 변수가 된다.  \n",
    "  지역 변수는 함수 내부에서, 함수가 실행되는 동안에만 유효하다.  \n",
    "  함수 외부에서는 지역 변수에 접근할 수 없다. "
   ]
  },
  {
   "cell_type": "code",
   "execution_count": 56,
   "metadata": {
    "slideshow": {
     "slide_type": "fragment"
    }
   },
   "outputs": [],
   "source": [
    "def cat_string(str1, str2):\n",
    "    string = str1 + str2\n",
    "    return string"
   ]
  },
  {
   "cell_type": "code",
   "execution_count": 57,
   "metadata": {
    "slideshow": {
     "slide_type": "fragment"
    }
   },
   "outputs": [
    {
     "data": {
      "text/plain": [
       "'My name is Tom'"
      ]
     },
     "execution_count": 57,
     "metadata": {},
     "output_type": "execute_result"
    }
   ],
   "source": [
    "cat_string('My name is ', 'Tom')"
   ]
  },
  {
   "cell_type": "code",
   "execution_count": 58,
   "metadata": {
    "slideshow": {
     "slide_type": "fragment"
    },
    "tags": [
     "raises-exception"
    ]
   },
   "outputs": [
    {
     "ename": "NameError",
     "evalue": "name 'string' is not defined",
     "output_type": "error",
     "traceback": [
      "\u001b[1;31m---------------------------------------------------------------------------\u001b[0m",
      "\u001b[1;31mNameError\u001b[0m                                 Traceback (most recent call last)",
      "\u001b[1;32m~\\AppData\\Local\\Temp/ipykernel_25132/3611612426.py\u001b[0m in \u001b[0;36m<module>\u001b[1;34m\u001b[0m\n\u001b[1;32m----> 1\u001b[1;33m \u001b[0mstring\u001b[0m  \u001b[1;31m# 지역변수이므로 함수 외부에서 접근 불가\u001b[0m\u001b[1;33m\u001b[0m\u001b[1;33m\u001b[0m\u001b[0m\n\u001b[0m",
      "\u001b[1;31mNameError\u001b[0m: name 'string' is not defined"
     ]
    }
   ],
   "source": [
    "string  # 지역변수이므로 함수 외부에서 접근 불가"
   ]
  },
  {
   "cell_type": "markdown",
   "metadata": {
    "slideshow": {
     "slide_type": "subslide"
    }
   },
   "source": [
    "- 함수에 전달된 인자의 값이 함수 내부에서 변경되는 것을, **부작용**(side effects)이라고 부른다. "
   ]
  },
  {
   "cell_type": "code",
   "execution_count": 59,
   "metadata": {
    "slideshow": {
     "slide_type": "fragment"
    }
   },
   "outputs": [],
   "source": [
    "def silly_sum(my_list):  # 함수가 my_list라는 인자를 전달 받음\n",
    "    my_list.append(0)    # 전달받은 인자에 원소 추가, 부작용 발생\n",
    "    return sum(my_list)  # my_list 원소 값의 합계를 반환"
   ]
  },
  {
   "cell_type": "code",
   "execution_count": 60,
   "metadata": {
    "slideshow": {
     "slide_type": "fragment"
    }
   },
   "outputs": [
    {
     "data": {
      "text/plain": [
       "10"
      ]
     },
     "execution_count": 60,
     "metadata": {},
     "output_type": "execute_result"
    }
   ],
   "source": [
    "this_list = [1, 2, 3, 4]\n",
    "this_sum = silly_sum(this_list)\n",
    "this_sum"
   ]
  },
  {
   "cell_type": "markdown",
   "metadata": {
    "slideshow": {
     "slide_type": "fragment"
    }
   },
   "source": [
    "- 위 예제에서 함수가 반환하는 값에는 별 문제가 없어 보인다.  \n",
    "  - 우리가 전달한 리스트 원소 값의 합계를 정확하게 반환한다.\n",
    "  - 하지만, 함수 내부에서 전달받은 리스트의 값을 변경하는 부작용을 발생시켰다. "
   ]
  },
  {
   "cell_type": "code",
   "execution_count": 61,
   "metadata": {
    "slideshow": {
     "slide_type": "subslide"
    }
   },
   "outputs": [
    {
     "data": {
      "text/plain": [
       "[1, 2, 3, 4, 0]"
      ]
     },
     "execution_count": 61,
     "metadata": {},
     "output_type": "execute_result"
    }
   ],
   "source": [
    "this_list"
   ]
  },
  {
   "cell_type": "markdown",
   "metadata": {
    "slideshow": {
     "slide_type": "fragment"
    }
   },
   "source": [
    "- 함수가 이와 같은 부작용을 발생시킨다면, 함수 문서화 부분에 이를 명시해야 한다.  \n",
    "  함수 문서화에 관해서는 이 장(chapter)의 뒷 부분에서 다룰 예정이다. "
   ]
  },
  {
   "cell_type": "markdown",
   "metadata": {
    "slideshow": {
     "slide_type": "fragment"
    }
   },
   "source": [
    "- 지금까지 함수의 첫 주제로 부작용 및 지역 변수에 대해 공부했고,  \n",
    "  이제부터 널 반환형을 공부하자. \n",
    "\n",
    "<div style=\"page-break-after: always;\"></div> "
   ]
  },
  {
   "cell_type": "markdown",
   "metadata": {
    "slideshow": {
     "slide_type": "slide"
    }
   },
   "source": [
    "### 6.2 널 반환형\n",
    "\n",
    "- 함수 내부에서 값을 반환하지 않거나 또는 반환값을 명시적으로 지정하지 않으면,  \n",
    "  함수는 자동적으로 `None`을 반환한다. "
   ]
  },
  {
   "cell_type": "code",
   "execution_count": 62,
   "metadata": {
    "slideshow": {
     "slide_type": "fragment"
    }
   },
   "outputs": [
    {
     "name": "stdout",
     "output_type": "stream",
     "text": [
      "f(0): None\n",
      "f(999): None\n"
     ]
    }
   ],
   "source": [
    "def f(x):\n",
    "    x + 1 # no return!\n",
    "    if x == 999:\n",
    "        return\n",
    "\n",
    "print(f\"f(0): {f(0)}\")\n",
    "print(f\"f(999): {f(999)}\")\n"
   ]
  },
  {
   "cell_type": "markdown",
   "metadata": {
    "slideshow": {
     "slide_type": "fragment"
    }
   },
   "source": [
    "- 위 예제에서는 `return` 키워드를 사용하여 널 값을 반환하는 형식으로 코드를 작성했는데,  \n",
    "  `return` 키워드조차 사용하지 않는 형태로도 함수 작성이 가능하다.  \n",
    "  이런 경우에도 함수는 함수 본체의 실행이 종료되면 자동적으로 `None`을 반환한다. \n",
    "- 지금까지 널 반환형을 공부했고,  \n",
    "  이제부터 선택/필수 인자를 공부하자. \n",
    "\n",
    "<div style=\"page-break-after: always;\"></div> "
   ]
  },
  {
   "cell_type": "markdown",
   "metadata": {
    "slideshow": {
     "slide_type": "slide"
    }
   },
   "source": [
    "### 6.3 선택 및 필수 인자\n",
    "\n",
    "- 함수의 일부 인자에 대해서 <i>기본값</i>(default value)을 지정하면 편리한 경우가 있다.  \n",
    "  함수 정의에서 기본값을 지정한 인자에 대해서는  \n",
    "  함수를 호출할 때 인자 값 지정을 생략할 수 있으므로  \n",
    "  \"선택적 인자\"라고 부른다. "
   ]
  },
  {
   "cell_type": "code",
   "execution_count": 63,
   "metadata": {
    "slideshow": {
     "slide_type": "fragment"
    }
   },
   "outputs": [],
   "source": [
    "def repeat_string(s, n=2):  # 인자 n에 대한 기본값을 지정\n",
    "    return s*n  # 문자열 s를 n회 반복한 값을 반환"
   ]
  },
  {
   "cell_type": "code",
   "execution_count": 64,
   "metadata": {
    "slideshow": {
     "slide_type": "fragment"
    }
   },
   "outputs": [
    {
     "data": {
      "text/plain": [
       "'mdsmds'"
      ]
     },
     "execution_count": 64,
     "metadata": {},
     "output_type": "execute_result"
    }
   ],
   "source": [
    "repeat_string(\"mds\", 2)  # 기본값을 굳이 지정하여 함수 호출"
   ]
  },
  {
   "cell_type": "code",
   "execution_count": 65,
   "metadata": {
    "slideshow": {
     "slide_type": "fragment"
    }
   },
   "outputs": [
    {
     "data": {
      "text/plain": [
       "'mdsmdsmdsmdsmds'"
      ]
     },
     "execution_count": 65,
     "metadata": {},
     "output_type": "execute_result"
    }
   ],
   "source": [
    "repeat_string(\"mds\", 5)  # 기본값을 다른 값으로 지정하여 함수 호출"
   ]
  },
  {
   "cell_type": "code",
   "execution_count": 66,
   "metadata": {
    "slideshow": {
     "slide_type": "fragment"
    }
   },
   "outputs": [
    {
     "data": {
      "text/plain": [
       "'mdsmds'"
      ]
     },
     "execution_count": 66,
     "metadata": {},
     "output_type": "execute_result"
    }
   ],
   "source": [
    "repeat_string(\"mds\") # 선택적 인자에 대하여 값 지정을 생략하여 함수 호출"
   ]
  },
  {
   "cell_type": "markdown",
   "metadata": {
    "slideshow": {
     "slide_type": "subslide"
    }
   },
   "source": [
    "- 선택적 인자에 대한 기본값은 신중하게 선택해야 한다.  \n",
    "  직전 함수에서는  \n",
    "  어떤 문자열을 반복(repeat)한다는 행위의 본래 취지를 고려하여  \n",
    "  기본값을 `n=2`라고 지정하였다. \n",
    "- 함수 전체 인자와 선택적 인자의 개수에는 제한이 없다.  \n",
    "  - 하지만 함수를 정의하는 괄호 속의 인자 목록에서,  \n",
    "    **선택적 인자는 반드시 필수적 인자의 뒤에** 명시해야 한다.  \n",
    "  - 함수를 호출할 때, 필수적 인자는  \n",
    "    (함수를 정의하는 괄호 속의 인자 목록에 명시된) 순서대로 값을 지정해야 한다. \n",
    "  - 함수를 호출할 때, 선택적 인자는  \n",
    "    (함수를 정의하는 괄호 속의 인자 목록에 명시된) 순서를 지키지 않아도 좋다. "
   ]
  },
  {
   "cell_type": "code",
   "execution_count": 67,
   "metadata": {
    "slideshow": {
     "slide_type": "subslide"
    }
   },
   "outputs": [
    {
     "name": "stdout",
     "output_type": "stream",
     "text": [
      "1 2 3 4\n"
     ]
    }
   ],
   "source": [
    "def example(a, b, c=\"DEFAULT\", d=\"DEFAULT\"):  # 선택적 인자는 필수적 인자보다 뒤에 명시 \n",
    "    print(a, b, c, d)\n",
    "    \n",
    "example(1, 2, 3, 4)"
   ]
  },
  {
   "cell_type": "markdown",
   "metadata": {
    "slideshow": {
     "slide_type": "fragment"
    }
   },
   "source": [
    "- 선택적 인자에 대하여 기본값을 적용: "
   ]
  },
  {
   "cell_type": "code",
   "execution_count": 68,
   "metadata": {
    "slideshow": {
     "slide_type": "fragment"
    }
   },
   "outputs": [
    {
     "name": "stdout",
     "output_type": "stream",
     "text": [
      "1 2 DEFAULT DEFAULT\n"
     ]
    }
   ],
   "source": [
    "example(1, 2)"
   ]
  },
  {
   "cell_type": "markdown",
   "metadata": {
    "slideshow": {
     "slide_type": "subslide"
    }
   },
   "source": [
    "- 선택적 인자를 (인자 이름과 함께 값을 지정하는) **키워드 인자**(keyword argument)로 지정"
   ]
  },
  {
   "cell_type": "code",
   "execution_count": 69,
   "metadata": {
    "slideshow": {
     "slide_type": "fragment"
    }
   },
   "outputs": [
    {
     "name": "stdout",
     "output_type": "stream",
     "text": [
      "1 2 3 4\n"
     ]
    }
   ],
   "source": [
    "example(1, 2, c=3, d=4)  # 인자 이름과 값을 함께 명시하는 키워드 인자"
   ]
  },
  {
   "cell_type": "code",
   "execution_count": 70,
   "metadata": {
    "slideshow": {
     "slide_type": "fragment"
    }
   },
   "outputs": [
    {
     "name": "stdout",
     "output_type": "stream",
     "text": [
      "1 2 3 4\n"
     ]
    }
   ],
   "source": [
    "example(1, 2, d=4, c=3)  # 키워드 인자는 순서에 무관하지만, 비추!"
   ]
  },
  {
   "cell_type": "markdown",
   "metadata": {
    "slideshow": {
     "slide_type": "subslide"
    }
   },
   "source": [
    "- 선택적 인자 중에서 한 개만 키워드 인자로 지정"
   ]
  },
  {
   "cell_type": "code",
   "execution_count": 71,
   "metadata": {
    "slideshow": {
     "slide_type": "fragment"
    }
   },
   "outputs": [
    {
     "name": "stdout",
     "output_type": "stream",
     "text": [
      "1 2 3 DEFAULT\n"
     ]
    }
   ],
   "source": [
    "example(1, 2, c=3)"
   ]
  },
  {
   "cell_type": "code",
   "execution_count": 72,
   "metadata": {
    "slideshow": {
     "slide_type": "fragment"
    }
   },
   "outputs": [
    {
     "name": "stdout",
     "output_type": "stream",
     "text": [
      "1 2 DEFAULT 4\n"
     ]
    }
   ],
   "source": [
    "example(1, 2, d=4)"
   ]
  },
  {
   "cell_type": "markdown",
   "metadata": {
    "slideshow": {
     "slide_type": "subslide"
    }
   },
   "source": [
    "- 모든 인자를 키워드 인자로 지정"
   ]
  },
  {
   "cell_type": "code",
   "execution_count": 73,
   "metadata": {
    "slideshow": {
     "slide_type": "fragment"
    }
   },
   "outputs": [
    {
     "name": "stdout",
     "output_type": "stream",
     "text": [
      "1 2 3 4\n"
     ]
    }
   ],
   "source": [
    "example(a=1, b=2, c=3, d=4)"
   ]
  },
  {
   "cell_type": "markdown",
   "metadata": {
    "slideshow": {
     "slide_type": "subslide"
    }
   },
   "source": [
    "- `c` 인자를 위치 기준으로 지정  \n",
    "  (이 방식은 혼돈스럽기 때문에 추천하지 않는다.)"
   ]
  },
  {
   "cell_type": "code",
   "execution_count": 74,
   "metadata": {
    "slideshow": {
     "slide_type": "fragment"
    }
   },
   "outputs": [
    {
     "name": "stdout",
     "output_type": "stream",
     "text": [
      "1 2 3 DEFAULT\n"
     ]
    }
   ],
   "source": [
    "example(1, 2, 3)"
   ]
  },
  {
   "cell_type": "markdown",
   "metadata": {
    "slideshow": {
     "slide_type": "subslide"
    }
   },
   "source": [
    "- 선택적 인자를 키워드 인자로 지정하되, 순서를 변경하여 지정  \n",
    "  (이 방식도 혼동을 유발할 가능성이 있기는 하지만, 그래도 못참을 정도는 아니다.)"
   ]
  },
  {
   "cell_type": "code",
   "execution_count": 75,
   "metadata": {
    "slideshow": {
     "slide_type": "fragment"
    }
   },
   "outputs": [
    {
     "name": "stdout",
     "output_type": "stream",
     "text": [
      "1 2 3 4\n"
     ]
    }
   ],
   "source": [
    "example(1, 2, d=4, c=3)"
   ]
  },
  {
   "cell_type": "markdown",
   "metadata": {
    "slideshow": {
     "slide_type": "subslide"
    }
   },
   "source": [
    "- 필수적 인자를 키워드 방식으로 지정"
   ]
  },
  {
   "cell_type": "code",
   "execution_count": 76,
   "metadata": {
    "slideshow": {
     "slide_type": "fragment"
    }
   },
   "outputs": [
    {
     "name": "stdout",
     "output_type": "stream",
     "text": [
      "1 2 DEFAULT DEFAULT\n"
     ]
    }
   ],
   "source": [
    "example(a=1, b=2)"
   ]
  },
  {
   "cell_type": "markdown",
   "metadata": {
    "slideshow": {
     "slide_type": "subslide"
    }
   },
   "source": [
    "- 필수적 인자를 키워드 방식으로 지정하되, 순서를 변경하여 지정  \n",
    "  (이 방식도 혼동을 유발할 가능성이 있어 추천하지 않는다.)"
   ]
  },
  {
   "cell_type": "code",
   "execution_count": 77,
   "metadata": {
    "slideshow": {
     "slide_type": "fragment"
    }
   },
   "outputs": [
    {
     "name": "stdout",
     "output_type": "stream",
     "text": [
      "1 2 DEFAULT DEFAULT\n"
     ]
    }
   ],
   "source": [
    "example(b=2, a=1)"
   ]
  },
  {
   "cell_type": "markdown",
   "metadata": {
    "slideshow": {
     "slide_type": "subslide"
    }
   },
   "source": [
    "- 키워드 인자를 위치 지정 인자보다 먼저 지정  \n",
    "  (키워드 인자는 위치 지정 인자보다 뒤에 와야 하므로 오류가 발생한다.)"
   ]
  },
  {
   "cell_type": "code",
   "execution_count": 78,
   "metadata": {
    "scrolled": true,
    "slideshow": {
     "slide_type": "fragment"
    },
    "tags": [
     "raises-exception"
    ]
   },
   "outputs": [
    {
     "ename": "SyntaxError",
     "evalue": "positional argument follows keyword argument (Temp/ipykernel_25132/1657783790.py, line 1)",
     "output_type": "error",
     "traceback": [
      "\u001b[1;36m  File \u001b[1;32m\"C:\\Users\\logis\\AppData\\Local\\Temp/ipykernel_25132/1657783790.py\"\u001b[1;36m, line \u001b[1;32m1\u001b[0m\n\u001b[1;33m    example(a=2, 1)\u001b[0m\n\u001b[1;37m                 ^\u001b[0m\n\u001b[1;31mSyntaxError\u001b[0m\u001b[1;31m:\u001b[0m positional argument follows keyword argument\n"
     ]
    }
   ],
   "source": [
    "example(a=2, 1)"
   ]
  },
  {
   "cell_type": "markdown",
   "metadata": {
    "slideshow": {
     "slide_type": "fragment"
    }
   },
   "source": [
    "- 지금까지 선택/필수 인자를 공부했고,  \n",
    "  이제부터 다수 반환값을 공부하자. \n",
    "\n",
    "<div style=\"page-break-after: always;\"></div> "
   ]
  },
  {
   "cell_type": "markdown",
   "metadata": {
    "slideshow": {
     "slide_type": "slide"
    }
   },
   "source": [
    "### 6.4 다수 반환값\n",
    "\n",
    "- 많은 프로그래밍 언어에서,  \n",
    "  함수의 반환값은 단일 객체여야 하고, 복수 객체를 반환할 수 없다는 제약이 있다.  \n",
    "- 파이썬에서도 기술적으로 이 제약이 존재하지만, 해결 방법이 있는데,  \n",
    "  단일 튜플로 반환하는 것이다. "
   ]
  },
  {
   "cell_type": "code",
   "execution_count": 79,
   "metadata": {
    "slideshow": {
     "slide_type": "fragment"
    }
   },
   "outputs": [],
   "source": [
    "def sum_and_product(x, y):\n",
    "    return (x + y, x * y)  # 합 및 곱을 단일 튜플로 반환 "
   ]
  },
  {
   "cell_type": "code",
   "execution_count": 80,
   "metadata": {
    "slideshow": {
     "slide_type": "fragment"
    }
   },
   "outputs": [
    {
     "data": {
      "text/plain": [
       "(11, 30)"
      ]
     },
     "execution_count": 80,
     "metadata": {},
     "output_type": "execute_result"
    }
   ],
   "source": [
    "sum_and_product(5, 6)"
   ]
  },
  {
   "cell_type": "markdown",
   "metadata": {
    "slideshow": {
     "slide_type": "subslide"
    }
   },
   "source": [
    "- 튜플로 반환할 때 괄호를 생략할 수 있고, 실제로 많은 경우에 괄호를 생략한다.  \n",
    "  복수 반환값에 대하여 괄호를 생략하고, 쉼표로 구분하는 것만으로도  \n",
    "  암시적으로 `tuple`로 반환된다. "
   ]
  },
  {
   "cell_type": "code",
   "execution_count": 81,
   "metadata": {
    "slideshow": {
     "slide_type": "fragment"
    }
   },
   "outputs": [],
   "source": [
    "def sum_and_product(x, y):\n",
    "    return x + y, x * y  # 복수 반환값을 쉼표로 구분하되, 괄호를 생략해도 튜플로 처리됨"
   ]
  },
  {
   "cell_type": "code",
   "execution_count": 82,
   "metadata": {
    "slideshow": {
     "slide_type": "fragment"
    }
   },
   "outputs": [
    {
     "data": {
      "text/plain": [
       "(11, 30)"
      ]
     },
     "execution_count": 82,
     "metadata": {},
     "output_type": "execute_result"
    }
   ],
   "source": [
    "sum_and_product(5, 6)"
   ]
  },
  {
   "cell_type": "markdown",
   "metadata": {
    "slideshow": {
     "slide_type": "subslide"
    }
   },
   "source": [
    "- 대부분의 파이썬 프로그래머들은  \n",
    "  반환된 튜플을 개별 변수로 즉시 풀어버린다(upack).  \n",
    "  이런 코드를 보자면 마치 함수가 복수 반환값을 반환하는 것처럼 느끼게 된다. "
   ]
  },
  {
   "cell_type": "code",
   "execution_count": 83,
   "metadata": {
    "slideshow": {
     "slide_type": "fragment"
    }
   },
   "outputs": [],
   "source": [
    "s, p = sum_and_product(5, 6)  # 반환된 튜플을 즉시 개별 변수로 풀어버림"
   ]
  },
  {
   "cell_type": "code",
   "execution_count": 84,
   "metadata": {
    "slideshow": {
     "slide_type": "fragment"
    }
   },
   "outputs": [
    {
     "data": {
      "text/plain": [
       "11"
      ]
     },
     "execution_count": 84,
     "metadata": {},
     "output_type": "execute_result"
    }
   ],
   "source": [
    "s"
   ]
  },
  {
   "cell_type": "code",
   "execution_count": 85,
   "metadata": {
    "slideshow": {
     "slide_type": "fragment"
    }
   },
   "outputs": [
    {
     "data": {
      "text/plain": [
       "30"
      ]
     },
     "execution_count": 85,
     "metadata": {},
     "output_type": "execute_result"
    }
   ],
   "source": [
    "p"
   ]
  },
  {
   "cell_type": "markdown",
   "metadata": {
    "slideshow": {
     "slide_type": "subslide"
    }
   },
   "source": [
    "- 파이썬 프로그래머들은 반환값을 무시하고 싶을 때,  \n",
    "  무시할 반환값을 받아야 하는 변수 자리에  \n",
    "  변수 이름 대신에 `_`를 쓴다. "
   ]
  },
  {
   "cell_type": "code",
   "execution_count": 86,
   "metadata": {
    "slideshow": {
     "slide_type": "fragment"
    }
   },
   "outputs": [],
   "source": [
    "s, _ = sum_and_product(5, 6)  # 함수 반환값 중에서 곱은 무시하고 합만 취함"
   ]
  },
  {
   "cell_type": "code",
   "execution_count": 87,
   "metadata": {
    "slideshow": {
     "slide_type": "fragment"
    }
   },
   "outputs": [
    {
     "data": {
      "text/plain": [
       "11"
      ]
     },
     "execution_count": 87,
     "metadata": {},
     "output_type": "execute_result"
    }
   ],
   "source": [
    "s"
   ]
  },
  {
   "cell_type": "code",
   "execution_count": 88,
   "metadata": {
    "slideshow": {
     "slide_type": "fragment"
    }
   },
   "outputs": [
    {
     "data": {
      "text/plain": [
       "11"
      ]
     },
     "execution_count": 88,
     "metadata": {},
     "output_type": "execute_result"
    }
   ],
   "source": [
    "_"
   ]
  },
  {
   "cell_type": "markdown",
   "metadata": {
    "slideshow": {
     "slide_type": "fragment"
    }
   },
   "source": [
    "- 지금까지 다수 반환값을 공부했고,  \n",
    "  이제부터 인자 개수가 가변적인 함수를 공부하자. \n",
    "\n",
    "<div style=\"page-break-after: always;\"></div> "
   ]
  },
  {
   "cell_type": "markdown",
   "metadata": {
    "slideshow": {
     "slide_type": "slide"
    }
   },
   "source": [
    "### 6.5 인자 개수가 가변적인 함수\n",
    "\n",
    "- `*args` 및 `**kwargs` 표현을 써서,  \n",
    "  인자 개수가 가변적인 함수를 정의하거나 호출할 수 있다. \n",
    "  - `*args`라고 인자 목록에 쓰면,  \n",
    "    `args` 인자를 (가변적인 개수의 원소가 저장된) 튜플로 처리해준다. \n",
    "  - `**kwargs`라고 인자 목록에 쓰면,  \n",
    "    `kwargs` 인자를 (가변적인 개수의 원소가 저장된) 사전으로 처리해준다.   "
   ]
  },
  {
   "cell_type": "code",
   "execution_count": 89,
   "metadata": {
    "slideshow": {
     "slide_type": "fragment"
    }
   },
   "outputs": [],
   "source": [
    "def add(*args):  # args가 튜플로 처리됨\n",
    "    print(args)\n",
    "    return sum(args)"
   ]
  },
  {
   "cell_type": "code",
   "execution_count": 90,
   "metadata": {
    "slideshow": {
     "slide_type": "fragment"
    }
   },
   "outputs": [
    {
     "name": "stdout",
     "output_type": "stream",
     "text": [
      "(1, 2, 3)\n"
     ]
    },
    {
     "data": {
      "text/plain": [
       "6"
      ]
     },
     "execution_count": 90,
     "metadata": {},
     "output_type": "execute_result"
    }
   ],
   "source": [
    "add(1, 2, 3)            # 인자 개수를 임의로 지정하여 호출이 가능함"
   ]
  },
  {
   "cell_type": "code",
   "execution_count": 91,
   "metadata": {
    "slideshow": {
     "slide_type": "fragment"
    }
   },
   "outputs": [
    {
     "name": "stdout",
     "output_type": "stream",
     "text": [
      "(1, 2, 3, 4, 5, 6)\n"
     ]
    },
    {
     "data": {
      "text/plain": [
       "21"
      ]
     },
     "execution_count": 91,
     "metadata": {},
     "output_type": "execute_result"
    }
   ],
   "source": [
    "add(1, 2, 3, 4, 5, 6)   # 인자 개수를 임의로 지정하여 호출이 가능함"
   ]
  },
  {
   "cell_type": "code",
   "execution_count": 92,
   "metadata": {
    "slideshow": {
     "slide_type": "subslide"
    }
   },
   "outputs": [],
   "source": [
    "def add(**kwargs):  # kwargs가 사전으로 처리됨 \n",
    "    print(kwargs)\n",
    "    print(kwargs.keys())\n",
    "    print(kwargs.values())\n",
    "    return sum(kwargs.values())  "
   ]
  },
  {
   "cell_type": "code",
   "execution_count": 93,
   "metadata": {
    "slideshow": {
     "slide_type": "fragment"
    }
   },
   "outputs": [
    {
     "name": "stdout",
     "output_type": "stream",
     "text": [
      "{'a': 3, 'b': 4}\n",
      "dict_keys(['a', 'b'])\n",
      "dict_values([3, 4])\n"
     ]
    },
    {
     "data": {
      "text/plain": [
       "7"
      ]
     },
     "execution_count": 93,
     "metadata": {},
     "output_type": "execute_result"
    }
   ],
   "source": [
    "add(a=3, b=4)       # 키워드 인자를 임의로 지정하여 호출이 가능함"
   ]
  },
  {
   "cell_type": "code",
   "execution_count": 94,
   "metadata": {
    "scrolled": true,
    "slideshow": {
     "slide_type": "fragment"
    }
   },
   "outputs": [
    {
     "name": "stdout",
     "output_type": "stream",
     "text": [
      "{'b': 4, 'c': 5, 'd': 6}\n",
      "dict_keys(['b', 'c', 'd'])\n",
      "dict_values([4, 5, 6])\n"
     ]
    },
    {
     "data": {
      "text/plain": [
       "15"
      ]
     },
     "execution_count": 94,
     "metadata": {},
     "output_type": "execute_result"
    }
   ],
   "source": [
    "add(b=4, c=5, d=6)  # 키워드 인자를 임의로 지정하여 호출이 가능함"
   ]
  },
  {
   "cell_type": "markdown",
   "metadata": {
    "slideshow": {
     "slide_type": "fragment"
    }
   },
   "source": [
    "- 지금까지 인자 개수가 가변적인 함수를 공부했고,  \n",
    "  이제부터 자료형으로서의 함수와 익명 함수를 공부하자. \n",
    "\n",
    "<div style=\"page-break-after: always;\"></div> "
   ]
  },
  {
   "cell_type": "markdown",
   "metadata": {
    "slideshow": {
     "slide_type": "slide"
    }
   },
   "source": [
    "## 7. 함수 자료형 및 익명 함수"
   ]
  },
  {
   "cell_type": "markdown",
   "metadata": {
    "slideshow": {
     "slide_type": "slide"
    }
   },
   "source": [
    "### 7.1 함수 자료형"
   ]
  },
  {
   "cell_type": "markdown",
   "metadata": {
    "slideshow": {
     "slide_type": "fragment"
    }
   },
   "source": [
    "- 파이썬에서 함수는 실질적으로 자료형이다:"
   ]
  },
  {
   "cell_type": "code",
   "execution_count": 95,
   "metadata": {
    "jupyter": {
     "outputs_hidden": false
    },
    "slideshow": {
     "slide_type": "fragment"
    }
   },
   "outputs": [],
   "source": [
    "def do_nothing(x):\n",
    "    return x"
   ]
  },
  {
   "cell_type": "code",
   "execution_count": 96,
   "metadata": {
    "slideshow": {
     "slide_type": "fragment"
    }
   },
   "outputs": [
    {
     "data": {
      "text/plain": [
       "function"
      ]
     },
     "execution_count": 96,
     "metadata": {},
     "output_type": "execute_result"
    }
   ],
   "source": [
    "type(do_nothing)  # 함수를 대상으로 자료형 확인"
   ]
  },
  {
   "cell_type": "code",
   "execution_count": 97,
   "metadata": {
    "slideshow": {
     "slide_type": "fragment"
    }
   },
   "outputs": [
    {
     "name": "stdout",
     "output_type": "stream",
     "text": [
      "<function do_nothing at 0x00000233A55C4F70>\n"
     ]
    }
   ],
   "source": [
    "print(do_nothing)"
   ]
  },
  {
   "cell_type": "markdown",
   "metadata": {
    "slideshow": {
     "slide_type": "subslide"
    }
   },
   "source": [
    "- 함수가 실제로 자료형으로 취급된다는 의미는  \n",
    "  다른 함수에게 함수를 인자로 전달 가능하다는 것이다. "
   ]
  },
  {
   "cell_type": "code",
   "execution_count": 98,
   "metadata": {
    "slideshow": {
     "slide_type": "fragment"
    }
   },
   "outputs": [],
   "source": [
    "def square(y):\n",
    "    return y**2\n",
    "\n",
    "def evaluate_function_on_x_plus_1(fun, x):  # 함수를 인자로 지정\n",
    "    return fun(x+1)"
   ]
  },
  {
   "cell_type": "code",
   "execution_count": 99,
   "metadata": {
    "slideshow": {
     "slide_type": "fragment"
    }
   },
   "outputs": [
    {
     "data": {
      "text/plain": [
       "36"
      ]
     },
     "execution_count": 99,
     "metadata": {},
     "output_type": "execute_result"
    }
   ],
   "source": [
    "evaluate_function_on_x_plus_1(square, 5)   # 함수이름을 인자로 전달"
   ]
  },
  {
   "cell_type": "markdown",
   "metadata": {
    "slideshow": {
     "slide_type": "fragment"
    }
   },
   "source": [
    "앞에서 어떤 일이 벌어졌는가?\n",
    "- `fun(x+1)`은 `square(5+1)`로 처리되었음\n",
    "- `square(6)`은 `36`으로 반환되었음"
   ]
  },
  {
   "cell_type": "markdown",
   "metadata": {
    "slideshow": {
     "slide_type": "subslide"
    }
   },
   "source": [
    "- 코드 작성할 때, `fun`과 `fun()`의 구별에 주의해야 함  \n",
    "  - `fun`: 이는 단지 함수의 이름을 명시한 것\n",
    "  - `fun()`: 이는 함수를 호출(하여 실행을 지시)한 것"
   ]
  },
  {
   "cell_type": "markdown",
   "metadata": {
    "slideshow": {
     "slide_type": "fragment"
    }
   },
   "source": [
    "- 지금까지 함수 자료형을 공부했고,  \n",
    "  이제부터 익명 함수를 공부하자. \n",
    "\n",
    "<div style=\"page-break-after: always;\"></div> "
   ]
  },
  {
   "cell_type": "markdown",
   "metadata": {
    "slideshow": {
     "slide_type": "slide"
    }
   },
   "source": [
    "### 7.2 익명 함수"
   ]
  },
  {
   "cell_type": "markdown",
   "metadata": {
    "slideshow": {
     "slide_type": "fragment"
    }
   },
   "source": [
    "- 함수를 정의하는 두 가지 방법이 있다.  \n",
    "  지금까지 사용한 방법은 아래와 같이 `def` 예약어를 쓰는 방식이다:"
   ]
  },
  {
   "cell_type": "code",
   "execution_count": 100,
   "metadata": {
    "slideshow": {
     "slide_type": "fragment"
    }
   },
   "outputs": [],
   "source": [
    "def add_one(x):\n",
    "    return x+1"
   ]
  },
  {
   "cell_type": "code",
   "execution_count": 101,
   "metadata": {
    "slideshow": {
     "slide_type": "fragment"
    }
   },
   "outputs": [
    {
     "data": {
      "text/plain": [
       "8.2"
      ]
     },
     "execution_count": 101,
     "metadata": {},
     "output_type": "execute_result"
    }
   ],
   "source": [
    "add_one(7.2)"
   ]
  },
  {
   "cell_type": "markdown",
   "metadata": {
    "slideshow": {
     "slide_type": "subslide"
    }
   },
   "source": [
    "- 새로운 방법은 `lambda` 예약어를 쓰는 방식이다. "
   ]
  },
  {
   "cell_type": "code",
   "execution_count": 102,
   "metadata": {
    "slideshow": {
     "slide_type": "fragment"
    }
   },
   "outputs": [],
   "source": [
    "add_one = lambda x: x+1  # 콜론 앞의 x가 인자이고, 콜론 뒤의 x+1은 함수 본체"
   ]
  },
  {
   "cell_type": "code",
   "execution_count": 103,
   "metadata": {
    "slideshow": {
     "slide_type": "fragment"
    }
   },
   "outputs": [
    {
     "data": {
      "text/plain": [
       "function"
      ]
     },
     "execution_count": 103,
     "metadata": {},
     "output_type": "execute_result"
    }
   ],
   "source": [
    "type(add_one)  # add_one의 자료형이 함수"
   ]
  },
  {
   "cell_type": "code",
   "execution_count": 104,
   "metadata": {
    "slideshow": {
     "slide_type": "fragment"
    }
   },
   "outputs": [
    {
     "data": {
      "text/plain": [
       "8.2"
      ]
     },
     "execution_count": 104,
     "metadata": {},
     "output_type": "execute_result"
    }
   ],
   "source": [
    "add_one(7.2)  # 함수처럼 호출"
   ]
  },
  {
   "cell_type": "markdown",
   "metadata": {
    "slideshow": {
     "slide_type": "subslide"
    }
   },
   "source": [
    "- `def`를 쓰는 방식과 `lambda`를 쓰는 방식에 근본적인 차이는 없다.  \n",
    "  - `lambda`를 쓰는 방식은 **익명 함수**(anonymous function)라고 부른다. \n",
    "  - 익명 함수는 한 행을 넘지 않게 작성한다. \n",
    "  - 보통 간단한 함수를 약식으로 정의할 때 사용한다. "
   ]
  },
  {
   "cell_type": "code",
   "execution_count": 105,
   "metadata": {
    "slideshow": {
     "slide_type": "fragment"
    }
   },
   "outputs": [
    {
     "data": {
      "text/plain": [
       "36"
      ]
     },
     "execution_count": 105,
     "metadata": {},
     "output_type": "execute_result"
    }
   ],
   "source": [
    "evaluate_function_on_x_plus_1(lambda x: x ** 2, 5)  # 이미 정의된 함수 대신 람다 함수를 인자로 지정"
   ]
  },
  {
   "cell_type": "markdown",
   "metadata": {
    "slideshow": {
     "slide_type": "fragment"
    }
   },
   "source": [
    "- 위 코드에서:\n",
    "    - 먼저 `lambda x: x**2` 부분이 `function`(이름이 지정되지 않은 익명 함수)으로 평가된다. \n",
    "    - 이후에 이 함수와 정수 `5`가 함수 `evaluate_function_on_x_plus_1`에게 인자로 전달된다. \n",
    "    - 이제 함수 `evaluate_function_on_x_plus_1` 내부에서,  \n",
    "      `5+1`의 계산 결과 `6`이 익명 함수에 전달되고,  \n",
    "      최종적으로 `36`을 반환한다. "
   ]
  },
  {
   "cell_type": "markdown",
   "metadata": {
    "slideshow": {
     "slide_type": "subslide"
    }
   },
   "source": [
    "- 함수에 대한 추가적 공부를 위하여 아래 자료를 참고하라:\n",
    "  - [함수, 점프 투 파이썬](https://wikidocs.net/24)  \n",
    "  - [파이썬 기본, Suwoni](https://wikidocs.net/16047)  "
   ]
  },
  {
   "cell_type": "markdown",
   "metadata": {
    "slideshow": {
     "slide_type": "fragment"
    }
   },
   "source": [
    "- 지금까지 함수 자료형과 익명 함수를 공부했고,  \n",
    "  이제부터 함수 설계 원리를 공부하자. \n",
    "\n",
    "<div style=\"page-break-after: always;\"></div> "
   ]
  },
  {
   "cell_type": "markdown",
   "metadata": {
    "slideshow": {
     "slide_type": "slide"
    }
   },
   "source": [
    "## 8. 함수 설계 원리"
   ]
  },
  {
   "cell_type": "markdown",
   "metadata": {
    "slideshow": {
     "slide_type": "fragment"
    }
   },
   "source": [
    "### 8.1 중복 배제 원칙\n",
    "\n",
    "- \"DRY\"는 \"**Don't Repeat Yourself**\"의 줄임말이고,  \n",
    "  소프트웨어 개발에서는 \"[중복 배제](https://ko.wikipedia.org/wiki/중복배제)\"로 번역하는데,  \n",
    "  '반복되는 작업으로 당신을 혹사하지 말라'는 의미를 담고 있다.\n",
    "- 사실 소프트웨어 개발에서  \n",
    "  \"중복 배제\"는 매우 중요하고 심오한 내용을 담고 있는  \n",
    "  [프로그래밍 원칙](https://ko.wikipedia.org/wiki/분류:프로그래밍_원칙) 중의 하나인데,  \n",
    "  \"데이터나 코드를 중복 저장(작성)하는 것이 모든 악의 근원\"이라는 철학을 담고 있다.  "
   ]
  },
  {
   "cell_type": "markdown",
   "metadata": {
    "slideshow": {
     "slide_type": "subslide"
    }
   },
   "source": [
    "- 예제로서, 리스트 내부의 모든 문자열을 \"회문(palindrome)\"으로 변환시카는 작업을 살펴보자.  \n",
    "  회문이란 \"앞뒤 어느 쪽에서 읽어도 같은 말이 되는 어구\"를 의미하며,  \n",
    "  'eye'나 'noon' 등의 단어는 회문의 예라고 할 수 있다. "
   ]
  },
  {
   "cell_type": "code",
   "execution_count": 106,
   "metadata": {
    "slideshow": {
     "slide_type": "fragment"
    }
   },
   "outputs": [
    {
     "data": {
      "text/plain": [
       "'mot'"
      ]
     },
     "execution_count": 106,
     "metadata": {},
     "output_type": "execute_result"
    }
   ],
   "source": [
    "name = \"tom\"\n",
    "name[::-1]  # [시작:끝:증분] 문법에서, 처음부터 끝까지 구간에 대하여 증분을 -1로 지정하여 슬라이스를 지정"
   ]
  },
  {
   "cell_type": "code",
   "execution_count": 107,
   "metadata": {
    "slideshow": {
     "slide_type": "fragment"
    }
   },
   "outputs": [],
   "source": [
    "names = [\"milad\", \"tom\", \"tiffany\"]  # 회문으로 만들고 싶은 단어 리스트"
   ]
  },
  {
   "cell_type": "code",
   "execution_count": 108,
   "metadata": {
    "slideshow": {
     "slide_type": "fragment"
    }
   },
   "outputs": [
    {
     "data": {
      "text/plain": [
       "['miladdalim', 'tommot', 'tiffanyynaffit']"
      ]
     },
     "execution_count": 108,
     "metadata": {},
     "output_type": "execute_result"
    }
   ],
   "source": [
    "names_backwards = list()\n",
    "\n",
    "names_backwards.append(names[0] + names[0][::-1])\n",
    "names_backwards.append(names[1] + names[1][::-1])\n",
    "names_backwards.append(names[2] + names[2][::-1])\n",
    "names_backwards"
   ]
  },
  {
   "cell_type": "markdown",
   "metadata": {
    "slideshow": {
     "slide_type": "subslide"
    }
   },
   "source": [
    "- 직전 코드는 너무 심하고, 끔찍하고, 우스꽝스러운데, ...  \n",
    "  그 이유는:\n",
    "  1. 원소가 세 개인 리스트에서만 작동한다;\n",
    "  2. 이름이 `names`인 리스트에서만 작동한다;\n",
    "  3. 기능을 수정하려면, 유사한 세 줄 코드를 모두 동일하게 수정해야 한다;\n",
    "  4. 코드가 어떤 작업을 수행하는지 직관적으로 이해하기 어렵다.\n",
    "- 다른 방법으로 코드를 작성해보자:"
   ]
  },
  {
   "cell_type": "code",
   "execution_count": 109,
   "metadata": {
    "slideshow": {
     "slide_type": "fragment"
    }
   },
   "outputs": [
    {
     "data": {
      "text/plain": [
       "['miladdalim', 'tommot', 'tiffanyynaffit']"
      ]
     },
     "execution_count": 109,
     "metadata": {},
     "output_type": "execute_result"
    }
   ],
   "source": [
    "names_backwards = list()\n",
    "\n",
    "for name in names:\n",
    "    names_backwards.append(name + name[::-1])\n",
    "    \n",
    "names_backwards"
   ]
  },
  {
   "cell_type": "markdown",
   "metadata": {
    "slideshow": {
     "slide_type": "subslide"
    }
   },
   "source": [
    "- 위 코드는 예전보다 약간은 나아졌다.  \n",
    "  앞서 지적했던 문제 (1)과 (3)은 해결되었다.  \n",
    "  그렇지만 아직도 부족한데, 더 멋지게 만들어 보자:"
   ]
  },
  {
   "cell_type": "code",
   "execution_count": 110,
   "metadata": {
    "slideshow": {
     "slide_type": "fragment"
    }
   },
   "outputs": [
    {
     "data": {
      "text/plain": [
       "['miladdalim', 'tommot', 'tiffanyynaffit']"
      ]
     },
     "execution_count": 110,
     "metadata": {},
     "output_type": "execute_result"
    }
   ],
   "source": [
    "def make_palindromes(names):\n",
    "    names_backwards = list()\n",
    "    \n",
    "    for name in names:\n",
    "        names_backwards.append(name + name[::-1])\n",
    "    \n",
    "    return names_backwards\n",
    "\n",
    "make_palindromes(names)"
   ]
  },
  {
   "cell_type": "markdown",
   "metadata": {
    "slideshow": {
     "slide_type": "subslide"
    }
   },
   "source": [
    "- 훨씬 나아졌다. 앞서 지적했던 문제 (2)도 해결되었는데,  \n",
    "  이름이 `names`가 아닌 리스트도 인자로서 함수에게 전달하기만 하면 작동한다.  \n",
    "  예를 들어서 다음과 같이 다수 리스트가 있어도 해결이 가능하다: "
   ]
  },
  {
   "cell_type": "code",
   "execution_count": 111,
   "metadata": {
    "slideshow": {
     "slide_type": "fragment"
    }
   },
   "outputs": [],
   "source": [
    "names1 = [\"milad\", \"tom\", \"tiffany\"]\n",
    "names2 = [\"apple\", \"orange\", \"banana\"]"
   ]
  },
  {
   "cell_type": "code",
   "execution_count": 112,
   "metadata": {
    "slideshow": {
     "slide_type": "fragment"
    }
   },
   "outputs": [
    {
     "data": {
      "text/plain": [
       "['miladdalim', 'tommot', 'tiffanyynaffit']"
      ]
     },
     "execution_count": 112,
     "metadata": {},
     "output_type": "execute_result"
    }
   ],
   "source": [
    "make_palindromes(names1)"
   ]
  },
  {
   "cell_type": "code",
   "execution_count": 113,
   "metadata": {
    "slideshow": {
     "slide_type": "fragment"
    }
   },
   "outputs": [
    {
     "data": {
      "text/plain": [
       "['appleelppa', 'orangeegnaro', 'bananaananab']"
      ]
     },
     "execution_count": 113,
     "metadata": {},
     "output_type": "execute_result"
    }
   ],
   "source": [
    "make_palindromes(names2)"
   ]
  },
  {
   "cell_type": "markdown",
   "metadata": {
    "slideshow": {
     "slide_type": "fragment"
    }
   },
   "source": [
    "- 지금까지 중복 배제 원칙을 공부했고,  \n",
    "  이제부터 함수 작성 원칙을 공부하자. \n",
    "\n",
    "<div style=\"page-break-after: always;\"></div> "
   ]
  },
  {
   "cell_type": "markdown",
   "metadata": {
    "slideshow": {
     "slide_type": "slide"
    }
   },
   "source": [
    "### 8.2 함수 작성 원칙"
   ]
  },
  {
   "cell_type": "markdown",
   "metadata": {
    "slideshow": {
     "slide_type": "fragment"
    }
   },
   "source": [
    "- DRY 원칙을 어느 수준까지 적용하느냐는 당신의 정성과 프로그래밍의 맥락에 달린 문제이다.  \n",
    "  - 이에 관한 선택은 때때로 모호하다. \n",
    "  - `make_palindromes()`를 단 한 번만 호출하는 상황에서도 함수로 만들어야 하는가?  \n",
    "  - 두 번 호출해야 한다면?\n",
    "  - 리스트 원소에 대한 반복 처리를 함수 내부에서 하는 것이 타당한가?  \n",
    "    아니면 외부에서 수행했어야 했나?\n",
    "  - 반복처리하는 부분을 별도 함수로 분리했어야 했는가?\n",
    "- 개인적인 소견으로는, `make_palindromes()` 함수는 이해하기가 다소 어렵다.  \n",
    "  나같으면 이런 식으로 하겠다: "
   ]
  },
  {
   "cell_type": "code",
   "execution_count": 114,
   "metadata": {
    "slideshow": {
     "slide_type": "fragment"
    }
   },
   "outputs": [
    {
     "data": {
      "text/plain": [
       "'miladdalim'"
      ]
     },
     "execution_count": 114,
     "metadata": {},
     "output_type": "execute_result"
    }
   ],
   "source": [
    "def make_palindrome(name):\n",
    "    return name + name[::-1]\n",
    "\n",
    "make_palindrome(\"milad\")"
   ]
  },
  {
   "cell_type": "markdown",
   "metadata": {
    "slideshow": {
     "slide_type": "subslide"
    }
   },
   "source": [
    "- 단순한 함수로 작성해야 활용할 때 융통성을 발휘할 수 있다.  \n",
    "  만일 리스트 원소 모두에 대하여 적용하고 싶다면,  \n",
    "  아래와 같이 리스트 컴프리헨션을 이용할 수도 있다:"
   ]
  },
  {
   "cell_type": "code",
   "execution_count": 115,
   "metadata": {
    "slideshow": {
     "slide_type": "fragment"
    }
   },
   "outputs": [
    {
     "data": {
      "text/plain": [
       "['miladdalim', 'tommot', 'tiffanyynaffit']"
      ]
     },
     "execution_count": 115,
     "metadata": {},
     "output_type": "execute_result"
    }
   ],
   "source": [
    "[make_palindrome(name) for name in names1]"
   ]
  },
  {
   "cell_type": "code",
   "execution_count": 116,
   "metadata": {
    "slideshow": {
     "slide_type": "fragment"
    }
   },
   "outputs": [
    {
     "data": {
      "text/plain": [
       "['appleelppa', 'orangeegnaro', 'bananaananab']"
      ]
     },
     "execution_count": 116,
     "metadata": {},
     "output_type": "execute_result"
    }
   ],
   "source": [
    "[make_palindrome(name) for name in names2]"
   ]
  },
  {
   "cell_type": "markdown",
   "metadata": {
    "slideshow": {
     "slide_type": "subslide"
    }
   },
   "source": [
    "- 또한 파이썬에 내장된 `map()` 함수야말로 이런 상황에서 적합하다.  \n",
    "  `map()` 함수는 첫째 인자로 지정한 함수를 둘째 인자로 지정한 집합체에 대하여 일괄 적용한다. "
   ]
  },
  {
   "cell_type": "code",
   "execution_count": 117,
   "metadata": {
    "slideshow": {
     "slide_type": "fragment"
    }
   },
   "outputs": [
    {
     "data": {
      "text/plain": [
       "['miladdalim', 'tommot', 'tiffanyynaffit']"
      ]
     },
     "execution_count": 117,
     "metadata": {},
     "output_type": "execute_result"
    }
   ],
   "source": [
    "list(map(make_palindrome, names1))"
   ]
  },
  {
   "cell_type": "code",
   "execution_count": 118,
   "metadata": {
    "slideshow": {
     "slide_type": "fragment"
    }
   },
   "outputs": [
    {
     "data": {
      "text/plain": [
       "['appleelppa', 'orangeegnaro', 'bananaananab']"
      ]
     },
     "execution_count": 118,
     "metadata": {},
     "output_type": "execute_result"
    }
   ],
   "source": [
    "list(map(make_palindrome, names2))"
   ]
  },
  {
   "cell_type": "markdown",
   "metadata": {
    "slideshow": {
     "slide_type": "fragment"
    }
   },
   "source": [
    "- 지금까지 함수 설계 원리를 공부했고,  \n",
    "  이제부터 제너레이터를 공부하자. \n",
    "\n",
    "<div style=\"page-break-after: always;\"></div> "
   ]
  },
  {
   "cell_type": "markdown",
   "metadata": {
    "slideshow": {
     "slide_type": "slide"
    }
   },
   "source": [
    "## 9. 제너레이터"
   ]
  },
  {
   "cell_type": "markdown",
   "metadata": {
    "slideshow": {
     "slide_type": "fragment"
    }
   },
   "source": [
    "- 이 장의 앞 부분에서 리스트 컴프리헨션에 대하여 공부하였다: "
   ]
  },
  {
   "cell_type": "code",
   "execution_count": 119,
   "metadata": {
    "slideshow": {
     "slide_type": "fragment"
    }
   },
   "outputs": [
    {
     "data": {
      "text/plain": [
       "[0, 1, 2, 3, 4, 5, 6, 7, 8, 9]"
      ]
     },
     "execution_count": 119,
     "metadata": {},
     "output_type": "execute_result"
    }
   ],
   "source": [
    "[n for n in range(10)]"
   ]
  },
  {
   "cell_type": "markdown",
   "metadata": {
    "slideshow": {
     "slide_type": "subslide"
    }
   },
   "source": [
    "- 컴프리헨션은  \n",
    "  표현식을 한번에 전체적으로 평가하고 나서,  \n",
    "  전체 결과물을 한꺼번에 반환한다. \n",
    "- 때로는, 전체 결과물을 한꺼번에 반환받는 방식이 아니라,  \n",
    "  결과물의 각 원소를 하나씩 차례대로 반환받을 수 있기를 바란다. \n",
    "- <i>제너레이터(generator)</i>는 이런 상황에 필요하다. "
   ]
  },
  {
   "cell_type": "code",
   "execution_count": 120,
   "metadata": {
    "slideshow": {
     "slide_type": "fragment"
    }
   },
   "outputs": [
    {
     "data": {
      "text/plain": [
       "<generator object <genexpr> at 0x00000233A55D9C10>"
      ]
     },
     "execution_count": 120,
     "metadata": {},
     "output_type": "execute_result"
    }
   ],
   "source": [
    "(n for n in range(10))  # 튜플 컴프리헨션"
   ]
  },
  {
   "cell_type": "markdown",
   "metadata": {
    "slideshow": {
     "slide_type": "fragment"
    }
   },
   "source": [
    "- 방금 작성한 코드는 `generator` 객체를 생성한 것이다.  \n",
    "  - 제너레이터 객체는 값을 생성해내는 '레시피(recipe)'같은 것이다. \n",
    "  - 제너레이터는 요구를 접수하기 전까지는 실질적으로 아무런 계산도 수행하지 않는다. \n",
    "  - 제너레이터에게 값을 생성해달라는 요구는 세 가지 방법으로 전달할 수 있다:\n",
    "    - `next()`를 활용하여\n",
    "    - `list()`를 활용하여\n",
    "    - 반복을 실행하여"
   ]
  },
  {
   "cell_type": "code",
   "execution_count": 121,
   "metadata": {
    "slideshow": {
     "slide_type": "subslide"
    }
   },
   "outputs": [],
   "source": [
    "gen = (n for n in range(10))"
   ]
  },
  {
   "cell_type": "code",
   "execution_count": 122,
   "metadata": {
    "slideshow": {
     "slide_type": "fragment"
    }
   },
   "outputs": [
    {
     "data": {
      "text/plain": [
       "0"
      ]
     },
     "execution_count": 122,
     "metadata": {},
     "output_type": "execute_result"
    }
   ],
   "source": [
    "next(gen)  # next()가 호출될 때마다 값이 생성됨"
   ]
  },
  {
   "cell_type": "code",
   "execution_count": 123,
   "metadata": {
    "slideshow": {
     "slide_type": "fragment"
    }
   },
   "outputs": [
    {
     "data": {
      "text/plain": [
       "1"
      ]
     },
     "execution_count": 123,
     "metadata": {},
     "output_type": "execute_result"
    }
   ],
   "source": [
    "next(gen)  # next()가 호출될 때마다 값이 생성됨"
   ]
  },
  {
   "cell_type": "markdown",
   "metadata": {
    "slideshow": {
     "slide_type": "subslide"
    }
   },
   "source": [
    "- 제너레이터가 일단 소진되면, 더이상 값을 반환하지 않는다:"
   ]
  },
  {
   "cell_type": "code",
   "execution_count": 124,
   "metadata": {
    "slideshow": {
     "slide_type": "fragment"
    },
    "tags": [
     "raises-exception"
    ]
   },
   "outputs": [
    {
     "name": "stdout",
     "output_type": "stream",
     "text": [
      "0\n",
      "1\n",
      "2\n",
      "3\n",
      "4\n",
      "5\n",
      "6\n",
      "7\n",
      "8\n",
      "9\n"
     ]
    },
    {
     "ename": "StopIteration",
     "evalue": "",
     "output_type": "error",
     "traceback": [
      "\u001b[1;31m---------------------------------------------------------------------------\u001b[0m",
      "\u001b[1;31mStopIteration\u001b[0m                             Traceback (most recent call last)",
      "\u001b[1;32m~\\AppData\\Local\\Temp/ipykernel_25132/3321542550.py\u001b[0m in \u001b[0;36m<module>\u001b[1;34m\u001b[0m\n\u001b[0;32m      1\u001b[0m \u001b[0mgen\u001b[0m \u001b[1;33m=\u001b[0m \u001b[1;33m(\u001b[0m\u001b[0mn\u001b[0m \u001b[1;32mfor\u001b[0m \u001b[0mn\u001b[0m \u001b[1;32min\u001b[0m \u001b[0mrange\u001b[0m\u001b[1;33m(\u001b[0m\u001b[1;36m10\u001b[0m\u001b[1;33m)\u001b[0m\u001b[1;33m)\u001b[0m  \u001b[1;31m# 0부터  9까지 10개를 생성할 제너레이터\u001b[0m\u001b[1;33m\u001b[0m\u001b[1;33m\u001b[0m\u001b[0m\n\u001b[0;32m      2\u001b[0m \u001b[1;32mfor\u001b[0m \u001b[0mi\u001b[0m \u001b[1;32min\u001b[0m \u001b[0mrange\u001b[0m\u001b[1;33m(\u001b[0m\u001b[1;36m11\u001b[0m\u001b[1;33m)\u001b[0m\u001b[1;33m:\u001b[0m           \u001b[1;31m# 0부터 10까지 11회 반복\u001b[0m\u001b[1;33m\u001b[0m\u001b[1;33m\u001b[0m\u001b[0m\n\u001b[1;32m----> 3\u001b[1;33m     \u001b[0mprint\u001b[0m\u001b[1;33m(\u001b[0m\u001b[0mnext\u001b[0m\u001b[1;33m(\u001b[0m\u001b[0mgen\u001b[0m\u001b[1;33m)\u001b[0m\u001b[1;33m)\u001b[0m          \u001b[1;31m# next()로 값을 생성, 10회째에는 StopIteration 예외 발생\u001b[0m\u001b[1;33m\u001b[0m\u001b[1;33m\u001b[0m\u001b[0m\n\u001b[0m",
      "\u001b[1;31mStopIteration\u001b[0m: "
     ]
    }
   ],
   "source": [
    "gen = (n for n in range(10))  # 0부터  9까지 10개를 생성할 제너레이터\n",
    "for i in range(11):           # 0부터 10까지 11회 반복\n",
    "    print(next(gen))          # next()로 값을 생성, 10회째에는 StopIteration 예외 발생"
   ]
  },
  {
   "cell_type": "markdown",
   "metadata": {
    "slideshow": {
     "slide_type": "subslide"
    }
   },
   "source": [
    "- `list()`를 써서 제너레이터가 생성할 모든 값을 한번에 볼 수 있다.  \n",
    "  그렇지만 이런 식으로 제너레이터를 활용하는 것은  \n",
    "  제너레이터의 기본 개념에 맞지 않는다:"
   ]
  },
  {
   "cell_type": "code",
   "execution_count": 125,
   "metadata": {
    "slideshow": {
     "slide_type": "fragment"
    }
   },
   "outputs": [
    {
     "data": {
      "text/plain": [
       "[0, 1, 2, 3, 4, 5, 6, 7, 8, 9]"
      ]
     },
     "execution_count": 125,
     "metadata": {},
     "output_type": "execute_result"
    }
   ],
   "source": [
    "gen = (n for n in range(10))\n",
    "list(gen)"
   ]
  },
  {
   "cell_type": "markdown",
   "metadata": {
    "slideshow": {
     "slide_type": "subslide"
    }
   },
   "source": [
    "- 마지막으로, 제너레이터 객체를 통하여 반복을 실행할 수 있다:"
   ]
  },
  {
   "cell_type": "code",
   "execution_count": 126,
   "metadata": {
    "slideshow": {
     "slide_type": "fragment"
    }
   },
   "outputs": [
    {
     "name": "stdout",
     "output_type": "stream",
     "text": [
      "0\n",
      "1\n",
      "2\n",
      "3\n",
      "4\n",
      "5\n",
      "6\n",
      "7\n",
      "8\n",
      "9\n"
     ]
    }
   ],
   "source": [
    "gen = (n for n in range(10))\n",
    "for i in gen:\n",
    "    print(i)"
   ]
  },
  {
   "cell_type": "markdown",
   "metadata": {
    "slideshow": {
     "slide_type": "subslide"
    }
   },
   "source": [
    "- 지금까지, 컴프리헨션 문법을 활용해서 제너레이터 객체를 생성하는 법을 공부했다.  \n",
    "  또한 함수에서 (`return` 예약어 대신에)  \n",
    "  `yield` 예약어를 쓰는 방법으로도  \n",
    "  제너레이터를 생성할 수 있다: "
   ]
  },
  {
   "cell_type": "code",
   "execution_count": 127,
   "metadata": {
    "slideshow": {
     "slide_type": "fragment"
    }
   },
   "outputs": [],
   "source": [
    "def gen():\n",
    "    for n in range(10):\n",
    "        yield (n, n ** 2)  # 튜플 형식의 (반환값이 아닌) 생성값"
   ]
  },
  {
   "cell_type": "code",
   "execution_count": 128,
   "metadata": {
    "slideshow": {
     "slide_type": "fragment"
    }
   },
   "outputs": [
    {
     "name": "stdout",
     "output_type": "stream",
     "text": [
      "(0, 0)\n",
      "(1, 1)\n",
      "(2, 4)\n"
     ]
    }
   ],
   "source": [
    "g = gen()\n",
    "print(next(g))\n",
    "print(next(g))\n",
    "print(next(g))"
   ]
  },
  {
   "cell_type": "markdown",
   "metadata": {
    "slideshow": {
     "slide_type": "subslide"
    }
   },
   "source": [
    "- 제너레이터를 굳이 우리 말로 옮기자면 \"생성기\"가 적당하다.  \n",
    "  그런데 많은 책이나 웹 문서에서 그냥 \"제너레이터\"로 쓰고 있는 점을 고려하여,  \n",
    "  여기서도 이를 따른다. "
   ]
  },
  {
   "cell_type": "markdown",
   "metadata": {
    "slideshow": {
     "slide_type": "fragment"
    }
   },
   "source": [
    "- 아래 예제는 제너레이터가 실제로 쓸모가 크다는 점을 보여준다.  \n",
    "  주택에 관한 정보를 사전의 리스트 형태로 생성하고자 한다.\n",
    "- 아래 코드를 실행하기 전에 `memory_profiler`를 활성화된 가상환경에 설치해야 한다. \n",
    "```shell\n",
    "conda install memory_profiler\n",
    "```"
   ]
  },
  {
   "cell_type": "code",
   "execution_count": 129,
   "metadata": {
    "slideshow": {
     "slide_type": "subslide"
    }
   },
   "outputs": [],
   "source": [
    "# import 명령은 다음 장에서 공부할 예정\n",
    "import random  \n",
    "import time\n",
    "import memory_profiler  # 설치: conda install memory_profiler\n",
    "city = ['서울', '부산', '대구', '광주']"
   ]
  },
  {
   "cell_type": "code",
   "execution_count": 130,
   "metadata": {
    "slideshow": {
     "slide_type": "fragment"
    }
   },
   "outputs": [],
   "source": [
    "def 주택_목록(n):\n",
    "    lst주택 = []\n",
    "    for i in range(n):\n",
    "        주택 = {\n",
    "            'id': i,\n",
    "            '도시': random.choice(city),\n",
    "            '침실': random.randint(1, 4),             # 1 이상, 4 이하\n",
    "            '화장실': random.randint(1, 2),           # 1 이상, 2 이하\n",
    "            '가격 (천만원)': random.randint(10, 100)  # 1억 이상, 10억 이하\n",
    "        }\n",
    "        lst주택.append(주택)\n",
    "    return lst주택"
   ]
  },
  {
   "cell_type": "code",
   "execution_count": 131,
   "metadata": {
    "slideshow": {
     "slide_type": "fragment"
    }
   },
   "outputs": [
    {
     "data": {
      "text/plain": [
       "[{'id': 0, '도시': '서울', '침실': 1, '화장실': 2, '가격 (천만원)': 76},\n",
       " {'id': 1, '도시': '대구', '침실': 3, '화장실': 1, '가격 (천만원)': 33},\n",
       " {'id': 2, '도시': '서울', '침실': 2, '화장실': 2, '가격 (천만원)': 54},\n",
       " {'id': 3, '도시': '서울', '침실': 4, '화장실': 1, '가격 (천만원)': 26}]"
      ]
     },
     "execution_count": 131,
     "metadata": {},
     "output_type": "execute_result"
    }
   ],
   "source": [
    "주택_목록(4)"
   ]
  },
  {
   "cell_type": "markdown",
   "metadata": {
    "slideshow": {
     "slide_type": "subslide"
    }
   },
   "source": [
    "\n",
    "- 만일 주택 백만호를 저장한 리스트를 생성한다면 어떤 일이 발생할까?  \n",
    "  코드 실행에 필요한 시간 및 메모리는 얼마나 될까?"
   ]
  },
  {
   "cell_type": "code",
   "execution_count": 132,
   "metadata": {
    "slideshow": {
     "slide_type": "fragment"
    }
   },
   "outputs": [
    {
     "name": "stdout",
     "output_type": "stream",
     "text": [
      "실행 전 메모리 소요량: 53 mb\n",
      "실행 후 메모리 소요량: 324 mb\n",
      "소요 시간: 4.72초\n"
     ]
    }
   ],
   "source": [
    "start = time.time()\n",
    "mem = memory_profiler.memory_usage()\n",
    "print(f\"실행 전 메모리 소요량: {mem[0]:.0f} mb\")\n",
    "주택_단지 = 주택_목록(1000000)\n",
    "print(f\"실행 후 메모리 소요량: {memory_profiler.memory_usage()[0]:.0f} mb\")\n",
    "print(f\"소요 시간: {time.time() - start:.2f}초\")"
   ]
  },
  {
   "cell_type": "code",
   "execution_count": 133,
   "metadata": {
    "slideshow": {
     "slide_type": "subslide"
    }
   },
   "outputs": [],
   "source": [
    "def 주택_생성기(n):\n",
    "    for i in range(n):\n",
    "        주택 = {\n",
    "            'id': i,\n",
    "            '도시': random.choice(city),\n",
    "            '침실': random.randint(1, 4),\n",
    "            '화장실': random.randint(1, 2),\n",
    "            '가격 (천만원)': random.randint(10, 100)\n",
    "        }\n",
    "        yield 주택"
   ]
  },
  {
   "cell_type": "code",
   "execution_count": 134,
   "metadata": {
    "slideshow": {
     "slide_type": "fragment"
    }
   },
   "outputs": [
    {
     "name": "stdout",
     "output_type": "stream",
     "text": [
      "실행 전 메모리 소요량: 53 mb\n",
      "실행 후 메모리 소요량: 54 mb\n",
      "Time taken: 0.23s\n"
     ]
    }
   ],
   "source": [
    "start = time.time()\n",
    "print(f\"실행 전 메모리 소요량: {mem[0]:.0f} mb\")\n",
    "주택_단지 = 주택_생성기(1000000)\n",
    "print(f\"실행 후 메모리 소요량: {memory_profiler.memory_usage()[0]:.0f} mb\")\n",
    "print(f\"Time taken: {time.time() - start:.2f}s\")"
   ]
  },
  {
   "cell_type": "markdown",
   "metadata": {
    "slideshow": {
     "slide_type": "subslide"
    }
   },
   "source": [
    "- 이러한 제너레이터의 장점에도 불구하고,  \n",
    "  만약 `list()`를 써서 제너레이터가 생성할 모든 값을 한꺼번에 뽑아낸다면,  \n",
    "  메모리 절감 효과를 잃게 된다. "
   ]
  },
  {
   "cell_type": "code",
   "execution_count": 135,
   "metadata": {
    "scrolled": true,
    "slideshow": {
     "slide_type": "fragment"
    }
   },
   "outputs": [
    {
     "name": "stdout",
     "output_type": "stream",
     "text": [
      "실행 전 메모리 소요량: 53 mb\n",
      "실행 후 메모리 소요량: 323 mb\n"
     ]
    }
   ],
   "source": [
    "print(f\"실행 전 메모리 소요량: {mem[0]:.0f} mb\")\n",
    "주택_단지 = list(주택_생성기(1000000))\n",
    "print(f\"실행 후 메모리 소요량: {memory_profiler.memory_usage()[0]:.0f} mb\")"
   ]
  },
  {
   "cell_type": "markdown",
   "metadata": {
    "slideshow": {
     "slide_type": "fragment"
    }
   },
   "source": [
    "- 제너레이터 공부를 끝으로 3장 제어 구조와 함수 공부를 마칩니다. "
   ]
  }
 ],
 "metadata": {
  "celltoolbar": "Slideshow",
  "interpreter": {
   "hash": "cef9e06bb236b2a8629b07e87a04b187b952a0f661eff5533360a155783f0c33"
  },
  "kernelspec": {
   "display_name": "Python 3 (ipykernel)",
   "language": "python",
   "name": "python3"
  },
  "language_info": {
   "codemirror_mode": {
    "name": "ipython",
    "version": 3
   },
   "file_extension": ".py",
   "mimetype": "text/x-python",
   "name": "python",
   "nbconvert_exporter": "python",
   "pygments_lexer": "ipython3",
   "version": "3.8.11"
  },
  "latex_envs": {
   "LaTeX_envs_menu_present": true,
   "autoclose": false,
   "autocomplete": true,
   "bibliofile": "biblio.bib",
   "cite_by": "apalike",
   "current_citInitial": 1,
   "eqLabelWithNumbers": true,
   "eqNumInitial": 1,
   "hotkeys": {
    "equation": "Ctrl-E",
    "itemize": "Ctrl-I"
   },
   "labels_anchors": false,
   "latex_user_defs": false,
   "report_style_numbering": false,
   "user_envs_cfg": false
  },
  "toc": {
   "base_numbering": 1,
   "nav_menu": {},
   "number_sections": false,
   "sideBar": true,
   "skip_h1_title": true,
   "title_cell": "목차",
   "title_sidebar": "목차",
   "toc_cell": false,
   "toc_position": {
    "height": "calc(100% - 180px)",
    "left": "10px",
    "top": "150px",
    "width": "236.188px"
   },
   "toc_section_display": true,
   "toc_window_display": true
  },
  "varInspector": {
   "cols": {
    "lenName": 16,
    "lenType": 16,
    "lenVar": 40
   },
   "kernels_config": {
    "python": {
     "delete_cmd_postfix": "",
     "delete_cmd_prefix": "del ",
     "library": "var_list.py",
     "varRefreshCmd": "print(var_dic_list())"
    },
    "r": {
     "delete_cmd_postfix": ") ",
     "delete_cmd_prefix": "rm(",
     "library": "var_list.r",
     "varRefreshCmd": "cat(var_dic_list()) "
    }
   },
   "types_to_exclude": [
    "module",
    "function",
    "builtin_function_or_method",
    "instance",
    "_Feature"
   ],
   "window_display": false
  }
 },
 "nbformat": 4,
 "nbformat_minor": 4
}
